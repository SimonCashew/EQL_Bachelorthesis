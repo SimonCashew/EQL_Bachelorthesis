{
 "cells": [
  {
   "cell_type": "code",
   "execution_count": 1,
   "id": "836571bd",
   "metadata": {
    "ExecuteTime": {
     "end_time": "2022-05-13T09:46:32.173636Z",
     "start_time": "2022-05-13T09:46:30.274239Z"
    }
   },
   "outputs": [],
   "source": [
    "from pmlb import fetch_data\n",
    "from eql.est import EQL\n",
    "import numpy as np\n",
    "import pandas as pd\n",
    "import matplotlib.pyplot as plt\n",
    "from sklearn.model_selection import GridSearchCV, PredefinedSplit\n",
    "\n",
    "import sympy as sy\n",
    "from eql.sy_utils import *"
   ]
  },
  {
   "cell_type": "code",
   "execution_count": 2,
   "id": "b446e00a",
   "metadata": {
    "ExecuteTime": {
     "end_time": "2022-05-13T09:46:32.633142Z",
     "start_time": "2022-05-13T09:46:32.175020Z"
    }
   },
   "outputs": [
    {
     "name": "stderr",
     "output_type": "stream",
     "text": [
      "c:\\Users\\Simon\\.conda\\envs\\EQL\\Lib\\site-packages\\tqdm\\auto.py:21: TqdmWarning: IProgress not found. Please update jupyter and ipywidgets. See https://ipywidgets.readthedocs.io/en/stable/user_install.html\n",
      "  from .autonotebook import tqdm as notebook_tqdm\n"
     ]
    }
   ],
   "source": [
    "from sklearn.metrics import r2_score\n",
    "import optuna"
   ]
  },
  {
   "cell_type": "code",
   "execution_count": 3,
   "id": "f21799be",
   "metadata": {
    "ExecuteTime": {
     "end_time": "2022-05-13T09:46:32.656121Z",
     "start_time": "2022-05-13T09:46:32.634646Z"
    }
   },
   "outputs": [],
   "source": [
    "%load_ext autoreload\n",
    "%autoreload 2"
   ]
  },
  {
   "cell_type": "code",
   "execution_count": 4,
   "id": "a30fbbd7",
   "metadata": {
    "ExecuteTime": {
     "end_time": "2022-05-13T09:46:32.677836Z",
     "start_time": "2022-05-13T09:46:32.657524Z"
    }
   },
   "outputs": [
    {
     "ename": "NameError",
     "evalue": "name 'EQLgd' is not defined",
     "output_type": "error",
     "traceback": [
      "\u001b[1;31m---------------------------------------------------------------------------\u001b[0m",
      "\u001b[1;31mNameError\u001b[0m                                 Traceback (most recent call last)",
      "Cell \u001b[1;32mIn[4], line 1\u001b[0m\n\u001b[1;32m----> 1\u001b[0m e \u001b[38;5;241m=\u001b[39m \u001b[43mEQLgd\u001b[49m(n_iter\u001b[38;5;241m=\u001b[39m\u001b[38;5;241m1_00\u001b[39m, drop_rate\u001b[38;5;241m=\u001b[39m\u001b[38;5;241m.5\u001b[39m, functions\u001b[38;5;241m=\u001b[39m\u001b[38;5;124m'\u001b[39m\u001b[38;5;124mid;mul;cos\u001b[39m\u001b[38;5;124m'\u001b[39m, reg\u001b[38;5;241m=\u001b[39m\u001b[38;5;241m1e-3\u001b[39m)\n\u001b[0;32m      2\u001b[0m hp \u001b[38;5;241m=\u001b[39m {\u001b[38;5;124m'\u001b[39m\u001b[38;5;124mreg\u001b[39m\u001b[38;5;124m'\u001b[39m: (\u001b[38;5;241m1e-4\u001b[39m, \u001b[38;5;241m1e-3\u001b[39m, \u001b[38;5;241m1e-2\u001b[39m, \u001b[38;5;241m5e-2\u001b[39m),\u001b[38;5;66;03m#(1, 1e-1, 1e-2, 5e-1, 5e-2, 5e-3),\u001b[39;00m\n\u001b[0;32m      3\u001b[0m       \u001b[38;5;124m'\u001b[39m\u001b[38;5;124mn_layers\u001b[39m\u001b[38;5;124m'\u001b[39m: (\u001b[38;5;241m1\u001b[39m,\u001b[38;5;241m2\u001b[39m),\n\u001b[0;32m      4\u001b[0m       \u001b[38;5;124m'\u001b[39m\u001b[38;5;124mfunctions\u001b[39m\u001b[38;5;124m'\u001b[39m:(\u001b[38;5;124m'\u001b[39m\u001b[38;5;124mid;mul;cos;sin;exp;square;sqrt;id;mul;cos;sin;exp;square;sqrt\u001b[39m\u001b[38;5;124m'\u001b[39m,\n\u001b[1;32m   (...)\u001b[0m\n\u001b[0;32m      9\u001b[0m                   ),\n\u001b[0;32m     10\u001b[0m      \u001b[38;5;124m'\u001b[39m\u001b[38;5;124mdo_bfgs\u001b[39m\u001b[38;5;124m'\u001b[39m: (\u001b[38;5;28;01mTrue\u001b[39;00m, \u001b[38;5;28;01mFalse\u001b[39;00m)}\n",
      "\u001b[1;31mNameError\u001b[0m: name 'EQLgd' is not defined"
     ]
    }
   ],
   "source": [
    "e = EQLgd(n_iter=1_00, drop_rate=.5, functions='id;mul;cos', reg=1e-3)\n",
    "hp = {'reg': (1e-4, 1e-3, 1e-2, 5e-2),#(1, 1e-1, 1e-2, 5e-1, 5e-2, 5e-3),\n",
    "      'n_layers': (1,2),\n",
    "      'functions':('id;mul;cos;sin;exp;square;sqrt;id;mul;cos;sin;exp;square;sqrt',\n",
    "                   #'id;mul;id;mul;id;mul'\n",
    "                   #'id;mul;cos;sin;exp;square;sqrt'\n",
    "                   #'id;mul;cos;square;cube;id;mul;cos;square;cube',\n",
    "                   'id;mul;cos;div;sqrt;cos;sin;div;mul;mul;cos;id',\n",
    "                  ),\n",
    "     'do_bfgs': (True, False)}"
   ]
  },
  {
   "cell_type": "code",
   "execution_count": null,
   "id": "b6970352",
   "metadata": {
    "ExecuteTime": {
     "end_time": "2022-05-12T10:24:49.713075Z",
     "start_time": "2022-05-12T10:24:49.705761Z"
    }
   },
   "outputs": [],
   "source": [
    "param_distributions = {\n",
    "        'reg' : optuna.distributions.CategoricalDistribution([1e-4, 1e-3]),\n",
    "        'functions' : optuna.distributions.CategoricalDistribution(['id;mul;cos;sin;exp;square;sqrt;id;mul;cos;sin;exp;square;sqrt',\n",
    "                                                                  'id;mul;cos;div;sqrt;cos;sin;div;mul;mul;cos;id']),\n",
    "        'n_layers' : optuna.distributions.CategoricalDistribution([1,2]),\n",
    "        }"
   ]
  },
  {
   "cell_type": "code",
   "execution_count": null,
   "id": "e4d3f468",
   "metadata": {
    "ExecuteTime": {
     "end_time": "2022-05-12T10:42:27.195866Z",
     "start_time": "2022-05-12T10:42:26.789339Z"
    }
   },
   "outputs": [
    {
     "name": "stderr",
     "output_type": "stream",
     "text": [
      "/tmp/ipykernel_234521/1928283952.py:1: ExperimentalWarning: OptunaSearchCV is experimental (supported from v0.17.0). The interface can change in the future.\n",
      "  est = optuna.integration.OptunaSearchCV(e, param_distributions, cv=2, refit=True, timeout=1,\n"
     ]
    }
   ],
   "source": [
    "est = optuna.integration.OptunaSearchCV(e, param_distributions, cv=2, refit=True, timeout=1,\n",
    "                                       verbose=5)"
   ]
  },
  {
   "cell_type": "code",
   "execution_count": null,
   "id": "3e8d877f",
   "metadata": {
    "ExecuteTime": {
     "end_time": "2022-05-12T10:58:53.001614Z",
     "start_time": "2022-05-12T10:42:28.597530Z"
    }
   },
   "outputs": [
    {
     "name": "stderr",
     "output_type": "stream",
     "text": [
      "\u001b[32m[I 2022-05-12 12:42:28,610]\u001b[0m A new study created in memory with name: no-name-13fd65e0-4f3a-4d23-9142-c80c0d09f38b\u001b[0m\n",
      "\u001b[32m[I 2022-05-12 12:42:28,898]\u001b[0m Searching the best hyperparameters using 1000 samples...\u001b[0m\n"
     ]
    },
    {
     "name": "stdout",
     "output_type": "stream",
     "text": [
      "2.3460865\n",
      "4.811291\n",
      "2.8500278\n",
      "2.4796839\n",
      "2.9150362\n",
      "10.824896\n",
      "3.129557\n",
      "1.9764493\n",
      "1.8515574\n",
      "1.8028989\n",
      "1.6937542\n",
      "1.5578525\n",
      "1.4387043\n",
      "1.3623112\n",
      "1.2931337\n",
      "1.2623892\n",
      "1.2420794\n",
      "1.187676\n",
      "1.1127261\n",
      "1.1017381\n",
      "1.0493022\n",
      "1.1669\n",
      "1.0623522\n",
      "1.053389\n",
      "1.049041\n",
      "1.0587332\n",
      "1.0487169\n",
      "1.0476552\n",
      "1.0434914\n",
      "1.0401886\n",
      "1.0406637\n",
      "1.1066145\n",
      "1.0383757\n",
      "1.0370837\n",
      "1.0375452\n",
      "1.0367495\n",
      "1.0368342\n",
      "1.0469267\n",
      "1.0367389\n",
      "1.0366807\n",
      "1.035131\n",
      "1.0333782\n",
      "1.0296822\n",
      "1.0239013\n",
      "1.0575167\n",
      "1.0220287\n",
      "1.0206858\n",
      "1.1396624\n",
      "1.023865\n",
      "1.0189196\n",
      "1.017917\n",
      "0.79444623\n",
      "0.72465456\n",
      "0.7206784\n",
      "0.72111505\n",
      "0.7225109\n",
      "0.72232246\n",
      "0.72128946\n",
      "0.7200668\n",
      "0.714808\n",
      "0.7092152\n",
      "0.75122464\n",
      "0.70833653\n",
      "0.77393687\n",
      "0.7082909\n",
      "0.7077627\n",
      "0.690772\n",
      "0.6745806\n",
      "0.8309225\n",
      "0.67730093\n",
      "0.67389053\n",
      "0.673269\n",
      "0.67143875\n",
      "0.6670866\n",
      "0.67131567\n",
      "0.6685034\n",
      "0.66700137\n",
      "0.6736894\n",
      "0.6691365\n",
      "0.6669262\n",
      "0.66576177\n",
      "0.6649213\n",
      "0.6650319\n",
      "0.67948806\n",
      "0.6644241\n",
      "0.66610074\n",
      "0.6654927\n",
      "0.6647067\n",
      "0.6644007\n",
      "0.6647577\n",
      "0.6642476\n",
      "0.66408783\n",
      "0.663132\n",
      "0.7442681\n",
      "0.6635234\n",
      "0.6630316\n",
      "0.6647751\n",
      "0.66289765\n",
      "0.662702\n",
      "0.66264695\n",
      "0.66259676\n",
      "0.66249377\n"
     ]
    },
    {
     "name": "stderr",
     "output_type": "stream",
     "text": [
      "\u001b[32m[I 2022-05-12 12:56:22,097]\u001b[0m Trial 0 finished with value: -1.6002309470546692 and parameters: {'reg': 0.0001, 'functions': 'id;mul;cos;div;sqrt;cos;sin;div;mul;mul;cos;id', 'n_layers': 1}. Best is trial 0 with value: -1.6002309470546692.\u001b[0m\n",
      "\u001b[32m[I 2022-05-12 12:56:22,250]\u001b[0m Finished hyperparemeter search!\u001b[0m\n",
      "\u001b[32m[I 2022-05-12 12:56:22,411]\u001b[0m Refitting the estimator using 1000 samples...\u001b[0m\n"
     ]
    },
    {
     "name": "stdout",
     "output_type": "stream",
     "text": [
      "11.664558\n",
      "1.8926011\n",
      "222.01476\n",
      "2.904355\n",
      "2.2453141\n",
      "2.0228114\n",
      "1.7560055\n",
      "1.5821991\n",
      "1.4626181\n",
      "1.383868\n",
      "1.3177642\n",
      "1.2443228\n",
      "1.1786835\n",
      "1.1285553\n",
      "1.094959\n",
      "1.0846691\n",
      "1.0732241\n",
      "1.0397978\n",
      "1.0375404\n",
      "1.0337452\n",
      "1.0228176\n",
      "1.0132426\n",
      "1.0082581\n",
      "1.0010041\n",
      "0.9935127\n",
      "0.9891442\n",
      "0.97709805\n",
      "0.9754713\n",
      "0.97444874\n",
      "0.97329086\n",
      "3.70905\n",
      "0.97318953\n",
      "0.9724026\n",
      "0.97645664\n",
      "1.1218036\n",
      "0.9718219\n",
      "0.9711347\n",
      "1.1940299\n",
      "0.97111845\n",
      "0.97097886\n",
      "1.4039733\n",
      "2.8441155\n",
      "0.97097874\n",
      "0.9709787\n",
      "0.9818118\n",
      "0.9709723\n",
      "0.9659298\n",
      "0.9642536\n",
      "0.96117467\n",
      "0.9592946\n"
     ]
    },
    {
     "name": "stderr",
     "output_type": "stream",
     "text": [
      "\u001b[32m[I 2022-05-12 12:58:52,427]\u001b[0m Finished refitting! (elapsed time: 149.890 sec.)\u001b[0m\n"
     ]
    },
    {
     "name": "stdout",
     "output_type": "stream",
     "text": [
      "0.95617646\n"
     ]
    },
    {
     "data": {
      "text/plain": [
       "OptunaSearchCV(cv=2, estimator=EQLgd(functions='id;mul;cos'),\n",
       "               param_distributions={'functions': CategoricalDistribution(choices=('id;mul;cos;sin;exp;square;sqrt;id;mul;cos;sin;exp;square;sqrt', 'id;mul;cos;div;sqrt;cos;sin;div;mul;mul;cos;id')),\n",
       "                                    'n_layers': CategoricalDistribution(choices=(1, 2)),\n",
       "                                    'reg': CategoricalDistribution(choices=(0.0001, 0.001))},\n",
       "               timeout=1, verbose=5)"
      ]
     },
     "execution_count": 17,
     "metadata": {},
     "output_type": "execute_result"
    }
   ],
   "source": [
    "est.fit(data_X, data_y)"
   ]
  },
  {
   "cell_type": "code",
   "execution_count": null,
   "id": "4e625e05",
   "metadata": {
    "ExecuteTime": {
     "end_time": "2022-05-12T11:04:05.625853Z",
     "start_time": "2022-05-12T10:59:46.640142Z"
    }
   },
   "outputs": [
    {
     "data": {
      "text/plain": [
       "[-0.106*x0 - 0.115*x1 + 0.126*x10 + 0.038*x11 + 0.005*x12 + 0.00598*x13 + 0.00903*x14 + 0.071*x15 + 0.0649*x16 - 0.049*x17 + 0.088*x18 + 0.043*x19 - 0.055*x2 + 0.038*x20 + 0.035*x21 - 0.078*x22 + 0.00403*x23 - 0.034*x24 + 0.047*x3 + 0.118*x4 - 0.042*x5 + 0.062*x6 - 0.0861*x7 + 0.015*x8 + 0.039*x9 - 0.027*(-0.14*x0 + 0.052*x1 - 0.00702*x10 - 0.013*x11 - 0.077*x12 - 0.016*x13 + 0.059*x14 + 0.148*x15 - 0.255*x16 + 0.094*x17 - 0.00806*x18 + 0.119*x19 + 0.034*x2 - 0.04*x20 - 0.123*x21 + 0.034*x22 + 0.083*x23 + 0.164*x24 + 0.016*x3 + 0.176*x4 - 0.069*x5 - 0.063*x6 - 0.042*x7 + 0.057*x8 + 0.029*x9 - 0.056)*(-0.054*x0 + 0.084*x1 - 0.021*x10 - 0.132*x11 - 0.163*x12 + 0.062*x13 + 0.106*x14 - 0.123*x15 + 0.037*x16 - 0.000977*x17 - 0.083*x18 - 0.011*x19 + 0.017*x2 + 0.00299*x20 - 0.028*x21 - 0.058*x22 + 0.0959*x23 - 0.202*x24 + 0.04*x3 - 0.092*x4 - 0.075*x5 + 0.00403*x6 - 0.174*x7 - 0.032*x8 + 0.087*x9 - 0.0959) - 0.148*(-0.135*x0 - 0.019*x1 + 0.026*x10 + 0.011*x11 - 0.039*x12 + 0.049*x13 + 0.00598*x14 - 0.06*x15 - 0.028*x16 + 0.09*x17 + 0.021*x18 + 0.225*x19 - 0.126*x2 - 0.132*x20 + 0.152*x21 - 0.092*x22 - 0.088*x23 + 0.13*x24 - 0.021*x3 - 0.023*x4 + 0.227*x5 - 0.06*x6 - 0.016*x7 - 0.179*x8 + 0.0649*x9 + 0.263)*(0.157*x0 + 0.097*x1 - 0.055*x10 - 0.082*x11 - 0.121*x12 + 0.037*x13 + 0.17*x14 - 0.062*x15 + 0.265*x16 - 0.281*x17 - 0.021*x18 - 0.102*x19 - 0.00299*x2 - 0.144*x20 + 0.059*x21 + 0.021*x22 - 0.079*x23 + 0.00598*x24 - 0.108*x3 - 0.023*x4 - 0.12*x5 + 0.201*x6 + 0.074*x7 - 0.276*x8 - 0.109*x9 + 0.024) + 0.216*(-0.043*x0 + 0.022*x1 + 0.143*x10 + 0.085*x11 + 0.126*x12 + 0.075*x13 + 0.029*x14 - 0.028*x15 - 0.093*x16 + 0.052*x17 + 0.022*x18 - 0.024*x19 - 0.213*x2 + 0.141*x20 - 0.159*x21 - 0.102*x22 - 0.138*x23 - 0.073*x24 + 0.064*x3 + 0.00201*x4 + 0.066*x5 + 0.107*x6 - 0.019*x7 + 0.03*x8 - 0.024*x9 + 0.043)*(0.084*x0 - 0.039*x1 + 0.00702*x10 + 0.028*x11 + 0.052*x12 + 0.053*x13 + 0.034*x14 - 0.195*x15 + 0.131*x16 - 0.036*x17 - 0.203*x18 + 0.12*x19 - 0.112*x2 + 0.13*x20 + 0.051*x21 + 0.035*x22 + 0.078*x23 - 0.0649*x24 - 0.015*x3 + 0.095*x4 + 0.103*x5 - 0.074*x6 + 0.171*x7 + 0.144*x8 + 0.038*x9 + 0.195) - 0.0861*(0.021*x0 + 0.111*x1 + 0.103*x10 + 0.031*x11 - 0.026*x12 + 0.00702*x13 - 0.018*x14 + 0.088*x15 + 0.08*x16 + 0.017*x17 - 0.035*x18 + 0.054*x19 - 0.164*x2 + 0.161*x20 + 0.038*x21 - 0.198*x22 + 0.088*x23 - 0.208*x24 + 0.099*x3 + 0.029*x4 - 0.108*x5 + 0.048*x6 - 0.162*x7 + 0.044*x8 + 0.082*x9 - 0.035)/(0.028*x0 + 0.132*x1 - 0.058*x10 + 0.056*x11 + 0.05*x12 + 0.05*x13 + 0.071*x14 + 0.022*x15 - 0.149*x16 - 0.13*x17 + 0.039*x18 + 0.038*x19 + 0.048*x2 + 0.054*x20 + 0.124*x21 + 0.028*x22 + 0.056*x23 + 0.103*x24 - 0.154*x3 - 0.161*x4 - 0.071*x5 + 0.306*x6 - 0.116*x7 + 0.043*x8 + 0.023*x9 - 0.00702) + 0.297*sin(0.08*x0 - 0.473*x1 + 0.076*x10 + 0.068*x11 - 0.106*x12 - 0.068*x13 + 0.0959*x14 + 0.046*x15 - 0.063*x16 + 0.00201*x17 + 0.00201*x18 - 0.021*x19 - 0.359*x2 + 0.121*x20 + 0.033*x21 - 0.177*x22 - 0.093*x23 - 0.285*x24 + 0.339*x3 + 0.171*x4 - 0.217*x5 + 0.093*x6 - 0.184*x7 + 0.00806*x8 - 0.059*x9 - 0.083) - 0.032*cos(-0.113*x0 + 0.073*x1 + 0.351*x10 - 0.087*x11 - 0.11*x12 + 0.005*x13 + 0.203*x14 - 0.271*x15 - 0.126*x16 + 0.013*x17 + 0.069*x18 - 0.076*x19 + 0.06*x2 + 0.249*x20 + 0.111*x21 - 0.109*x22 + 0.035*x23 + 0.0861*x24 + 0.142*x3 - 0.167*x4 + 0.046*x5 - 0.054*x6 - 0.0699*x7 + 0.139*x8 + 0.063*x9 + 0.186) + 0.211*cos(0.00201*x0 - 0.149*x1 - 0.157*x10 - 0.12*x11 + 0.00806*x12 + 0.098*x13 + 0.00598*x14 - 0.099*x15 - 0.00101*x16 - 0.063*x17 + 0.051*x18 + 0.13*x19 + 0.092*x2 - 0.161*x20 - 0.089*x21 + 0.121*x22 - 0.078*x23 + 0.284*x24 - 0.083*x3 - 0.031*x4 - 0.075*x5 + 0.024*x6 + 0.05*x7 + 0.099*x8 + 0.175*x9 + 0.283) + 0.08*cos(0.261*x0 + 0.307*x1 - 0.207*x10 + 0.083*x11 - 0.19*x12 - 0.123*x13 + 0.027*x14 - 0.046*x15 - 0.058*x16 + 0.017*x17 - 0.0811*x18 + 0.102*x19 + 0.048*x2 - 0.194*x20 + 0.077*x21 - 0.067*x22 + 0.111*x23 + 0.113*x24 + 0.174*x3 + 0.00299*x4 + 0.148*x5 + 0.042*x6 - 0.01*x7 + 0.094*x8 + 0.02*x9 + 0.242) - 0.354*sqrt(Abs(0.125*x0 - 0.0649*x1 - 0.032*x10 + 0.027*x11 + 0.073*x12 + 0.082*x13 + 0.113*x14 - 0.049*x15 - 0.018*x16 - 0.055*x17 - 0.053*x18 + 0.028*x19 + 0.046*x2 - 0.021*x20 + 0.026*x21 - 0.126*x22 - 0.241*x23 - 0.169*x24 - 0.176*x3 + 0.147*x4 + 0.132*x5 - 0.117*x6 + 0.043*x7 + 0.074*x8 + 0.098*x9 + 0.074)) + 0.044 + 0.00702*(0.09*x0 - 0.02*x1 + 0.101*x10 + 0.061*x11 + 0.137*x12 - 0.021*x13 + 0.024*x14 - 0.094*x15 + 0.00598*x16 - 0.011*x17 - 0.045*x18 - 0.131*x19 - 0.063*x2 - 0.021*x20 - 0.015*x21 + 0.17*x22 + 0.058*x23 - 0.188*x24 + 0.032*x3 + 0.019*x4 - 0.132*x5 - 0.08*x6 - 0.06*x7 + 0.122*x8 + 0.00201*x9 - 0.00403)/(-0.124*x0 + 0.077*x1 + 0.014*x10 + 0.152*x11 - 0.044*x12 - 0.056*x13 - 0.093*x14 - 0.176*x15 + 0.247*x16 + 0.041*x17 - 0.116*x18 - 0.043*x19 - 0.09*x2 - 0.247*x20 - 0.072*x21 - 0.089*x22 + 0.00903*x23 - 0.0811*x24 - 0.00806*x3 + 0.044*x4 - 0.175*x5 + 0.033*x6 - 0.05*x7 - 0.029*x8 + 0.00702*x9 - 0.107)]"
      ]
     },
     "execution_count": 21,
     "metadata": {},
     "output_type": "execute_result"
    },
    {
     "name": "stderr",
     "output_type": "stream",
     "text": [
      "/home/alessandro/code/NeuralSymbolicRegressionThatScales/env/lib/python3.8/site-packages/sklearn/model_selection/_validation.py:696: UserWarning: Scoring failed. The score on this train-test partition for these parameters will be set to nan. Details: \n",
      "Traceback (most recent call last):\n",
      "  File \"/home/alessandro/code/NeuralSymbolicRegressionThatScales/env/lib/python3.8/site-packages/sympy/core/assumptions.py\", line 454, in getit\n",
      "    return self._assumptions[fact]\n",
      "KeyError: 'extended_negative'\n",
      "\n",
      "During handling of the above exception, another exception occurred:\n",
      "\n",
      "Traceback (most recent call last):\n",
      "  File \"/home/alessandro/code/NeuralSymbolicRegressionThatScales/env/lib/python3.8/site-packages/sklearn/model_selection/_validation.py\", line 687, in _score\n",
      "    scores = scorer(estimator, X_test, y_test)\n",
      "  File \"/home/alessandro/code/NeuralSymbolicRegressionThatScales/env/lib/python3.8/site-packages/sklearn/metrics/_scorer.py\", line 397, in _passthrough_scorer\n",
      "    return estimator.score(*args, **kwargs)\n",
      "  File \"/home/alessandro/code/eql_jax/est.py\", line 301, in score\n",
      "    return self.get_score(X, y, self._params)\n",
      "  File \"/home/alessandro/code/eql_jax/est.py\", line 290, in get_score\n",
      "    exprs = self.get_eqn()\n",
      "  File \"/home/alessandro/code/eql_jax/est.py\", line 305, in get_eqn\n",
      "    return [round_floats(s) for s in symb]\n",
      "  File \"/home/alessandro/code/eql_jax/est.py\", line 305, in <listcomp>\n",
      "    return [round_floats(s) for s in symb]\n",
      "  File \"/home/alessandro/code/eql_jax/sy_utils.py\", line 32, in round_floats\n",
      "    ex2 = ex2.subs(a, Float(round(a, 3), 3))\n",
      "  File \"/home/alessandro/code/NeuralSymbolicRegressionThatScales/env/lib/python3.8/site-packages/sympy/core/basic.py\", line 948, in subs\n",
      "    rv = rv._subs(old, new, **kwargs)\n",
      "  File \"/home/alessandro/code/NeuralSymbolicRegressionThatScales/env/lib/python3.8/site-packages/sympy/core/cache.py\", line 72, in wrapper\n",
      "    retval = cfunc(*args, **kwargs)\n",
      "  File \"/home/alessandro/code/NeuralSymbolicRegressionThatScales/env/lib/python3.8/site-packages/sympy/core/basic.py\", line 1062, in _subs\n",
      "    rv = fallback(self, old, new)\n",
      "  File \"/home/alessandro/code/NeuralSymbolicRegressionThatScales/env/lib/python3.8/site-packages/sympy/core/basic.py\", line 1034, in fallback\n",
      "    arg = arg._subs(old, new, **hints)\n",
      "  File \"/home/alessandro/code/NeuralSymbolicRegressionThatScales/env/lib/python3.8/site-packages/sympy/core/cache.py\", line 72, in wrapper\n",
      "    retval = cfunc(*args, **kwargs)\n",
      "  File \"/home/alessandro/code/NeuralSymbolicRegressionThatScales/env/lib/python3.8/site-packages/sympy/core/basic.py\", line 1062, in _subs\n",
      "    rv = fallback(self, old, new)\n",
      "  File \"/home/alessandro/code/NeuralSymbolicRegressionThatScales/env/lib/python3.8/site-packages/sympy/core/basic.py\", line 1034, in fallback\n",
      "    arg = arg._subs(old, new, **hints)\n",
      "  File \"/home/alessandro/code/NeuralSymbolicRegressionThatScales/env/lib/python3.8/site-packages/sympy/core/cache.py\", line 72, in wrapper\n",
      "    retval = cfunc(*args, **kwargs)\n",
      "  File \"/home/alessandro/code/NeuralSymbolicRegressionThatScales/env/lib/python3.8/site-packages/sympy/core/basic.py\", line 1062, in _subs\n",
      "    rv = fallback(self, old, new)\n",
      "  File \"/home/alessandro/code/NeuralSymbolicRegressionThatScales/env/lib/python3.8/site-packages/sympy/core/basic.py\", line 1034, in fallback\n",
      "    arg = arg._subs(old, new, **hints)\n",
      "  File \"/home/alessandro/code/NeuralSymbolicRegressionThatScales/env/lib/python3.8/site-packages/sympy/core/cache.py\", line 72, in wrapper\n",
      "    retval = cfunc(*args, **kwargs)\n",
      "  File \"/home/alessandro/code/NeuralSymbolicRegressionThatScales/env/lib/python3.8/site-packages/sympy/core/basic.py\", line 1062, in _subs\n",
      "    rv = fallback(self, old, new)\n",
      "  File \"/home/alessandro/code/NeuralSymbolicRegressionThatScales/env/lib/python3.8/site-packages/sympy/core/basic.py\", line 1039, in fallback\n",
      "    rv = self.func(*args)\n",
      "  File \"/home/alessandro/code/NeuralSymbolicRegressionThatScales/env/lib/python3.8/site-packages/sympy/core/cache.py\", line 72, in wrapper\n",
      "    retval = cfunc(*args, **kwargs)\n",
      "  File \"/home/alessandro/code/NeuralSymbolicRegressionThatScales/env/lib/python3.8/site-packages/sympy/core/function.py\", line 473, in __new__\n",
      "    result = super().__new__(cls, *args, **options)\n",
      "  File \"/home/alessandro/code/NeuralSymbolicRegressionThatScales/env/lib/python3.8/site-packages/sympy/core/cache.py\", line 72, in wrapper\n",
      "    retval = cfunc(*args, **kwargs)\n",
      "  File \"/home/alessandro/code/NeuralSymbolicRegressionThatScales/env/lib/python3.8/site-packages/sympy/core/function.py\", line 285, in __new__\n",
      "    evaluated = cls.eval(*args)\n",
      "  File \"/home/alessandro/code/NeuralSymbolicRegressionThatScales/env/lib/python3.8/site-packages/sympy/functions/elementary/complexes.py\", line 598, in eval\n",
      "    conj = signsimp(arg.conjugate(), evaluate=False)\n",
      "  File \"/home/alessandro/code/NeuralSymbolicRegressionThatScales/env/lib/python3.8/site-packages/sympy/simplify/simplify.py\", line 387, in signsimp\n",
      "    e = sub_post(sub_pre(expr))\n",
      "  File \"/home/alessandro/code/NeuralSymbolicRegressionThatScales/env/lib/python3.8/site-packages/sympy/simplify/cse_opts.py\", line 37, in sub_pre\n",
      "    elif a.could_extract_minus_sign():\n",
      "  File \"/home/alessandro/code/NeuralSymbolicRegressionThatScales/env/lib/python3.8/site-packages/sympy/core/expr.py\", line 2439, in could_extract_minus_sign\n",
      "    (negative_self).extract_multiplicatively(-1) is not None)\n",
      "  File \"/home/alessandro/code/NeuralSymbolicRegressionThatScales/env/lib/python3.8/site-packages/sympy/core/expr.py\", line 2203, in extract_multiplicatively\n",
      "    quotient = self / c\n",
      "  File \"/home/alessandro/code/NeuralSymbolicRegressionThatScales/env/lib/python3.8/site-packages/sympy/core/decorators.py\", line 267, in _func\n",
      "    return func(self, other)\n",
      "  File \"/home/alessandro/code/NeuralSymbolicRegressionThatScales/env/lib/python3.8/site-packages/sympy/core/decorators.py\", line 137, in binary_op_wrapper\n",
      "    return func(self, other)\n",
      "  File \"/home/alessandro/code/NeuralSymbolicRegressionThatScales/env/lib/python3.8/site-packages/sympy/core/expr.py\", line 258, in __truediv__\n",
      "    return Mul(self, denom)\n",
      "  File \"/home/alessandro/code/NeuralSymbolicRegressionThatScales/env/lib/python3.8/site-packages/sympy/core/cache.py\", line 72, in wrapper\n",
      "    retval = cfunc(*args, **kwargs)\n",
      "  File \"/home/alessandro/code/NeuralSymbolicRegressionThatScales/env/lib/python3.8/site-packages/sympy/core/operations.py\", line 85, in __new__\n",
      "    c_part, nc_part, order_symbols = cls.flatten(args)\n",
      "  File \"/home/alessandro/code/NeuralSymbolicRegressionThatScales/env/lib/python3.8/site-packages/sympy/core/mul.py\", line 212, in flatten\n",
      "    bargs = [_keep_coeff(a, bi) for bi in Add.make_args(b)]\n",
      "  File \"/home/alessandro/code/NeuralSymbolicRegressionThatScales/env/lib/python3.8/site-packages/sympy/core/mul.py\", line 212, in <listcomp>\n",
      "    bargs = [_keep_coeff(a, bi) for bi in Add.make_args(b)]\n",
      "  File \"/home/alessandro/code/NeuralSymbolicRegressionThatScales/env/lib/python3.8/site-packages/sympy/core/mul.py\", line 1993, in _keep_coeff\n",
      "    return -factors\n",
      "  File \"/home/alessandro/code/NeuralSymbolicRegressionThatScales/env/lib/python3.8/site-packages/sympy/core/mul.py\", line 98, in __neg__\n",
      "    c, args = self.as_coeff_mul()\n",
      "  File \"/home/alessandro/code/NeuralSymbolicRegressionThatScales/env/lib/python3.8/site-packages/sympy/core/cache.py\", line 72, in wrapper\n",
      "    retval = cfunc(*args, **kwargs)\n",
      "  File \"/home/alessandro/code/NeuralSymbolicRegressionThatScales/env/lib/python3.8/site-packages/sympy/core/mul.py\", line 771, in as_coeff_mul\n",
      "    elif args[0].is_extended_negative:\n",
      "  File \"/home/alessandro/code/NeuralSymbolicRegressionThatScales/env/lib/python3.8/site-packages/sympy/core/assumptions.py\", line 458, in getit\n",
      "    return _ask(fact, self)\n",
      "  File \"/home/alessandro/code/NeuralSymbolicRegressionThatScales/env/lib/python3.8/site-packages/sympy/core/assumptions.py\", line 493, in _ask\n",
      "    assumptions._tell(fact, None)\n",
      "  File \"/home/alessandro/code/NeuralSymbolicRegressionThatScales/env/lib/python3.8/site-packages/sympy/core/facts.py\", line 491, in _tell\n",
      "    raise InconsistentAssumptions(self, k, v)\n",
      "sympy.core.facts.InconsistentAssumptions: {\n",
      "\tcommutative: True,\n",
      "\tcomplex: True,\n",
      "\textended_negative: False,\n",
      "\textended_nonnegative: True,\n",
      "\textended_nonpositive: False,\n",
      "\textended_nonzero: True,\n",
      "\textended_positive: True,\n",
      "\textended_real: True,\n",
      "\tfinite: True,\n",
      "\thermitian: True,\n",
      "\timaginary: False,\n",
      "\tinfinite: False,\n",
      "\tirrational: None,\n",
      "\tnegative: False,\n",
      "\tnonnegative: True,\n",
      "\tnonpositive: False,\n",
      "\tnonzero: True,\n",
      "\tpositive: True,\n",
      "\trational: None,\n",
      "\treal: True,\n",
      "\tzero: False}, extended_negative=None\n",
      "\n",
      "  warnings.warn(\n"
     ]
    },
    {
     "name": "stdout",
     "output_type": "stream",
     "text": [
      "10.247702\n",
      "1.4408222\n",
      "11.023858\n",
      "6.5591884\n",
      "2.1501539\n",
      "93.63389\n",
      "2.149428\n",
      "2.1062486\n",
      "2.0834768\n",
      "2.0284517\n",
      "2.1880758\n",
      "2.0192997\n",
      "1.9483036\n",
      "1.7268969\n",
      "1.5884948\n",
      "1.5490917\n",
      "1.3940597\n",
      "1.3452343\n",
      "1.3054075\n",
      "1.31466\n",
      "1.2410831\n",
      "1.1932312\n",
      "1.1644813\n",
      "1.1537191\n",
      "122.90509\n",
      "91197.72\n",
      "61.605488\n",
      "30.61294\n",
      "2.7895994\n",
      "1.1563673\n",
      "1.1532601\n",
      "1.1863022\n",
      "1.3354266\n",
      "1.1530349\n",
      "1.1528128\n",
      "1.1748036\n",
      "1.1487452\n",
      "1.1506451\n",
      "1.1463504\n",
      "1.1420947\n",
      "2.6531978\n",
      "1.1420901\n",
      "1.1420847\n",
      "2.1022882\n",
      "1.1446544\n",
      "1.1418111\n",
      "1.1383002\n",
      "1.1409297\n",
      "1.1386447\n",
      "1.13797\n",
      "1.1385819\n",
      "1.1378177\n"
     ]
    }
   ],
   "source": [
    "est.best_estimator_.get_eqn()"
   ]
  },
  {
   "cell_type": "code",
   "execution_count": null,
   "id": "4a9e2495",
   "metadata": {
    "ExecuteTime": {
     "end_time": "2022-05-11T08:28:28.372715Z",
     "start_time": "2022-05-11T08:28:28.337176Z"
    }
   },
   "outputs": [
    {
     "ename": "AttributeError",
     "evalue": "'GridSearchCV' object has no attribute 'cv_results_'",
     "output_type": "error",
     "traceback": [
      "\u001b[0;31m---------------------------------------------------------------------------\u001b[0m",
      "\u001b[0;31mAttributeError\u001b[0m                            Traceback (most recent call last)",
      "\u001b[0;32m/tmp/ipykernel_3500645/3049681812.py\u001b[0m in \u001b[0;36m<module>\u001b[0;34m\u001b[0m\n\u001b[0;32m----> 1\u001b[0;31m \u001b[0mcv\u001b[0m\u001b[0;34m.\u001b[0m\u001b[0mcv_results_\u001b[0m\u001b[0;34m\u001b[0m\u001b[0;34m\u001b[0m\u001b[0m\n\u001b[0m",
      "\u001b[0;31mAttributeError\u001b[0m: 'GridSearchCV' object has no attribute 'cv_results_'"
     ]
    }
   ],
   "source": [
    "cv.cv_results_"
   ]
  },
  {
   "cell_type": "code",
   "execution_count": null,
   "id": "d02bcde2",
   "metadata": {
    "ExecuteTime": {
     "end_time": "2022-05-09T14:17:40.562936Z",
     "start_time": "2022-05-09T14:17:40.419733Z"
    }
   },
   "outputs": [
    {
     "data": {
      "text/plain": [
       "0.8987522401693331"
      ]
     },
     "execution_count": 53,
     "metadata": {},
     "output_type": "execute_result"
    }
   ],
   "source": [
    "r2_score(cv.best_estimator_.predict(data_X), data_y)"
   ]
  },
  {
   "cell_type": "code",
   "execution_count": null,
   "id": "8cac3bd5",
   "metadata": {
    "ExecuteTime": {
     "end_time": "2022-05-10T13:09:29.975264Z",
     "start_time": "2022-05-10T13:09:29.954713Z"
    }
   },
   "outputs": [
    {
     "data": {
      "text/plain": [
       "'\\n\\n1030_ERA\\n1028_SWD\\n\\n\\n589_fri_c2_1000_25\\n227_cpu_small\\n294_satellite_image\\n197_cpu_act\\n\\n\\n'"
      ]
     },
     "execution_count": 7,
     "metadata": {},
     "output_type": "execute_result"
    }
   ],
   "source": [
    "\"\"\"\n",
    "\n",
    "1030_ERA\n",
    "1028_SWD\n",
    "\n",
    "\n",
    "589_fri_c2_1000_25\n",
    "227_cpu_small\n",
    "294_satellite_image\n",
    "197_cpu_act\n",
    "\n",
    "\n",
    "\"\"\""
   ]
  },
  {
   "cell_type": "code",
   "execution_count": null,
   "id": "9db8701f",
   "metadata": {
    "ExecuteTime": {
     "end_time": "2022-05-13T09:49:18.437881Z",
     "start_time": "2022-05-13T09:49:18.361973Z"
    }
   },
   "outputs": [],
   "source": [
    "data_X, data_y = fetch_data('589_fri_c2_1000_25', return_X_y=True, local_cache_dir='./pmlb_cache')"
   ]
  },
  {
   "cell_type": "code",
   "execution_count": null,
   "id": "e1c4457c",
   "metadata": {
    "ExecuteTime": {
     "end_time": "2022-05-09T14:14:50.393014Z",
     "start_time": "2022-05-09T14:14:49.794947Z"
    }
   },
   "outputs": [
    {
     "data": {
      "text/plain": [
       "'[0.295*oz4 + 0.194*oz5 - 1.08*sin(1.22*oz1 + 1.57*oz2 - 0.443) - 1.29*sin(0.359*oz2 + 0.488*oz3 - 0.082*oz4 + 0.831) + 0.821]'"
      ]
     },
     "execution_count": 48,
     "metadata": {},
     "output_type": "execute_result"
    }
   ],
   "source": [
    "model(cv, pdf)"
   ]
  },
  {
   "cell_type": "code",
   "execution_count": null,
   "id": "1bea823d",
   "metadata": {
    "ExecuteTime": {
     "end_time": "2022-05-10T12:11:08.493179Z",
     "start_time": "2022-05-10T12:11:08.454542Z"
    }
   },
   "outputs": [],
   "source": [
    "pdf = fetch_data('1030_ERA', local_cache_dir='./pmlb_cache')"
   ]
  },
  {
   "cell_type": "code",
   "execution_count": null,
   "id": "a6a39fa6",
   "metadata": {
    "ExecuteTime": {
     "end_time": "2022-05-09T15:54:34.428391Z",
     "start_time": "2022-05-09T15:54:34.401800Z"
    }
   },
   "outputs": [],
   "source": [
    "split = PredefinedSplit([-1]*(data_X.shape[0]-1) + [0])"
   ]
  },
  {
   "cell_type": "code",
   "execution_count": null,
   "id": "23401306",
   "metadata": {
    "ExecuteTime": {
     "end_time": "2022-05-09T15:54:34.745401Z",
     "start_time": "2022-05-09T15:54:34.710220Z"
    }
   },
   "outputs": [
    {
     "name": "stdout",
     "output_type": "stream",
     "text": [
      "999 1\n"
     ]
    }
   ],
   "source": [
    "for (train, test) in split.split(data_X,data_y):\n",
    "  print(len(train), len(test))"
   ]
  },
  {
   "cell_type": "code",
   "execution_count": null,
   "id": "7a4329f7",
   "metadata": {
    "ExecuteTime": {
     "end_time": "2022-05-13T09:47:41.597023Z",
     "start_time": "2022-05-13T09:47:41.575024Z"
    }
   },
   "outputs": [],
   "source": [
    "cv = GridSearchCV(estimator=e,\n",
    "                 param_grid=hp,\n",
    "                 cv=2,#split,\n",
    "                 #refit=True,\n",
    "                 n_jobs=4,\n",
    "                 verbose=5)"
   ]
  },
  {
   "cell_type": "code",
   "execution_count": null,
   "id": "cf52d05a",
   "metadata": {
    "ExecuteTime": {
     "end_time": "2022-05-13T09:48:57.344919Z",
     "start_time": "2022-05-13T09:48:57.295708Z"
    }
   },
   "outputs": [],
   "source": [
    "d={'param_grid':{'n_iter': [10]}}"
   ]
  },
  {
   "cell_type": "code",
   "execution_count": null,
   "id": "68f75840",
   "metadata": {
    "ExecuteTime": {
     "end_time": "2022-05-13T09:49:08.995595Z",
     "start_time": "2022-05-13T09:49:08.969641Z"
    }
   },
   "outputs": [
    {
     "data": {
      "text/plain": [
       "GridSearchCV(cv=2, estimator=EQLgd(functions='id;mul;cos'), n_jobs=4,\n",
       "             param_grid={'n_iter': [10]}, verbose=5)"
      ]
     },
     "execution_count": 14,
     "metadata": {},
     "output_type": "execute_result"
    }
   ],
   "source": [
    "cv.set_params(**d)"
   ]
  },
  {
   "cell_type": "code",
   "execution_count": null,
   "id": "76e9a1b6",
   "metadata": {},
   "outputs": [],
   "source": []
  },
  {
   "cell_type": "code",
   "execution_count": null,
   "id": "0962f8bc",
   "metadata": {
    "ExecuteTime": {
     "end_time": "2022-05-10T13:09:43.848319Z",
     "start_time": "2022-05-10T13:09:43.804622Z"
    }
   },
   "outputs": [
    {
     "data": {
      "text/plain": [
       "((1000, 25), (1000,))"
      ]
     },
     "execution_count": 10,
     "metadata": {},
     "output_type": "execute_result"
    }
   ],
   "source": [
    "data_X.shape, data_y.shape"
   ]
  },
  {
   "cell_type": "code",
   "execution_count": null,
   "id": "820a6e08",
   "metadata": {
    "ExecuteTime": {
     "end_time": "2022-05-11T09:13:20.625277Z",
     "start_time": "2022-05-11T09:10:56.918638Z"
    }
   },
   "outputs": [
    {
     "name": "stdout",
     "output_type": "stream",
     "text": [
      "0.09911464\n",
      "1.5353136\n",
      "0.098901995\n",
      "0.09882203\n",
      "0.098793976\n",
      "0.09879119\n",
      "0.09878078\n",
      "0.09877351\n",
      "0.09876725\n",
      "0.09876475\n",
      "0.09876268\n",
      "0.09875722\n",
      "0.098747805\n",
      "0.098736934\n",
      "0.098735124\n",
      "0.09873139\n",
      "0.0987308\n",
      "0.09872997\n",
      "0.09872823\n",
      "0.09872574\n",
      "0.09872254\n",
      "0.098722\n",
      "0.09872107\n",
      "0.098721\n",
      "0.09872097\n",
      "0.09872094\n",
      "0.09872092\n",
      "0.098720856\n",
      "0.09872076\n",
      "0.0987207\n",
      "0.09872079\n",
      "0.098720685\n",
      "0.09872067\n",
      "0.09872067\n",
      "0.09872066\n",
      "0.09872064\n",
      "0.098720655\n",
      "0.098720655\n",
      "0.09872064\n",
      "0.09872064\n",
      "0.09872064\n",
      "0.09872064\n",
      "0.09872064\n",
      "0.09872064\n",
      "0.09872064\n",
      "0.09872064\n",
      "0.09872064\n",
      "0.09872064\n",
      "0.09872064\n"
     ]
    },
    {
     "data": {
      "text/plain": [
       "[-0.066*x0 + 0.03*x1 - 0.203*x2 + 0.386*x3 + 0.199*x4 - 0.327*(0.597*x0 + 0.532*x2 - 0.362)*(0.17*x0 - 0.698*x1 - 0.43*x2 + 0.025*x3 + 0.703) - 1.14*cos(1.17*x0 + 1.54*x1 - 2.0) - 0.223]"
      ]
     },
     "execution_count": 30,
     "metadata": {},
     "output_type": "execute_result"
    }
   ],
   "source": [
    "e = EQLgd(n_iter=10_000, drop_rate=.5, functions='id;mul;cos', reg=1e-3, random_state=42)\n",
    "\n",
    "e.fit(data_X, data_y)\n",
    "e.score(data_X, data_y)\n",
    "e.get_eqn()"
   ]
  },
  {
   "cell_type": "code",
   "execution_count": null,
   "id": "aa7b413d",
   "metadata": {},
   "outputs": [],
   "source": []
  },
  {
   "cell_type": "code",
   "execution_count": null,
   "id": "50000d8c",
   "metadata": {
    "ExecuteTime": {
     "end_time": "2022-05-11T09:07:27.470327Z",
     "start_time": "2022-05-11T09:05:09.907273Z"
    }
   },
   "outputs": [
    {
     "data": {
      "text/plain": [
       "[-0.072*x0 + 0.015*x1 - 0.18*x2 + 0.365*x3 + 0.194*x4 - 0.327*(0.582*x0 + 0.539*x2 - 0.375)*(0.166*x0 - 0.679*x1 - 0.459*x2 + 0.055*x3 + 0.702) - 1.14*cos(1.17*x0 + 1.54*x1 - 2.0) - 0.217]"
      ]
     },
     "execution_count": 26,
     "metadata": {},
     "output_type": "execute_result"
    }
   ],
   "source": [
    "e = EQLgd(n_iter=10_000, drop_rate=.5, functions='id;mul;cos', reg=1e-3, do_bfgs=False, random_state=42)\n",
    "\n",
    "e.fit(data_X, data_y)\n",
    "e.score(data_X, data_y)\n",
    "e.get_eqn()"
   ]
  },
  {
   "cell_type": "code",
   "execution_count": null,
   "id": "fbc20f12",
   "metadata": {
    "ExecuteTime": {
     "end_time": "2022-05-06T14:07:49.215629Z",
     "start_time": "2022-05-06T14:07:48.516296Z"
    }
   },
   "outputs": [
    {
     "data": {
      "text/plain": [
       "-1.8196865234069146"
      ]
     },
     "execution_count": 80,
     "metadata": {},
     "output_type": "execute_result"
    }
   ],
   "source": [
    "e.score(data_X, data_y)"
   ]
  },
  {
   "cell_type": "code",
   "execution_count": null,
   "id": "807cee55",
   "metadata": {
    "ExecuteTime": {
     "end_time": "2022-05-06T14:07:51.831739Z",
     "start_time": "2022-05-06T14:07:51.574696Z"
    }
   },
   "outputs": [
    {
     "data": {
      "text/plain": [
       "[-0.423*x1 + 0.219*x3]"
      ]
     },
     "execution_count": 81,
     "metadata": {},
     "output_type": "execute_result"
    }
   ],
   "source": [
    "e.get_eqn()"
   ]
  },
  {
   "cell_type": "code",
   "execution_count": null,
   "id": "fb7315db",
   "metadata": {
    "ExecuteTime": {
     "end_time": "2022-04-27T12:36:41.416897Z",
     "start_time": "2022-04-27T12:36:41.217447Z"
    },
    "collapsed": true
   },
   "outputs": [
    {
     "ename": "NotFittedError",
     "evalue": "This GridSearchCV instance is not fitted yet. Call 'fit' with appropriate arguments before using this estimator.",
     "output_type": "error",
     "traceback": [
      "\u001b[0;31m---------------------------------------------------------------------------\u001b[0m",
      "\u001b[0;31mNotFittedError\u001b[0m                            Traceback (most recent call last)",
      "\u001b[0;32m/tmp/ipykernel_1025338/3176453243.py\u001b[0m in \u001b[0;36m<module>\u001b[0;34m\u001b[0m\n\u001b[1;32m      1\u001b[0m \u001b[0mplt\u001b[0m\u001b[0;34m.\u001b[0m\u001b[0mplot\u001b[0m\u001b[0;34m(\u001b[0m\u001b[0mdata_y\u001b[0m\u001b[0;34m)\u001b[0m\u001b[0;34m\u001b[0m\u001b[0;34m\u001b[0m\u001b[0m\n\u001b[0;32m----> 2\u001b[0;31m \u001b[0mplt\u001b[0m\u001b[0;34m.\u001b[0m\u001b[0mplot\u001b[0m\u001b[0;34m(\u001b[0m\u001b[0mcv\u001b[0m\u001b[0;34m.\u001b[0m\u001b[0mpredict\u001b[0m\u001b[0;34m(\u001b[0m\u001b[0mdata_X\u001b[0m\u001b[0;34m)\u001b[0m\u001b[0;34m)\u001b[0m\u001b[0;34m\u001b[0m\u001b[0;34m\u001b[0m\u001b[0m\n\u001b[0m",
      "\u001b[0;32m~/code/NeuralSymbolicRegressionThatScales/env/lib/python3.8/site-packages/sklearn/utils/metaestimators.py\u001b[0m in \u001b[0;36m<lambda>\u001b[0;34m(*args, **kwargs)\u001b[0m\n\u001b[1;32m    118\u001b[0m \u001b[0;34m\u001b[0m\u001b[0m\n\u001b[1;32m    119\u001b[0m         \u001b[0;31m# lambda, but not partial, allows help() to work with update_wrapper\u001b[0m\u001b[0;34m\u001b[0m\u001b[0;34m\u001b[0m\u001b[0;34m\u001b[0m\u001b[0m\n\u001b[0;32m--> 120\u001b[0;31m         \u001b[0mout\u001b[0m \u001b[0;34m=\u001b[0m \u001b[0;32mlambda\u001b[0m \u001b[0;34m*\u001b[0m\u001b[0margs\u001b[0m\u001b[0;34m,\u001b[0m \u001b[0;34m**\u001b[0m\u001b[0mkwargs\u001b[0m\u001b[0;34m:\u001b[0m \u001b[0mself\u001b[0m\u001b[0;34m.\u001b[0m\u001b[0mfn\u001b[0m\u001b[0;34m(\u001b[0m\u001b[0mobj\u001b[0m\u001b[0;34m,\u001b[0m \u001b[0;34m*\u001b[0m\u001b[0margs\u001b[0m\u001b[0;34m,\u001b[0m \u001b[0;34m**\u001b[0m\u001b[0mkwargs\u001b[0m\u001b[0;34m)\u001b[0m\u001b[0;34m\u001b[0m\u001b[0;34m\u001b[0m\u001b[0m\n\u001b[0m\u001b[1;32m    121\u001b[0m         \u001b[0;31m# update the docstring of the returned function\u001b[0m\u001b[0;34m\u001b[0m\u001b[0;34m\u001b[0m\u001b[0;34m\u001b[0m\u001b[0m\n\u001b[1;32m    122\u001b[0m         \u001b[0mupdate_wrapper\u001b[0m\u001b[0;34m(\u001b[0m\u001b[0mout\u001b[0m\u001b[0;34m,\u001b[0m \u001b[0mself\u001b[0m\u001b[0;34m.\u001b[0m\u001b[0mfn\u001b[0m\u001b[0;34m)\u001b[0m\u001b[0;34m\u001b[0m\u001b[0;34m\u001b[0m\u001b[0m\n",
      "\u001b[0;32m~/code/NeuralSymbolicRegressionThatScales/env/lib/python3.8/site-packages/sklearn/model_selection/_search.py\u001b[0m in \u001b[0;36mpredict\u001b[0;34m(self, X)\u001b[0m\n\u001b[1;32m    537\u001b[0m \u001b[0;34m\u001b[0m\u001b[0m\n\u001b[1;32m    538\u001b[0m         \"\"\"\n\u001b[0;32m--> 539\u001b[0;31m         \u001b[0mself\u001b[0m\u001b[0;34m.\u001b[0m\u001b[0m_check_is_fitted\u001b[0m\u001b[0;34m(\u001b[0m\u001b[0;34m'predict'\u001b[0m\u001b[0;34m)\u001b[0m\u001b[0;34m\u001b[0m\u001b[0;34m\u001b[0m\u001b[0m\n\u001b[0m\u001b[1;32m    540\u001b[0m         \u001b[0;32mreturn\u001b[0m \u001b[0mself\u001b[0m\u001b[0;34m.\u001b[0m\u001b[0mbest_estimator_\u001b[0m\u001b[0;34m.\u001b[0m\u001b[0mpredict\u001b[0m\u001b[0;34m(\u001b[0m\u001b[0mX\u001b[0m\u001b[0;34m)\u001b[0m\u001b[0;34m\u001b[0m\u001b[0;34m\u001b[0m\u001b[0m\n\u001b[1;32m    541\u001b[0m \u001b[0;34m\u001b[0m\u001b[0m\n",
      "\u001b[0;32m~/code/NeuralSymbolicRegressionThatScales/env/lib/python3.8/site-packages/sklearn/model_selection/_search.py\u001b[0m in \u001b[0;36m_check_is_fitted\u001b[0;34m(self, method_name)\u001b[0m\n\u001b[1;32m    521\u001b[0m                                  % (type(self).__name__, method_name))\n\u001b[1;32m    522\u001b[0m         \u001b[0;32melse\u001b[0m\u001b[0;34m:\u001b[0m\u001b[0;34m\u001b[0m\u001b[0;34m\u001b[0m\u001b[0m\n\u001b[0;32m--> 523\u001b[0;31m             \u001b[0mcheck_is_fitted\u001b[0m\u001b[0;34m(\u001b[0m\u001b[0mself\u001b[0m\u001b[0;34m)\u001b[0m\u001b[0;34m\u001b[0m\u001b[0;34m\u001b[0m\u001b[0m\n\u001b[0m\u001b[1;32m    524\u001b[0m \u001b[0;34m\u001b[0m\u001b[0m\n\u001b[1;32m    525\u001b[0m     \u001b[0;34m@\u001b[0m\u001b[0mif_delegate_has_method\u001b[0m\u001b[0;34m(\u001b[0m\u001b[0mdelegate\u001b[0m\u001b[0;34m=\u001b[0m\u001b[0;34m(\u001b[0m\u001b[0;34m'best_estimator_'\u001b[0m\u001b[0;34m,\u001b[0m \u001b[0;34m'estimator'\u001b[0m\u001b[0;34m)\u001b[0m\u001b[0;34m)\u001b[0m\u001b[0;34m\u001b[0m\u001b[0;34m\u001b[0m\u001b[0m\n",
      "\u001b[0;32m~/code/NeuralSymbolicRegressionThatScales/env/lib/python3.8/site-packages/sklearn/utils/validation.py\u001b[0m in \u001b[0;36minner_f\u001b[0;34m(*args, **kwargs)\u001b[0m\n\u001b[1;32m     61\u001b[0m             \u001b[0mextra_args\u001b[0m \u001b[0;34m=\u001b[0m \u001b[0mlen\u001b[0m\u001b[0;34m(\u001b[0m\u001b[0margs\u001b[0m\u001b[0;34m)\u001b[0m \u001b[0;34m-\u001b[0m \u001b[0mlen\u001b[0m\u001b[0;34m(\u001b[0m\u001b[0mall_args\u001b[0m\u001b[0;34m)\u001b[0m\u001b[0;34m\u001b[0m\u001b[0;34m\u001b[0m\u001b[0m\n\u001b[1;32m     62\u001b[0m             \u001b[0;32mif\u001b[0m \u001b[0mextra_args\u001b[0m \u001b[0;34m<=\u001b[0m \u001b[0;36m0\u001b[0m\u001b[0;34m:\u001b[0m\u001b[0;34m\u001b[0m\u001b[0;34m\u001b[0m\u001b[0m\n\u001b[0;32m---> 63\u001b[0;31m                 \u001b[0;32mreturn\u001b[0m \u001b[0mf\u001b[0m\u001b[0;34m(\u001b[0m\u001b[0;34m*\u001b[0m\u001b[0margs\u001b[0m\u001b[0;34m,\u001b[0m \u001b[0;34m**\u001b[0m\u001b[0mkwargs\u001b[0m\u001b[0;34m)\u001b[0m\u001b[0;34m\u001b[0m\u001b[0;34m\u001b[0m\u001b[0m\n\u001b[0m\u001b[1;32m     64\u001b[0m \u001b[0;34m\u001b[0m\u001b[0m\n\u001b[1;32m     65\u001b[0m             \u001b[0;31m# extra_args > 0\u001b[0m\u001b[0;34m\u001b[0m\u001b[0;34m\u001b[0m\u001b[0;34m\u001b[0m\u001b[0m\n",
      "\u001b[0;32m~/code/NeuralSymbolicRegressionThatScales/env/lib/python3.8/site-packages/sklearn/utils/validation.py\u001b[0m in \u001b[0;36mcheck_is_fitted\u001b[0;34m(estimator, attributes, msg, all_or_any)\u001b[0m\n\u001b[1;32m   1096\u001b[0m \u001b[0;34m\u001b[0m\u001b[0m\n\u001b[1;32m   1097\u001b[0m     \u001b[0;32mif\u001b[0m \u001b[0;32mnot\u001b[0m \u001b[0mattrs\u001b[0m\u001b[0;34m:\u001b[0m\u001b[0;34m\u001b[0m\u001b[0;34m\u001b[0m\u001b[0m\n\u001b[0;32m-> 1098\u001b[0;31m         \u001b[0;32mraise\u001b[0m \u001b[0mNotFittedError\u001b[0m\u001b[0;34m(\u001b[0m\u001b[0mmsg\u001b[0m \u001b[0;34m%\u001b[0m \u001b[0;34m{\u001b[0m\u001b[0;34m'name'\u001b[0m\u001b[0;34m:\u001b[0m \u001b[0mtype\u001b[0m\u001b[0;34m(\u001b[0m\u001b[0mestimator\u001b[0m\u001b[0;34m)\u001b[0m\u001b[0;34m.\u001b[0m\u001b[0m__name__\u001b[0m\u001b[0;34m}\u001b[0m\u001b[0;34m)\u001b[0m\u001b[0;34m\u001b[0m\u001b[0;34m\u001b[0m\u001b[0m\n\u001b[0m\u001b[1;32m   1099\u001b[0m \u001b[0;34m\u001b[0m\u001b[0m\n\u001b[1;32m   1100\u001b[0m \u001b[0;34m\u001b[0m\u001b[0m\n",
      "\u001b[0;31mNotFittedError\u001b[0m: This GridSearchCV instance is not fitted yet. Call 'fit' with appropriate arguments before using this estimator."
     ]
    },
    {
     "data": {
      "image/png": "[encoded data removed]",
      "text/plain": [
       "<Figure size 432x288 with 1 Axes>"
      ]
     },
     "metadata": {
      "needs_background": "light"
     },
     "output_type": "display_data"
    }
   ],
   "source": [
    "plt.plot(data_y)\n",
    "plt.plot(cv.predict(data_X))"
   ]
  },
  {
   "cell_type": "code",
   "execution_count": null,
   "id": "4d34c74e",
   "metadata": {
    "ExecuteTime": {
     "end_time": "2022-05-13T09:53:54.910992Z",
     "start_time": "2022-05-13T09:53:45.585493Z"
    },
    "scrolled": true
   },
   "outputs": [
    {
     "name": "stdout",
     "output_type": "stream",
     "text": [
      "Fitting 2 folds for each of 32 candidates, totalling 64 fits\n"
     ]
    },
    {
     "name": "stderr",
     "output_type": "stream",
     "text": [
      "WARNING:absl:No GPU/TPU found, falling back to CPU. (Set TF_CPP_MIN_LOG_LEVEL=0 and rerun for more info.)\n",
      "WARNING:absl:No GPU/TPU found, falling back to CPU. (Set TF_CPP_MIN_LOG_LEVEL=0 and rerun for more info.)\n"
     ]
    },
    {
     "ename": "KeyboardInterrupt",
     "evalue": "",
     "output_type": "error",
     "traceback": [
      "\u001b[0;31m---------------------------------------------------------------------------\u001b[0m",
      "\u001b[0;31mKeyboardInterrupt\u001b[0m                         Traceback (most recent call last)",
      "\u001b[0;32m/tmp/ipykernel_326447/771402039.py\u001b[0m in \u001b[0;36m<module>\u001b[0;34m\u001b[0m\n\u001b[0;32m----> 1\u001b[0;31m \u001b[0mcv\u001b[0m\u001b[0;34m.\u001b[0m\u001b[0mfit\u001b[0m\u001b[0;34m(\u001b[0m\u001b[0mdata_X\u001b[0m\u001b[0;34m,\u001b[0m \u001b[0mdata_y\u001b[0m\u001b[0;34m)\u001b[0m\u001b[0;34m\u001b[0m\u001b[0;34m\u001b[0m\u001b[0m\n\u001b[0m\u001b[1;32m      2\u001b[0m \u001b[0mcv\u001b[0m\u001b[0;34m.\u001b[0m\u001b[0mscore\u001b[0m\u001b[0;34m(\u001b[0m\u001b[0mdata_X\u001b[0m\u001b[0;34m,\u001b[0m \u001b[0mdata_y\u001b[0m\u001b[0;34m)\u001b[0m\u001b[0;34m\u001b[0m\u001b[0;34m\u001b[0m\u001b[0m\n",
      "\u001b[0;32m~/code/NeuralSymbolicRegressionThatScales/env/lib/python3.8/site-packages/sklearn/utils/validation.py\u001b[0m in \u001b[0;36minner_f\u001b[0;34m(*args, **kwargs)\u001b[0m\n\u001b[1;32m     61\u001b[0m             \u001b[0mextra_args\u001b[0m \u001b[0;34m=\u001b[0m \u001b[0mlen\u001b[0m\u001b[0;34m(\u001b[0m\u001b[0margs\u001b[0m\u001b[0;34m)\u001b[0m \u001b[0;34m-\u001b[0m \u001b[0mlen\u001b[0m\u001b[0;34m(\u001b[0m\u001b[0mall_args\u001b[0m\u001b[0;34m)\u001b[0m\u001b[0;34m\u001b[0m\u001b[0;34m\u001b[0m\u001b[0m\n\u001b[1;32m     62\u001b[0m             \u001b[0;32mif\u001b[0m \u001b[0mextra_args\u001b[0m \u001b[0;34m<=\u001b[0m \u001b[0;36m0\u001b[0m\u001b[0;34m:\u001b[0m\u001b[0;34m\u001b[0m\u001b[0;34m\u001b[0m\u001b[0m\n\u001b[0;32m---> 63\u001b[0;31m                 \u001b[0;32mreturn\u001b[0m \u001b[0mf\u001b[0m\u001b[0;34m(\u001b[0m\u001b[0;34m*\u001b[0m\u001b[0margs\u001b[0m\u001b[0;34m,\u001b[0m \u001b[0;34m**\u001b[0m\u001b[0mkwargs\u001b[0m\u001b[0;34m)\u001b[0m\u001b[0;34m\u001b[0m\u001b[0;34m\u001b[0m\u001b[0m\n\u001b[0m\u001b[1;32m     64\u001b[0m \u001b[0;34m\u001b[0m\u001b[0m\n\u001b[1;32m     65\u001b[0m             \u001b[0;31m# extra_args > 0\u001b[0m\u001b[0;34m\u001b[0m\u001b[0;34m\u001b[0m\u001b[0;34m\u001b[0m\u001b[0m\n",
      "\u001b[0;32m~/code/NeuralSymbolicRegressionThatScales/env/lib/python3.8/site-packages/sklearn/model_selection/_search.py\u001b[0m in \u001b[0;36mfit\u001b[0;34m(self, X, y, groups, **fit_params)\u001b[0m\n\u001b[1;32m    839\u001b[0m                 \u001b[0;32mreturn\u001b[0m \u001b[0mresults\u001b[0m\u001b[0;34m\u001b[0m\u001b[0;34m\u001b[0m\u001b[0m\n\u001b[1;32m    840\u001b[0m \u001b[0;34m\u001b[0m\u001b[0m\n\u001b[0;32m--> 841\u001b[0;31m             \u001b[0mself\u001b[0m\u001b[0;34m.\u001b[0m\u001b[0m_run_search\u001b[0m\u001b[0;34m(\u001b[0m\u001b[0mevaluate_candidates\u001b[0m\u001b[0;34m)\u001b[0m\u001b[0;34m\u001b[0m\u001b[0;34m\u001b[0m\u001b[0m\n\u001b[0m\u001b[1;32m    842\u001b[0m \u001b[0;34m\u001b[0m\u001b[0m\n\u001b[1;32m    843\u001b[0m             \u001b[0;31m# multimetric is determined here because in the case of a callable\u001b[0m\u001b[0;34m\u001b[0m\u001b[0;34m\u001b[0m\u001b[0;34m\u001b[0m\u001b[0m\n",
      "\u001b[0;32m~/code/NeuralSymbolicRegressionThatScales/env/lib/python3.8/site-packages/sklearn/model_selection/_search.py\u001b[0m in \u001b[0;36m_run_search\u001b[0;34m(self, evaluate_candidates)\u001b[0m\n\u001b[1;32m   1294\u001b[0m     \u001b[0;32mdef\u001b[0m \u001b[0m_run_search\u001b[0m\u001b[0;34m(\u001b[0m\u001b[0mself\u001b[0m\u001b[0;34m,\u001b[0m \u001b[0mevaluate_candidates\u001b[0m\u001b[0;34m)\u001b[0m\u001b[0;34m:\u001b[0m\u001b[0;34m\u001b[0m\u001b[0;34m\u001b[0m\u001b[0m\n\u001b[1;32m   1295\u001b[0m         \u001b[0;34m\"\"\"Search all candidates in param_grid\"\"\"\u001b[0m\u001b[0;34m\u001b[0m\u001b[0;34m\u001b[0m\u001b[0m\n\u001b[0;32m-> 1296\u001b[0;31m         \u001b[0mevaluate_candidates\u001b[0m\u001b[0;34m(\u001b[0m\u001b[0mParameterGrid\u001b[0m\u001b[0;34m(\u001b[0m\u001b[0mself\u001b[0m\u001b[0;34m.\u001b[0m\u001b[0mparam_grid\u001b[0m\u001b[0;34m)\u001b[0m\u001b[0;34m)\u001b[0m\u001b[0;34m\u001b[0m\u001b[0;34m\u001b[0m\u001b[0m\n\u001b[0m\u001b[1;32m   1297\u001b[0m \u001b[0;34m\u001b[0m\u001b[0m\n\u001b[1;32m   1298\u001b[0m \u001b[0;34m\u001b[0m\u001b[0m\n",
      "\u001b[0;32m~/code/NeuralSymbolicRegressionThatScales/env/lib/python3.8/site-packages/sklearn/model_selection/_search.py\u001b[0m in \u001b[0;36mevaluate_candidates\u001b[0;34m(candidate_params, cv, more_results)\u001b[0m\n\u001b[1;32m    793\u001b[0m                               n_splits, n_candidates, n_candidates * n_splits))\n\u001b[1;32m    794\u001b[0m \u001b[0;34m\u001b[0m\u001b[0m\n\u001b[0;32m--> 795\u001b[0;31m                 out = parallel(delayed(_fit_and_score)(clone(base_estimator),\n\u001b[0m\u001b[1;32m    796\u001b[0m                                                        \u001b[0mX\u001b[0m\u001b[0;34m,\u001b[0m \u001b[0my\u001b[0m\u001b[0;34m,\u001b[0m\u001b[0;34m\u001b[0m\u001b[0;34m\u001b[0m\u001b[0m\n\u001b[1;32m    797\u001b[0m                                                        \u001b[0mtrain\u001b[0m\u001b[0;34m=\u001b[0m\u001b[0mtrain\u001b[0m\u001b[0;34m,\u001b[0m \u001b[0mtest\u001b[0m\u001b[0;34m=\u001b[0m\u001b[0mtest\u001b[0m\u001b[0;34m,\u001b[0m\u001b[0;34m\u001b[0m\u001b[0;34m\u001b[0m\u001b[0m\n",
      "\u001b[0;32m~/code/NeuralSymbolicRegressionThatScales/env/lib/python3.8/site-packages/joblib/parallel.py\u001b[0m in \u001b[0;36m__call__\u001b[0;34m(self, iterable)\u001b[0m\n\u001b[1;32m   1052\u001b[0m \u001b[0;34m\u001b[0m\u001b[0m\n\u001b[1;32m   1053\u001b[0m             \u001b[0;32mwith\u001b[0m \u001b[0mself\u001b[0m\u001b[0;34m.\u001b[0m\u001b[0m_backend\u001b[0m\u001b[0;34m.\u001b[0m\u001b[0mretrieval_context\u001b[0m\u001b[0;34m(\u001b[0m\u001b[0;34m)\u001b[0m\u001b[0;34m:\u001b[0m\u001b[0;34m\u001b[0m\u001b[0;34m\u001b[0m\u001b[0m\n\u001b[0;32m-> 1054\u001b[0;31m                 \u001b[0mself\u001b[0m\u001b[0;34m.\u001b[0m\u001b[0mretrieve\u001b[0m\u001b[0;34m(\u001b[0m\u001b[0;34m)\u001b[0m\u001b[0;34m\u001b[0m\u001b[0;34m\u001b[0m\u001b[0m\n\u001b[0m\u001b[1;32m   1055\u001b[0m             \u001b[0;31m# Make sure that we get a last message telling us we are done\u001b[0m\u001b[0;34m\u001b[0m\u001b[0;34m\u001b[0m\u001b[0;34m\u001b[0m\u001b[0m\n\u001b[1;32m   1056\u001b[0m             \u001b[0melapsed_time\u001b[0m \u001b[0;34m=\u001b[0m \u001b[0mtime\u001b[0m\u001b[0;34m.\u001b[0m\u001b[0mtime\u001b[0m\u001b[0;34m(\u001b[0m\u001b[0;34m)\u001b[0m \u001b[0;34m-\u001b[0m \u001b[0mself\u001b[0m\u001b[0;34m.\u001b[0m\u001b[0m_start_time\u001b[0m\u001b[0;34m\u001b[0m\u001b[0;34m\u001b[0m\u001b[0m\n",
      "\u001b[0;32m~/code/NeuralSymbolicRegressionThatScales/env/lib/python3.8/site-packages/joblib/parallel.py\u001b[0m in \u001b[0;36mretrieve\u001b[0;34m(self)\u001b[0m\n\u001b[1;32m    931\u001b[0m             \u001b[0;32mtry\u001b[0m\u001b[0;34m:\u001b[0m\u001b[0;34m\u001b[0m\u001b[0;34m\u001b[0m\u001b[0m\n\u001b[1;32m    932\u001b[0m                 \u001b[0;32mif\u001b[0m \u001b[0mgetattr\u001b[0m\u001b[0;34m(\u001b[0m\u001b[0mself\u001b[0m\u001b[0;34m.\u001b[0m\u001b[0m_backend\u001b[0m\u001b[0;34m,\u001b[0m \u001b[0;34m'supports_timeout'\u001b[0m\u001b[0;34m,\u001b[0m \u001b[0;32mFalse\u001b[0m\u001b[0;34m)\u001b[0m\u001b[0;34m:\u001b[0m\u001b[0;34m\u001b[0m\u001b[0;34m\u001b[0m\u001b[0m\n\u001b[0;32m--> 933\u001b[0;31m                     \u001b[0mself\u001b[0m\u001b[0;34m.\u001b[0m\u001b[0m_output\u001b[0m\u001b[0;34m.\u001b[0m\u001b[0mextend\u001b[0m\u001b[0;34m(\u001b[0m\u001b[0mjob\u001b[0m\u001b[0;34m.\u001b[0m\u001b[0mget\u001b[0m\u001b[0;34m(\u001b[0m\u001b[0mtimeout\u001b[0m\u001b[0;34m=\u001b[0m\u001b[0mself\u001b[0m\u001b[0;34m.\u001b[0m\u001b[0mtimeout\u001b[0m\u001b[0;34m)\u001b[0m\u001b[0;34m)\u001b[0m\u001b[0;34m\u001b[0m\u001b[0;34m\u001b[0m\u001b[0m\n\u001b[0m\u001b[1;32m    934\u001b[0m                 \u001b[0;32melse\u001b[0m\u001b[0;34m:\u001b[0m\u001b[0;34m\u001b[0m\u001b[0;34m\u001b[0m\u001b[0m\n\u001b[1;32m    935\u001b[0m                     \u001b[0mself\u001b[0m\u001b[0;34m.\u001b[0m\u001b[0m_output\u001b[0m\u001b[0;34m.\u001b[0m\u001b[0mextend\u001b[0m\u001b[0;34m(\u001b[0m\u001b[0mjob\u001b[0m\u001b[0;34m.\u001b[0m\u001b[0mget\u001b[0m\u001b[0;34m(\u001b[0m\u001b[0;34m)\u001b[0m\u001b[0;34m)\u001b[0m\u001b[0;34m\u001b[0m\u001b[0;34m\u001b[0m\u001b[0m\n",
      "\u001b[0;32m~/code/NeuralSymbolicRegressionThatScales/env/lib/python3.8/site-packages/joblib/_parallel_backends.py\u001b[0m in \u001b[0;36mwrap_future_result\u001b[0;34m(future, timeout)\u001b[0m\n\u001b[1;32m    540\u001b[0m         AsyncResults.get from multiprocessing.\"\"\"\n\u001b[1;32m    541\u001b[0m         \u001b[0;32mtry\u001b[0m\u001b[0;34m:\u001b[0m\u001b[0;34m\u001b[0m\u001b[0;34m\u001b[0m\u001b[0m\n\u001b[0;32m--> 542\u001b[0;31m             \u001b[0;32mreturn\u001b[0m \u001b[0mfuture\u001b[0m\u001b[0;34m.\u001b[0m\u001b[0mresult\u001b[0m\u001b[0;34m(\u001b[0m\u001b[0mtimeout\u001b[0m\u001b[0;34m=\u001b[0m\u001b[0mtimeout\u001b[0m\u001b[0;34m)\u001b[0m\u001b[0;34m\u001b[0m\u001b[0;34m\u001b[0m\u001b[0m\n\u001b[0m\u001b[1;32m    543\u001b[0m         \u001b[0;32mexcept\u001b[0m \u001b[0mCfTimeoutError\u001b[0m \u001b[0;32mas\u001b[0m \u001b[0me\u001b[0m\u001b[0;34m:\u001b[0m\u001b[0;34m\u001b[0m\u001b[0;34m\u001b[0m\u001b[0m\n\u001b[1;32m    544\u001b[0m             \u001b[0;32mraise\u001b[0m \u001b[0mTimeoutError\u001b[0m \u001b[0;32mfrom\u001b[0m \u001b[0me\u001b[0m\u001b[0;34m\u001b[0m\u001b[0;34m\u001b[0m\u001b[0m\n",
      "\u001b[0;32m/usr/lib/python3.8/concurrent/futures/_base.py\u001b[0m in \u001b[0;36mresult\u001b[0;34m(self, timeout)\u001b[0m\n\u001b[1;32m    437\u001b[0m                     \u001b[0;32mreturn\u001b[0m \u001b[0mself\u001b[0m\u001b[0;34m.\u001b[0m\u001b[0m__get_result\u001b[0m\u001b[0;34m(\u001b[0m\u001b[0;34m)\u001b[0m\u001b[0;34m\u001b[0m\u001b[0;34m\u001b[0m\u001b[0m\n\u001b[1;32m    438\u001b[0m \u001b[0;34m\u001b[0m\u001b[0m\n\u001b[0;32m--> 439\u001b[0;31m                 \u001b[0mself\u001b[0m\u001b[0;34m.\u001b[0m\u001b[0m_condition\u001b[0m\u001b[0;34m.\u001b[0m\u001b[0mwait\u001b[0m\u001b[0;34m(\u001b[0m\u001b[0mtimeout\u001b[0m\u001b[0;34m)\u001b[0m\u001b[0;34m\u001b[0m\u001b[0;34m\u001b[0m\u001b[0m\n\u001b[0m\u001b[1;32m    440\u001b[0m \u001b[0;34m\u001b[0m\u001b[0m\n\u001b[1;32m    441\u001b[0m                 \u001b[0;32mif\u001b[0m \u001b[0mself\u001b[0m\u001b[0;34m.\u001b[0m\u001b[0m_state\u001b[0m \u001b[0;32min\u001b[0m \u001b[0;34m[\u001b[0m\u001b[0mCANCELLED\u001b[0m\u001b[0;34m,\u001b[0m \u001b[0mCANCELLED_AND_NOTIFIED\u001b[0m\u001b[0;34m]\u001b[0m\u001b[0;34m:\u001b[0m\u001b[0;34m\u001b[0m\u001b[0;34m\u001b[0m\u001b[0m\n",
      "\u001b[0;32m/usr/lib/python3.8/threading.py\u001b[0m in \u001b[0;36mwait\u001b[0;34m(self, timeout)\u001b[0m\n\u001b[1;32m    300\u001b[0m         \u001b[0;32mtry\u001b[0m\u001b[0;34m:\u001b[0m    \u001b[0;31m# restore state no matter what (e.g., KeyboardInterrupt)\u001b[0m\u001b[0;34m\u001b[0m\u001b[0;34m\u001b[0m\u001b[0m\n\u001b[1;32m    301\u001b[0m             \u001b[0;32mif\u001b[0m \u001b[0mtimeout\u001b[0m \u001b[0;32mis\u001b[0m \u001b[0;32mNone\u001b[0m\u001b[0;34m:\u001b[0m\u001b[0;34m\u001b[0m\u001b[0;34m\u001b[0m\u001b[0m\n\u001b[0;32m--> 302\u001b[0;31m                 \u001b[0mwaiter\u001b[0m\u001b[0;34m.\u001b[0m\u001b[0macquire\u001b[0m\u001b[0;34m(\u001b[0m\u001b[0;34m)\u001b[0m\u001b[0;34m\u001b[0m\u001b[0;34m\u001b[0m\u001b[0m\n\u001b[0m\u001b[1;32m    303\u001b[0m                 \u001b[0mgotit\u001b[0m \u001b[0;34m=\u001b[0m \u001b[0;32mTrue\u001b[0m\u001b[0;34m\u001b[0m\u001b[0;34m\u001b[0m\u001b[0m\n\u001b[1;32m    304\u001b[0m             \u001b[0;32melse\u001b[0m\u001b[0;34m:\u001b[0m\u001b[0;34m\u001b[0m\u001b[0;34m\u001b[0m\u001b[0m\n",
      "\u001b[0;31mKeyboardInterrupt\u001b[0m: "
     ]
    }
   ],
   "source": [
    "cv.fit(data_X, data_y)\n",
    "cv.score(data_X, data_y)"
   ]
  },
  {
   "cell_type": "code",
   "execution_count": null,
   "id": "c2b52d14",
   "metadata": {
    "ExecuteTime": {
     "end_time": "2022-05-10T12:43:29.236181Z",
     "start_time": "2022-05-10T12:43:29.208977Z"
    }
   },
   "outputs": [
    {
     "data": {
      "text/plain": [
       "{'functions': 'id;mul;cos;sin;exp;square;sqrt;id;mul;cos;sin;exp;square;sqrt',\n",
       " 'n_layers': 2,\n",
       " 'reg': 0.0001}"
      ]
     },
     "execution_count": 25,
     "metadata": {},
     "output_type": "execute_result"
    }
   ],
   "source": [
    "cv.best_params_"
   ]
  },
  {
   "cell_type": "code",
   "execution_count": null,
   "id": "72503804",
   "metadata": {
    "ExecuteTime": {
     "end_time": "2022-05-13T09:53:21.105386Z",
     "start_time": "2022-05-13T09:53:21.069142Z"
    }
   },
   "outputs": [],
   "source": [
    "d = {'param_grid': {'n_iter': [10], **hp}}"
   ]
  },
  {
   "cell_type": "code",
   "execution_count": null,
   "id": "963b5705",
   "metadata": {
    "ExecuteTime": {
     "end_time": "2022-05-13T09:53:33.170947Z",
     "start_time": "2022-05-13T09:53:33.127270Z"
    }
   },
   "outputs": [
    {
     "data": {
      "text/plain": [
       "GridSearchCV(cv=2, estimator=EQLgd(functions='id;mul;cos'), n_jobs=4,\n",
       "             param_grid={'do_bfgs': (True, False),\n",
       "                         'functions': ('id;mul;cos;sin;exp;square;sqrt;id;mul;cos;sin;exp;square;sqrt',\n",
       "                                       'id;mul;cos;div;sqrt;cos;sin;div;mul;mul;cos;id'),\n",
       "                         'n_iter': [10], 'n_layers': (1, 2),\n",
       "                         'reg': (0.0001, 0.001, 0.01, 0.05)},\n",
       "             verbose=5)"
      ]
     },
     "execution_count": 26,
     "metadata": {},
     "output_type": "execute_result"
    }
   ],
   "source": [
    "cv.set_params(**d)"
   ]
  },
  {
   "cell_type": "code",
   "execution_count": null,
   "id": "9f246226",
   "metadata": {
    "ExecuteTime": {
     "end_time": "2022-05-10T12:43:31.594710Z",
     "start_time": "2022-05-10T12:43:31.389090Z"
    }
   },
   "outputs": [
    {
     "data": {
      "text/plain": [
       "DeviceArray([[nan],\n",
       "             [nan],\n",
       "             [nan],\n",
       "             [nan],\n",
       "             [nan],\n",
       "             [nan],\n",
       "             [nan],\n",
       "             [nan],\n",
       "             [nan],\n",
       "             [nan],\n",
       "             [nan],\n",
       "             [nan],\n",
       "             [nan],\n",
       "             [nan],\n",
       "             [nan],\n",
       "             [nan],\n",
       "             [nan],\n",
       "             [nan],\n",
       "             [nan],\n",
       "             [nan],\n",
       "             [nan],\n",
       "             [nan],\n",
       "             [nan],\n",
       "             [nan],\n",
       "             [nan],\n",
       "             [nan],\n",
       "             [nan],\n",
       "             [nan],\n",
       "             [nan],\n",
       "             [nan],\n",
       "             [nan],\n",
       "             [nan],\n",
       "             [nan],\n",
       "             [nan],\n",
       "             [nan],\n",
       "             [nan],\n",
       "             [nan],\n",
       "             [nan],\n",
       "             [nan],\n",
       "             [nan],\n",
       "             [nan],\n",
       "             [nan],\n",
       "             [nan],\n",
       "             [nan],\n",
       "             [nan],\n",
       "             [nan],\n",
       "             [nan],\n",
       "             [nan],\n",
       "             [nan],\n",
       "             [nan],\n",
       "             [nan],\n",
       "             [nan],\n",
       "             [nan],\n",
       "             [nan],\n",
       "             [nan],\n",
       "             [nan],\n",
       "             [nan],\n",
       "             [nan],\n",
       "             [nan],\n",
       "             [nan],\n",
       "             [nan],\n",
       "             [nan],\n",
       "             [nan],\n",
       "             [nan],\n",
       "             [nan],\n",
       "             [nan],\n",
       "             [nan],\n",
       "             [nan],\n",
       "             [nan],\n",
       "             [nan],\n",
       "             [nan],\n",
       "             [nan],\n",
       "             [nan],\n",
       "             [nan],\n",
       "             [nan],\n",
       "             [nan],\n",
       "             [nan],\n",
       "             [nan],\n",
       "             [nan],\n",
       "             [nan],\n",
       "             [nan],\n",
       "             [nan],\n",
       "             [nan],\n",
       "             [nan],\n",
       "             [nan],\n",
       "             [nan],\n",
       "             [nan],\n",
       "             [nan],\n",
       "             [nan],\n",
       "             [nan],\n",
       "             [nan],\n",
       "             [nan],\n",
       "             [nan],\n",
       "             [nan],\n",
       "             [nan],\n",
       "             [nan],\n",
       "             [nan],\n",
       "             [nan],\n",
       "             [nan],\n",
       "             [nan],\n",
       "             [nan],\n",
       "             [nan],\n",
       "             [nan],\n",
       "             [nan],\n",
       "             [nan],\n",
       "             [nan],\n",
       "             [nan],\n",
       "             [nan],\n",
       "             [nan],\n",
       "             [nan],\n",
       "             [nan],\n",
       "             [nan],\n",
       "             [nan],\n",
       "             [nan],\n",
       "             [nan],\n",
       "             [nan],\n",
       "             [nan],\n",
       "             [nan],\n",
       "             [nan],\n",
       "             [nan],\n",
       "             [nan],\n",
       "             [nan],\n",
       "             [nan],\n",
       "             [nan],\n",
       "             [nan],\n",
       "             [nan],\n",
       "             [nan],\n",
       "             [nan],\n",
       "             [nan],\n",
       "             [nan],\n",
       "             [nan],\n",
       "             [nan],\n",
       "             [nan],\n",
       "             [nan],\n",
       "             [nan],\n",
       "             [nan],\n",
       "             [nan],\n",
       "             [nan],\n",
       "             [nan],\n",
       "             [nan],\n",
       "             [nan],\n",
       "             [nan],\n",
       "             [nan],\n",
       "             [nan],\n",
       "             [nan],\n",
       "             [nan],\n",
       "             [nan],\n",
       "             [nan],\n",
       "             [nan],\n",
       "             [nan],\n",
       "             [nan],\n",
       "             [nan],\n",
       "             [nan],\n",
       "             [nan],\n",
       "             [nan],\n",
       "             [nan],\n",
       "             [nan],\n",
       "             [nan],\n",
       "             [nan],\n",
       "             [nan],\n",
       "             [nan],\n",
       "             [nan],\n",
       "             [nan],\n",
       "             [nan],\n",
       "             [nan],\n",
       "             [nan],\n",
       "             [nan],\n",
       "             [nan],\n",
       "             [nan],\n",
       "             [nan],\n",
       "             [nan],\n",
       "             [nan],\n",
       "             [nan],\n",
       "             [nan],\n",
       "             [nan],\n",
       "             [nan],\n",
       "             [nan],\n",
       "             [nan],\n",
       "             [nan],\n",
       "             [nan],\n",
       "             [nan],\n",
       "             [nan],\n",
       "             [nan],\n",
       "             [nan],\n",
       "             [nan],\n",
       "             [nan],\n",
       "             [nan],\n",
       "             [nan],\n",
       "             [nan],\n",
       "             [nan],\n",
       "             [nan],\n",
       "             [nan],\n",
       "             [nan],\n",
       "             [nan],\n",
       "             [nan],\n",
       "             [nan],\n",
       "             [nan],\n",
       "             [nan],\n",
       "             [nan],\n",
       "             [nan],\n",
       "             [nan],\n",
       "             [nan],\n",
       "             [nan],\n",
       "             [nan],\n",
       "             [nan],\n",
       "             [nan],\n",
       "             [nan],\n",
       "             [nan],\n",
       "             [nan],\n",
       "             [nan],\n",
       "             [nan],\n",
       "             [nan],\n",
       "             [nan],\n",
       "             [nan],\n",
       "             [nan],\n",
       "             [nan],\n",
       "             [nan],\n",
       "             [nan],\n",
       "             [nan],\n",
       "             [nan],\n",
       "             [nan],\n",
       "             [nan],\n",
       "             [nan],\n",
       "             [nan],\n",
       "             [nan],\n",
       "             [nan],\n",
       "             [nan],\n",
       "             [nan],\n",
       "             [nan],\n",
       "             [nan],\n",
       "             [nan],\n",
       "             [nan],\n",
       "             [nan],\n",
       "             [nan],\n",
       "             [nan],\n",
       "             [nan],\n",
       "             [nan],\n",
       "             [nan],\n",
       "             [nan],\n",
       "             [nan],\n",
       "             [nan],\n",
       "             [nan],\n",
       "             [nan],\n",
       "             [nan],\n",
       "             [nan],\n",
       "             [nan],\n",
       "             [nan],\n",
       "             [nan],\n",
       "             [nan],\n",
       "             [nan],\n",
       "             [nan],\n",
       "             [nan],\n",
       "             [nan],\n",
       "             [nan],\n",
       "             [nan],\n",
       "             [nan],\n",
       "             [nan],\n",
       "             [nan],\n",
       "             [nan],\n",
       "             [nan],\n",
       "             [nan],\n",
       "             [nan],\n",
       "             [nan],\n",
       "             [nan],\n",
       "             [nan],\n",
       "             [nan],\n",
       "             [nan],\n",
       "             [nan],\n",
       "             [nan],\n",
       "             [nan],\n",
       "             [nan],\n",
       "             [nan],\n",
       "             [nan],\n",
       "             [nan],\n",
       "             [nan],\n",
       "             [nan],\n",
       "             [nan],\n",
       "             [nan],\n",
       "             [nan],\n",
       "             [nan],\n",
       "             [nan],\n",
       "             [nan],\n",
       "             [nan],\n",
       "             [nan],\n",
       "             [nan],\n",
       "             [nan],\n",
       "             [nan],\n",
       "             [nan],\n",
       "             [nan],\n",
       "             [nan],\n",
       "             [nan],\n",
       "             [nan],\n",
       "             [nan],\n",
       "             [nan],\n",
       "             [nan],\n",
       "             [nan],\n",
       "             [nan],\n",
       "             [nan],\n",
       "             [nan],\n",
       "             [nan],\n",
       "             [nan],\n",
       "             [nan],\n",
       "             [nan],\n",
       "             [nan],\n",
       "             [nan],\n",
       "             [nan],\n",
       "             [nan],\n",
       "             [nan],\n",
       "             [nan],\n",
       "             [nan],\n",
       "             [nan],\n",
       "             [nan],\n",
       "             [nan],\n",
       "             [nan],\n",
       "             [nan],\n",
       "             [nan],\n",
       "             [nan],\n",
       "             [nan],\n",
       "             [nan],\n",
       "             [nan],\n",
       "             [nan],\n",
       "             [nan],\n",
       "             [nan],\n",
       "             [nan],\n",
       "             [nan],\n",
       "             [nan],\n",
       "             [nan],\n",
       "             [nan],\n",
       "             [nan],\n",
       "             [nan],\n",
       "             [nan],\n",
       "             [nan],\n",
       "             [nan],\n",
       "             [nan],\n",
       "             [nan],\n",
       "             [nan],\n",
       "             [nan],\n",
       "             [nan],\n",
       "             [nan],\n",
       "             [nan],\n",
       "             [nan],\n",
       "             [nan],\n",
       "             [nan],\n",
       "             [nan],\n",
       "             [nan],\n",
       "             [nan],\n",
       "             [nan],\n",
       "             [nan],\n",
       "             [nan],\n",
       "             [nan],\n",
       "             [nan],\n",
       "             [nan],\n",
       "             [nan],\n",
       "             [nan],\n",
       "             [nan],\n",
       "             [nan],\n",
       "             [nan],\n",
       "             [nan],\n",
       "             [nan],\n",
       "             [nan],\n",
       "             [nan],\n",
       "             [nan],\n",
       "             [nan],\n",
       "             [nan],\n",
       "             [nan],\n",
       "             [nan],\n",
       "             [nan],\n",
       "             [nan],\n",
       "             [nan],\n",
       "             [nan],\n",
       "             [nan],\n",
       "             [nan],\n",
       "             [nan],\n",
       "             [nan],\n",
       "             [nan],\n",
       "             [nan],\n",
       "             [nan],\n",
       "             [nan],\n",
       "             [nan],\n",
       "             [nan],\n",
       "             [nan],\n",
       "             [nan],\n",
       "             [nan],\n",
       "             [nan],\n",
       "             [nan],\n",
       "             [nan],\n",
       "             [nan],\n",
       "             [nan],\n",
       "             [nan],\n",
       "             [nan],\n",
       "             [nan],\n",
       "             [nan],\n",
       "             [nan],\n",
       "             [nan],\n",
       "             [nan],\n",
       "             [nan],\n",
       "             [nan],\n",
       "             [nan],\n",
       "             [nan],\n",
       "             [nan],\n",
       "             [nan],\n",
       "             [nan],\n",
       "             [nan],\n",
       "             [nan],\n",
       "             [nan],\n",
       "             [nan],\n",
       "             [nan],\n",
       "             [nan],\n",
       "             [nan],\n",
       "             [nan],\n",
       "             [nan],\n",
       "             [nan],\n",
       "             [nan],\n",
       "             [nan],\n",
       "             [nan],\n",
       "             [nan],\n",
       "             [nan],\n",
       "             [nan],\n",
       "             [nan],\n",
       "             [nan],\n",
       "             [nan],\n",
       "             [nan],\n",
       "             [nan],\n",
       "             [nan],\n",
       "             [nan],\n",
       "             [nan],\n",
       "             [nan],\n",
       "             [nan],\n",
       "             [nan],\n",
       "             [nan],\n",
       "             [nan],\n",
       "             [nan],\n",
       "             [nan],\n",
       "             [nan],\n",
       "             [nan],\n",
       "             [nan],\n",
       "             [nan],\n",
       "             [nan],\n",
       "             [nan],\n",
       "             [nan],\n",
       "             [nan],\n",
       "             [nan],\n",
       "             [nan],\n",
       "             [nan],\n",
       "             [nan],\n",
       "             [nan],\n",
       "             [nan],\n",
       "             [nan],\n",
       "             [nan],\n",
       "             [nan],\n",
       "             [nan],\n",
       "             [nan],\n",
       "             [nan],\n",
       "             [nan],\n",
       "             [nan],\n",
       "             [nan],\n",
       "             [nan],\n",
       "             [nan],\n",
       "             [nan],\n",
       "             [nan],\n",
       "             [nan],\n",
       "             [nan],\n",
       "             [nan],\n",
       "             [nan],\n",
       "             [nan],\n",
       "             [nan],\n",
       "             [nan],\n",
       "             [nan],\n",
       "             [nan],\n",
       "             [nan],\n",
       "             [nan],\n",
       "             [nan],\n",
       "             [nan],\n",
       "             [nan],\n",
       "             [nan],\n",
       "             [nan],\n",
       "             [nan],\n",
       "             [nan],\n",
       "             [nan],\n",
       "             [nan],\n",
       "             [nan],\n",
       "             [nan],\n",
       "             [nan],\n",
       "             [nan],\n",
       "             [nan],\n",
       "             [nan],\n",
       "             [nan],\n",
       "             [nan],\n",
       "             [nan],\n",
       "             [nan],\n",
       "             [nan],\n",
       "             [nan],\n",
       "             [nan],\n",
       "             [nan],\n",
       "             [nan],\n",
       "             [nan],\n",
       "             [nan],\n",
       "             [nan],\n",
       "             [nan],\n",
       "             [nan],\n",
       "             [nan],\n",
       "             [nan],\n",
       "             [nan],\n",
       "             [nan],\n",
       "             [nan],\n",
       "             [nan],\n",
       "             [nan],\n",
       "             [nan],\n",
       "             [nan],\n",
       "             [nan],\n",
       "             [nan],\n",
       "             [nan],\n",
       "             [nan],\n",
       "             [nan],\n",
       "             [nan],\n",
       "             [nan],\n",
       "             [nan],\n",
       "             [nan],\n",
       "             [nan],\n",
       "             [nan],\n",
       "             [nan],\n",
       "             [nan],\n",
       "             [nan],\n",
       "             [nan],\n",
       "             [nan],\n",
       "             [nan],\n",
       "             [nan],\n",
       "             [nan],\n",
       "             [nan],\n",
       "             [nan],\n",
       "             [nan],\n",
       "             [nan],\n",
       "             [nan],\n",
       "             [nan],\n",
       "             [nan],\n",
       "             [nan],\n",
       "             [nan],\n",
       "             [nan],\n",
       "             [nan],\n",
       "             [nan],\n",
       "             [nan],\n",
       "             [nan],\n",
       "             [nan],\n",
       "             [nan],\n",
       "             [nan],\n",
       "             [nan],\n",
       "             [nan],\n",
       "             [nan],\n",
       "             [nan],\n",
       "             [nan],\n",
       "             [nan],\n",
       "             [nan],\n",
       "             [nan],\n",
       "             [nan],\n",
       "             [nan],\n",
       "             [nan],\n",
       "             [nan],\n",
       "             [nan],\n",
       "             [nan],\n",
       "             [nan],\n",
       "             [nan],\n",
       "             [nan],\n",
       "             [nan],\n",
       "             [nan],\n",
       "             [nan],\n",
       "             [nan],\n",
       "             [nan],\n",
       "             [nan],\n",
       "             [nan],\n",
       "             [nan],\n",
       "             [nan],\n",
       "             [nan],\n",
       "             [nan],\n",
       "             [nan],\n",
       "             [nan],\n",
       "             [nan],\n",
       "             [nan],\n",
       "             [nan],\n",
       "             [nan],\n",
       "             [nan],\n",
       "             [nan],\n",
       "             [nan],\n",
       "             [nan],\n",
       "             [nan],\n",
       "             [nan],\n",
       "             [nan],\n",
       "             [nan],\n",
       "             [nan],\n",
       "             [nan],\n",
       "             [nan],\n",
       "             [nan],\n",
       "             [nan],\n",
       "             [nan],\n",
       "             [nan],\n",
       "             [nan],\n",
       "             [nan],\n",
       "             [nan],\n",
       "             [nan],\n",
       "             [nan],\n",
       "             [nan],\n",
       "             [nan],\n",
       "             [nan],\n",
       "             [nan],\n",
       "             [nan],\n",
       "             [nan],\n",
       "             [nan],\n",
       "             [nan],\n",
       "             [nan],\n",
       "             [nan],\n",
       "             [nan],\n",
       "             [nan],\n",
       "             [nan],\n",
       "             [nan],\n",
       "             [nan],\n",
       "             [nan],\n",
       "             [nan],\n",
       "             [nan],\n",
       "             [nan],\n",
       "             [nan],\n",
       "             [nan],\n",
       "             [nan],\n",
       "             [nan],\n",
       "             [nan],\n",
       "             [nan],\n",
       "             [nan],\n",
       "             [nan],\n",
       "             [nan],\n",
       "             [nan],\n",
       "             [nan],\n",
       "             [nan],\n",
       "             [nan],\n",
       "             [nan],\n",
       "             [nan],\n",
       "             [nan],\n",
       "             [nan],\n",
       "             [nan],\n",
       "             [nan],\n",
       "             [nan],\n",
       "             [nan],\n",
       "             [nan],\n",
       "             [nan],\n",
       "             [nan],\n",
       "             [nan],\n",
       "             [nan],\n",
       "             [nan],\n",
       "             [nan],\n",
       "             [nan],\n",
       "             [nan],\n",
       "             [nan],\n",
       "             [nan],\n",
       "             [nan],\n",
       "             [nan],\n",
       "             [nan],\n",
       "             [nan],\n",
       "             [nan],\n",
       "             [nan],\n",
       "             [nan],\n",
       "             [nan],\n",
       "             [nan],\n",
       "             [nan],\n",
       "             [nan],\n",
       "             [nan],\n",
       "             [nan],\n",
       "             [nan],\n",
       "             [nan],\n",
       "             [nan],\n",
       "             [nan],\n",
       "             [nan],\n",
       "             [nan],\n",
       "             [nan],\n",
       "             [nan],\n",
       "             [nan],\n",
       "             [nan],\n",
       "             [nan],\n",
       "             [nan],\n",
       "             [nan],\n",
       "             [nan],\n",
       "             [nan],\n",
       "             [nan],\n",
       "             [nan],\n",
       "             [nan],\n",
       "             [nan],\n",
       "             [nan],\n",
       "             [nan],\n",
       "             [nan],\n",
       "             [nan],\n",
       "             [nan],\n",
       "             [nan],\n",
       "             [nan],\n",
       "             [nan],\n",
       "             [nan],\n",
       "             [nan],\n",
       "             [nan],\n",
       "             [nan],\n",
       "             [nan],\n",
       "             [nan],\n",
       "             [nan],\n",
       "             [nan],\n",
       "             [nan],\n",
       "             [nan],\n",
       "             [nan],\n",
       "             [nan],\n",
       "             [nan],\n",
       "             [nan],\n",
       "             [nan],\n",
       "             [nan],\n",
       "             [nan],\n",
       "             [nan],\n",
       "             [nan],\n",
       "             [nan],\n",
       "             [nan],\n",
       "             [nan],\n",
       "             [nan],\n",
       "             [nan],\n",
       "             [nan],\n",
       "             [nan],\n",
       "             [nan],\n",
       "             [nan],\n",
       "             [nan],\n",
       "             [nan],\n",
       "             [nan],\n",
       "             [nan],\n",
       "             [nan],\n",
       "             [nan],\n",
       "             [nan],\n",
       "             [nan],\n",
       "             [nan],\n",
       "             [nan],\n",
       "             [nan],\n",
       "             [nan],\n",
       "             [nan],\n",
       "             [nan],\n",
       "             [nan],\n",
       "             [nan],\n",
       "             [nan],\n",
       "             [nan],\n",
       "             [nan],\n",
       "             [nan],\n",
       "             [nan],\n",
       "             [nan],\n",
       "             [nan],\n",
       "             [nan],\n",
       "             [nan],\n",
       "             [nan],\n",
       "             [nan],\n",
       "             [nan],\n",
       "             [nan],\n",
       "             [nan],\n",
       "             [nan],\n",
       "             [nan],\n",
       "             [nan],\n",
       "             [nan],\n",
       "             [nan],\n",
       "             [nan],\n",
       "             [nan],\n",
       "             [nan],\n",
       "             [nan],\n",
       "             [nan],\n",
       "             [nan],\n",
       "             [nan],\n",
       "             [nan],\n",
       "             [nan],\n",
       "             [nan],\n",
       "             [nan],\n",
       "             [nan],\n",
       "             [nan],\n",
       "             [nan],\n",
       "             [nan],\n",
       "             [nan],\n",
       "             [nan],\n",
       "             [nan],\n",
       "             [nan],\n",
       "             [nan],\n",
       "             [nan],\n",
       "             [nan],\n",
       "             [nan],\n",
       "             [nan],\n",
       "             [nan],\n",
       "             [nan],\n",
       "             [nan],\n",
       "             [nan],\n",
       "             [nan],\n",
       "             [nan],\n",
       "             [nan],\n",
       "             [nan],\n",
       "             [nan],\n",
       "             [nan],\n",
       "             [nan],\n",
       "             [nan],\n",
       "             [nan],\n",
       "             [nan],\n",
       "             [nan],\n",
       "             [nan],\n",
       "             [nan],\n",
       "             [nan],\n",
       "             [nan],\n",
       "             [nan],\n",
       "             [nan],\n",
       "             [nan],\n",
       "             [nan],\n",
       "             [nan],\n",
       "             [nan],\n",
       "             [nan],\n",
       "             [nan],\n",
       "             [nan],\n",
       "             [nan],\n",
       "             [nan],\n",
       "             [nan],\n",
       "             [nan],\n",
       "             [nan],\n",
       "             [nan],\n",
       "             [nan],\n",
       "             [nan],\n",
       "             [nan],\n",
       "             [nan],\n",
       "             [nan],\n",
       "             [nan],\n",
       "             [nan],\n",
       "             [nan],\n",
       "             [nan],\n",
       "             [nan],\n",
       "             [nan],\n",
       "             [nan],\n",
       "             [nan],\n",
       "             [nan],\n",
       "             [nan],\n",
       "             [nan],\n",
       "             [nan],\n",
       "             [nan],\n",
       "             [nan],\n",
       "             [nan],\n",
       "             [nan],\n",
       "             [nan],\n",
       "             [nan],\n",
       "             [nan],\n",
       "             [nan],\n",
       "             [nan],\n",
       "             [nan],\n",
       "             [nan],\n",
       "             [nan],\n",
       "             [nan],\n",
       "             [nan],\n",
       "             [nan],\n",
       "             [nan],\n",
       "             [nan],\n",
       "             [nan],\n",
       "             [nan],\n",
       "             [nan],\n",
       "             [nan],\n",
       "             [nan],\n",
       "             [nan],\n",
       "             [nan],\n",
       "             [nan],\n",
       "             [nan],\n",
       "             [nan],\n",
       "             [nan],\n",
       "             [nan],\n",
       "             [nan],\n",
       "             [nan],\n",
       "             [nan],\n",
       "             [nan],\n",
       "             [nan],\n",
       "             [nan],\n",
       "             [nan],\n",
       "             [nan],\n",
       "             [nan],\n",
       "             [nan],\n",
       "             [nan],\n",
       "             [nan],\n",
       "             [nan],\n",
       "             [nan],\n",
       "             [nan],\n",
       "             [nan],\n",
       "             [nan],\n",
       "             [nan],\n",
       "             [nan],\n",
       "             [nan],\n",
       "             [nan],\n",
       "             [nan],\n",
       "             [nan],\n",
       "             [nan],\n",
       "             [nan],\n",
       "             [nan],\n",
       "             [nan],\n",
       "             [nan],\n",
       "             [nan],\n",
       "             [nan],\n",
       "             [nan],\n",
       "             [nan],\n",
       "             [nan],\n",
       "             [nan],\n",
       "             [nan],\n",
       "             [nan],\n",
       "             [nan],\n",
       "             [nan],\n",
       "             [nan],\n",
       "             [nan],\n",
       "             [nan],\n",
       "             [nan],\n",
       "             [nan],\n",
       "             [nan],\n",
       "             [nan],\n",
       "             [nan],\n",
       "             [nan],\n",
       "             [nan],\n",
       "             [nan],\n",
       "             [nan],\n",
       "             [nan],\n",
       "             [nan],\n",
       "             [nan],\n",
       "             [nan],\n",
       "             [nan],\n",
       "             [nan],\n",
       "             [nan],\n",
       "             [nan],\n",
       "             [nan],\n",
       "             [nan],\n",
       "             [nan],\n",
       "             [nan],\n",
       "             [nan],\n",
       "             [nan],\n",
       "             [nan],\n",
       "             [nan],\n",
       "             [nan],\n",
       "             [nan],\n",
       "             [nan],\n",
       "             [nan],\n",
       "             [nan],\n",
       "             [nan],\n",
       "             [nan],\n",
       "             [nan],\n",
       "             [nan],\n",
       "             [nan],\n",
       "             [nan],\n",
       "             [nan],\n",
       "             [nan],\n",
       "             [nan],\n",
       "             [nan],\n",
       "             [nan],\n",
       "             [nan],\n",
       "             [nan],\n",
       "             [nan],\n",
       "             [nan],\n",
       "             [nan],\n",
       "             [nan],\n",
       "             [nan],\n",
       "             [nan],\n",
       "             [nan],\n",
       "             [nan],\n",
       "             [nan],\n",
       "             [nan],\n",
       "             [nan],\n",
       "             [nan],\n",
       "             [nan],\n",
       "             [nan],\n",
       "             [nan],\n",
       "             [nan],\n",
       "             [nan],\n",
       "             [nan],\n",
       "             [nan],\n",
       "             [nan],\n",
       "             [nan],\n",
       "             [nan],\n",
       "             [nan],\n",
       "             [nan],\n",
       "             [nan],\n",
       "             [nan],\n",
       "             [nan],\n",
       "             [nan],\n",
       "             [nan],\n",
       "             [nan],\n",
       "             [nan],\n",
       "             [nan],\n",
       "             [nan],\n",
       "             [nan],\n",
       "             [nan],\n",
       "             [nan],\n",
       "             [nan],\n",
       "             [nan],\n",
       "             [nan],\n",
       "             [nan],\n",
       "             [nan],\n",
       "             [nan],\n",
       "             [nan],\n",
       "             [nan],\n",
       "             [nan],\n",
       "             [nan],\n",
       "             [nan],\n",
       "             [nan],\n",
       "             [nan],\n",
       "             [nan],\n",
       "             [nan],\n",
       "             [nan],\n",
       "             [nan],\n",
       "             [nan],\n",
       "             [nan],\n",
       "             [nan],\n",
       "             [nan],\n",
       "             [nan],\n",
       "             [nan]], dtype=float32)"
      ]
     },
     "execution_count": 26,
     "metadata": {},
     "output_type": "execute_result"
    }
   ],
   "source": [
    "cv.predict(data_X)"
   ]
  },
  {
   "cell_type": "code",
   "execution_count": null,
   "id": "f1ab8d12",
   "metadata": {
    "ExecuteTime": {
     "end_time": "2022-05-10T12:43:47.432923Z",
     "start_time": "2022-05-10T12:43:47.025424Z"
    }
   },
   "outputs": [
    {
     "data": {
      "text/plain": [
       "'[nan]'"
      ]
     },
     "execution_count": 27,
     "metadata": {},
     "output_type": "execute_result"
    }
   ],
   "source": [
    "str(cv.best_estimator_.get_eqn())"
   ]
  },
  {
   "cell_type": "code",
   "execution_count": null,
   "id": "fa51e9a4",
   "metadata": {
    "ExecuteTime": {
     "end_time": "2022-04-24T09:41:28.237624Z",
     "start_time": "2022-04-24T09:41:28.081957Z"
    }
   },
   "outputs": [
    {
     "data": {
      "text/plain": [
       "[<matplotlib.lines.Line2D at 0x7f5c181ae580>]"
      ]
     },
     "execution_count": 17,
     "metadata": {},
     "output_type": "execute_result"
    },
    {
     "data": {
      "image/png": "[encoded data removed]",
      "text/plain": [
       "<Figure size 432x288 with 1 Axes>"
      ]
     },
     "metadata": {
      "needs_background": "light"
     },
     "output_type": "display_data"
    }
   ],
   "source": [
    "def sim(c):\n",
    "    return round(-0.3*math.log(c / 120, 5), 1)\n",
    "plt.plot([sim(x) for x in np.arange(5, 200)])"
   ]
  },
  {
   "cell_type": "code",
   "execution_count": null,
   "id": "e8a45e62",
   "metadata": {
    "ExecuteTime": {
     "end_time": "2022-04-24T09:39:37.525189Z",
     "start_time": "2022-04-24T09:39:37.520233Z"
    }
   },
   "outputs": [
    {
     "data": {
      "text/plain": [
       "0.99"
      ]
     },
     "execution_count": 15,
     "metadata": {},
     "output_type": "execute_result"
    }
   ],
   "source": [
    "sim(5)"
   ]
  },
  {
   "cell_type": "code",
   "execution_count": null,
   "id": "3503263f",
   "metadata": {
    "ExecuteTime": {
     "end_time": "2022-05-09T13:39:32.846613Z",
     "start_time": "2022-05-09T13:39:32.812419Z"
    }
   },
   "outputs": [],
   "source": [
    "def model(est, X=None):\n",
    "    mapping = {'x'+str(i):k for i,k in enumerate(X.columns)}\n",
    "    model_str = str(est.best_estimator_.get_eqn())\n",
    "    for k,v in mapping.items():\n",
    "        model_str = model_str.replace(k,v)\n",
    "    return model_str"
   ]
  },
  {
   "cell_type": "code",
   "execution_count": null,
   "id": "32451179",
   "metadata": {},
   "outputs": [],
   "source": []
  }
 ],
 "metadata": {
  "kernelspec": {
   "display_name": "EQL",
   "language": "python",
   "name": "python3"
  },
  "language_info": {
   "codemirror_mode": {
    "name": "ipython",
    "version": 3
   },
   "file_extension": ".py",
   "mimetype": "text/x-python",
   "name": "python",
   "nbconvert_exporter": "python",
   "pygments_lexer": "ipython3",
   "version": "3.12.7"
  }
 },
 "nbformat": 4,
 "nbformat_minor": 5
}
