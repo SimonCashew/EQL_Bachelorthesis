{
 "cells": [
  {
   "cell_type": "code",
   "execution_count": 39,
   "id": "6ce5cbbf",
   "metadata": {
    "ExecuteTime": {
     "end_time": "2023-06-30T12:17:50.716958Z",
     "start_time": "2023-06-30T12:17:49.425632Z"
    }
   },
   "outputs": [],
   "source": [
    "import jax\n",
    "from typing import Any, Callable, Sequence, Optional\n",
    "from jax import lax, random, numpy as jnp\n",
    "import flax\n",
    "from flax import linen as nn\n",
    "import sympy as sy\n",
    "import numpy as np\n",
    "import sys\n",
    "sys.path.append(\"..\")\n",
    "from eql.eqlearner import EQL\n",
    "from eql.symbolic import get_symbolic_expr, get_symbolic_expr_layer\n",
    "from typing import List, Tuple, Callable\n",
    "from functools import partial\n",
    "import matplotlib.pyplot as plt\n",
    "import scipy\n",
    "sys.path.append(\"../../orient\")\n",
    "import optax\n",
    "import wandb\n",
    "from eql.np_utils import flatten, unflatten"
   ]
  },
  {
   "cell_type": "code",
   "execution_count": 40,
   "id": "6e8a812f",
   "metadata": {},
   "outputs": [
    {
     "data": {
      "text/html": [
       "Tracking run with wandb version 0.19.4"
      ],
      "text/plain": [
       "<IPython.core.display.HTML object>"
      ]
     },
     "metadata": {},
     "output_type": "display_data"
    },
    {
     "data": {
      "text/html": [
       "Run data is saved locally in <code>c:\\Users\\Simon\\Bachelorarbeit\\EQL\\notebooks\\wandb\\run-20250120_205309-d4e39zpz</code>"
      ],
      "text/plain": [
       "<IPython.core.display.HTML object>"
      ]
     },
     "metadata": {},
     "output_type": "display_data"
    },
    {
     "data": {
      "text/html": [
       "Syncing run <strong><a href='https://wandb.ai/simonb03-university-of-t-bingen/Example_1/runs/d4e39zpz' target=\"_blank\">brisk-pyramid-1</a></strong> to <a href='https://wandb.ai/simonb03-university-of-t-bingen/Example_1' target=\"_blank\">Weights & Biases</a> (<a href='https://wandb.me/developer-guide' target=\"_blank\">docs</a>)<br>"
      ],
      "text/plain": [
       "<IPython.core.display.HTML object>"
      ]
     },
     "metadata": {},
     "output_type": "display_data"
    },
    {
     "data": {
      "text/html": [
       " View project at <a href='https://wandb.ai/simonb03-university-of-t-bingen/Example_1' target=\"_blank\">https://wandb.ai/simonb03-university-of-t-bingen/Example_1</a>"
      ],
      "text/plain": [
       "<IPython.core.display.HTML object>"
      ]
     },
     "metadata": {},
     "output_type": "display_data"
    },
    {
     "data": {
      "text/html": [
       " View run at <a href='https://wandb.ai/simonb03-university-of-t-bingen/Example_1/runs/d4e39zpz' target=\"_blank\">https://wandb.ai/simonb03-university-of-t-bingen/Example_1/runs/d4e39zpz</a>"
      ],
      "text/plain": [
       "<IPython.core.display.HTML object>"
      ]
     },
     "metadata": {},
     "output_type": "display_data"
    },
    {
     "data": {
      "text/html": [
       "<button onClick=\"this.nextSibling.style.display='block';this.style.display='none';\">Display W&B run</button><iframe src='https://wandb.ai/simonb03-university-of-t-bingen/Example_1/runs/d4e39zpz?jupyter=true' style='border:none;width:100%;height:420px;display:none;'></iframe>"
      ],
      "text/plain": [
       "<wandb.sdk.wandb_run.Run at 0x1d85b447260>"
      ]
     },
     "execution_count": 40,
     "metadata": {},
     "output_type": "execute_result"
    }
   ],
   "source": [
    "wandb.init(\n",
    "    # set the wandb project where this run will be logged\n",
    "    project=\"Example_1\",\n",
    "\n",
    "    # track hyperparameters and run metadata\n",
    "    config={\n",
    "    \"learning_rate\": 0.02,\n",
    "    \"architecture\": \"EQL\",\n",
    "    \"epochs\": 10,\n",
    "    \"optimizer\": \"Adam\",\n",
    "    \"regularization\": \"No_reg\"\n",
    "    }\n",
    ")"
   ]
  },
  {
   "cell_type": "code",
   "execution_count": 41,
   "id": "3589912f",
   "metadata": {
    "ExecuteTime": {
     "end_time": "2023-06-30T12:17:50.748912Z",
     "start_time": "2023-06-30T12:17:50.723382Z"
    }
   },
   "outputs": [],
   "source": [
    "funs = ['mul', 'cos', 'sin']*2\n",
    "e = EQL(n_layers=2, functions=funs, features=1)\n",
    "key = random.PRNGKey(0)"
   ]
  },
  {
   "cell_type": "code",
   "execution_count": 42,
   "id": "10748401",
   "metadata": {
    "ExecuteTime": {
     "end_time": "2023-06-30T12:17:53.742551Z",
     "start_time": "2023-06-30T12:17:53.506646Z"
    }
   },
   "outputs": [],
   "source": [
    "N = 1000\n",
    "xdim = 1\n",
    "x = (random.uniform(key, (N, xdim))-.5) * 2\n",
    "\n",
    "#y = x[:,0] + jnp.cos(x[:,1])\n",
    "y = jnp.cos(x) + 1 - x**2 "
   ]
  },
  {
   "cell_type": "code",
   "execution_count": 43,
   "id": "c6438daa",
   "metadata": {
    "ExecuteTime": {
     "end_time": "2023-06-30T12:17:54.567013Z",
     "start_time": "2023-06-30T12:17:53.763416Z"
    }
   },
   "outputs": [],
   "source": [
    "params = e.init({'params':key}, x)"
   ]
  },
  {
   "cell_type": "code",
   "execution_count": 44,
   "id": "7530de69",
   "metadata": {
    "ExecuteTime": {
     "end_time": "2023-06-30T12:17:56.627502Z",
     "start_time": "2023-06-30T12:17:56.618214Z"
    }
   },
   "outputs": [
    {
     "data": {
      "text/plain": [
       "{'params': {'layers_0': {'linear_layer': {'kernel': Array([[ 0.6292481 , -0.54229003, -0.4677973 ,  0.70746535,  0.09610943,\n",
       "             0.4903576 ,  0.06954016,  0.31511047]], dtype=float32),\n",
       "    'bias': Array([0., 0., 0., 0., 0., 0., 0., 0.], dtype=float32)}},\n",
       "  'layers_1': {'linear_layer': {'kernel': Array([[ 0.19629148,  0.06706532,  0.00969497,  0.23161124, -0.11875771,\n",
       "             0.01930422,  0.05764793, -0.0596979 ],\n",
       "           [ 0.4696742 ,  0.46638718,  0.21155392, -0.8553514 ,  0.6172892 ,\n",
       "            -0.44233188,  0.22190586, -0.18106432],\n",
       "           [-0.44605988, -0.20469512, -0.32464647,  0.5807687 ,  0.02217815,\n",
       "            -0.2559955 ,  0.17005439,  0.71249163],\n",
       "           [ 0.45161504, -0.10305008, -0.47209048,  0.35264972, -0.3844344 ,\n",
       "             0.2527192 , -0.5963687 ,  0.310487  ],\n",
       "           [-0.04032504,  0.10622181,  0.5348187 ,  0.14317314,  0.38765785,\n",
       "            -0.48200536, -0.28618744,  0.3023454 ],\n",
       "           [-0.90012056, -0.02397138, -0.5772944 , -0.01594903, -0.32118613,\n",
       "             0.45124516,  0.42732358,  0.45643777]], dtype=float32),\n",
       "    'bias': Array([0., 0., 0., 0., 0., 0., 0., 0.], dtype=float32)}},\n",
       "  'last': {'kernel': Array([[ 0.3419978 ],\n",
       "          [ 0.7218391 ],\n",
       "          [-0.6941807 ],\n",
       "          [-0.0590653 ],\n",
       "          [-0.01466033],\n",
       "          [-0.08124907]], dtype=float32),\n",
       "   'bias': Array([0.], dtype=float32)}}}"
      ]
     },
     "execution_count": 44,
     "metadata": {},
     "output_type": "execute_result"
    }
   ],
   "source": [
    "params"
   ]
  },
  {
   "cell_type": "code",
   "execution_count": 45,
   "id": "efac62b1",
   "metadata": {
    "ExecuteTime": {
     "end_time": "2023-06-30T12:17:56.785273Z",
     "start_time": "2023-06-30T12:17:56.781877Z"
    }
   },
   "outputs": [],
   "source": [
    "def mse_fn(params):\n",
    "    pred = e.apply(params, x)\n",
    "    return jnp.mean((pred-y)**2)"
   ]
  },
  {
   "cell_type": "code",
   "execution_count": 46,
   "id": "0750cbc9",
   "metadata": {
    "ExecuteTime": {
     "end_time": "2023-06-30T12:17:57.645053Z",
     "start_time": "2023-06-30T12:17:57.636206Z"
    }
   },
   "outputs": [],
   "source": [
    "def loss(params):\n",
    "    return mse_fn(params)\n",
    "loss_grad_fn = jax.jit(jax.value_and_grad(loss))"
   ]
  },
  {
   "cell_type": "code",
   "execution_count": 47,
   "id": "257cb82c",
   "metadata": {
    "ExecuteTime": {
     "end_time": "2023-06-30T12:17:58.491732Z",
     "start_time": "2023-06-30T12:17:58.425922Z"
    }
   },
   "outputs": [],
   "source": [
    "tx = optax.adam(learning_rate=1e-2)\n",
    "opt_state = tx.init(params)\n",
    "loss_grad_fn = jax.jit(jax.value_and_grad(loss))"
   ]
  },
  {
   "cell_type": "code",
   "execution_count": 48,
   "id": "b9f9a804",
   "metadata": {
    "ExecuteTime": {
     "end_time": "2023-06-30T12:18:21.412064Z",
     "start_time": "2023-06-30T12:17:59.343211Z"
    }
   },
   "outputs": [],
   "source": [
    "for i in range(10000):\n",
    "    loss_val, grads = loss_grad_fn(params)\n",
    "    updates, opt_state = tx.update(grads, opt_state)\n",
    "    params = optax.apply_updates(params, updates)\n",
    "    if (i % 100 == 0 and i > 0):\n",
    "        print(loss_val)\n",
    "        wandb.log({\"loss\": loss_val})"
   ]
  },
  {
   "cell_type": "code",
   "execution_count": 49,
   "id": "80303e46",
   "metadata": {
    "ExecuteTime": {
     "end_time": "2023-06-30T12:18:23.682332Z",
     "start_time": "2023-06-30T12:18:23.667829Z"
    }
   },
   "outputs": [
    {
     "data": {
      "text/plain": [
       "{'params': {'last': {'bias': Array([0.25747997], dtype=float32),\n",
       "   'kernel': Array([[ 0.6018571 ],\n",
       "          [ 0.9976524 ],\n",
       "          [-0.4062651 ],\n",
       "          [ 0.14818056],\n",
       "          [ 0.01753187],\n",
       "          [-0.39656726]], dtype=float32)},\n",
       "  'layers_0': {'linear_layer': {'bias': Array([-0.04495414,  0.04862367, -0.28518608, -0.11209451, -0.06013893,\n",
       "           -0.14098652, -0.3750776 , -0.20590888], dtype=float32),\n",
       "    'kernel': Array([[ 0.9447709 , -0.86982423, -0.67828965,  0.77243936, -0.10001896,\n",
       "             0.3091637 , -0.7011913 , -0.07298253]], dtype=float32)}},\n",
       "  'layers_1': {'linear_layer': {'bias': Array([-0.00438732,  0.01088454,  0.15295629,  0.21148321,  0.40738818,\n",
       "           -0.05994988,  0.26964036, -0.0109344 ], dtype=float32),\n",
       "    'kernel': Array([[ 0.1705253 ,  0.05426419,  0.17521882,  0.4319874 ,  0.2371408 ,\n",
       "            -0.1555451 ,  0.34666124, -0.04287156],\n",
       "           [ 0.20493104,  0.20742822,  1.0536268 , -1.0619944 ,  0.46606606,\n",
       "            -0.11224312,  0.31176677,  0.11835714],\n",
       "           [-0.45401505, -0.19894274, -0.1622557 ,  0.78001636,  0.34836158,\n",
       "            -0.41985267,  0.44882765,  0.7058319 ],\n",
       "           [ 0.25006223, -0.32116508,  0.2369485 ,  0.0518097 , -0.6117404 ,\n",
       "             0.27818754, -0.5425094 ,  0.4463268 ],\n",
       "           [-0.3517099 , -0.21278042,  0.72127354, -0.14630793, -0.3735548 ,\n",
       "            -1.3424298 ,  0.01742895,  0.92643374],\n",
       "           [-0.71994495,  0.15718785, -0.28077513,  0.05738782, -0.3479314 ,\n",
       "             0.06936672,  0.46682316,  0.17776686]], dtype=float32)}}}}"
      ]
     },
     "execution_count": 49,
     "metadata": {},
     "output_type": "execute_result"
    }
   ],
   "source": [
    "params"
   ]
  },
  {
   "cell_type": "code",
   "execution_count": 50,
   "id": "b0675219",
   "metadata": {
    "ExecuteTime": {
     "end_time": "2023-06-30T12:18:26.225133Z",
     "start_time": "2023-06-30T12:18:25.778966Z"
    }
   },
   "outputs": [
    {
     "name": "stdout",
     "output_type": "stream",
     "text": [
      "-0.39656725525856*(-1.34242975711823*(0.0486236698925495 - 0.869824230670929*x0)*(0.944770872592926*x0 - 0.0449541434645653) + 0.0693667232990265*(-0.100018955767155*x0 - 0.0601389296352863)*(0.309163689613342*x0 - 0.140986517071724) - 0.278187543153763*sin(0.0729825273156166*x0 + 0.205908879637718) - 0.112243123352528*sin(0.772439360618591*x0 - 0.112094506621361) - 0.155545100569725*cos(0.678289651870728*x0 + 0.28518608212471) - 0.419852674007416*cos(0.701191306114197*x0 + 0.375077605247498) - 0.0599498823285103)*(-0.373554795980453*(0.0486236698925495 - 0.869824230670929*x0)*(0.944770872592926*x0 - 0.0449541434645653) - 0.347931414842606*(-0.100018955767155*x0 - 0.0601389296352863)*(0.309163689613342*x0 - 0.140986517071724) + 0.611740410327911*sin(0.0729825273156166*x0 + 0.205908879637718) + 0.466066062450409*sin(0.772439360618591*x0 - 0.112094506621361) + 0.23714080452919*cos(0.678289651870728*x0 + 0.28518608212471) + 0.34836158156395*cos(0.701191306114197*x0 + 0.375077605247498) + 0.407388180494308) + 0.0175318736582994*(-0.35170990228653*(0.0486236698925495 - 0.869824230670929*x0)*(0.944770872592926*x0 - 0.0449541434645653) - 0.719944953918457*(-0.100018955767155*x0 - 0.0601389296352863)*(0.309163689613342*x0 - 0.140986517071724) - 0.250062227249146*sin(0.0729825273156166*x0 + 0.205908879637718) + 0.204931035637856*sin(0.772439360618591*x0 - 0.112094506621361) + 0.170525297522545*cos(0.678289651870728*x0 + 0.28518608212471) - 0.454015046358109*cos(0.701191306114197*x0 + 0.375077605247498) - 0.00438732095062733)*(-0.21278041601181*(0.0486236698925495 - 0.869824230670929*x0)*(0.944770872592926*x0 - 0.0449541434645653) + 0.157187849283218*(-0.100018955767155*x0 - 0.0601389296352863)*(0.309163689613342*x0 - 0.140986517071724) + 0.321165084838867*sin(0.0729825273156166*x0 + 0.205908879637718) + 0.207428216934204*sin(0.772439360618591*x0 - 0.112094506621361) + 0.0542641915380955*cos(0.678289651870728*x0 + 0.28518608212471) - 0.198942735791206*cos(0.701191306114197*x0 + 0.375077605247498) + 0.0108845364302397) + 0.997652411460876*sin(-0.146307930350304*(0.0486236698925495 - 0.869824230670929*x0)*(0.944770872592926*x0 - 0.0449541434645653) + 0.0573878176510334*(-0.100018955767155*x0 - 0.0601389296352863)*(0.309163689613342*x0 - 0.140986517071724) - 0.0518097020685673*sin(0.0729825273156166*x0 + 0.205908879637718) - 1.06199443340302*sin(0.772439360618591*x0 - 0.112094506621361) + 0.431987404823303*cos(0.678289651870728*x0 + 0.28518608212471) + 0.780016362667084*cos(0.701191306114197*x0 + 0.375077605247498) + 0.211483210325241) + 0.148180559277534*sin(0.926433742046356*(0.0486236698925495 - 0.869824230670929*x0)*(0.944770872592926*x0 - 0.0449541434645653) + 0.177766859531403*(-0.100018955767155*x0 - 0.0601389296352863)*(0.309163689613342*x0 - 0.140986517071724) - 0.446326792240143*sin(0.0729825273156166*x0 + 0.205908879637718) + 0.118357136845589*sin(0.772439360618591*x0 - 0.112094506621361) - 0.0428715609014034*cos(0.678289651870728*x0 + 0.28518608212471) + 0.70583188533783*cos(0.701191306114197*x0 + 0.375077605247498) - 0.0109344003722072) - 0.406265109777451*cos(0.0174289476126432*(0.0486236698925495 - 0.869824230670929*x0)*(0.944770872592926*x0 - 0.0449541434645653) + 0.466823160648346*(-0.100018955767155*x0 - 0.0601389296352863)*(0.309163689613342*x0 - 0.140986517071724) + 0.542509377002716*sin(0.0729825273156166*x0 + 0.205908879637718) + 0.311766773462296*sin(0.772439360618591*x0 - 0.112094506621361) + 0.346661239862442*cos(0.678289651870728*x0 + 0.28518608212471) + 0.448827654123306*cos(0.701191306114197*x0 + 0.375077605247498) + 0.269640356302261) + 0.601857125759125*cos(0.7212735414505*(0.0486236698925495 - 0.869824230670929*x0)*(0.944770872592926*x0 - 0.0449541434645653) - 0.280775129795074*(-0.100018955767155*x0 - 0.0601389296352863)*(0.309163689613342*x0 - 0.140986517071724) - 0.236948505043983*sin(0.0729825273156166*x0 + 0.205908879637718) + 1.05362677574158*sin(0.772439360618591*x0 - 0.112094506621361) + 0.175218820571899*cos(0.678289651870728*x0 + 0.28518608212471) - 0.162255704402924*cos(0.701191306114197*x0 + 0.375077605247498) + 0.152956292033195) + 0.257479965686798\n"
     ]
    }
   ],
   "source": [
    "symb = get_symbolic_expr(params, funs)[0]\n",
    "print(symb)"
   ]
  },
  {
   "cell_type": "code",
   "execution_count": 51,
   "id": "e397cfa1",
   "metadata": {},
   "outputs": [
    {
     "data": {
      "text/html": [],
      "text/plain": [
       "<IPython.core.display.HTML object>"
      ]
     },
     "metadata": {},
     "output_type": "display_data"
    },
    {
     "data": {
      "text/html": [
       " View run <strong style=\"color:#cdcd00\">brisk-pyramid-1</strong> at: <a href='https://wandb.ai/simonb03-university-of-t-bingen/Example_1/runs/d4e39zpz' target=\"_blank\">https://wandb.ai/simonb03-university-of-t-bingen/Example_1/runs/d4e39zpz</a><br> View project at: <a href='https://wandb.ai/simonb03-university-of-t-bingen/Example_1' target=\"_blank\">https://wandb.ai/simonb03-university-of-t-bingen/Example_1</a><br>Synced 5 W&B file(s), 0 media file(s), 0 artifact file(s) and 0 other file(s)"
      ],
      "text/plain": [
       "<IPython.core.display.HTML object>"
      ]
     },
     "metadata": {},
     "output_type": "display_data"
    },
    {
     "data": {
      "text/html": [
       "Find logs at: <code>.\\wandb\\run-20250120_205309-d4e39zpz\\logs</code>"
      ],
      "text/plain": [
       "<IPython.core.display.HTML object>"
      ]
     },
     "metadata": {},
     "output_type": "display_data"
    }
   ],
   "source": [
    "wandb.finish()"
   ]
  }
 ],
 "metadata": {
  "kernelspec": {
   "display_name": "EQL",
   "language": "python",
   "name": "python3"
  },
  "language_info": {
   "codemirror_mode": {
    "name": "ipython",
    "version": 3
   },
   "file_extension": ".py",
   "mimetype": "text/x-python",
   "name": "python",
   "nbconvert_exporter": "python",
   "pygments_lexer": "ipython3",
   "version": "3.12.7"
  },
  "varInspector": {
   "cols": {
    "lenName": 16,
    "lenType": 16,
    "lenVar": 40
   },
   "kernels_config": {
    "python": {
     "delete_cmd_postfix": "",
     "delete_cmd_prefix": "del ",
     "library": "var_list.py",
     "varRefreshCmd": "print(var_dic_list())"
    },
    "r": {
     "delete_cmd_postfix": ") ",
     "delete_cmd_prefix": "rm(",
     "library": "var_list.r",
     "varRefreshCmd": "cat(var_dic_list()) "
    }
   },
   "types_to_exclude": [
    "module",
    "function",
    "builtin_function_or_method",
    "instance",
    "_Feature"
   ],
   "window_display": false
  }
 },
 "nbformat": 4,
 "nbformat_minor": 5
}
