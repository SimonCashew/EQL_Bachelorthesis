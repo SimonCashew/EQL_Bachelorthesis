{
 "cells": [
  {
   "cell_type": "code",
   "execution_count": 1,
   "id": "4c1bb443",
   "metadata": {
    "ExecuteTime": {
     "end_time": "2023-07-28T16:19:01.603566Z",
     "start_time": "2023-07-28T16:19:01.270880Z"
    }
   },
   "outputs": [],
   "source": [
    "import sympy as sy"
   ]
  },
  {
   "cell_type": "code",
   "execution_count": 8,
   "id": "8578e7b9",
   "metadata": {
    "ExecuteTime": {
     "end_time": "2023-07-28T16:19:58.499907Z",
     "start_time": "2023-07-28T16:19:58.490887Z"
    }
   },
   "outputs": [],
   "source": [
    "M, n0, Z, D, X = sy.symbols(\"M, n_0, Z, D, X\")"
   ]
  },
  {
   "cell_type": "code",
   "execution_count": 9,
   "id": "2836268e",
   "metadata": {
    "ExecuteTime": {
     "end_time": "2023-07-28T16:20:23.838737Z",
     "start_time": "2023-07-28T16:20:23.765047Z"
    }
   },
   "outputs": [],
   "source": [
    "X = 2/(1 + sy.sqrt( 1 + 4  * M * n0 * Z * D))"
   ]
  },
  {
   "cell_type": "code",
   "execution_count": 10,
   "id": "74e1f15d",
   "metadata": {
    "ExecuteTime": {
     "end_time": "2023-07-28T16:20:27.727028Z",
     "start_time": "2023-07-28T16:20:27.710202Z"
    }
   },
   "outputs": [
    {
     "data": {
      "text/latex": [
       "$\\displaystyle \\frac{2}{\\sqrt{4 D M Z n_{0} + 1} + 1}$"
      ],
      "text/plain": [
       "2/(sqrt(4*D*M*Z*n_0 + 1) + 1)"
      ]
     },
     "execution_count": 10,
     "metadata": {},
     "output_type": "execute_result"
    }
   ],
   "source": [
    "X"
   ]
  },
  {
   "cell_type": "code",
   "execution_count": 12,
   "id": "ab8e68d4",
   "metadata": {
    "ExecuteTime": {
     "end_time": "2023-07-28T16:21:03.448897Z",
     "start_time": "2023-07-28T16:21:03.249404Z"
    }
   },
   "outputs": [
    {
     "data": {
      "text/latex": [
       "$\\displaystyle - \\frac{4 M Z n_{0}}{\\sqrt{4 D M Z n_{0} + 1} \\left(\\sqrt{4 D M Z n_{0} + 1} + 1\\right)^{2}}$"
      ],
      "text/plain": [
       "-4*M*Z*n_0/(sqrt(4*D*M*Z*n_0 + 1)*(sqrt(4*D*M*Z*n_0 + 1) + 1)**2)"
      ]
     },
     "execution_count": 12,
     "metadata": {},
     "output_type": "execute_result"
    }
   ],
   "source": [
    "sy.simplify(sy.diff(X, D))"
   ]
  },
  {
   "cell_type": "code",
   "execution_count": 2,
   "id": "2d555d46",
   "metadata": {
    "ExecuteTime": {
     "end_time": "2023-07-29T08:44:13.226588Z",
     "start_time": "2023-07-29T08:44:13.220388Z"
    }
   },
   "outputs": [],
   "source": [
    "import numpy as np"
   ]
  },
  {
   "cell_type": "code",
   "execution_count": 29,
   "id": "fdcf8f02",
   "metadata": {
    "ExecuteTime": {
     "end_time": "2023-07-29T08:45:25.415308Z",
     "start_time": "2023-07-29T08:45:25.410951Z"
    }
   },
   "outputs": [],
   "source": [
    "x = np.zeros(10)"
   ]
  },
  {
   "cell_type": "code",
   "execution_count": 30,
   "id": "d904799e",
   "metadata": {
    "ExecuteTime": {
     "end_time": "2023-07-29T08:45:25.592893Z",
     "start_time": "2023-07-29T08:45:25.583660Z"
    }
   },
   "outputs": [],
   "source": [
    "z = np.ones((3, 10))"
   ]
  },
  {
   "cell_type": "code",
   "execution_count": 31,
   "id": "39c70037",
   "metadata": {
    "ExecuteTime": {
     "end_time": "2023-07-29T08:45:25.727752Z",
     "start_time": "2023-07-29T08:45:25.702320Z"
    }
   },
   "outputs": [
    {
     "ename": "ValueError",
     "evalue": "could not broadcast input array from shape (3,10) into shape (10,)",
     "output_type": "error",
     "traceback": [
      "\u001b[0;31m---------------------------------------------------------------------------\u001b[0m",
      "\u001b[0;31mValueError\u001b[0m                                Traceback (most recent call last)",
      "Cell \u001b[0;32mIn[31], line 1\u001b[0m\n\u001b[0;32m----> 1\u001b[0m \u001b[43mx\u001b[49m\u001b[43m[\u001b[49m\u001b[43m:\u001b[49m\u001b[43m]\u001b[49m \u001b[38;5;241m=\u001b[39m z\n",
      "\u001b[0;31mValueError\u001b[0m: could not broadcast input array from shape (3,10) into shape (10,)"
     ]
    }
   ],
   "source": [
    "x[:] = z"
   ]
  },
  {
   "cell_type": "code",
   "execution_count": 20,
   "id": "b0e1c5ff",
   "metadata": {
    "ExecuteTime": {
     "end_time": "2023-07-29T08:44:53.652711Z",
     "start_time": "2023-07-29T08:44:53.639939Z"
    }
   },
   "outputs": [
    {
     "data": {
      "text/plain": [
       "array([[1., 1., 1.],\n",
       "       [1., 1., 1.],\n",
       "       [1., 1., 1.],\n",
       "       [1., 1., 1.],\n",
       "       [1., 1., 1.],\n",
       "       [1., 1., 1.],\n",
       "       [1., 1., 1.],\n",
       "       [1., 1., 1.],\n",
       "       [1., 1., 1.],\n",
       "       [1., 1., 1.]])"
      ]
     },
     "execution_count": 20,
     "metadata": {},
     "output_type": "execute_result"
    }
   ],
   "source": [
    "x"
   ]
  },
  {
   "cell_type": "code",
   "execution_count": null,
   "id": "d3457b63",
   "metadata": {},
   "outputs": [],
   "source": []
  }
 ],
 "metadata": {
  "kernelspec": {
   "display_name": "EQL",
   "language": "python",
   "name": "python3"
  },
  "language_info": {
   "codemirror_mode": {
    "name": "ipython",
    "version": 3
   },
   "file_extension": ".py",
   "mimetype": "text/x-python",
   "name": "python",
   "nbconvert_exporter": "python",
   "pygments_lexer": "ipython3",
   "version": "3.12.7"
  },
  "varInspector": {
   "cols": {
    "lenName": 16,
    "lenType": 16,
    "lenVar": 40
   },
   "kernels_config": {
    "python": {
     "delete_cmd_postfix": "",
     "delete_cmd_prefix": "del ",
     "library": "var_list.py",
     "varRefreshCmd": "print(var_dic_list())"
    },
    "r": {
     "delete_cmd_postfix": ") ",
     "delete_cmd_prefix": "rm(",
     "library": "var_list.r",
     "varRefreshCmd": "cat(var_dic_list()) "
    }
   },
   "types_to_exclude": [
    "module",
    "function",
    "builtin_function_or_method",
    "instance",
    "_Feature"
   ],
   "window_display": false
  }
 },
 "nbformat": 4,
 "nbformat_minor": 5
}
