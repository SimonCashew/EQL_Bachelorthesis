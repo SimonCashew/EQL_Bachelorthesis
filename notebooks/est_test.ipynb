{
 "cells": [
  {
   "cell_type": "code",
   "execution_count": 23,
   "id": "f47f6f58",
   "metadata": {
    "ExecuteTime": {
     "end_time": "2022-04-14T11:27:04.186574Z",
     "start_time": "2022-04-14T11:27:03.718580Z"
    }
   },
   "outputs": [],
   "source": [
    "from sklearn.utils.estimator_checks import check_estimator"
   ]
  },
  {
   "cell_type": "code",
   "execution_count": 31,
   "id": "871edaf7",
   "metadata": {
    "ExecuteTime": {
     "end_time": "2022-04-24T15:57:32.154890Z",
     "start_time": "2022-04-24T15:57:30.877787Z"
    }
   },
   "outputs": [],
   "source": [
    "import sys\n",
    "sys.path.append(\"..\")\n",
    "\n",
    "from eql.est import EQL\n",
    "import numpy as np\n",
    "import pandas as pd\n",
    "import matplotlib.pyplot as plt\n",
    "from sklearn.model_selection import GridSearchCV"
   ]
  },
  {
   "cell_type": "code",
   "execution_count": null,
   "id": "f48f4c4f",
   "metadata": {
    "ExecuteTime": {
     "end_time": "2022-04-15T10:26:41.919464Z",
     "start_time": "2022-04-15T10:26:41.727970Z"
    }
   },
   "outputs": [],
   "source": []
  },
  {
   "cell_type": "code",
   "execution_count": null,
   "id": "b123b0a3",
   "metadata": {
    "ExecuteTime": {
     "end_time": "2022-04-24T15:57:32.158101Z",
     "start_time": "2022-04-24T15:57:32.156187Z"
    }
   },
   "outputs": [],
   "source": [
    "# for e,c in check_estimator(EQL(), generate_only=True):\n",
    "#     try:\n",
    "#         c(e)\n",
    "#     except Exception as e:\n",
    "#         print(e)"
   ]
  },
  {
   "cell_type": "code",
   "execution_count": null,
   "id": "740270e4",
   "metadata": {
    "ExecuteTime": {
     "end_time": "2022-04-24T16:26:17.971882Z",
     "start_time": "2022-04-24T16:26:17.968887Z"
    }
   },
   "outputs": [],
   "source": [
    "e = EQL(n_iter=10_000, drop_rate=.15)\n",
    "hp = {'reg': (1e-3, 1e-2, 1e-1, 1e-0, 1e1),\n",
    "      'n_layers': (1,2),\n",
    "      'functions':('id;mul;cos;square;cube',\n",
    "                   'id;cos;div;mul;sin',\n",
    "                   #'id;sqrt;mul;exp;log;mul;id',\n",
    "                   #id;mul;cos;div;sqrt;cos;sin;cos;mul;mul;cos;id',\n",
    "                   #'id;mul;cos;div;sqrt;cos;sin;cos;mul;mul;cos;id;id;mul;cos;div;sqrt;cos;sin;cos;mul;mul;cos;id'\n",
    "                  )}"
   ]
  },
  {
   "cell_type": "code",
   "execution_count": null,
   "id": "4fa54880",
   "metadata": {
    "ExecuteTime": {
     "end_time": "2022-04-24T16:26:19.314745Z",
     "start_time": "2022-04-24T16:26:19.309441Z"
    }
   },
   "outputs": [],
   "source": [
    "cv = GridSearchCV(estimator=e,\n",
    "                 param_grid=hp,\n",
    "                 cv=2,\n",
    "                 #refit=True,\n",
    "                 n_jobs=4,\n",
    "                 verbose=4)"
   ]
  },
  {
   "cell_type": "code",
   "execution_count": null,
   "id": "e6f6c45f",
   "metadata": {
    "ExecuteTime": {
     "end_time": "2022-04-24T16:41:12.301841Z",
     "start_time": "2022-04-24T16:26:20.507614Z"
    }
   },
   "outputs": [
    {
     "name": "stdout",
     "output_type": "stream",
     "text": [
      "Fitting 2 folds for each of 24 candidates, totalling 48 fits\n"
     ]
    },
    {
     "name": "stderr",
     "output_type": "stream",
     "text": [
      "WARNING:absl:No GPU/TPU found, falling back to CPU. (Set TF_CPP_MIN_LOG_LEVEL=0 and rerun for more info.)\n",
      "WARNING:absl:No GPU/TPU found, falling back to CPU. (Set TF_CPP_MIN_LOG_LEVEL=0 and rerun for more info.)\n",
      "WARNING:absl:No GPU/TPU found, falling back to CPU. (Set TF_CPP_MIN_LOG_LEVEL=0 and rerun for more info.)\n",
      "WARNING:absl:No GPU/TPU found, falling back to CPU. (Set TF_CPP_MIN_LOG_LEVEL=0 and rerun for more info.)\n",
      "/home/alessandro/code/NeuralSymbolicRegressionThatScales/env/lib/python3.8/site-packages/sklearn/model_selection/_validation.py:696: UserWarning: Scoring failed. The score on this train-test partition for these parameters will be set to nan. Details: \n",
      "Traceback (most recent call last):\n",
      "  File \"/home/alessandro/code/NeuralSymbolicRegressionThatScales/env/lib/python3.8/site-packages/sklearn/model_selection/_validation.py\", line 687, in _score\n",
      "    scores = scorer(estimator, X_test, y_test)\n",
      "  File \"/home/alessandro/code/NeuralSymbolicRegressionThatScales/env/lib/python3.8/site-packages/sklearn/metrics/_scorer.py\", line 397, in _passthrough_scorer\n",
      "    return estimator.score(*args, **kwargs)\n",
      "  File \"/home/alessandro/code/eql_jax/est.py\", line 155, in score\n",
      "    return self.get_score(X, y, self._params)\n",
      "  File \"/home/alessandro/code/eql_jax/est.py\", line 148, in get_score\n",
      "    return r2 + np.clip(np.mean(simps), a_min=0.0)\n",
      "  File \"<__array_function__ internals>\", line 4, in clip\n",
      "TypeError: _clip_dispatcher() missing 1 required positional argument: 'a_max'\n",
      "\n",
      "  warnings.warn(\n",
      "/home/alessandro/code/NeuralSymbolicRegressionThatScales/env/lib/python3.8/site-packages/sklearn/model_selection/_validation.py:696: UserWarning: Scoring failed. The score on this train-test partition for these parameters will be set to nan. Details: \n",
      "Traceback (most recent call last):\n",
      "  File \"/home/alessandro/code/NeuralSymbolicRegressionThatScales/env/lib/python3.8/site-packages/sklearn/model_selection/_validation.py\", line 687, in _score\n",
      "    scores = scorer(estimator, X_test, y_test)\n",
      "  File \"/home/alessandro/code/NeuralSymbolicRegressionThatScales/env/lib/python3.8/site-packages/sklearn/metrics/_scorer.py\", line 397, in _passthrough_scorer\n",
      "    return estimator.score(*args, **kwargs)\n",
      "  File \"/home/alessandro/code/eql_jax/est.py\", line 155, in score\n",
      "    return self.get_score(X, y, self._params)\n",
      "  File \"/home/alessandro/code/eql_jax/est.py\", line 148, in get_score\n",
      "    return r2 + np.clip(np.mean(simps), a_min=0.0)\n",
      "  File \"<__array_function__ internals>\", line 4, in clip\n",
      "TypeError: _clip_dispatcher() missing 1 required positional argument: 'a_max'\n",
      "\n",
      "  warnings.warn(\n",
      "/home/alessandro/code/NeuralSymbolicRegressionThatScales/env/lib/python3.8/site-packages/sklearn/model_selection/_validation.py:696: UserWarning: Scoring failed. The score on this train-test partition for these parameters will be set to nan. Details: \n",
      "Traceback (most recent call last):\n",
      "  File \"/home/alessandro/code/NeuralSymbolicRegressionThatScales/env/lib/python3.8/site-packages/sklearn/model_selection/_validation.py\", line 687, in _score\n",
      "    scores = scorer(estimator, X_test, y_test)\n",
      "  File \"/home/alessandro/code/NeuralSymbolicRegressionThatScales/env/lib/python3.8/site-packages/sklearn/metrics/_scorer.py\", line 397, in _passthrough_scorer\n",
      "    return estimator.score(*args, **kwargs)\n",
      "  File \"/home/alessandro/code/eql_jax/est.py\", line 155, in score\n",
      "    return self.get_score(X, y, self._params)\n",
      "  File \"/home/alessandro/code/eql_jax/est.py\", line 148, in get_score\n",
      "    return r2 + np.clip(np.mean(simps), a_min=0.0)\n",
      "  File \"<__array_function__ internals>\", line 4, in clip\n",
      "TypeError: _clip_dispatcher() missing 1 required positional argument: 'a_max'\n",
      "\n",
      "  warnings.warn(\n",
      "/home/alessandro/code/NeuralSymbolicRegressionThatScales/env/lib/python3.8/site-packages/sklearn/model_selection/_validation.py:696: UserWarning: Scoring failed. The score on this train-test partition for these parameters will be set to nan. Details: \n",
      "Traceback (most recent call last):\n",
      "  File \"/home/alessandro/code/NeuralSymbolicRegressionThatScales/env/lib/python3.8/site-packages/sklearn/model_selection/_validation.py\", line 687, in _score\n",
      "    scores = scorer(estimator, X_test, y_test)\n",
      "  File \"/home/alessandro/code/NeuralSymbolicRegressionThatScales/env/lib/python3.8/site-packages/sklearn/metrics/_scorer.py\", line 397, in _passthrough_scorer\n",
      "    return estimator.score(*args, **kwargs)\n",
      "  File \"/home/alessandro/code/eql_jax/est.py\", line 155, in score\n",
      "    return self.get_score(X, y, self._params)\n",
      "  File \"/home/alessandro/code/eql_jax/est.py\", line 148, in get_score\n",
      "    return r2 + np.clip(np.mean(simps), a_min=0.0)\n",
      "  File \"<__array_function__ internals>\", line 4, in clip\n",
      "TypeError: _clip_dispatcher() missing 1 required positional argument: 'a_max'\n",
      "\n",
      "  warnings.warn(\n",
      "/home/alessandro/code/NeuralSymbolicRegressionThatScales/env/lib/python3.8/site-packages/sklearn/model_selection/_validation.py:696: UserWarning: Scoring failed. The score on this train-test partition for these parameters will be set to nan. Details: \n",
      "Traceback (most recent call last):\n",
      "  File \"/home/alessandro/code/NeuralSymbolicRegressionThatScales/env/lib/python3.8/site-packages/sklearn/model_selection/_validation.py\", line 687, in _score\n",
      "    scores = scorer(estimator, X_test, y_test)\n",
      "  File \"/home/alessandro/code/NeuralSymbolicRegressionThatScales/env/lib/python3.8/site-packages/sklearn/metrics/_scorer.py\", line 397, in _passthrough_scorer\n",
      "    return estimator.score(*args, **kwargs)\n",
      "  File \"/home/alessandro/code/eql_jax/est.py\", line 155, in score\n",
      "    return self.get_score(X, y, self._params)\n",
      "  File \"/home/alessandro/code/eql_jax/est.py\", line 148, in get_score\n",
      "    return r2 + np.clip(np.mean(simps), a_min=0.0)\n",
      "  File \"<__array_function__ internals>\", line 4, in clip\n",
      "TypeError: _clip_dispatcher() missing 1 required positional argument: 'a_max'\n",
      "\n",
      "  warnings.warn(\n",
      "/home/alessandro/code/NeuralSymbolicRegressionThatScales/env/lib/python3.8/site-packages/sklearn/model_selection/_validation.py:696: UserWarning: Scoring failed. The score on this train-test partition for these parameters will be set to nan. Details: \n",
      "Traceback (most recent call last):\n",
      "  File \"/home/alessandro/code/NeuralSymbolicRegressionThatScales/env/lib/python3.8/site-packages/sklearn/model_selection/_validation.py\", line 687, in _score\n",
      "    scores = scorer(estimator, X_test, y_test)\n",
      "  File \"/home/alessandro/code/NeuralSymbolicRegressionThatScales/env/lib/python3.8/site-packages/sklearn/metrics/_scorer.py\", line 397, in _passthrough_scorer\n",
      "    return estimator.score(*args, **kwargs)\n",
      "  File \"/home/alessandro/code/eql_jax/est.py\", line 155, in score\n",
      "    return self.get_score(X, y, self._params)\n",
      "  File \"/home/alessandro/code/eql_jax/est.py\", line 148, in get_score\n",
      "    return r2 + np.clip(np.mean(simps), a_min=0.0)\n",
      "  File \"<__array_function__ internals>\", line 4, in clip\n",
      "TypeError: _clip_dispatcher() missing 1 required positional argument: 'a_max'\n",
      "\n",
      "  warnings.warn(\n",
      "/home/alessandro/code/NeuralSymbolicRegressionThatScales/env/lib/python3.8/site-packages/sklearn/model_selection/_validation.py:696: UserWarning: Scoring failed. The score on this train-test partition for these parameters will be set to nan. Details: \n",
      "Traceback (most recent call last):\n",
      "  File \"/home/alessandro/code/NeuralSymbolicRegressionThatScales/env/lib/python3.8/site-packages/sklearn/model_selection/_validation.py\", line 687, in _score\n",
      "    scores = scorer(estimator, X_test, y_test)\n",
      "  File \"/home/alessandro/code/NeuralSymbolicRegressionThatScales/env/lib/python3.8/site-packages/sklearn/metrics/_scorer.py\", line 397, in _passthrough_scorer\n",
      "    return estimator.score(*args, **kwargs)\n",
      "  File \"/home/alessandro/code/eql_jax/est.py\", line 155, in score\n",
      "    return self.get_score(X, y, self._params)\n",
      "  File \"/home/alessandro/code/eql_jax/est.py\", line 148, in get_score\n",
      "    return r2 + np.clip(np.mean(simps), a_min=0.0)\n",
      "  File \"<__array_function__ internals>\", line 4, in clip\n",
      "TypeError: _clip_dispatcher() missing 1 required positional argument: 'a_max'\n",
      "\n",
      "  warnings.warn(\n",
      "/home/alessandro/code/NeuralSymbolicRegressionThatScales/env/lib/python3.8/site-packages/sklearn/model_selection/_validation.py:696: UserWarning: Scoring failed. The score on this train-test partition for these parameters will be set to nan. Details: \n",
      "Traceback (most recent call last):\n",
      "  File \"/home/alessandro/code/NeuralSymbolicRegressionThatScales/env/lib/python3.8/site-packages/sklearn/model_selection/_validation.py\", line 687, in _score\n",
      "    scores = scorer(estimator, X_test, y_test)\n",
      "  File \"/home/alessandro/code/NeuralSymbolicRegressionThatScales/env/lib/python3.8/site-packages/sklearn/metrics/_scorer.py\", line 397, in _passthrough_scorer\n",
      "    return estimator.score(*args, **kwargs)\n",
      "  File \"/home/alessandro/code/eql_jax/est.py\", line 155, in score\n",
      "    return self.get_score(X, y, self._params)\n",
      "  File \"/home/alessandro/code/eql_jax/est.py\", line 148, in get_score\n",
      "    return r2 + np.clip(np.mean(simps), a_min=0.0)\n",
      "  File \"<__array_function__ internals>\", line 4, in clip\n",
      "TypeError: _clip_dispatcher() missing 1 required positional argument: 'a_max'\n",
      "\n",
      "  warnings.warn(\n",
      "/home/alessandro/code/NeuralSymbolicRegressionThatScales/env/lib/python3.8/site-packages/sklearn/model_selection/_validation.py:696: UserWarning: Scoring failed. The score on this train-test partition for these parameters will be set to nan. Details: \n",
      "Traceback (most recent call last):\n",
      "  File \"/home/alessandro/code/NeuralSymbolicRegressionThatScales/env/lib/python3.8/site-packages/sklearn/model_selection/_validation.py\", line 687, in _score\n",
      "    scores = scorer(estimator, X_test, y_test)\n",
      "  File \"/home/alessandro/code/NeuralSymbolicRegressionThatScales/env/lib/python3.8/site-packages/sklearn/metrics/_scorer.py\", line 397, in _passthrough_scorer\n",
      "    return estimator.score(*args, **kwargs)\n",
      "  File \"/home/alessandro/code/eql_jax/est.py\", line 155, in score\n",
      "    return self.get_score(X, y, self._params)\n",
      "  File \"/home/alessandro/code/eql_jax/est.py\", line 148, in get_score\n",
      "    return r2 + np.clip(np.mean(simps), a_min=0.0)\n",
      "  File \"<__array_function__ internals>\", line 4, in clip\n",
      "TypeError: _clip_dispatcher() missing 1 required positional argument: 'a_max'\n",
      "\n",
      "  warnings.warn(\n",
      "/home/alessandro/code/NeuralSymbolicRegressionThatScales/env/lib/python3.8/site-packages/sklearn/model_selection/_validation.py:696: UserWarning: Scoring failed. The score on this train-test partition for these parameters will be set to nan. Details: \n",
      "Traceback (most recent call last):\n",
      "  File \"/home/alessandro/code/NeuralSymbolicRegressionThatScales/env/lib/python3.8/site-packages/sklearn/model_selection/_validation.py\", line 687, in _score\n",
      "    scores = scorer(estimator, X_test, y_test)\n",
      "  File \"/home/alessandro/code/NeuralSymbolicRegressionThatScales/env/lib/python3.8/site-packages/sklearn/metrics/_scorer.py\", line 397, in _passthrough_scorer\n",
      "    return estimator.score(*args, **kwargs)\n",
      "  File \"/home/alessandro/code/eql_jax/est.py\", line 155, in score\n",
      "    return self.get_score(X, y, self._params)\n",
      "  File \"/home/alessandro/code/eql_jax/est.py\", line 148, in get_score\n",
      "    return r2 + np.clip(np.mean(simps), a_min=0.0)\n",
      "  File \"<__array_function__ internals>\", line 4, in clip\n",
      "TypeError: _clip_dispatcher() missing 1 required positional argument: 'a_max'\n",
      "\n",
      "  warnings.warn(\n",
      "/home/alessandro/code/NeuralSymbolicRegressionThatScales/env/lib/python3.8/site-packages/sklearn/model_selection/_validation.py:696: UserWarning: Scoring failed. The score on this train-test partition for these parameters will be set to nan. Details: \n",
      "Traceback (most recent call last):\n",
      "  File \"/home/alessandro/code/NeuralSymbolicRegressionThatScales/env/lib/python3.8/site-packages/sklearn/model_selection/_validation.py\", line 687, in _score\n",
      "    scores = scorer(estimator, X_test, y_test)\n",
      "  File \"/home/alessandro/code/NeuralSymbolicRegressionThatScales/env/lib/python3.8/site-packages/sklearn/metrics/_scorer.py\", line 397, in _passthrough_scorer\n",
      "    return estimator.score(*args, **kwargs)\n",
      "  File \"/home/alessandro/code/eql_jax/est.py\", line 155, in score\n",
      "    return self.get_score(X, y, self._params)\n",
      "  File \"/home/alessandro/code/eql_jax/est.py\", line 148, in get_score\n",
      "    return r2 + np.clip(np.mean(simps), a_min=0.0)\n",
      "  File \"<__array_function__ internals>\", line 4, in clip\n",
      "TypeError: _clip_dispatcher() missing 1 required positional argument: 'a_max'\n",
      "\n",
      "  warnings.warn(\n",
      "/home/alessandro/code/NeuralSymbolicRegressionThatScales/env/lib/python3.8/site-packages/sklearn/model_selection/_validation.py:696: UserWarning: Scoring failed. The score on this train-test partition for these parameters will be set to nan. Details: \n",
      "Traceback (most recent call last):\n",
      "  File \"/home/alessandro/code/NeuralSymbolicRegressionThatScales/env/lib/python3.8/site-packages/sklearn/model_selection/_validation.py\", line 687, in _score\n",
      "    scores = scorer(estimator, X_test, y_test)\n",
      "  File \"/home/alessandro/code/NeuralSymbolicRegressionThatScales/env/lib/python3.8/site-packages/sklearn/metrics/_scorer.py\", line 397, in _passthrough_scorer\n",
      "    return estimator.score(*args, **kwargs)\n",
      "  File \"/home/alessandro/code/eql_jax/est.py\", line 155, in score\n",
      "    return self.get_score(X, y, self._params)\n",
      "  File \"/home/alessandro/code/eql_jax/est.py\", line 148, in get_score\n",
      "    return r2 + np.clip(np.mean(simps), a_min=0.0)\n",
      "  File \"<__array_function__ internals>\", line 4, in clip\n",
      "TypeError: _clip_dispatcher() missing 1 required positional argument: 'a_max'\n",
      "\n",
      "  warnings.warn(\n",
      "/home/alessandro/code/NeuralSymbolicRegressionThatScales/env/lib/python3.8/site-packages/sklearn/model_selection/_validation.py:696: UserWarning: Scoring failed. The score on this train-test partition for these parameters will be set to nan. Details: \n",
      "Traceback (most recent call last):\n",
      "  File \"/home/alessandro/code/NeuralSymbolicRegressionThatScales/env/lib/python3.8/site-packages/sklearn/model_selection/_validation.py\", line 687, in _score\n",
      "    scores = scorer(estimator, X_test, y_test)\n",
      "  File \"/home/alessandro/code/NeuralSymbolicRegressionThatScales/env/lib/python3.8/site-packages/sklearn/metrics/_scorer.py\", line 397, in _passthrough_scorer\n",
      "    return estimator.score(*args, **kwargs)\n",
      "  File \"/home/alessandro/code/eql_jax/est.py\", line 155, in score\n",
      "    return self.get_score(X, y, self._params)\n",
      "  File \"/home/alessandro/code/eql_jax/est.py\", line 148, in get_score\n",
      "    return r2 + np.clip(np.mean(simps), a_min=0.0)\n",
      "  File \"<__array_function__ internals>\", line 4, in clip\n",
      "TypeError: _clip_dispatcher() missing 1 required positional argument: 'a_max'\n",
      "\n",
      "  warnings.warn(\n",
      "/home/alessandro/code/NeuralSymbolicRegressionThatScales/env/lib/python3.8/site-packages/sklearn/model_selection/_validation.py:696: UserWarning: Scoring failed. The score on this train-test partition for these parameters will be set to nan. Details: \n",
      "Traceback (most recent call last):\n",
      "  File \"/home/alessandro/code/NeuralSymbolicRegressionThatScales/env/lib/python3.8/site-packages/sklearn/model_selection/_validation.py\", line 687, in _score\n",
      "    scores = scorer(estimator, X_test, y_test)\n",
      "  File \"/home/alessandro/code/NeuralSymbolicRegressionThatScales/env/lib/python3.8/site-packages/sklearn/metrics/_scorer.py\", line 397, in _passthrough_scorer\n",
      "    return estimator.score(*args, **kwargs)\n",
      "  File \"/home/alessandro/code/eql_jax/est.py\", line 155, in score\n",
      "    return self.get_score(X, y, self._params)\n",
      "  File \"/home/alessandro/code/eql_jax/est.py\", line 148, in get_score\n",
      "    return r2 + np.clip(np.mean(simps), a_min=0.0)\n",
      "  File \"<__array_function__ internals>\", line 4, in clip\n",
      "TypeError: _clip_dispatcher() missing 1 required positional argument: 'a_max'\n",
      "\n",
      "  warnings.warn(\n"
     ]
    },
    {
     "name": "stderr",
     "output_type": "stream",
     "text": [
      "/home/alessandro/code/NeuralSymbolicRegressionThatScales/env/lib/python3.8/site-packages/sklearn/model_selection/_validation.py:696: UserWarning: Scoring failed. The score on this train-test partition for these parameters will be set to nan. Details: \n",
      "Traceback (most recent call last):\n",
      "  File \"/home/alessandro/code/NeuralSymbolicRegressionThatScales/env/lib/python3.8/site-packages/sklearn/model_selection/_validation.py\", line 687, in _score\n",
      "    scores = scorer(estimator, X_test, y_test)\n",
      "  File \"/home/alessandro/code/NeuralSymbolicRegressionThatScales/env/lib/python3.8/site-packages/sklearn/metrics/_scorer.py\", line 397, in _passthrough_scorer\n",
      "    return estimator.score(*args, **kwargs)\n",
      "  File \"/home/alessandro/code/eql_jax/est.py\", line 155, in score\n",
      "    return self.get_score(X, y, self._params)\n",
      "  File \"/home/alessandro/code/eql_jax/est.py\", line 148, in get_score\n",
      "    return r2 + np.clip(np.mean(simps), a_min=0.0)\n",
      "  File \"<__array_function__ internals>\", line 4, in clip\n",
      "TypeError: _clip_dispatcher() missing 1 required positional argument: 'a_max'\n",
      "\n",
      "  warnings.warn(\n",
      "/home/alessandro/code/NeuralSymbolicRegressionThatScales/env/lib/python3.8/site-packages/sklearn/model_selection/_validation.py:696: UserWarning: Scoring failed. The score on this train-test partition for these parameters will be set to nan. Details: \n",
      "Traceback (most recent call last):\n",
      "  File \"/home/alessandro/code/NeuralSymbolicRegressionThatScales/env/lib/python3.8/site-packages/sklearn/model_selection/_validation.py\", line 687, in _score\n",
      "    scores = scorer(estimator, X_test, y_test)\n",
      "  File \"/home/alessandro/code/NeuralSymbolicRegressionThatScales/env/lib/python3.8/site-packages/sklearn/metrics/_scorer.py\", line 397, in _passthrough_scorer\n",
      "    return estimator.score(*args, **kwargs)\n",
      "  File \"/home/alessandro/code/eql_jax/est.py\", line 155, in score\n",
      "    return self.get_score(X, y, self._params)\n",
      "  File \"/home/alessandro/code/eql_jax/est.py\", line 148, in get_score\n",
      "    return r2 + np.clip(np.mean(simps), a_min=0.0)\n",
      "  File \"<__array_function__ internals>\", line 4, in clip\n",
      "TypeError: _clip_dispatcher() missing 1 required positional argument: 'a_max'\n",
      "\n",
      "  warnings.warn(\n",
      "/home/alessandro/code/NeuralSymbolicRegressionThatScales/env/lib/python3.8/site-packages/sklearn/model_selection/_validation.py:696: UserWarning: Scoring failed. The score on this train-test partition for these parameters will be set to nan. Details: \n",
      "Traceback (most recent call last):\n",
      "  File \"/home/alessandro/code/NeuralSymbolicRegressionThatScales/env/lib/python3.8/site-packages/sklearn/model_selection/_validation.py\", line 687, in _score\n",
      "    scores = scorer(estimator, X_test, y_test)\n",
      "  File \"/home/alessandro/code/NeuralSymbolicRegressionThatScales/env/lib/python3.8/site-packages/sklearn/metrics/_scorer.py\", line 397, in _passthrough_scorer\n",
      "    return estimator.score(*args, **kwargs)\n",
      "  File \"/home/alessandro/code/eql_jax/est.py\", line 155, in score\n",
      "    return self.get_score(X, y, self._params)\n",
      "  File \"/home/alessandro/code/eql_jax/est.py\", line 148, in get_score\n",
      "    return r2 + np.clip(np.mean(simps), a_min=0.0)\n",
      "  File \"<__array_function__ internals>\", line 4, in clip\n",
      "TypeError: _clip_dispatcher() missing 1 required positional argument: 'a_max'\n",
      "\n",
      "  warnings.warn(\n",
      "/home/alessandro/code/NeuralSymbolicRegressionThatScales/env/lib/python3.8/site-packages/sklearn/model_selection/_validation.py:696: UserWarning: Scoring failed. The score on this train-test partition for these parameters will be set to nan. Details: \n",
      "Traceback (most recent call last):\n",
      "  File \"/home/alessandro/code/NeuralSymbolicRegressionThatScales/env/lib/python3.8/site-packages/sklearn/model_selection/_validation.py\", line 687, in _score\n",
      "    scores = scorer(estimator, X_test, y_test)\n",
      "  File \"/home/alessandro/code/NeuralSymbolicRegressionThatScales/env/lib/python3.8/site-packages/sklearn/metrics/_scorer.py\", line 397, in _passthrough_scorer\n",
      "    return estimator.score(*args, **kwargs)\n",
      "  File \"/home/alessandro/code/eql_jax/est.py\", line 155, in score\n",
      "    return self.get_score(X, y, self._params)\n",
      "  File \"/home/alessandro/code/eql_jax/est.py\", line 148, in get_score\n",
      "    return r2 + np.clip(np.mean(simps), a_min=0.0)\n",
      "  File \"<__array_function__ internals>\", line 4, in clip\n",
      "TypeError: _clip_dispatcher() missing 1 required positional argument: 'a_max'\n",
      "\n",
      "  warnings.warn(\n",
      "/home/alessandro/code/NeuralSymbolicRegressionThatScales/env/lib/python3.8/site-packages/sklearn/model_selection/_validation.py:696: UserWarning: Scoring failed. The score on this train-test partition for these parameters will be set to nan. Details: \n",
      "Traceback (most recent call last):\n",
      "  File \"/home/alessandro/code/NeuralSymbolicRegressionThatScales/env/lib/python3.8/site-packages/sklearn/model_selection/_validation.py\", line 687, in _score\n",
      "    scores = scorer(estimator, X_test, y_test)\n",
      "  File \"/home/alessandro/code/NeuralSymbolicRegressionThatScales/env/lib/python3.8/site-packages/sklearn/metrics/_scorer.py\", line 397, in _passthrough_scorer\n",
      "    return estimator.score(*args, **kwargs)\n",
      "  File \"/home/alessandro/code/eql_jax/est.py\", line 155, in score\n",
      "    return self.get_score(X, y, self._params)\n",
      "  File \"/home/alessandro/code/eql_jax/est.py\", line 148, in get_score\n",
      "    return r2 + np.clip(np.mean(simps), a_min=0.0)\n",
      "  File \"<__array_function__ internals>\", line 4, in clip\n",
      "TypeError: _clip_dispatcher() missing 1 required positional argument: 'a_max'\n",
      "\n",
      "  warnings.warn(\n",
      "/home/alessandro/code/NeuralSymbolicRegressionThatScales/env/lib/python3.8/site-packages/sklearn/model_selection/_validation.py:696: UserWarning: Scoring failed. The score on this train-test partition for these parameters will be set to nan. Details: \n",
      "Traceback (most recent call last):\n",
      "  File \"/home/alessandro/code/NeuralSymbolicRegressionThatScales/env/lib/python3.8/site-packages/sklearn/model_selection/_validation.py\", line 687, in _score\n",
      "    scores = scorer(estimator, X_test, y_test)\n",
      "  File \"/home/alessandro/code/NeuralSymbolicRegressionThatScales/env/lib/python3.8/site-packages/sklearn/metrics/_scorer.py\", line 397, in _passthrough_scorer\n",
      "    return estimator.score(*args, **kwargs)\n",
      "  File \"/home/alessandro/code/eql_jax/est.py\", line 155, in score\n",
      "    return self.get_score(X, y, self._params)\n",
      "  File \"/home/alessandro/code/eql_jax/est.py\", line 148, in get_score\n",
      "    return r2 + np.clip(np.mean(simps), a_min=0.0)\n",
      "  File \"<__array_function__ internals>\", line 4, in clip\n",
      "TypeError: _clip_dispatcher() missing 1 required positional argument: 'a_max'\n",
      "\n",
      "  warnings.warn(\n",
      "/home/alessandro/code/NeuralSymbolicRegressionThatScales/env/lib/python3.8/site-packages/sklearn/model_selection/_validation.py:696: UserWarning: Scoring failed. The score on this train-test partition for these parameters will be set to nan. Details: \n",
      "Traceback (most recent call last):\n",
      "  File \"/home/alessandro/code/NeuralSymbolicRegressionThatScales/env/lib/python3.8/site-packages/sklearn/model_selection/_validation.py\", line 687, in _score\n",
      "    scores = scorer(estimator, X_test, y_test)\n",
      "  File \"/home/alessandro/code/NeuralSymbolicRegressionThatScales/env/lib/python3.8/site-packages/sklearn/metrics/_scorer.py\", line 397, in _passthrough_scorer\n",
      "    return estimator.score(*args, **kwargs)\n",
      "  File \"/home/alessandro/code/eql_jax/est.py\", line 155, in score\n",
      "    return self.get_score(X, y, self._params)\n",
      "  File \"/home/alessandro/code/eql_jax/est.py\", line 148, in get_score\n",
      "    return r2 + np.clip(np.mean(simps), a_min=0.0)\n",
      "  File \"<__array_function__ internals>\", line 4, in clip\n",
      "TypeError: _clip_dispatcher() missing 1 required positional argument: 'a_max'\n",
      "\n",
      "  warnings.warn(\n",
      "/home/alessandro/code/NeuralSymbolicRegressionThatScales/env/lib/python3.8/site-packages/sklearn/model_selection/_validation.py:696: UserWarning: Scoring failed. The score on this train-test partition for these parameters will be set to nan. Details: \n",
      "Traceback (most recent call last):\n",
      "  File \"/home/alessandro/code/NeuralSymbolicRegressionThatScales/env/lib/python3.8/site-packages/sklearn/model_selection/_validation.py\", line 687, in _score\n",
      "    scores = scorer(estimator, X_test, y_test)\n",
      "  File \"/home/alessandro/code/NeuralSymbolicRegressionThatScales/env/lib/python3.8/site-packages/sklearn/metrics/_scorer.py\", line 397, in _passthrough_scorer\n",
      "    return estimator.score(*args, **kwargs)\n",
      "  File \"/home/alessandro/code/eql_jax/est.py\", line 155, in score\n",
      "    return self.get_score(X, y, self._params)\n",
      "  File \"/home/alessandro/code/eql_jax/est.py\", line 148, in get_score\n",
      "    return r2 + np.clip(np.mean(simps), a_min=0.0)\n",
      "  File \"<__array_function__ internals>\", line 4, in clip\n",
      "TypeError: _clip_dispatcher() missing 1 required positional argument: 'a_max'\n",
      "\n",
      "  warnings.warn(\n",
      "/home/alessandro/code/NeuralSymbolicRegressionThatScales/env/lib/python3.8/site-packages/sklearn/model_selection/_validation.py:696: UserWarning: Scoring failed. The score on this train-test partition for these parameters will be set to nan. Details: \n",
      "Traceback (most recent call last):\n",
      "  File \"/home/alessandro/code/NeuralSymbolicRegressionThatScales/env/lib/python3.8/site-packages/sklearn/model_selection/_validation.py\", line 687, in _score\n",
      "    scores = scorer(estimator, X_test, y_test)\n",
      "  File \"/home/alessandro/code/NeuralSymbolicRegressionThatScales/env/lib/python3.8/site-packages/sklearn/metrics/_scorer.py\", line 397, in _passthrough_scorer\n",
      "    return estimator.score(*args, **kwargs)\n",
      "  File \"/home/alessandro/code/eql_jax/est.py\", line 155, in score\n",
      "    return self.get_score(X, y, self._params)\n",
      "  File \"/home/alessandro/code/eql_jax/est.py\", line 148, in get_score\n",
      "    return r2 + np.clip(np.mean(simps), a_min=0.0)\n",
      "  File \"<__array_function__ internals>\", line 4, in clip\n",
      "TypeError: _clip_dispatcher() missing 1 required positional argument: 'a_max'\n",
      "\n",
      "  warnings.warn(\n",
      "/home/alessandro/code/NeuralSymbolicRegressionThatScales/env/lib/python3.8/site-packages/sklearn/model_selection/_validation.py:696: UserWarning: Scoring failed. The score on this train-test partition for these parameters will be set to nan. Details: \n",
      "Traceback (most recent call last):\n",
      "  File \"/home/alessandro/code/NeuralSymbolicRegressionThatScales/env/lib/python3.8/site-packages/sklearn/model_selection/_validation.py\", line 687, in _score\n",
      "    scores = scorer(estimator, X_test, y_test)\n",
      "  File \"/home/alessandro/code/NeuralSymbolicRegressionThatScales/env/lib/python3.8/site-packages/sklearn/metrics/_scorer.py\", line 397, in _passthrough_scorer\n",
      "    return estimator.score(*args, **kwargs)\n",
      "  File \"/home/alessandro/code/eql_jax/est.py\", line 155, in score\n",
      "    return self.get_score(X, y, self._params)\n",
      "  File \"/home/alessandro/code/eql_jax/est.py\", line 148, in get_score\n",
      "    return r2 + np.clip(np.mean(simps), a_min=0.0)\n",
      "  File \"<__array_function__ internals>\", line 4, in clip\n",
      "TypeError: _clip_dispatcher() missing 1 required positional argument: 'a_max'\n",
      "\n",
      "  warnings.warn(\n",
      "/home/alessandro/code/NeuralSymbolicRegressionThatScales/env/lib/python3.8/site-packages/sklearn/model_selection/_validation.py:696: UserWarning: Scoring failed. The score on this train-test partition for these parameters will be set to nan. Details: \n",
      "Traceback (most recent call last):\n",
      "  File \"/home/alessandro/code/NeuralSymbolicRegressionThatScales/env/lib/python3.8/site-packages/sklearn/model_selection/_validation.py\", line 687, in _score\n",
      "    scores = scorer(estimator, X_test, y_test)\n",
      "  File \"/home/alessandro/code/NeuralSymbolicRegressionThatScales/env/lib/python3.8/site-packages/sklearn/metrics/_scorer.py\", line 397, in _passthrough_scorer\n",
      "    return estimator.score(*args, **kwargs)\n",
      "  File \"/home/alessandro/code/eql_jax/est.py\", line 155, in score\n",
      "    return self.get_score(X, y, self._params)\n",
      "  File \"/home/alessandro/code/eql_jax/est.py\", line 148, in get_score\n",
      "    return r2 + np.clip(np.mean(simps), a_min=0.0)\n",
      "  File \"<__array_function__ internals>\", line 4, in clip\n",
      "TypeError: _clip_dispatcher() missing 1 required positional argument: 'a_max'\n",
      "\n",
      "  warnings.warn(\n",
      "/home/alessandro/code/NeuralSymbolicRegressionThatScales/env/lib/python3.8/site-packages/sklearn/model_selection/_validation.py:696: UserWarning: Scoring failed. The score on this train-test partition for these parameters will be set to nan. Details: \n",
      "Traceback (most recent call last):\n",
      "  File \"/home/alessandro/code/NeuralSymbolicRegressionThatScales/env/lib/python3.8/site-packages/sklearn/model_selection/_validation.py\", line 687, in _score\n",
      "    scores = scorer(estimator, X_test, y_test)\n",
      "  File \"/home/alessandro/code/NeuralSymbolicRegressionThatScales/env/lib/python3.8/site-packages/sklearn/metrics/_scorer.py\", line 397, in _passthrough_scorer\n",
      "    return estimator.score(*args, **kwargs)\n",
      "  File \"/home/alessandro/code/eql_jax/est.py\", line 155, in score\n",
      "    return self.get_score(X, y, self._params)\n",
      "  File \"/home/alessandro/code/eql_jax/est.py\", line 148, in get_score\n",
      "    return r2 + np.clip(np.mean(simps), a_min=0.0)\n",
      "  File \"<__array_function__ internals>\", line 4, in clip\n",
      "TypeError: _clip_dispatcher() missing 1 required positional argument: 'a_max'\n",
      "\n",
      "  warnings.warn(\n",
      "/home/alessandro/code/NeuralSymbolicRegressionThatScales/env/lib/python3.8/site-packages/sklearn/model_selection/_validation.py:696: UserWarning: Scoring failed. The score on this train-test partition for these parameters will be set to nan. Details: \n",
      "Traceback (most recent call last):\n",
      "  File \"/home/alessandro/code/NeuralSymbolicRegressionThatScales/env/lib/python3.8/site-packages/sklearn/model_selection/_validation.py\", line 687, in _score\n",
      "    scores = scorer(estimator, X_test, y_test)\n",
      "  File \"/home/alessandro/code/NeuralSymbolicRegressionThatScales/env/lib/python3.8/site-packages/sklearn/metrics/_scorer.py\", line 397, in _passthrough_scorer\n",
      "    return estimator.score(*args, **kwargs)\n",
      "  File \"/home/alessandro/code/eql_jax/est.py\", line 155, in score\n",
      "    return self.get_score(X, y, self._params)\n",
      "  File \"/home/alessandro/code/eql_jax/est.py\", line 148, in get_score\n",
      "    return r2 + np.clip(np.mean(simps), a_min=0.0)\n",
      "  File \"<__array_function__ internals>\", line 4, in clip\n",
      "TypeError: _clip_dispatcher() missing 1 required positional argument: 'a_max'\n",
      "\n",
      "  warnings.warn(\n",
      "/home/alessandro/code/NeuralSymbolicRegressionThatScales/env/lib/python3.8/site-packages/sklearn/model_selection/_validation.py:696: UserWarning: Scoring failed. The score on this train-test partition for these parameters will be set to nan. Details: \n",
      "Traceback (most recent call last):\n",
      "  File \"/home/alessandro/code/NeuralSymbolicRegressionThatScales/env/lib/python3.8/site-packages/sklearn/model_selection/_validation.py\", line 687, in _score\n",
      "    scores = scorer(estimator, X_test, y_test)\n",
      "  File \"/home/alessandro/code/NeuralSymbolicRegressionThatScales/env/lib/python3.8/site-packages/sklearn/metrics/_scorer.py\", line 397, in _passthrough_scorer\n",
      "    return estimator.score(*args, **kwargs)\n",
      "  File \"/home/alessandro/code/eql_jax/est.py\", line 155, in score\n",
      "    return self.get_score(X, y, self._params)\n",
      "  File \"/home/alessandro/code/eql_jax/est.py\", line 148, in get_score\n",
      "    return r2 + np.clip(np.mean(simps), a_min=0.0)\n",
      "  File \"<__array_function__ internals>\", line 4, in clip\n",
      "TypeError: _clip_dispatcher() missing 1 required positional argument: 'a_max'\n",
      "\n",
      "  warnings.warn(\n"
     ]
    },
    {
     "name": "stderr",
     "output_type": "stream",
     "text": [
      "/home/alessandro/code/NeuralSymbolicRegressionThatScales/env/lib/python3.8/site-packages/sklearn/model_selection/_search.py:922: UserWarning: One or more of the test scores are non-finite: [nan nan nan nan nan nan nan nan nan nan nan nan nan nan nan nan nan nan\n",
      " nan nan nan nan nan nan]\n",
      "  warnings.warn(\n"
     ]
    },
    {
     "data": {
      "text/plain": [
       "DeviceArray(1.172192, dtype=float32)"
      ]
     },
     "execution_count": 28,
     "metadata": {},
     "output_type": "execute_result"
    }
   ],
   "source": [
    "cv.fit(x[:,None], y)\n",
    "cv.score(x[:,None], y)"
   ]
  },
  {
   "cell_type": "code",
   "execution_count": null,
   "id": "3f3dc6b1",
   "metadata": {
    "ExecuteTime": {
     "end_time": "2022-04-24T16:42:22.629750Z",
     "start_time": "2022-04-24T16:42:22.333484Z"
    }
   },
   "outputs": [
    {
     "data": {
      "text/plain": [
       "[<matplotlib.lines.Line2D at 0x7f71db5d0970>]"
      ]
     },
     "execution_count": 29,
     "metadata": {},
     "output_type": "execute_result"
    },
    {
     "data": {
      "image/png": "[encoded data removed]",
      "text/plain": [
       "<Figure size 432x288 with 1 Axes>"
      ]
     },
     "metadata": {
      "needs_background": "light"
     },
     "output_type": "display_data"
    }
   ],
   "source": [
    "plt.plot(cv.best_estimator_.predict(x[:,None]))\n",
    "plt.plot(y)"
   ]
  },
  {
   "cell_type": "code",
   "execution_count": null,
   "id": "1920f58b",
   "metadata": {
    "ExecuteTime": {
     "end_time": "2022-04-24T16:42:26.736630Z",
     "start_time": "2022-04-24T16:42:26.642372Z"
    }
   },
   "outputs": [
    {
     "data": {
      "text/plain": [
       "[0.317*x0 - 0.178*(0.131*x0 - 1.56)*(0.633*x0 - 0.198) + 0.00299*(0.23*x0 - 0.02)*(x0 - 0.089)**2 - 2.25*cos(0.314*x0 + 1.58) + 4.78]"
      ]
     },
     "execution_count": 30,
     "metadata": {},
     "output_type": "execute_result"
    },
    {
     "name": "stdout",
     "output_type": "stream",
     "text": [
      "[CV 2/2] END functions=id;mul;cos;square;cube, n_layers=1, reg=0.001;, score=nan total time=  42.2s\n",
      "[CV 2/2] END functions=id;mul;cos;square;cube, n_layers=1, reg=0.001;, score=nan total time=  45.0s\n",
      "[CV 2/2] END functions=id;mul;cos;square;cube, n_layers=1, reg=0.01;, score=nan total time=  46.2s\n",
      "[CV 1/2] END functions=id;mul;cos;square;cube, n_layers=2, reg=0.001;, score=nan total time= 1.7min\n",
      "[CV 2/2] END functions=id;mul;cos;square;cube, n_layers=2, reg=0.001;, score=nan total time= 1.3min\n",
      "[CV 2/2] END functions=id;mul;cos;square;cube, n_layers=2, reg=0.1;, score=nan total time= 1.4min\n",
      "[CV 1/2] END functions=id;cos;div;mul;sin, n_layers=1, reg=0.1;, score=nan total time=  47.0s\n",
      "[CV 1/2] END functions=id;cos;div;mul;sin, n_layers=1, reg=0.01;, score=nan total time=  48.1s\n",
      "[CV 1/2] END functions=id;cos;div;mul;sin, n_layers=2, reg=0.001;, score=nan total time= 1.3min\n",
      "[CV 2/2] END functions=id;cos;div;mul;sin, n_layers=2, reg=0.1;, score=nan total time= 1.5min\n",
      "[CV 1/2] END functions=id;cos;div;mul;sin, n_layers=2, reg=0.01;, score=nan total time= 1.3min\n"
     ]
    },
    {
     "name": "stderr",
     "output_type": "stream",
     "text": [
      "/home/alessandro/code/NeuralSymbolicRegressionThatScales/env/lib/python3.8/site-packages/sklearn/model_selection/_validation.py:696: UserWarning: Scoring failed. The score on this train-test partition for these parameters will be set to nan. Details: \n",
      "Traceback (most recent call last):\n",
      "  File \"/home/alessandro/code/NeuralSymbolicRegressionThatScales/env/lib/python3.8/site-packages/sklearn/model_selection/_validation.py\", line 687, in _score\n",
      "    scores = scorer(estimator, X_test, y_test)\n",
      "  File \"/home/alessandro/code/NeuralSymbolicRegressionThatScales/env/lib/python3.8/site-packages/sklearn/metrics/_scorer.py\", line 397, in _passthrough_scorer\n",
      "    return estimator.score(*args, **kwargs)\n",
      "  File \"/home/alessandro/code/eql_jax/est.py\", line 155, in score\n",
      "    return self.get_score(X, y, self._params)\n",
      "  File \"/home/alessandro/code/eql_jax/est.py\", line 148, in get_score\n",
      "    return r2 + np.clip(np.mean(simps), a_min=0.0)\n",
      "  File \"<__array_function__ internals>\", line 4, in clip\n",
      "TypeError: _clip_dispatcher() missing 1 required positional argument: 'a_max'\n",
      "\n",
      "  warnings.warn(\n",
      "/home/alessandro/code/NeuralSymbolicRegressionThatScales/env/lib/python3.8/site-packages/sklearn/model_selection/_validation.py:696: UserWarning: Scoring failed. The score on this train-test partition for these parameters will be set to nan. Details: \n",
      "Traceback (most recent call last):\n",
      "  File \"/home/alessandro/code/NeuralSymbolicRegressionThatScales/env/lib/python3.8/site-packages/sklearn/model_selection/_validation.py\", line 687, in _score\n",
      "    scores = scorer(estimator, X_test, y_test)\n",
      "  File \"/home/alessandro/code/NeuralSymbolicRegressionThatScales/env/lib/python3.8/site-packages/sklearn/metrics/_scorer.py\", line 397, in _passthrough_scorer\n",
      "    return estimator.score(*args, **kwargs)\n",
      "  File \"/home/alessandro/code/eql_jax/est.py\", line 155, in score\n",
      "    return self.get_score(X, y, self._params)\n",
      "  File \"/home/alessandro/code/eql_jax/est.py\", line 148, in get_score\n",
      "    return r2 + np.clip(np.mean(simps), a_min=0.0)\n",
      "  File \"<__array_function__ internals>\", line 4, in clip\n",
      "TypeError: _clip_dispatcher() missing 1 required positional argument: 'a_max'\n",
      "\n",
      "  warnings.warn(\n",
      "/home/alessandro/code/NeuralSymbolicRegressionThatScales/env/lib/python3.8/site-packages/sklearn/model_selection/_validation.py:696: UserWarning: Scoring failed. The score on this train-test partition for these parameters will be set to nan. Details: \n",
      "Traceback (most recent call last):\n",
      "  File \"/home/alessandro/code/NeuralSymbolicRegressionThatScales/env/lib/python3.8/site-packages/sklearn/model_selection/_validation.py\", line 687, in _score\n",
      "    scores = scorer(estimator, X_test, y_test)\n",
      "  File \"/home/alessandro/code/NeuralSymbolicRegressionThatScales/env/lib/python3.8/site-packages/sklearn/metrics/_scorer.py\", line 397, in _passthrough_scorer\n",
      "    return estimator.score(*args, **kwargs)\n",
      "  File \"/home/alessandro/code/eql_jax/est.py\", line 155, in score\n",
      "    return self.get_score(X, y, self._params)\n",
      "  File \"/home/alessandro/code/eql_jax/est.py\", line 148, in get_score\n",
      "    return r2 + np.clip(np.mean(simps), a_min=0.0)\n",
      "  File \"<__array_function__ internals>\", line 4, in clip\n",
      "TypeError: _clip_dispatcher() missing 1 required positional argument: 'a_max'\n",
      "\n",
      "  warnings.warn(\n",
      "/home/alessandro/code/NeuralSymbolicRegressionThatScales/env/lib/python3.8/site-packages/sklearn/model_selection/_validation.py:696: UserWarning: Scoring failed. The score on this train-test partition for these parameters will be set to nan. Details: \n",
      "Traceback (most recent call last):\n",
      "  File \"/home/alessandro/code/NeuralSymbolicRegressionThatScales/env/lib/python3.8/site-packages/sklearn/model_selection/_validation.py\", line 687, in _score\n",
      "    scores = scorer(estimator, X_test, y_test)\n",
      "  File \"/home/alessandro/code/NeuralSymbolicRegressionThatScales/env/lib/python3.8/site-packages/sklearn/metrics/_scorer.py\", line 397, in _passthrough_scorer\n",
      "    return estimator.score(*args, **kwargs)\n",
      "  File \"/home/alessandro/code/eql_jax/est.py\", line 155, in score\n",
      "    return self.get_score(X, y, self._params)\n",
      "  File \"/home/alessandro/code/eql_jax/est.py\", line 148, in get_score\n",
      "    return r2 + np.clip(np.mean(simps), a_min=0.0)\n",
      "  File \"<__array_function__ internals>\", line 4, in clip\n",
      "TypeError: _clip_dispatcher() missing 1 required positional argument: 'a_max'\n",
      "\n",
      "  warnings.warn(\n",
      "/home/alessandro/code/NeuralSymbolicRegressionThatScales/env/lib/python3.8/site-packages/sklearn/model_selection/_validation.py:696: UserWarning: Scoring failed. The score on this train-test partition for these parameters will be set to nan. Details: \n",
      "Traceback (most recent call last):\n",
      "  File \"/home/alessandro/code/NeuralSymbolicRegressionThatScales/env/lib/python3.8/site-packages/sklearn/model_selection/_validation.py\", line 687, in _score\n",
      "    scores = scorer(estimator, X_test, y_test)\n",
      "  File \"/home/alessandro/code/NeuralSymbolicRegressionThatScales/env/lib/python3.8/site-packages/sklearn/metrics/_scorer.py\", line 397, in _passthrough_scorer\n",
      "    return estimator.score(*args, **kwargs)\n",
      "  File \"/home/alessandro/code/eql_jax/est.py\", line 155, in score\n",
      "    return self.get_score(X, y, self._params)\n",
      "  File \"/home/alessandro/code/eql_jax/est.py\", line 148, in get_score\n",
      "    return r2 + np.clip(np.mean(simps), a_min=0.0)\n",
      "  File \"<__array_function__ internals>\", line 4, in clip\n",
      "TypeError: _clip_dispatcher() missing 1 required positional argument: 'a_max'\n",
      "\n",
      "  warnings.warn(\n",
      "/home/alessandro/code/NeuralSymbolicRegressionThatScales/env/lib/python3.8/site-packages/sklearn/model_selection/_validation.py:696: UserWarning: Scoring failed. The score on this train-test partition for these parameters will be set to nan. Details: \n",
      "Traceback (most recent call last):\n",
      "  File \"/home/alessandro/code/NeuralSymbolicRegressionThatScales/env/lib/python3.8/site-packages/sklearn/model_selection/_validation.py\", line 687, in _score\n",
      "    scores = scorer(estimator, X_test, y_test)\n",
      "  File \"/home/alessandro/code/NeuralSymbolicRegressionThatScales/env/lib/python3.8/site-packages/sklearn/metrics/_scorer.py\", line 397, in _passthrough_scorer\n",
      "    return estimator.score(*args, **kwargs)\n",
      "  File \"/home/alessandro/code/eql_jax/est.py\", line 155, in score\n",
      "    return self.get_score(X, y, self._params)\n",
      "  File \"/home/alessandro/code/eql_jax/est.py\", line 148, in get_score\n",
      "    return r2 + np.clip(np.mean(simps), a_min=0.0)\n",
      "  File \"<__array_function__ internals>\", line 4, in clip\n",
      "TypeError: _clip_dispatcher() missing 1 required positional argument: 'a_max'\n",
      "\n",
      "  warnings.warn(\n",
      "/home/alessandro/code/NeuralSymbolicRegressionThatScales/env/lib/python3.8/site-packages/sklearn/model_selection/_validation.py:696: UserWarning: Scoring failed. The score on this train-test partition for these parameters will be set to nan. Details: \n",
      "Traceback (most recent call last):\n",
      "  File \"/home/alessandro/code/NeuralSymbolicRegressionThatScales/env/lib/python3.8/site-packages/sklearn/model_selection/_validation.py\", line 687, in _score\n",
      "    scores = scorer(estimator, X_test, y_test)\n",
      "  File \"/home/alessandro/code/NeuralSymbolicRegressionThatScales/env/lib/python3.8/site-packages/sklearn/metrics/_scorer.py\", line 397, in _passthrough_scorer\n",
      "    return estimator.score(*args, **kwargs)\n",
      "  File \"/home/alessandro/code/eql_jax/est.py\", line 155, in score\n",
      "    return self.get_score(X, y, self._params)\n",
      "  File \"/home/alessandro/code/eql_jax/est.py\", line 148, in get_score\n",
      "    return r2 + np.clip(np.mean(simps), a_min=0.0)\n",
      "  File \"<__array_function__ internals>\", line 4, in clip\n",
      "TypeError: _clip_dispatcher() missing 1 required positional argument: 'a_max'\n",
      "\n",
      "  warnings.warn(\n",
      "/home/alessandro/code/NeuralSymbolicRegressionThatScales/env/lib/python3.8/site-packages/sklearn/model_selection/_validation.py:696: UserWarning: Scoring failed. The score on this train-test partition for these parameters will be set to nan. Details: \n",
      "Traceback (most recent call last):\n",
      "  File \"/home/alessandro/code/NeuralSymbolicRegressionThatScales/env/lib/python3.8/site-packages/sklearn/model_selection/_validation.py\", line 687, in _score\n",
      "    scores = scorer(estimator, X_test, y_test)\n",
      "  File \"/home/alessandro/code/NeuralSymbolicRegressionThatScales/env/lib/python3.8/site-packages/sklearn/metrics/_scorer.py\", line 397, in _passthrough_scorer\n",
      "    return estimator.score(*args, **kwargs)\n",
      "  File \"/home/alessandro/code/eql_jax/est.py\", line 155, in score\n",
      "    return self.get_score(X, y, self._params)\n",
      "  File \"/home/alessandro/code/eql_jax/est.py\", line 148, in get_score\n",
      "    return r2 + np.clip(np.mean(simps), a_min=0.0)\n",
      "  File \"<__array_function__ internals>\", line 4, in clip\n",
      "TypeError: _clip_dispatcher() missing 1 required positional argument: 'a_max'\n",
      "\n",
      "  warnings.warn(\n",
      "/home/alessandro/code/NeuralSymbolicRegressionThatScales/env/lib/python3.8/site-packages/sklearn/model_selection/_validation.py:696: UserWarning: Scoring failed. The score on this train-test partition for these parameters will be set to nan. Details: \n",
      "Traceback (most recent call last):\n",
      "  File \"/home/alessandro/code/NeuralSymbolicRegressionThatScales/env/lib/python3.8/site-packages/sklearn/model_selection/_validation.py\", line 687, in _score\n",
      "    scores = scorer(estimator, X_test, y_test)\n",
      "  File \"/home/alessandro/code/NeuralSymbolicRegressionThatScales/env/lib/python3.8/site-packages/sklearn/metrics/_scorer.py\", line 397, in _passthrough_scorer\n",
      "    return estimator.score(*args, **kwargs)\n",
      "  File \"/home/alessandro/code/eql_jax/est.py\", line 155, in score\n",
      "    return self.get_score(X, y, self._params)\n",
      "  File \"/home/alessandro/code/eql_jax/est.py\", line 148, in get_score\n",
      "    return r2 + np.clip(np.mean(simps), a_min=0.0)\n",
      "  File \"<__array_function__ internals>\", line 4, in clip\n",
      "TypeError: _clip_dispatcher() missing 1 required positional argument: 'a_max'\n",
      "\n",
      "  warnings.warn(\n"
     ]
    },
    {
     "name": "stdout",
     "output_type": "stream",
     "text": [
      "[CV 2/2] END functions=id;mul;cos;square;cube, n_layers=1, reg=0.01;, score=nan total time=  41.8s\n",
      "[CV 1/2] END functions=id;mul;cos;square;cube, n_layers=1, reg=0.001;, score=nan total time=  47.2s\n",
      "[CV 1/2] END functions=id;mul;cos;square;cube, n_layers=1, reg=0.1;, score=nan total time=  47.6s\n",
      "[CV 2/2] END functions=id;mul;cos;square;cube, n_layers=2, reg=0.001;, score=nan total time= 1.1min\n",
      "[CV 1/2] END functions=id;mul;cos;square;cube, n_layers=2, reg=0.1;, score=nan total time= 1.1min\n",
      "[CV 1/2] END functions=id;mul;cos;square;cube, n_layers=2, reg=0.01;, score=nan total time= 1.3min\n",
      "[CV 2/2] END functions=id;cos;div;mul;sin, n_layers=1, reg=0.001;, score=nan total time=  47.9s\n",
      "[CV 2/2] END functions=id;cos;div;mul;sin, n_layers=1, reg=0.1;, score=nan total time=  46.9s\n",
      "[CV 2/2] END functions=id;cos;div;mul;sin, n_layers=1, reg=0.01;, score=nan total time=  47.1s\n",
      "[CV 2/2] END functions=id;cos;div;mul;sin, n_layers=2, reg=0.001;, score=nan total time= 1.2min\n",
      "[CV 1/2] END functions=id;cos;div;mul;sin, n_layers=2, reg=0.1;, score=nan total time= 1.6min\n",
      "[CV 2/2] END functions=id;cos;div;mul;sin, n_layers=2, reg=0.01;, score=nan total time= 1.3min\n",
      "[CV 1/2] END functions=id;mul;cos;square;cube, n_layers=1, reg=0.01;, score=nan total time=  41.3s\n",
      "[CV 2/2] END functions=id;mul;cos;square;cube, n_layers=1, reg=0.1;, score=nan total time=  48.9s\n",
      "[CV 2/2] END functions=id;mul;cos;square;cube, n_layers=1, reg=0.1;, score=nan total time=  49.7s\n",
      "[CV 1/2] END functions=id;mul;cos;square;cube, n_layers=2, reg=0.01;, score=nan total time= 1.1min\n",
      "[CV 2/2] END functions=id;mul;cos;square;cube, n_layers=2, reg=0.1;, score=nan total time= 1.2min\n",
      "[CV 2/2] END functions=id;mul;cos;square;cube, n_layers=2, reg=0.01;, score=nan total time= 1.1min\n",
      "[CV 1/2] END functions=id;cos;div;mul;sin, n_layers=1, reg=0.001;, score=nan total time=  48.4s\n",
      "[CV 1/2] END functions=id;cos;div;mul;sin, n_layers=1, reg=0.01;, score=nan total time=  47.2s\n",
      "[CV 1/2] END functions=id;cos;div;mul;sin, n_layers=1, reg=0.001;, score=nan total time=  46.9s\n",
      "[CV 1/2] END functions=id;cos;div;mul;sin, n_layers=1, reg=0.1;, score=nan total time=  45.9s\n",
      "[CV 1/2] END functions=id;cos;div;mul;sin, n_layers=2, reg=0.01;, score=nan total time= 1.5min\n",
      "[CV 1/2] END functions=id;cos;div;mul;sin, n_layers=2, reg=0.001;, score=nan total time= 1.3min\n",
      "[CV 1/2] END functions=id;cos;div;mul;sin, n_layers=2, reg=0.1;, score=nan total time= 1.0min\n"
     ]
    },
    {
     "name": "stderr",
     "output_type": "stream",
     "text": [
      "/home/alessandro/code/NeuralSymbolicRegressionThatScales/env/lib/python3.8/site-packages/sklearn/model_selection/_validation.py:696: UserWarning: Scoring failed. The score on this train-test partition for these parameters will be set to nan. Details: \n",
      "Traceback (most recent call last):\n",
      "  File \"/home/alessandro/code/NeuralSymbolicRegressionThatScales/env/lib/python3.8/site-packages/sklearn/model_selection/_validation.py\", line 687, in _score\n",
      "    scores = scorer(estimator, X_test, y_test)\n",
      "  File \"/home/alessandro/code/NeuralSymbolicRegressionThatScales/env/lib/python3.8/site-packages/sklearn/metrics/_scorer.py\", line 397, in _passthrough_scorer\n",
      "    return estimator.score(*args, **kwargs)\n",
      "  File \"/home/alessandro/code/eql_jax/est.py\", line 155, in score\n",
      "    return self.get_score(X, y, self._params)\n",
      "  File \"/home/alessandro/code/eql_jax/est.py\", line 148, in get_score\n",
      "    return r2 + np.clip(np.mean(simps), a_min=0.0)\n",
      "  File \"<__array_function__ internals>\", line 4, in clip\n",
      "TypeError: _clip_dispatcher() missing 1 required positional argument: 'a_max'\n",
      "\n",
      "  warnings.warn(\n",
      "/home/alessandro/code/NeuralSymbolicRegressionThatScales/env/lib/python3.8/site-packages/sklearn/model_selection/_validation.py:696: UserWarning: Scoring failed. The score on this train-test partition for these parameters will be set to nan. Details: \n",
      "Traceback (most recent call last):\n",
      "  File \"/home/alessandro/code/NeuralSymbolicRegressionThatScales/env/lib/python3.8/site-packages/sklearn/model_selection/_validation.py\", line 687, in _score\n",
      "    scores = scorer(estimator, X_test, y_test)\n",
      "  File \"/home/alessandro/code/NeuralSymbolicRegressionThatScales/env/lib/python3.8/site-packages/sklearn/metrics/_scorer.py\", line 397, in _passthrough_scorer\n",
      "    return estimator.score(*args, **kwargs)\n",
      "  File \"/home/alessandro/code/eql_jax/est.py\", line 155, in score\n",
      "    return self.get_score(X, y, self._params)\n",
      "  File \"/home/alessandro/code/eql_jax/est.py\", line 148, in get_score\n",
      "    return r2 + np.clip(np.mean(simps), a_min=0.0)\n",
      "  File \"<__array_function__ internals>\", line 4, in clip\n",
      "TypeError: _clip_dispatcher() missing 1 required positional argument: 'a_max'\n",
      "\n",
      "  warnings.warn(\n",
      "/home/alessandro/code/NeuralSymbolicRegressionThatScales/env/lib/python3.8/site-packages/sklearn/model_selection/_validation.py:696: UserWarning: Scoring failed. The score on this train-test partition for these parameters will be set to nan. Details: \n",
      "Traceback (most recent call last):\n",
      "  File \"/home/alessandro/code/NeuralSymbolicRegressionThatScales/env/lib/python3.8/site-packages/sklearn/model_selection/_validation.py\", line 687, in _score\n",
      "    scores = scorer(estimator, X_test, y_test)\n",
      "  File \"/home/alessandro/code/NeuralSymbolicRegressionThatScales/env/lib/python3.8/site-packages/sklearn/metrics/_scorer.py\", line 397, in _passthrough_scorer\n",
      "    return estimator.score(*args, **kwargs)\n",
      "  File \"/home/alessandro/code/eql_jax/est.py\", line 155, in score\n",
      "    return self.get_score(X, y, self._params)\n",
      "  File \"/home/alessandro/code/eql_jax/est.py\", line 148, in get_score\n",
      "    return r2 + np.clip(np.mean(simps), a_min=0.0)\n",
      "  File \"<__array_function__ internals>\", line 4, in clip\n",
      "TypeError: _clip_dispatcher() missing 1 required positional argument: 'a_max'\n",
      "\n",
      "  warnings.warn(\n",
      "/home/alessandro/code/NeuralSymbolicRegressionThatScales/env/lib/python3.8/site-packages/sklearn/model_selection/_validation.py:696: UserWarning: Scoring failed. The score on this train-test partition for these parameters will be set to nan. Details: \n",
      "Traceback (most recent call last):\n",
      "  File \"/home/alessandro/code/NeuralSymbolicRegressionThatScales/env/lib/python3.8/site-packages/sklearn/model_selection/_validation.py\", line 687, in _score\n",
      "    scores = scorer(estimator, X_test, y_test)\n",
      "  File \"/home/alessandro/code/NeuralSymbolicRegressionThatScales/env/lib/python3.8/site-packages/sklearn/metrics/_scorer.py\", line 397, in _passthrough_scorer\n",
      "    return estimator.score(*args, **kwargs)\n",
      "  File \"/home/alessandro/code/eql_jax/est.py\", line 155, in score\n",
      "    return self.get_score(X, y, self._params)\n",
      "  File \"/home/alessandro/code/eql_jax/est.py\", line 148, in get_score\n",
      "    return r2 + np.clip(np.mean(simps), a_min=0.0)\n",
      "  File \"<__array_function__ internals>\", line 4, in clip\n",
      "TypeError: _clip_dispatcher() missing 1 required positional argument: 'a_max'\n",
      "\n",
      "  warnings.warn(\n",
      "/home/alessandro/code/NeuralSymbolicRegressionThatScales/env/lib/python3.8/site-packages/sklearn/model_selection/_validation.py:696: UserWarning: Scoring failed. The score on this train-test partition for these parameters will be set to nan. Details: \n",
      "Traceback (most recent call last):\n",
      "  File \"/home/alessandro/code/NeuralSymbolicRegressionThatScales/env/lib/python3.8/site-packages/sklearn/model_selection/_validation.py\", line 687, in _score\n",
      "    scores = scorer(estimator, X_test, y_test)\n",
      "  File \"/home/alessandro/code/NeuralSymbolicRegressionThatScales/env/lib/python3.8/site-packages/sklearn/metrics/_scorer.py\", line 397, in _passthrough_scorer\n",
      "    return estimator.score(*args, **kwargs)\n",
      "  File \"/home/alessandro/code/eql_jax/est.py\", line 155, in score\n",
      "    return self.get_score(X, y, self._params)\n",
      "  File \"/home/alessandro/code/eql_jax/est.py\", line 148, in get_score\n",
      "    return r2 + np.clip(np.mean(simps), a_min=0.0)\n",
      "  File \"<__array_function__ internals>\", line 4, in clip\n",
      "TypeError: _clip_dispatcher() missing 1 required positional argument: 'a_max'\n",
      "\n",
      "  warnings.warn(\n",
      "/home/alessandro/code/NeuralSymbolicRegressionThatScales/env/lib/python3.8/site-packages/sklearn/model_selection/_validation.py:696: UserWarning: Scoring failed. The score on this train-test partition for these parameters will be set to nan. Details: \n",
      "Traceback (most recent call last):\n",
      "  File \"/home/alessandro/code/NeuralSymbolicRegressionThatScales/env/lib/python3.8/site-packages/sklearn/model_selection/_validation.py\", line 687, in _score\n",
      "    scores = scorer(estimator, X_test, y_test)\n",
      "  File \"/home/alessandro/code/NeuralSymbolicRegressionThatScales/env/lib/python3.8/site-packages/sklearn/metrics/_scorer.py\", line 397, in _passthrough_scorer\n",
      "    return estimator.score(*args, **kwargs)\n",
      "  File \"/home/alessandro/code/eql_jax/est.py\", line 155, in score\n",
      "    return self.get_score(X, y, self._params)\n",
      "  File \"/home/alessandro/code/eql_jax/est.py\", line 148, in get_score\n",
      "    return r2 + np.clip(np.mean(simps), a_min=0.0)\n",
      "  File \"<__array_function__ internals>\", line 4, in clip\n",
      "TypeError: _clip_dispatcher() missing 1 required positional argument: 'a_max'\n",
      "\n",
      "  warnings.warn(\n"
     ]
    },
    {
     "name": "stdout",
     "output_type": "stream",
     "text": [
      "[CV 1/2] END functions=id;mul;cos;square;cube, n_layers=1, reg=0.001;, score=nan total time=  41.1s\n",
      "[CV 1/2] END functions=id;mul;cos;square;cube, n_layers=1, reg=0.1;, score=nan total time=  46.0s\n",
      "[CV 1/2] END functions=id;mul;cos;square;cube, n_layers=1, reg=0.01;, score=nan total time=  56.6s\n",
      "[CV 2/2] END functions=id;mul;cos;square;cube, n_layers=2, reg=0.01;, score=nan total time= 1.5min\n",
      "[CV 1/2] END functions=id;mul;cos;square;cube, n_layers=2, reg=0.001;, score=nan total time= 1.2min\n",
      "[CV 1/2] END functions=id;mul;cos;square;cube, n_layers=2, reg=0.1;, score=nan total time= 1.4min\n",
      "[CV 2/2] END functions=id;cos;div;mul;sin, n_layers=1, reg=0.01;, score=nan total time=  47.4s\n",
      "[CV 2/2] END functions=id;cos;div;mul;sin, n_layers=1, reg=0.001;, score=nan total time=  47.8s\n",
      "[CV 2/2] END functions=id;cos;div;mul;sin, n_layers=1, reg=0.1;, score=nan total time=  50.4s\n",
      "[CV 2/2] END functions=id;cos;div;mul;sin, n_layers=2, reg=0.01;, score=nan total time= 1.5min\n",
      "[CV 2/2] END functions=id;cos;div;mul;sin, n_layers=2, reg=0.001;, score=nan total time= 1.4min\n",
      "[CV 2/2] END functions=id;cos;div;mul;sin, n_layers=2, reg=0.1;, score=nan total time=  56.5s\n"
     ]
    },
    {
     "name": "stderr",
     "output_type": "stream",
     "text": [
      "/home/alessandro/code/NeuralSymbolicRegressionThatScales/env/lib/python3.8/site-packages/sklearn/model_selection/_validation.py:696: UserWarning: Scoring failed. The score on this train-test partition for these parameters will be set to nan. Details: \n",
      "Traceback (most recent call last):\n",
      "  File \"/home/alessandro/code/NeuralSymbolicRegressionThatScales/env/lib/python3.8/site-packages/sklearn/model_selection/_validation.py\", line 687, in _score\n",
      "    scores = scorer(estimator, X_test, y_test)\n",
      "  File \"/home/alessandro/code/NeuralSymbolicRegressionThatScales/env/lib/python3.8/site-packages/sklearn/metrics/_scorer.py\", line 397, in _passthrough_scorer\n",
      "    return estimator.score(*args, **kwargs)\n",
      "  File \"/home/alessandro/code/eql_jax/est.py\", line 155, in score\n",
      "    return self.get_score(X, y, self._params)\n",
      "  File \"/home/alessandro/code/eql_jax/est.py\", line 148, in get_score\n",
      "    return r2 + np.clip(np.mean(simps), a_min=0.0)\n",
      "  File \"<__array_function__ internals>\", line 4, in clip\n",
      "TypeError: _clip_dispatcher() missing 1 required positional argument: 'a_max'\n",
      "\n",
      "  warnings.warn(\n",
      "/home/alessandro/code/NeuralSymbolicRegressionThatScales/env/lib/python3.8/site-packages/sklearn/model_selection/_validation.py:696: UserWarning: Scoring failed. The score on this train-test partition for these parameters will be set to nan. Details: \n",
      "Traceback (most recent call last):\n",
      "  File \"/home/alessandro/code/NeuralSymbolicRegressionThatScales/env/lib/python3.8/site-packages/sklearn/model_selection/_validation.py\", line 687, in _score\n",
      "    scores = scorer(estimator, X_test, y_test)\n",
      "  File \"/home/alessandro/code/NeuralSymbolicRegressionThatScales/env/lib/python3.8/site-packages/sklearn/metrics/_scorer.py\", line 397, in _passthrough_scorer\n",
      "    return estimator.score(*args, **kwargs)\n",
      "  File \"/home/alessandro/code/eql_jax/est.py\", line 155, in score\n",
      "    return self.get_score(X, y, self._params)\n",
      "  File \"/home/alessandro/code/eql_jax/est.py\", line 148, in get_score\n",
      "    return r2 + np.clip(np.mean(simps), a_min=0.0)\n",
      "  File \"<__array_function__ internals>\", line 4, in clip\n",
      "TypeError: _clip_dispatcher() missing 1 required positional argument: 'a_max'\n",
      "\n",
      "  warnings.warn(\n",
      "/home/alessandro/code/NeuralSymbolicRegressionThatScales/env/lib/python3.8/site-packages/sklearn/model_selection/_validation.py:696: UserWarning: Scoring failed. The score on this train-test partition for these parameters will be set to nan. Details: \n",
      "Traceback (most recent call last):\n",
      "  File \"/home/alessandro/code/NeuralSymbolicRegressionThatScales/env/lib/python3.8/site-packages/sklearn/model_selection/_validation.py\", line 687, in _score\n",
      "    scores = scorer(estimator, X_test, y_test)\n",
      "  File \"/home/alessandro/code/NeuralSymbolicRegressionThatScales/env/lib/python3.8/site-packages/sklearn/metrics/_scorer.py\", line 397, in _passthrough_scorer\n",
      "    return estimator.score(*args, **kwargs)\n",
      "  File \"/home/alessandro/code/eql_jax/est.py\", line 155, in score\n",
      "    return self.get_score(X, y, self._params)\n",
      "  File \"/home/alessandro/code/eql_jax/est.py\", line 148, in get_score\n",
      "    return r2 + np.clip(np.mean(simps), a_min=0.0)\n",
      "  File \"<__array_function__ internals>\", line 4, in clip\n",
      "TypeError: _clip_dispatcher() missing 1 required positional argument: 'a_max'\n",
      "\n",
      "  warnings.warn(\n",
      "/home/alessandro/code/NeuralSymbolicRegressionThatScales/env/lib/python3.8/site-packages/sklearn/model_selection/_validation.py:696: UserWarning: Scoring failed. The score on this train-test partition for these parameters will be set to nan. Details: \n",
      "Traceback (most recent call last):\n",
      "  File \"/home/alessandro/code/NeuralSymbolicRegressionThatScales/env/lib/python3.8/site-packages/sklearn/model_selection/_validation.py\", line 687, in _score\n",
      "    scores = scorer(estimator, X_test, y_test)\n",
      "  File \"/home/alessandro/code/NeuralSymbolicRegressionThatScales/env/lib/python3.8/site-packages/sklearn/metrics/_scorer.py\", line 397, in _passthrough_scorer\n",
      "    return estimator.score(*args, **kwargs)\n",
      "  File \"/home/alessandro/code/eql_jax/est.py\", line 155, in score\n",
      "    return self.get_score(X, y, self._params)\n",
      "  File \"/home/alessandro/code/eql_jax/est.py\", line 148, in get_score\n",
      "    return r2 + np.clip(np.mean(simps), a_min=0.0)\n",
      "  File \"<__array_function__ internals>\", line 4, in clip\n",
      "TypeError: _clip_dispatcher() missing 1 required positional argument: 'a_max'\n",
      "\n",
      "  warnings.warn(\n",
      "/home/alessandro/code/NeuralSymbolicRegressionThatScales/env/lib/python3.8/site-packages/sklearn/model_selection/_validation.py:696: UserWarning: Scoring failed. The score on this train-test partition for these parameters will be set to nan. Details: \n",
      "Traceback (most recent call last):\n",
      "  File \"/home/alessandro/code/NeuralSymbolicRegressionThatScales/env/lib/python3.8/site-packages/sklearn/model_selection/_validation.py\", line 687, in _score\n",
      "    scores = scorer(estimator, X_test, y_test)\n",
      "  File \"/home/alessandro/code/NeuralSymbolicRegressionThatScales/env/lib/python3.8/site-packages/sklearn/metrics/_scorer.py\", line 397, in _passthrough_scorer\n",
      "    return estimator.score(*args, **kwargs)\n",
      "  File \"/home/alessandro/code/eql_jax/est.py\", line 155, in score\n",
      "    return self.get_score(X, y, self._params)\n",
      "  File \"/home/alessandro/code/eql_jax/est.py\", line 148, in get_score\n",
      "    return r2 + np.clip(np.mean(simps), a_min=0.0)\n",
      "  File \"<__array_function__ internals>\", line 4, in clip\n",
      "TypeError: _clip_dispatcher() missing 1 required positional argument: 'a_max'\n",
      "\n",
      "  warnings.warn(\n"
     ]
    }
   ],
   "source": [
    "cv.best_estimator_.get_eqn()"
   ]
  },
  {
   "cell_type": "code",
   "execution_count": null,
   "id": "e7e6fc57",
   "metadata": {
    "ExecuteTime": {
     "end_time": "2022-04-24T15:57:36.161930Z",
     "start_time": "2022-04-24T15:57:36.140786Z"
    }
   },
   "outputs": [],
   "source": [
    "nsample = 1000\n",
    "sig = 0.2\n",
    "x = np.linspace(-50, 50, nsample)\n",
    "X = np.column_stack((x/5, 10*np.sin(x), (x-5)**3, np.ones(nsample)))\n",
    "beta = [0.01, 1, 0.001, 5.]\n",
    "y_true = np.dot(X, beta)\n",
    "y = y_true + sig * np.random.normal(size=nsample)\n",
    "df = pd.DataFrame()\n",
    "df['x']=x\n",
    "df['y']=y"
   ]
  },
  {
   "cell_type": "code",
   "execution_count": null,
   "id": "5e38f169",
   "metadata": {
    "ExecuteTime": {
     "end_time": "2022-04-24T09:29:14.389282Z",
     "start_time": "2022-04-24T09:29:12.337267Z"
    }
   },
   "outputs": [
    {
     "name": "stdout",
     "output_type": "stream",
     "text": [
      "-1.2717832811362317 [0.6]\n"
     ]
    },
    {
     "data": {
      "text/plain": [
       "-0.763069968681739"
      ]
     },
     "execution_count": 7,
     "metadata": {},
     "output_type": "execute_result"
    }
   ],
   "source": [
    "e.fit(x[:,None], y)\n",
    "e.score(x[:,None], y)"
   ]
  },
  {
   "cell_type": "code",
   "execution_count": null,
   "id": "8684d912",
   "metadata": {},
   "outputs": [],
   "source": []
  },
  {
   "cell_type": "code",
   "execution_count": null,
   "id": "9215af18",
   "metadata": {
    "ExecuteTime": {
     "end_time": "2022-04-24T09:29:16.872348Z",
     "start_time": "2022-04-24T09:29:16.854183Z"
    }
   },
   "outputs": [
    {
     "data": {
      "text/plain": [
       "[0.067565732826431*x0**2 + 1.16105883578361*x0 - 9.63120857199966]"
      ]
     },
     "execution_count": 8,
     "metadata": {},
     "output_type": "execute_result"
    }
   ],
   "source": [
    "e.get_eqn()"
   ]
  },
  {
   "cell_type": "code",
   "execution_count": null,
   "id": "3a00bb19",
   "metadata": {
    "ExecuteTime": {
     "end_time": "2022-04-15T09:48:41.032823Z",
     "start_time": "2022-04-15T09:48:40.910036Z"
    }
   },
   "outputs": [
    {
     "data": {
      "text/plain": [
       "0.9397188087541153"
      ]
     },
     "execution_count": 34,
     "metadata": {},
     "output_type": "execute_result"
    }
   ],
   "source": [
    "e.score(x[:,None], y)"
   ]
  },
  {
   "cell_type": "code",
   "execution_count": null,
   "id": "baa255ee",
   "metadata": {
    "ExecuteTime": {
     "end_time": "2022-04-24T09:29:25.891845Z",
     "start_time": "2022-04-24T09:29:25.060421Z"
    }
   },
   "outputs": [
    {
     "data": {
      "text/plain": [
       "[<matplotlib.lines.Line2D at 0x7f4dec5a5520>]"
      ]
     },
     "execution_count": 9,
     "metadata": {},
     "output_type": "execute_result"
    },
    {
     "data": {
      "image/png": "[encoded data removed]",
      "text/plain": [
       "<Figure size 432x288 with 1 Axes>"
      ]
     },
     "metadata": {
      "needs_background": "light"
     },
     "output_type": "display_data"
    }
   ],
   "source": [
    "plt.plot(e.predict(x[:,None]))\n",
    "plt.plot(y)"
   ]
  },
  {
   "cell_type": "code",
   "execution_count": null,
   "id": "9607f16f",
   "metadata": {},
   "outputs": [],
   "source": []
  }
 ],
 "metadata": {
  "kernelspec": {
   "display_name": "EQL",
   "language": "python",
   "name": "python3"
  },
  "language_info": {
   "codemirror_mode": {
    "name": "ipython",
    "version": 3
   },
   "file_extension": ".py",
   "mimetype": "text/x-python",
   "name": "python",
   "nbconvert_exporter": "python",
   "pygments_lexer": "ipython3",
   "version": "3.12.7"
  }
 },
 "nbformat": 4,
 "nbformat_minor": 5
}
