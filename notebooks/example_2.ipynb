{
 "cells": [
  {
   "cell_type": "code",
   "execution_count": 12,
   "id": "004dede5",
   "metadata": {
    "ExecuteTime": {
     "end_time": "2023-07-05T12:58:33.306015Z",
     "start_time": "2023-07-05T12:58:33.287782Z"
    }
   },
   "outputs": [],
   "source": [
    "import jax\n",
    "from jax import lax, random, numpy as jnp\n",
    "from jax.tree_util import tree_flatten, tree_unflatten\n",
    "\n",
    "import flax\n",
    "from flax import linen as nn\n",
    "\n",
    "import sympy as sy\n",
    "import numpy as np\n",
    "\n",
    "import sys\n",
    "sys.path.append(\"..\")\n",
    "\n",
    "from eql.eqlearner import EQL\n",
    "from eql.symbolic import get_symbolic_expr, get_symbolic_expr_layer\n",
    "\n",
    "import optax\n",
    "import scipy\n",
    "from functools import partial"
   ]
  },
  {
   "cell_type": "code",
   "execution_count": 13,
   "id": "194c741e",
   "metadata": {
    "ExecuteTime": {
     "end_time": "2023-07-05T12:58:33.594541Z",
     "start_time": "2023-07-05T12:58:33.566239Z"
    }
   },
   "outputs": [],
   "source": [
    "funs = ['mul', 'cos', 'sin']*2\n",
    "e = EQL(n_layers=2, functions=funs, features=1)\n",
    "key = random.PRNGKey(0)"
   ]
  },
  {
   "cell_type": "code",
   "execution_count": 14,
   "id": "b74deec9",
   "metadata": {
    "ExecuteTime": {
     "end_time": "2023-07-05T12:58:34.380893Z",
     "start_time": "2023-07-05T12:58:34.350598Z"
    }
   },
   "outputs": [],
   "source": [
    "N = 1000\n",
    "xdim = 1\n",
    "x = (random.uniform(key, (N, xdim))-.5) * 2\n",
    "#x = np.array([[1., 2.]]).T\n",
    "#x = np.linspace(-1, 1, N)[:,None]\n",
    "#y = x[:,0] + jnp.cos(x[:,1])\n",
    "y = jnp.cos(x) + 1 - x**2 "
   ]
  },
  {
   "cell_type": "code",
   "execution_count": 15,
   "id": "fd3ff5e6",
   "metadata": {
    "ExecuteTime": {
     "end_time": "2023-07-05T12:58:35.991384Z",
     "start_time": "2023-07-05T12:58:35.904647Z"
    }
   },
   "outputs": [],
   "source": [
    "params = e.init({'params':key}, x);"
   ]
  },
  {
   "cell_type": "code",
   "execution_count": 18,
   "id": "2e4182f7",
   "metadata": {
    "ExecuteTime": {
     "end_time": "2023-07-05T12:59:04.482608Z",
     "start_time": "2023-07-05T12:59:04.474073Z"
    }
   },
   "outputs": [],
   "source": [
    "def f(x, p):\n",
    "    return e.apply(params, x)"
   ]
  },
  {
   "cell_type": "code",
   "execution_count": 28,
   "id": "0183a762",
   "metadata": {
    "ExecuteTime": {
     "end_time": "2023-07-05T13:00:04.067142Z",
     "start_time": "2023-07-05T13:00:03.984716Z"
    }
   },
   "outputs": [
    {
     "name": "stdout",
     "output_type": "stream",
     "text": [
      "{ lambda a:f32[1,8] b:f32[8] c:f32[6,8] d:f32[8] e:f32[6,1] f:f32[1]; g:f32[1000,1]\n",
      "    h:f32[1] i:f32[6,1] j:f32[8] k:f32[1,8] l:f32[8] m:f32[6,8]. let\n",
      "    n:f32[1000,8] = dot_general[dimension_numbers=(([1], [0]), ([], []))] g a\n",
      "    o:f32[1,8] = reshape[dimensions=None new_sizes=(1, 8)] b\n",
      "    p:f32[1000,8] = add n o\n",
      "    q:i32[1] = broadcast_in_dim[broadcast_dimensions=() shape=(1,)] 2\n",
      "    r:f32[1000] = gather[\n",
      "      dimension_numbers=GatherDimensionNumbers(offset_dims=(0,), collapsed_slice_dims=(1,), start_index_map=(1,))\n",
      "      fill_value=None\n",
      "      indices_are_sorted=True\n",
      "      mode=GatherScatterMode.PROMISE_IN_BOUNDS\n",
      "      slice_sizes=(1000, 1)\n",
      "      unique_indices=True\n",
      "    ] p q\n",
      "    s:f32[1000] = cos r\n",
      "    t:i32[1] = broadcast_in_dim[broadcast_dimensions=() shape=(1,)] 3\n",
      "    u:f32[1000] = gather[\n",
      "      dimension_numbers=GatherDimensionNumbers(offset_dims=(0,), collapsed_slice_dims=(1,), start_index_map=(1,))\n",
      "      fill_value=None\n",
      "      indices_are_sorted=True\n",
      "      mode=GatherScatterMode.PROMISE_IN_BOUNDS\n",
      "      slice_sizes=(1000, 1)\n",
      "      unique_indices=True\n",
      "    ] p t\n",
      "    v:f32[1000] = sin u\n",
      "    w:i32[1] = broadcast_in_dim[broadcast_dimensions=() shape=(1,)] 6\n",
      "    x:f32[1000] = gather[\n",
      "      dimension_numbers=GatherDimensionNumbers(offset_dims=(0,), collapsed_slice_dims=(1,), start_index_map=(1,))\n",
      "      fill_value=None\n",
      "      indices_are_sorted=True\n",
      "      mode=GatherScatterMode.PROMISE_IN_BOUNDS\n",
      "      slice_sizes=(1000, 1)\n",
      "      unique_indices=True\n",
      "    ] p w\n",
      "    y:f32[1000] = cos x\n",
      "    z:i32[1] = broadcast_in_dim[broadcast_dimensions=() shape=(1,)] 7\n",
      "    ba:f32[1000] = gather[\n",
      "      dimension_numbers=GatherDimensionNumbers(offset_dims=(0,), collapsed_slice_dims=(1,), start_index_map=(1,))\n",
      "      fill_value=None\n",
      "      indices_are_sorted=True\n",
      "      mode=GatherScatterMode.PROMISE_IN_BOUNDS\n",
      "      slice_sizes=(1000, 1)\n",
      "      unique_indices=True\n",
      "    ] p z\n",
      "    bb:f32[1000] = sin ba\n",
      "    bc:f32[1000,1] = broadcast_in_dim[broadcast_dimensions=(0,) shape=(1000, 1)] s\n",
      "    bd:f32[1000,1] = broadcast_in_dim[broadcast_dimensions=(0,) shape=(1000, 1)] v\n",
      "    be:f32[1000,1] = broadcast_in_dim[broadcast_dimensions=(0,) shape=(1000, 1)] y\n",
      "    bf:f32[1000,1] = broadcast_in_dim[broadcast_dimensions=(0,) shape=(1000, 1)] bb\n",
      "    bg:f32[1000,4] = concatenate[dimension=1] bc bd be bf\n",
      "    bh:i32[1] = broadcast_in_dim[broadcast_dimensions=() shape=(1,)] 0\n",
      "    bi:f32[1000] = gather[\n",
      "      dimension_numbers=GatherDimensionNumbers(offset_dims=(0,), collapsed_slice_dims=(1,), start_index_map=(1,))\n",
      "      fill_value=None\n",
      "      indices_are_sorted=True\n",
      "      mode=GatherScatterMode.PROMISE_IN_BOUNDS\n",
      "      slice_sizes=(1000, 1)\n",
      "      unique_indices=True\n",
      "    ] p bh\n",
      "    bj:i32[1] = broadcast_in_dim[broadcast_dimensions=() shape=(1,)] 1\n",
      "    bk:f32[1000] = gather[\n",
      "      dimension_numbers=GatherDimensionNumbers(offset_dims=(0,), collapsed_slice_dims=(1,), start_index_map=(1,))\n",
      "      fill_value=None\n",
      "      indices_are_sorted=True\n",
      "      mode=GatherScatterMode.PROMISE_IN_BOUNDS\n",
      "      slice_sizes=(1000, 1)\n",
      "      unique_indices=True\n",
      "    ] p bj\n",
      "    bl:f32[1000] = mul bi bk\n",
      "    bm:i32[1] = broadcast_in_dim[broadcast_dimensions=() shape=(1,)] 4\n",
      "    bn:f32[1000] = gather[\n",
      "      dimension_numbers=GatherDimensionNumbers(offset_dims=(0,), collapsed_slice_dims=(1,), start_index_map=(1,))\n",
      "      fill_value=None\n",
      "      indices_are_sorted=True\n",
      "      mode=GatherScatterMode.PROMISE_IN_BOUNDS\n",
      "      slice_sizes=(1000, 1)\n",
      "      unique_indices=True\n",
      "    ] p bm\n",
      "    bo:i32[1] = broadcast_in_dim[broadcast_dimensions=() shape=(1,)] 5\n",
      "    bp:f32[1000] = gather[\n",
      "      dimension_numbers=GatherDimensionNumbers(offset_dims=(0,), collapsed_slice_dims=(1,), start_index_map=(1,))\n",
      "      fill_value=None\n",
      "      indices_are_sorted=True\n",
      "      mode=GatherScatterMode.PROMISE_IN_BOUNDS\n",
      "      slice_sizes=(1000, 1)\n",
      "      unique_indices=True\n",
      "    ] p bo\n",
      "    bq:f32[1000] = mul bn bp\n",
      "    br:f32[1000,1] = broadcast_in_dim[broadcast_dimensions=(0,) shape=(1000, 1)] bl\n",
      "    bs:f32[1000,1] = broadcast_in_dim[broadcast_dimensions=(0,) shape=(1000, 1)] bq\n",
      "    bt:f32[1000,2] = concatenate[dimension=1] br bs\n",
      "    bu:f32[1000,6] = concatenate[dimension=1] bg bt\n",
      "    bv:f32[1000,8] = dot_general[dimension_numbers=(([1], [0]), ([], []))] bu c\n",
      "    bw:f32[1,8] = reshape[dimensions=None new_sizes=(1, 8)] d\n",
      "    bx:f32[1000,8] = add bv bw\n",
      "    by:i32[1] = broadcast_in_dim[broadcast_dimensions=() shape=(1,)] 2\n",
      "    bz:f32[1000] = gather[\n",
      "      dimension_numbers=GatherDimensionNumbers(offset_dims=(0,), collapsed_slice_dims=(1,), start_index_map=(1,))\n",
      "      fill_value=None\n",
      "      indices_are_sorted=True\n",
      "      mode=GatherScatterMode.PROMISE_IN_BOUNDS\n",
      "      slice_sizes=(1000, 1)\n",
      "      unique_indices=True\n",
      "    ] bx by\n",
      "    ca:f32[1000] = cos bz\n",
      "    cb:i32[1] = broadcast_in_dim[broadcast_dimensions=() shape=(1,)] 3\n",
      "    cc:f32[1000] = gather[\n",
      "      dimension_numbers=GatherDimensionNumbers(offset_dims=(0,), collapsed_slice_dims=(1,), start_index_map=(1,))\n",
      "      fill_value=None\n",
      "      indices_are_sorted=True\n",
      "      mode=GatherScatterMode.PROMISE_IN_BOUNDS\n",
      "      slice_sizes=(1000, 1)\n",
      "      unique_indices=True\n",
      "    ] bx cb\n",
      "    cd:f32[1000] = sin cc\n",
      "    ce:i32[1] = broadcast_in_dim[broadcast_dimensions=() shape=(1,)] 6\n",
      "    cf:f32[1000] = gather[\n",
      "      dimension_numbers=GatherDimensionNumbers(offset_dims=(0,), collapsed_slice_dims=(1,), start_index_map=(1,))\n",
      "      fill_value=None\n",
      "      indices_are_sorted=True\n",
      "      mode=GatherScatterMode.PROMISE_IN_BOUNDS\n",
      "      slice_sizes=(1000, 1)\n",
      "      unique_indices=True\n",
      "    ] bx ce\n",
      "    cg:f32[1000] = cos cf\n",
      "    ch:i32[1] = broadcast_in_dim[broadcast_dimensions=() shape=(1,)] 7\n",
      "    ci:f32[1000] = gather[\n",
      "      dimension_numbers=GatherDimensionNumbers(offset_dims=(0,), collapsed_slice_dims=(1,), start_index_map=(1,))\n",
      "      fill_value=None\n",
      "      indices_are_sorted=True\n",
      "      mode=GatherScatterMode.PROMISE_IN_BOUNDS\n",
      "      slice_sizes=(1000, 1)\n",
      "      unique_indices=True\n",
      "    ] bx ch\n",
      "    cj:f32[1000] = sin ci\n",
      "    ck:f32[1000,1] = broadcast_in_dim[broadcast_dimensions=(0,) shape=(1000, 1)] ca\n",
      "    cl:f32[1000,1] = broadcast_in_dim[broadcast_dimensions=(0,) shape=(1000, 1)] cd\n",
      "    cm:f32[1000,1] = broadcast_in_dim[broadcast_dimensions=(0,) shape=(1000, 1)] cg\n",
      "    cn:f32[1000,1] = broadcast_in_dim[broadcast_dimensions=(0,) shape=(1000, 1)] cj\n",
      "    co:f32[1000,4] = concatenate[dimension=1] ck cl cm cn\n",
      "    cp:i32[1] = broadcast_in_dim[broadcast_dimensions=() shape=(1,)] 0\n",
      "    cq:f32[1000] = gather[\n",
      "      dimension_numbers=GatherDimensionNumbers(offset_dims=(0,), collapsed_slice_dims=(1,), start_index_map=(1,))\n",
      "      fill_value=None\n",
      "      indices_are_sorted=True\n",
      "      mode=GatherScatterMode.PROMISE_IN_BOUNDS\n",
      "      slice_sizes=(1000, 1)\n",
      "      unique_indices=True\n",
      "    ] bx cp\n",
      "    cr:i32[1] = broadcast_in_dim[broadcast_dimensions=() shape=(1,)] 1\n",
      "    cs:f32[1000] = gather[\n",
      "      dimension_numbers=GatherDimensionNumbers(offset_dims=(0,), collapsed_slice_dims=(1,), start_index_map=(1,))\n",
      "      fill_value=None\n",
      "      indices_are_sorted=True\n",
      "      mode=GatherScatterMode.PROMISE_IN_BOUNDS\n",
      "      slice_sizes=(1000, 1)\n",
      "      unique_indices=True\n",
      "    ] bx cr\n",
      "    ct:f32[1000] = mul cq cs\n",
      "    cu:i32[1] = broadcast_in_dim[broadcast_dimensions=() shape=(1,)] 4\n",
      "    cv:f32[1000] = gather[\n",
      "      dimension_numbers=GatherDimensionNumbers(offset_dims=(0,), collapsed_slice_dims=(1,), start_index_map=(1,))\n",
      "      fill_value=None\n",
      "      indices_are_sorted=True\n",
      "      mode=GatherScatterMode.PROMISE_IN_BOUNDS\n",
      "      slice_sizes=(1000, 1)\n",
      "      unique_indices=True\n",
      "    ] bx cu\n",
      "    cw:i32[1] = broadcast_in_dim[broadcast_dimensions=() shape=(1,)] 5\n",
      "    cx:f32[1000] = gather[\n",
      "      dimension_numbers=GatherDimensionNumbers(offset_dims=(0,), collapsed_slice_dims=(1,), start_index_map=(1,))\n",
      "      fill_value=None\n",
      "      indices_are_sorted=True\n",
      "      mode=GatherScatterMode.PROMISE_IN_BOUNDS\n",
      "      slice_sizes=(1000, 1)\n",
      "      unique_indices=True\n",
      "    ] bx cw\n",
      "    cy:f32[1000] = mul cv cx\n",
      "    cz:f32[1000,1] = broadcast_in_dim[broadcast_dimensions=(0,) shape=(1000, 1)] ct\n",
      "    da:f32[1000,1] = broadcast_in_dim[broadcast_dimensions=(0,) shape=(1000, 1)] cy\n",
      "    db:f32[1000,2] = concatenate[dimension=1] cz da\n",
      "    dc:f32[1000,6] = concatenate[dimension=1] co db\n",
      "    dd:f32[1000,1] = dot_general[dimension_numbers=(([1], [0]), ([], []))] dc e\n",
      "    de:f32[1,1] = reshape[dimensions=None new_sizes=(1, 1)] f\n",
      "    df:f32[1000,1] = add dd de\n",
      "  in (df,) }\n"
     ]
    }
   ],
   "source": [
    "print(jax.make_jaxpr(f)(x,params))"
   ]
  },
  {
   "cell_type": "code",
   "execution_count": 16,
   "id": "73cc3ecb",
   "metadata": {
    "ExecuteTime": {
     "end_time": "2023-07-05T12:58:37.162706Z",
     "start_time": "2023-07-05T12:58:37.151465Z"
    }
   },
   "outputs": [],
   "source": [
    "def mse_fn(params):\n",
    "    pred = e.apply(params, x)\n",
    "    return jnp.mean((pred-y)**2)\n",
    "\n",
    "\n",
    "def get_mask_spec(thresh, params):\n",
    "    flat, spec = tree_flatten(params)\n",
    "    mask = [jnp.abs(f) > thresh for f in flat]\n",
    "    return mask, spec\n",
    "\n",
    "def apply_mask(mask, spec, params):\n",
    "    flat, _ = tree_flatten(params)\n",
    "    masked_params = tree_unflatten(spec, [f*m for f,m in zip(flat, mask)])\n",
    "    return masked_params\n",
    "\n",
    "\n",
    "def get_masked_mse(thresh, params):\n",
    "    mask, spec = get_mask_spec(thresh, params)\n",
    "    def masked_mse(params):\n",
    "        masked_params = apply_mask(mask, spec, params)\n",
    "        return mse_fn(masked_params)\n",
    "    return jax.jit(masked_mse)\n",
    "    \n",
    "\n",
    "def l1_fn(params):\n",
    "    return sum(\n",
    "        jnp.abs(w).mean() for w in jax.tree_leaves(params[\"params\"])\n",
    "    )"
   ]
  },
  {
   "cell_type": "code",
   "execution_count": 7,
   "id": "abc6f00e",
   "metadata": {
    "ExecuteTime": {
     "end_time": "2023-06-30T12:18:51.631976Z",
     "start_time": "2023-06-30T12:18:51.624018Z"
    }
   },
   "outputs": [],
   "source": [
    "def get_loss(lamba):\n",
    "    def loss_fn(params):\n",
    "        return mse_fn(params)  + lamba * l1_fn(params)\n",
    "    return loss_fn\n",
    "\n",
    "def get_loss_grad(lamba):\n",
    "    loss = get_loss(lamba)\n",
    "    return jax.jit(jax.value_and_grad(loss))"
   ]
  },
  {
   "cell_type": "code",
   "execution_count": 8,
   "id": "5c47711b",
   "metadata": {
    "ExecuteTime": {
     "end_time": "2023-06-30T12:18:52.427844Z",
     "start_time": "2023-06-30T12:18:52.363551Z"
    }
   },
   "outputs": [],
   "source": [
    "tx = optax.adam(learning_rate=1e-2)\n",
    "opt_state = tx.init(params)"
   ]
  },
  {
   "cell_type": "code",
   "execution_count": 9,
   "id": "097ca4d8",
   "metadata": {
    "ExecuteTime": {
     "end_time": "2023-06-30T12:19:10.286145Z",
     "start_time": "2023-06-30T12:18:53.239781Z"
    }
   },
   "outputs": [
    {
     "name": "stderr",
     "output_type": "stream",
     "text": [
      "/tmp/ipykernel_182342/3681994566.py:27: FutureWarning: jax.tree_leaves is deprecated, and will be removed in a future release. Use jax.tree_util.tree_leaves instead.\n",
      "  jnp.abs(w).mean() for w in jax.tree_leaves(params[\"params\"])\n"
     ]
    },
    {
     "name": "stdout",
     "output_type": "stream",
     "text": [
      "2.2196107\n",
      "0.0027071456\n",
      "0.00042087326\n",
      "0.0002654106\n",
      "0.00011064316\n",
      "2.0543643e-05\n",
      "4.4613835e-06\n",
      "3.6789131e-06\n",
      "3.520719e-06\n",
      "3.36399e-06\n",
      "3.2019113e-06\n",
      "0.01937606\n",
      "1.9362588\n",
      "0.015194671\n",
      "1.5163498\n",
      "0.013030679\n",
      "1.3007544\n",
      "0.011318412\n",
      "1.1294502\n",
      "0.010037606\n",
      "1.0021918\n",
      "0.009304737\n",
      "0.9281473\n",
      "0.008803532\n",
      "0.8784107\n",
      "0.008343009\n",
      "0.83223176\n",
      "0.007927037\n",
      "0.79103863\n",
      "0.0074824025\n",
      "0.74656904\n",
      "0.007209731\n",
      "0.7198598\n",
      "0.0070424033\n",
      "0.7031468\n",
      "0.0068800915\n",
      "0.68686366\n",
      "0.00671784\n",
      "0.6692767\n",
      "0.0065376675\n",
      "0.6522559\n",
      "0.006375549\n",
      "0.63532984\n",
      "0.0062242905\n",
      "0.62092984\n",
      "0.006067932\n",
      "0.6057775\n",
      "0.0059399065\n",
      "0.59048784\n",
      "0.0057820575\n",
      "0.5734067\n",
      "0.0055793603\n",
      "0.5554023\n",
      "0.005396762\n",
      "0.5378386\n",
      "0.0052450113\n",
      "0.5219404\n",
      "0.0051027182\n",
      "0.5084261\n",
      "0.004969709\n",
      "0.49459642\n",
      "0.0048168446\n",
      "0.48009127\n",
      "0.0047163074\n",
      "0.46769136\n",
      "0.004551922\n",
      "0.45303023\n",
      "0.004463114\n",
      "0.43974265\n",
      "0.004315797\n",
      "0.42962217\n",
      "0.0042193984\n",
      "0.4202358\n",
      "1.2062541e-05\n",
      "4.2246083e-06\n",
      "1.8918056e-06\n",
      "8.218631e-07\n",
      "3.4434774e-07\n",
      "1.3880249e-07\n",
      "1.3301224e-07\n",
      "1.9009605e-08\n",
      "8.138984e-06\n",
      "2.7658458e-09\n",
      "6.4804455e-09\n"
     ]
    }
   ],
   "source": [
    "loss_grad_1 = get_loss_grad(0)\n",
    "loss_grad_2 = get_loss_grad(1e-2)\n",
    "\n",
    "for i in range(1000):\n",
    "    loss_val, grads = loss_grad_1(params)\n",
    "    updates, opt_state = tx.update(grads, opt_state)\n",
    "    params = optax.apply_updates(params, updates)\n",
    "    if i % 99 == 0:\n",
    "        print(loss_val)\n",
    "\n",
    "for i in range(3000):\n",
    "    loss_val, grads = loss_grad_2(params)\n",
    "    updates, opt_state = tx.update(grads, opt_state)\n",
    "    params = optax.apply_updates(params, updates)\n",
    "    if i % 99 == 0:\n",
    "        print(loss_val)\n",
    "        print(l1_fn(params))\n",
    "        \n",
    "thr = 1e-3\n",
    "loss_grad_masked = jax.jit(jax.value_and_grad(get_masked_mse(thr, params)))\n",
    "mask, spec = get_mask_spec(thr, params)\n",
    "\n",
    "for i in range(1000):\n",
    "    loss_val, grads = loss_grad_masked(params)\n",
    "    updates, opt_state = tx.update(grads, opt_state)\n",
    "    params = optax.apply_updates(params, updates)\n",
    "    if i % 99 == 0:\n",
    "        print(loss_val)"
   ]
  },
  {
   "cell_type": "code",
   "execution_count": 10,
   "id": "41b51cf3",
   "metadata": {
    "ExecuteTime": {
     "end_time": "2023-06-30T12:19:13.753643Z",
     "start_time": "2023-06-30T12:19:13.419486Z"
    }
   },
   "outputs": [
    {
     "data": {
      "text/latex": [
       "$\\displaystyle - 0.532491683959961 \\cdot \\left(3.76640653219053 - 0.102846192442174 x_{0}^{2}\\right) \\left(0.721492115372879 x_{0}^{2} - 2.31828871619655 \\cdot 10^{-5} \\sin{\\left(0.0143262036144733 x_{0} \\right)} - 0.949661410410718\\right) + 0.0959305601010714$"
      ],
      "text/plain": [
       "-0.532491683959961*(3.76640653219053 - 0.102846192442174*x0**2)*(0.721492115372879*x0**2 - 2.31828871619655e-5*sin(0.0143262036144733*x0) - 0.949661410410718) + 0.0959305601010714"
      ]
     },
     "execution_count": 10,
     "metadata": {},
     "output_type": "execute_result"
    }
   ],
   "source": [
    "symb = get_symbolic_expr(apply_mask(mask, spec, params), funs)[0]\n",
    "symb"
   ]
  },
  {
   "cell_type": "code",
   "execution_count": 11,
   "id": "97988c92",
   "metadata": {
    "ExecuteTime": {
     "end_time": "2023-06-30T12:19:15.341528Z",
     "start_time": "2023-06-30T12:19:15.316693Z"
    }
   },
   "outputs": [
    {
     "data": {
      "text/latex": [
       "$\\displaystyle 0.0395123296994625 x_{0}^{4} - 1.26960483893245 \\cdot 10^{-6} x_{0}^{2} \\sin{\\left(0.0143262036144733 x_{0} \\right)} - 1.49901823220305 x_{0}^{2} + 4.64951384694626 \\cdot 10^{-5} \\sin{\\left(0.0143262036144733 x_{0} \\right)} + 2.00055264050324$"
      ],
      "text/plain": [
       "0.0395123296994625*x0**4 - 1.26960483893245e-6*x0**2*sin(0.0143262036144733*x0) - 1.49901823220305*x0**2 + 4.64951384694626e-5*sin(0.0143262036144733*x0) + 2.00055264050324"
      ]
     },
     "execution_count": 11,
     "metadata": {},
     "output_type": "execute_result"
    }
   ],
   "source": [
    "sy.expand(symb)"
   ]
  },
  {
   "cell_type": "code",
   "execution_count": null,
   "id": "3c72b683",
   "metadata": {},
   "outputs": [],
   "source": []
  }
 ],
 "metadata": {
  "kernelspec": {
   "display_name": "Python 3 (ipykernel)",
   "language": "python",
   "name": "python3"
  },
  "language_info": {
   "codemirror_mode": {
    "name": "ipython",
    "version": 3
   },
   "file_extension": ".py",
   "mimetype": "text/x-python",
   "name": "python",
   "nbconvert_exporter": "python",
   "pygments_lexer": "ipython3",
   "version": "3.10.6"
  },
  "varInspector": {
   "cols": {
    "lenName": 16,
    "lenType": 16,
    "lenVar": 40
   },
   "kernels_config": {
    "python": {
     "delete_cmd_postfix": "",
     "delete_cmd_prefix": "del ",
     "library": "var_list.py",
     "varRefreshCmd": "print(var_dic_list())"
    },
    "r": {
     "delete_cmd_postfix": ") ",
     "delete_cmd_prefix": "rm(",
     "library": "var_list.r",
     "varRefreshCmd": "cat(var_dic_list()) "
    }
   },
   "types_to_exclude": [
    "module",
    "function",
    "builtin_function_or_method",
    "instance",
    "_Feature"
   ],
   "window_display": false
  }
 },
 "nbformat": 4,
 "nbformat_minor": 5
}
