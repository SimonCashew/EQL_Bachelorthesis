{
 "cells": [
  {
   "cell_type": "code",
   "execution_count": 13,
   "id": "004dede5",
   "metadata": {
    "ExecuteTime": {
     "end_time": "2023-07-05T12:58:33.306015Z",
     "start_time": "2023-07-05T12:58:33.287782Z"
    }
   },
   "outputs": [],
   "source": [
    "import jax\n",
    "from jax import lax, random, numpy as jnp\n",
    "from jax.tree_util import tree_flatten, tree_unflatten\n",
    "\n",
    "import flax\n",
    "from flax import linen as nn\n",
    "\n",
    "import sympy as sy\n",
    "import numpy as np\n",
    "\n",
    "import sys\n",
    "sys.path.append(\"..\")\n",
    "\n",
    "from eql.eqlearner import EQL\n",
    "from eql.symbolic import get_symbolic_expr, get_symbolic_expr_layer\n",
    "\n",
    "import optax\n",
    "import scipy\n",
    "from functools import partial"
   ]
  },
  {
   "cell_type": "code",
   "execution_count": 14,
   "id": "194c741e",
   "metadata": {
    "ExecuteTime": {
     "end_time": "2023-07-05T12:58:33.594541Z",
     "start_time": "2023-07-05T12:58:33.566239Z"
    }
   },
   "outputs": [],
   "source": [
    "funs = ['mul', 'cos', 'sin']*2\n",
    "e = EQL(n_layers=2, functions=funs, features=1)\n",
    "key = random.PRNGKey(0)"
   ]
  },
  {
   "cell_type": "code",
   "execution_count": 15,
   "id": "b74deec9",
   "metadata": {
    "ExecuteTime": {
     "end_time": "2023-07-05T12:58:34.380893Z",
     "start_time": "2023-07-05T12:58:34.350598Z"
    }
   },
   "outputs": [],
   "source": [
    "N = 1000\n",
    "xdim = 1\n",
    "x = (random.uniform(key, (N, xdim))-.5) * 2\n",
    "#x = np.array([[1., 2.]]).T\n",
    "#x = np.linspace(-1, 1, N)[:,None]\n",
    "#y = x[:,0] + jnp.cos(x[:,1])\n",
    "y = jnp.cos(x) + 1 - x**2 "
   ]
  },
  {
   "cell_type": "code",
   "execution_count": 16,
   "id": "fd3ff5e6",
   "metadata": {
    "ExecuteTime": {
     "end_time": "2023-07-05T12:58:35.991384Z",
     "start_time": "2023-07-05T12:58:35.904647Z"
    }
   },
   "outputs": [],
   "source": [
    "params = e.init({'params':key}, x);"
   ]
  },
  {
   "cell_type": "code",
   "execution_count": 17,
   "id": "2e4182f7",
   "metadata": {
    "ExecuteTime": {
     "end_time": "2023-07-05T12:59:04.482608Z",
     "start_time": "2023-07-05T12:59:04.474073Z"
    }
   },
   "outputs": [],
   "source": [
    "def f(x, p):\n",
    "    return e.apply(params, x)"
   ]
  },
  {
   "cell_type": "code",
   "execution_count": 18,
   "id": "0183a762",
   "metadata": {
    "ExecuteTime": {
     "end_time": "2023-07-05T13:00:04.067142Z",
     "start_time": "2023-07-05T13:00:03.984716Z"
    }
   },
   "outputs": [
    {
     "name": "stdout",
     "output_type": "stream",
     "text": [
      "{ \u001b[34m\u001b[22m\u001b[1mlambda \u001b[39m\u001b[22m\u001b[22ma\u001b[35m:f32[1,8]\u001b[39m b\u001b[35m:f32[8]\u001b[39m c\u001b[35m:f32[6,8]\u001b[39m d\u001b[35m:f32[8]\u001b[39m e\u001b[35m:f32[6,1]\u001b[39m f\u001b[35m:f32[1]\u001b[39m; g\u001b[35m:f32[1000,1]\u001b[39m\n",
      "    h\u001b[35m:f32[1]\u001b[39m i\u001b[35m:f32[6,1]\u001b[39m j\u001b[35m:f32[8]\u001b[39m k\u001b[35m:f32[1,8]\u001b[39m l\u001b[35m:f32[8]\u001b[39m m\u001b[35m:f32[6,8]\u001b[39m. \u001b[34m\u001b[22m\u001b[1mlet\n",
      "    \u001b[39m\u001b[22m\u001b[22mn\u001b[35m:f32[1000,8]\u001b[39m = dot_general[dimension_numbers=(([1], [0]), ([], []))] g a\n",
      "    o\u001b[35m:f32[1,8]\u001b[39m = reshape[dimensions=None new_sizes=(1, 8)] b\n",
      "    p\u001b[35m:f32[1000,8]\u001b[39m = add n o\n",
      "    q\u001b[35m:f32[1000,1]\u001b[39m = slice[\n",
      "      limit_indices=(1000, 3)\n",
      "      start_indices=(0, 2)\n",
      "      strides=None\n",
      "    ] p\n",
      "    r\u001b[35m:f32[1000]\u001b[39m = squeeze[dimensions=(1,)] q\n",
      "    s\u001b[35m:f32[1000]\u001b[39m = cos r\n",
      "    t\u001b[35m:f32[1000,1]\u001b[39m = slice[\n",
      "      limit_indices=(1000, 4)\n",
      "      start_indices=(0, 3)\n",
      "      strides=None\n",
      "    ] p\n",
      "    u\u001b[35m:f32[1000]\u001b[39m = squeeze[dimensions=(1,)] t\n",
      "    v\u001b[35m:f32[1000]\u001b[39m = sin u\n",
      "    w\u001b[35m:f32[1000,1]\u001b[39m = slice[\n",
      "      limit_indices=(1000, 7)\n",
      "      start_indices=(0, 6)\n",
      "      strides=None\n",
      "    ] p\n",
      "    x\u001b[35m:f32[1000]\u001b[39m = squeeze[dimensions=(1,)] w\n",
      "    y\u001b[35m:f32[1000]\u001b[39m = cos x\n",
      "    z\u001b[35m:f32[1000,1]\u001b[39m = slice[\n",
      "      limit_indices=(1000, 8)\n",
      "      start_indices=(0, 7)\n",
      "      strides=None\n",
      "    ] p\n",
      "    ba\u001b[35m:f32[1000]\u001b[39m = squeeze[dimensions=(1,)] z\n",
      "    bb\u001b[35m:f32[1000]\u001b[39m = sin ba\n",
      "    bc\u001b[35m:f32[1000,1]\u001b[39m = broadcast_in_dim[broadcast_dimensions=(0,) shape=(1000, 1)] s\n",
      "    bd\u001b[35m:f32[1000,1]\u001b[39m = broadcast_in_dim[broadcast_dimensions=(0,) shape=(1000, 1)] v\n",
      "    be\u001b[35m:f32[1000,1]\u001b[39m = broadcast_in_dim[broadcast_dimensions=(0,) shape=(1000, 1)] y\n",
      "    bf\u001b[35m:f32[1000,1]\u001b[39m = broadcast_in_dim[broadcast_dimensions=(0,) shape=(1000, 1)] bb\n",
      "    bg\u001b[35m:f32[1000,4]\u001b[39m = concatenate[dimension=1] bc bd be bf\n",
      "    bh\u001b[35m:f32[1000,1]\u001b[39m = slice[\n",
      "      limit_indices=(1000, 1)\n",
      "      start_indices=(0, 0)\n",
      "      strides=None\n",
      "    ] p\n",
      "    bi\u001b[35m:f32[1000]\u001b[39m = squeeze[dimensions=(1,)] bh\n",
      "    bj\u001b[35m:f32[1000,1]\u001b[39m = slice[\n",
      "      limit_indices=(1000, 2)\n",
      "      start_indices=(0, 1)\n",
      "      strides=None\n",
      "    ] p\n",
      "    bk\u001b[35m:f32[1000]\u001b[39m = squeeze[dimensions=(1,)] bj\n",
      "    bl\u001b[35m:f32[1000]\u001b[39m = mul bi bk\n",
      "    bm\u001b[35m:f32[1000,1]\u001b[39m = slice[\n",
      "      limit_indices=(1000, 5)\n",
      "      start_indices=(0, 4)\n",
      "      strides=None\n",
      "    ] p\n",
      "    bn\u001b[35m:f32[1000]\u001b[39m = squeeze[dimensions=(1,)] bm\n",
      "    bo\u001b[35m:f32[1000,1]\u001b[39m = slice[\n",
      "      limit_indices=(1000, 6)\n",
      "      start_indices=(0, 5)\n",
      "      strides=None\n",
      "    ] p\n",
      "    bp\u001b[35m:f32[1000]\u001b[39m = squeeze[dimensions=(1,)] bo\n",
      "    bq\u001b[35m:f32[1000]\u001b[39m = mul bn bp\n",
      "    br\u001b[35m:f32[1000,1]\u001b[39m = broadcast_in_dim[broadcast_dimensions=(0,) shape=(1000, 1)] bl\n",
      "    bs\u001b[35m:f32[1000,1]\u001b[39m = broadcast_in_dim[broadcast_dimensions=(0,) shape=(1000, 1)] bq\n",
      "    bt\u001b[35m:f32[1000,2]\u001b[39m = concatenate[dimension=1] br bs\n",
      "    bu\u001b[35m:f32[1000,6]\u001b[39m = concatenate[dimension=1] bg bt\n",
      "    bv\u001b[35m:f32[1000,8]\u001b[39m = dot_general[dimension_numbers=(([1], [0]), ([], []))] bu c\n",
      "    bw\u001b[35m:f32[1,8]\u001b[39m = reshape[dimensions=None new_sizes=(1, 8)] d\n",
      "    bx\u001b[35m:f32[1000,8]\u001b[39m = add bv bw\n",
      "    by\u001b[35m:f32[1000,1]\u001b[39m = slice[\n",
      "      limit_indices=(1000, 3)\n",
      "      start_indices=(0, 2)\n",
      "      strides=None\n",
      "    ] bx\n",
      "    bz\u001b[35m:f32[1000]\u001b[39m = squeeze[dimensions=(1,)] by\n",
      "    ca\u001b[35m:f32[1000]\u001b[39m = cos bz\n",
      "    cb\u001b[35m:f32[1000,1]\u001b[39m = slice[\n",
      "      limit_indices=(1000, 4)\n",
      "      start_indices=(0, 3)\n",
      "      strides=None\n",
      "    ] bx\n",
      "    cc\u001b[35m:f32[1000]\u001b[39m = squeeze[dimensions=(1,)] cb\n",
      "    cd\u001b[35m:f32[1000]\u001b[39m = sin cc\n",
      "    ce\u001b[35m:f32[1000,1]\u001b[39m = slice[\n",
      "      limit_indices=(1000, 7)\n",
      "      start_indices=(0, 6)\n",
      "      strides=None\n",
      "    ] bx\n",
      "    cf\u001b[35m:f32[1000]\u001b[39m = squeeze[dimensions=(1,)] ce\n",
      "    cg\u001b[35m:f32[1000]\u001b[39m = cos cf\n",
      "    ch\u001b[35m:f32[1000,1]\u001b[39m = slice[\n",
      "      limit_indices=(1000, 8)\n",
      "      start_indices=(0, 7)\n",
      "      strides=None\n",
      "    ] bx\n",
      "    ci\u001b[35m:f32[1000]\u001b[39m = squeeze[dimensions=(1,)] ch\n",
      "    cj\u001b[35m:f32[1000]\u001b[39m = sin ci\n",
      "    ck\u001b[35m:f32[1000,1]\u001b[39m = broadcast_in_dim[broadcast_dimensions=(0,) shape=(1000, 1)] ca\n",
      "    cl\u001b[35m:f32[1000,1]\u001b[39m = broadcast_in_dim[broadcast_dimensions=(0,) shape=(1000, 1)] cd\n",
      "    cm\u001b[35m:f32[1000,1]\u001b[39m = broadcast_in_dim[broadcast_dimensions=(0,) shape=(1000, 1)] cg\n",
      "    cn\u001b[35m:f32[1000,1]\u001b[39m = broadcast_in_dim[broadcast_dimensions=(0,) shape=(1000, 1)] cj\n",
      "    co\u001b[35m:f32[1000,4]\u001b[39m = concatenate[dimension=1] ck cl cm cn\n",
      "    cp\u001b[35m:f32[1000,1]\u001b[39m = slice[\n",
      "      limit_indices=(1000, 1)\n",
      "      start_indices=(0, 0)\n",
      "      strides=None\n",
      "    ] bx\n",
      "    cq\u001b[35m:f32[1000]\u001b[39m = squeeze[dimensions=(1,)] cp\n",
      "    cr\u001b[35m:f32[1000,1]\u001b[39m = slice[\n",
      "      limit_indices=(1000, 2)\n",
      "      start_indices=(0, 1)\n",
      "      strides=None\n",
      "    ] bx\n",
      "    cs\u001b[35m:f32[1000]\u001b[39m = squeeze[dimensions=(1,)] cr\n",
      "    ct\u001b[35m:f32[1000]\u001b[39m = mul cq cs\n",
      "    cu\u001b[35m:f32[1000,1]\u001b[39m = slice[\n",
      "      limit_indices=(1000, 5)\n",
      "      start_indices=(0, 4)\n",
      "      strides=None\n",
      "    ] bx\n",
      "    cv\u001b[35m:f32[1000]\u001b[39m = squeeze[dimensions=(1,)] cu\n",
      "    cw\u001b[35m:f32[1000,1]\u001b[39m = slice[\n",
      "      limit_indices=(1000, 6)\n",
      "      start_indices=(0, 5)\n",
      "      strides=None\n",
      "    ] bx\n",
      "    cx\u001b[35m:f32[1000]\u001b[39m = squeeze[dimensions=(1,)] cw\n",
      "    cy\u001b[35m:f32[1000]\u001b[39m = mul cv cx\n",
      "    cz\u001b[35m:f32[1000,1]\u001b[39m = broadcast_in_dim[broadcast_dimensions=(0,) shape=(1000, 1)] ct\n",
      "    da\u001b[35m:f32[1000,1]\u001b[39m = broadcast_in_dim[broadcast_dimensions=(0,) shape=(1000, 1)] cy\n",
      "    db\u001b[35m:f32[1000,2]\u001b[39m = concatenate[dimension=1] cz da\n",
      "    dc\u001b[35m:f32[1000,6]\u001b[39m = concatenate[dimension=1] co db\n",
      "    dd\u001b[35m:f32[1000,1]\u001b[39m = dot_general[dimension_numbers=(([1], [0]), ([], []))] dc e\n",
      "    de\u001b[35m:f32[1,1]\u001b[39m = reshape[dimensions=None new_sizes=(1, 1)] f\n",
      "    df\u001b[35m:f32[1000,1]\u001b[39m = add dd de\n",
      "  \u001b[34m\u001b[22m\u001b[1min \u001b[39m\u001b[22m\u001b[22m(df,) }\n"
     ]
    }
   ],
   "source": [
    "print(jax.make_jaxpr(f)(x,params))"
   ]
  },
  {
   "cell_type": "code",
   "execution_count": 19,
   "id": "73cc3ecb",
   "metadata": {
    "ExecuteTime": {
     "end_time": "2023-07-05T12:58:37.162706Z",
     "start_time": "2023-07-05T12:58:37.151465Z"
    }
   },
   "outputs": [],
   "source": [
    "def mse_fn(params):\n",
    "    pred = e.apply(params, x)\n",
    "    return jnp.mean((pred-y)**2)\n",
    "\n",
    "\n",
    "def get_mask_spec(thresh, params):\n",
    "    flat, spec = tree_flatten(params)\n",
    "    mask = [jnp.abs(f) > thresh for f in flat]\n",
    "    return mask, spec\n",
    "\n",
    "def apply_mask(mask, spec, params):\n",
    "    flat, _ = tree_flatten(params)\n",
    "    masked_params = tree_unflatten(spec, [f*m for f,m in zip(flat, mask)])\n",
    "    return masked_params\n",
    "\n",
    "\n",
    "def get_masked_mse(thresh, params):\n",
    "    mask, spec = get_mask_spec(thresh, params)\n",
    "    def masked_mse(params):\n",
    "        masked_params = apply_mask(mask, spec, params)\n",
    "        return mse_fn(masked_params)\n",
    "    return jax.jit(masked_mse)\n",
    "    \n",
    "\n",
    "def l1_fn(params):\n",
    "    return sum(\n",
    "        jnp.abs(w).mean() for w in jax.tree.leaves(params[\"params\"])\n",
    "    )"
   ]
  },
  {
   "cell_type": "code",
   "execution_count": 20,
   "id": "abc6f00e",
   "metadata": {
    "ExecuteTime": {
     "end_time": "2023-06-30T12:18:51.631976Z",
     "start_time": "2023-06-30T12:18:51.624018Z"
    }
   },
   "outputs": [],
   "source": [
    "def get_loss(lamba):\n",
    "    def loss_fn(params):\n",
    "        return mse_fn(params)  + lamba * l1_fn(params)\n",
    "    return loss_fn\n",
    "\n",
    "def get_loss_grad(lamba):\n",
    "    loss = get_loss(lamba)\n",
    "    return jax.jit(jax.value_and_grad(loss))\n",
    "\n",
    "def get_proj_loss_grad(lamba):\n",
    "    def loss_fn(params):\n",
    "        \n",
    "        mse = mse_fn(params)\n",
    "        l1 = l1_fn(params)\n",
    "\n",
    "        mse_grad = jax.grad(mse_fn)(params)\n",
    "        l1_grad = jax.grad(l1_fn)(params)\n",
    "\n",
    "        mse_grad_flat, tree_def = tree_flatten(mse_grad)\n",
    "        l1_grad_flat, _ = tree_flatten(l1_grad)\n",
    "\n",
    "        dot_product = sum(jnp.vdot(m, l) for m, l in zip(mse_grad_flat, l1_grad_flat))\n",
    "        mse_grad_norm_squared = sum(jnp.vdot(m, m) for m in mse_grad_flat) \n",
    "        \n",
    "        if(mse_grad_norm_squared == 0):\n",
    "            return lamba * l1_grad\n",
    "\n",
    "        proj_l1_flat = (dot_product/mse_grad_norm_squared) * mse_grad_flat\n",
    "\n",
    "        l1_grad_orthogonal = tree_unflatten(tree_def, l1_grad_orthogonal)\n",
    "\n",
    "        return mse\n",
    "    return loss_fn"
   ]
  },
  {
   "cell_type": "code",
   "execution_count": 21,
   "id": "5c47711b",
   "metadata": {
    "ExecuteTime": {
     "end_time": "2023-06-30T12:18:52.427844Z",
     "start_time": "2023-06-30T12:18:52.363551Z"
    }
   },
   "outputs": [],
   "source": [
    "tx = optax.adam(learning_rate=1e-2)\n",
    "opt_state = tx.init(params)"
   ]
  },
  {
   "cell_type": "code",
   "execution_count": 22,
   "id": "097ca4d8",
   "metadata": {
    "ExecuteTime": {
     "end_time": "2023-06-30T12:19:10.286145Z",
     "start_time": "2023-06-30T12:18:53.239781Z"
    }
   },
   "outputs": [
    {
     "name": "stdout",
     "output_type": "stream",
     "text": [
      "2.2196107\n",
      "0.002707143\n",
      "0.0004208714\n",
      "0.00026540947\n",
      "0.00011064221\n",
      "2.0543432e-05\n",
      "4.4613707e-06\n",
      "3.6789017e-06\n",
      "3.5207515e-06\n",
      "3.363988e-06\n",
      "3.2019302e-06\n",
      "0.01937606\n",
      "1.9362588\n",
      "0.015194669\n",
      "1.5163493\n",
      "0.013030677\n",
      "1.3007544\n",
      "0.011318412\n",
      "1.1294503\n",
      "0.010037643\n",
      "1.0021915\n",
      "0.00930468\n",
      "0.9281473\n",
      "0.008803648\n",
      "0.8784219\n",
      "0.008348987\n",
      "0.8320803\n",
      "0.007947914\n",
      "0.7910663\n",
      "0.007518957\n",
      "0.7469034\n",
      "0.0072142705\n",
      "0.72014046\n",
      "0.007057825\n",
      "0.70315003\n",
      "0.006882266\n",
      "0.6867191\n",
      "0.00677687\n",
      "0.66987675\n",
      "0.0065443413\n",
      "0.6523567\n",
      "0.0063646003\n",
      "0.63525206\n",
      "0.0062312284\n",
      "0.62128615\n",
      "0.006071429\n",
      "0.6060356\n",
      "0.005926168\n",
      "0.58973813\n",
      "0.0057794475\n",
      "0.57365894\n",
      "0.00560639\n",
      "0.5558394\n",
      "0.005391321\n",
      "0.5370958\n",
      "0.0052899597\n",
      "0.52133024\n",
      "0.0050951154\n",
      "0.508272\n",
      "0.004964719\n",
      "0.4939353\n",
      "0.0048739086\n",
      "0.48035818\n",
      "0.0046893465\n",
      "0.4669354\n",
      "0.004565598\n",
      "0.45338818\n",
      "0.004405324\n",
      "0.43899575\n",
      "0.004319337\n",
      "0.4299099\n",
      "0.0042511504\n",
      "0.42022023\n",
      "1.312282e-05\n",
      "9.035533e-06\n",
      "9.031992e-06\n",
      "9.02654e-06\n",
      "9.017615e-06\n",
      "9.002922e-06\n",
      "1.0821866e-05\n",
      "8.933939e-06\n",
      "8.857901e-06\n",
      "8.870014e-06\n",
      "8.462183e-06\n"
     ]
    }
   ],
   "source": [
    "loss_grad_1 = get_loss_grad(0)\n",
    "loss_grad_2 = get_loss_grad(1e-2)\n",
    "\n",
    "for i in range(1000):\n",
    "    loss_val, grads = loss_grad_1(params)\n",
    "    updates, opt_state = tx.update(grads, opt_state)\n",
    "    params = optax.apply_updates(params, updates)\n",
    "    if i % 99 == 0:\n",
    "        print(loss_val)\n",
    "\n",
    "for i in range(3000):\n",
    "    loss_val, grads = loss_grad_2(params)\n",
    "    updates, opt_state = tx.update(grads, opt_state)\n",
    "    params = optax.apply_updates(params, updates)\n",
    "    if i % 99 == 0:\n",
    "        print(loss_val)\n",
    "        print(l1_fn(params))\n",
    "        \n",
    "thr = 1e-3\n",
    "loss_grad_masked = jax.jit(jax.value_and_grad(get_masked_mse(thr, params)))\n",
    "mask, spec = get_mask_spec(thr, params)\n",
    "\n",
    "for i in range(1000):\n",
    "    loss_val, grads = loss_grad_masked(params)\n",
    "    updates, opt_state = tx.update(grads, opt_state)\n",
    "    params = optax.apply_updates(params, updates)\n",
    "    if i % 99 == 0:\n",
    "        print(loss_val)"
   ]
  },
  {
   "cell_type": "code",
   "execution_count": 23,
   "id": "41b51cf3",
   "metadata": {
    "ExecuteTime": {
     "end_time": "2023-06-30T12:19:13.753643Z",
     "start_time": "2023-06-30T12:19:13.419486Z"
    }
   },
   "outputs": [
    {
     "data": {
      "text/latex": [
       "$\\displaystyle - 0.53297632932663 \\left(1.91601252555847 \\cos{\\left(0.0608053095638752 x_{0} \\right)} + 1.84970014420013\\right) \\left(0.728689376026723 x_{0}^{2} - 0.00173055101186037 \\sin{\\left(0.0144784711301327 x_{0} \\right)} - 0.648524641990662 \\cos{\\left(0.0608053095638752 x_{0} \\right)} - 0.298678778403794\\right) + 0.122283354401588 \\sin{\\left(0.627760708332062 \\cos{\\left(0.0608053095638752 x_{0} \\right)} + 0.271160759674615 \\right)}$"
      ],
      "text/plain": [
       "-0.53297632932663*(1.91601252555847*cos(0.0608053095638752*x0) + 1.84970014420013)*(0.728689376026723*x0**2 - 0.00173055101186037*sin(0.0144784711301327*x0) - 0.648524641990662*cos(0.0608053095638752*x0) - 0.298678778403794) + 0.122283354401588*sin(0.627760708332062*cos(0.0608053095638752*x0) + 0.271160759674615)"
      ]
     },
     "execution_count": 23,
     "metadata": {},
     "output_type": "execute_result"
    }
   ],
   "source": [
    "symb = get_symbolic_expr(apply_mask(mask, spec, params), funs)[0]\n",
    "symb"
   ]
  },
  {
   "cell_type": "code",
   "execution_count": 24,
   "id": "97988c92",
   "metadata": {
    "ExecuteTime": {
     "end_time": "2023-06-30T12:19:15.341528Z",
     "start_time": "2023-06-30T12:19:15.316693Z"
    }
   },
   "outputs": [
    {
     "data": {
      "text/latex": [
       "$\\displaystyle - 0.744129810447942 x_{0}^{2} \\cos{\\left(0.0608053095638752 x_{0} \\right)} - 0.718375793126916 x_{0}^{2} + 0.00176722021590023 \\sin{\\left(0.0144784711301327 x_{0} \\right)} \\cos{\\left(0.0608053095638752 x_{0} \\right)} + 0.00170605747330971 \\sin{\\left(0.0144784711301327 x_{0} \\right)} + 0.122283354401588 \\sin{\\left(0.627760708332062 \\cos{\\left(0.0608053095638752 x_{0} \\right)} + 0.271160759674615 \\right)} + 0.662266439983932 \\cos^{2}{\\left(0.0608053095638752 x_{0} \\right)} + 0.944353258672449 \\cos{\\left(0.0608053095638752 x_{0} \\right)} + 0.294451396417965$"
      ],
      "text/plain": [
       "-0.744129810447942*x0**2*cos(0.0608053095638752*x0) - 0.718375793126916*x0**2 + 0.00176722021590023*sin(0.0144784711301327*x0)*cos(0.0608053095638752*x0) + 0.00170605747330971*sin(0.0144784711301327*x0) + 0.122283354401588*sin(0.627760708332062*cos(0.0608053095638752*x0) + 0.271160759674615) + 0.662266439983932*cos(0.0608053095638752*x0)**2 + 0.944353258672449*cos(0.0608053095638752*x0) + 0.294451396417965"
      ]
     },
     "execution_count": 24,
     "metadata": {},
     "output_type": "execute_result"
    }
   ],
   "source": [
    "sy.expand(symb)"
   ]
  }
 ],
 "metadata": {
  "kernelspec": {
   "display_name": "EQL",
   "language": "python",
   "name": "python3"
  },
  "language_info": {
   "codemirror_mode": {
    "name": "ipython",
    "version": 3
   },
   "file_extension": ".py",
   "mimetype": "text/x-python",
   "name": "python",
   "nbconvert_exporter": "python",
   "pygments_lexer": "ipython3",
   "version": "3.12.7"
  },
  "varInspector": {
   "cols": {
    "lenName": 16,
    "lenType": 16,
    "lenVar": 40
   },
   "kernels_config": {
    "python": {
     "delete_cmd_postfix": "",
     "delete_cmd_prefix": "del ",
     "library": "var_list.py",
     "varRefreshCmd": "print(var_dic_list())"
    },
    "r": {
     "delete_cmd_postfix": ") ",
     "delete_cmd_prefix": "rm(",
     "library": "var_list.r",
     "varRefreshCmd": "cat(var_dic_list()) "
    }
   },
   "types_to_exclude": [
    "module",
    "function",
    "builtin_function_or_method",
    "instance",
    "_Feature"
   ],
   "window_display": false
  }
 },
 "nbformat": 4,
 "nbformat_minor": 5
}
