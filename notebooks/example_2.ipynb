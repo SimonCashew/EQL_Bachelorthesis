{
 "cells": [
  {
   "cell_type": "code",
   "execution_count": 42,
   "id": "004dede5",
   "metadata": {
    "ExecuteTime": {
     "end_time": "2023-07-05T12:58:33.306015Z",
     "start_time": "2023-07-05T12:58:33.287782Z"
    }
   },
   "outputs": [],
   "source": [
    "import jax\n",
    "from jax import lax, random, numpy as jnp\n",
    "from jax.tree_util import tree_flatten, tree_unflatten\n",
    "import wandb\n",
    "import flax\n",
    "from flax import linen as nn\n",
    "\n",
    "import sympy as sy\n",
    "import numpy as np\n",
    "\n",
    "import sys\n",
    "sys.path.append(\"..\")\n",
    "\n",
    "from eql.eqlearner import EQL\n",
    "from eql.symbolic import get_symbolic_expr, get_symbolic_expr_layer\n",
    "\n",
    "import optax\n",
    "import scipy\n",
    "from functools import partial"
   ]
  },
  {
   "cell_type": "code",
   "execution_count": null,
   "id": "20d0c746",
   "metadata": {},
   "outputs": [
    {
     "data": {
      "text/html": [
       "Tracking run with wandb version 0.19.4"
      ],
      "text/plain": [
       "<IPython.core.display.HTML object>"
      ]
     },
     "metadata": {},
     "output_type": "display_data"
    },
    {
     "data": {
      "text/html": [
       "Run data is saved locally in <code>c:\\Users\\Simon\\Bachelorarbeit\\EQL\\notebooks\\wandb\\run-20250120_223030-jk6i7rsj</code>"
      ],
      "text/plain": [
       "<IPython.core.display.HTML object>"
      ]
     },
     "metadata": {},
     "output_type": "display_data"
    },
    {
     "data": {
      "text/html": [
       "Syncing run <strong><a href='https://wandb.ai/simonb03-university-of-t-bingen/Example_2/runs/jk6i7rsj' target=\"_blank\">olive-dream-3</a></strong> to <a href='https://wandb.ai/simonb03-university-of-t-bingen/Example_2' target=\"_blank\">Weights & Biases</a> (<a href='https://wandb.me/developer-guide' target=\"_blank\">docs</a>)<br>"
      ],
      "text/plain": [
       "<IPython.core.display.HTML object>"
      ]
     },
     "metadata": {},
     "output_type": "display_data"
    },
    {
     "data": {
      "text/html": [
       " View project at <a href='https://wandb.ai/simonb03-university-of-t-bingen/Example_2' target=\"_blank\">https://wandb.ai/simonb03-university-of-t-bingen/Example_2</a>"
      ],
      "text/plain": [
       "<IPython.core.display.HTML object>"
      ]
     },
     "metadata": {},
     "output_type": "display_data"
    },
    {
     "data": {
      "text/html": [
       " View run at <a href='https://wandb.ai/simonb03-university-of-t-bingen/Example_2/runs/jk6i7rsj' target=\"_blank\">https://wandb.ai/simonb03-university-of-t-bingen/Example_2/runs/jk6i7rsj</a>"
      ],
      "text/plain": [
       "<IPython.core.display.HTML object>"
      ]
     },
     "metadata": {},
     "output_type": "display_data"
    },
    {
     "data": {
      "text/html": [
       "<button onClick=\"this.nextSibling.style.display='block';this.style.display='none';\">Display W&B run</button><iframe src='https://wandb.ai/simonb03-university-of-t-bingen/Example_2/runs/jk6i7rsj?jupyter=true' style='border:none;width:100%;height:420px;display:none;'></iframe>"
      ],
      "text/plain": [
       "<wandb.sdk.wandb_run.Run at 0x22314713140>"
      ]
     },
     "execution_count": 43,
     "metadata": {},
     "output_type": "execute_result"
    }
   ],
   "source": [
    "wandb.init(\n",
    "    # set the wandb project where this run will be logged\n",
    "    project=\"Example_2\",\n",
    "\n",
    "    # track hyperparameters and run metadata\n",
    "    config={\n",
    "    \"learning_rate\": 0.01,\n",
    "    \"architecture\": \"EQL_2_Layers\",\n",
    "    \"epochs\": 5000,\n",
    "    \"optimizer\": \"Adam\",\n",
    "    \"regularization\": \"No_reg(1000)+L1(3000)+Pruning(1000)\",\n",
    "    \"Batchsize\": 1000,\n",
    "    \"Reg_Factor\": 0.01,\n",
    "    \"Threshold\": 0.001,\n",
    "    \"input_dim\": 1,\n",
    "    \"output_dim\": 1\n",
    "    }\n",
    ")"
   ]
  },
  {
   "cell_type": "code",
   "execution_count": 44,
   "id": "194c741e",
   "metadata": {
    "ExecuteTime": {
     "end_time": "2023-07-05T12:58:33.594541Z",
     "start_time": "2023-07-05T12:58:33.566239Z"
    }
   },
   "outputs": [],
   "source": [
    "funs = ['mul', 'cos', 'sin']*2\n",
    "e = EQL(n_layers=2, functions=funs, features=1)\n",
    "key = random.PRNGKey(0)"
   ]
  },
  {
   "cell_type": "code",
   "execution_count": 45,
   "id": "b74deec9",
   "metadata": {
    "ExecuteTime": {
     "end_time": "2023-07-05T12:58:34.380893Z",
     "start_time": "2023-07-05T12:58:34.350598Z"
    }
   },
   "outputs": [],
   "source": [
    "N = 1000\n",
    "xdim = 1\n",
    "x = (random.uniform(key, (N, xdim))-.5) * 2\n",
    "#x = np.array([[1., 2.]]).T\n",
    "#x = np.linspace(-1, 1, N)[:,None]\n",
    "#y = x[:,0] + jnp.cos(x[:,1])\n",
    "y = jnp.cos(x) + 1 - x**2 "
   ]
  },
  {
   "cell_type": "code",
   "execution_count": 46,
   "id": "fd3ff5e6",
   "metadata": {
    "ExecuteTime": {
     "end_time": "2023-07-05T12:58:35.991384Z",
     "start_time": "2023-07-05T12:58:35.904647Z"
    }
   },
   "outputs": [],
   "source": [
    "params = e.init({'params':key}, x)"
   ]
  },
  {
   "cell_type": "code",
   "execution_count": 47,
   "id": "2e4182f7",
   "metadata": {
    "ExecuteTime": {
     "end_time": "2023-07-05T12:59:04.482608Z",
     "start_time": "2023-07-05T12:59:04.474073Z"
    }
   },
   "outputs": [],
   "source": [
    "def f(x, p):\n",
    "    return e.apply(params, x)"
   ]
  },
  {
   "cell_type": "code",
   "execution_count": 48,
   "id": "0183a762",
   "metadata": {
    "ExecuteTime": {
     "end_time": "2023-07-05T13:00:04.067142Z",
     "start_time": "2023-07-05T13:00:03.984716Z"
    }
   },
   "outputs": [
    {
     "name": "stdout",
     "output_type": "stream",
     "text": [
      "{ \u001b[34m\u001b[22m\u001b[1mlambda \u001b[39m\u001b[22m\u001b[22ma\u001b[35m:f32[1,8]\u001b[39m b\u001b[35m:f32[8]\u001b[39m c\u001b[35m:f32[6,8]\u001b[39m d\u001b[35m:f32[8]\u001b[39m e\u001b[35m:f32[6,1]\u001b[39m f\u001b[35m:f32[1]\u001b[39m; g\u001b[35m:f32[1000,1]\u001b[39m\n",
      "    h\u001b[35m:f32[1]\u001b[39m i\u001b[35m:f32[6,1]\u001b[39m j\u001b[35m:f32[8]\u001b[39m k\u001b[35m:f32[1,8]\u001b[39m l\u001b[35m:f32[8]\u001b[39m m\u001b[35m:f32[6,8]\u001b[39m. \u001b[34m\u001b[22m\u001b[1mlet\n",
      "    \u001b[39m\u001b[22m\u001b[22mn\u001b[35m:f32[1000,8]\u001b[39m = dot_general[dimension_numbers=(([1], [0]), ([], []))] g a\n",
      "    o\u001b[35m:f32[1,8]\u001b[39m = reshape[dimensions=None new_sizes=(1, 8) sharding=None] b\n",
      "    p\u001b[35m:f32[1000,8]\u001b[39m = add n o\n",
      "    q\u001b[35m:f32[1000,1]\u001b[39m = slice[\n",
      "      limit_indices=(1000, 3)\n",
      "      start_indices=(0, 2)\n",
      "      strides=None\n",
      "    ] p\n",
      "    r\u001b[35m:f32[1000]\u001b[39m = squeeze[dimensions=(1,)] q\n",
      "    s\u001b[35m:f32[1000]\u001b[39m = cos r\n",
      "    t\u001b[35m:f32[1000,1]\u001b[39m = slice[\n",
      "      limit_indices=(1000, 4)\n",
      "      start_indices=(0, 3)\n",
      "      strides=None\n",
      "    ] p\n",
      "    u\u001b[35m:f32[1000]\u001b[39m = squeeze[dimensions=(1,)] t\n",
      "    v\u001b[35m:f32[1000]\u001b[39m = sin u\n",
      "    w\u001b[35m:f32[1000,1]\u001b[39m = slice[\n",
      "      limit_indices=(1000, 7)\n",
      "      start_indices=(0, 6)\n",
      "      strides=None\n",
      "    ] p\n",
      "    x\u001b[35m:f32[1000]\u001b[39m = squeeze[dimensions=(1,)] w\n",
      "    y\u001b[35m:f32[1000]\u001b[39m = cos x\n",
      "    z\u001b[35m:f32[1000,1]\u001b[39m = slice[\n",
      "      limit_indices=(1000, 8)\n",
      "      start_indices=(0, 7)\n",
      "      strides=None\n",
      "    ] p\n",
      "    ba\u001b[35m:f32[1000]\u001b[39m = squeeze[dimensions=(1,)] z\n",
      "    bb\u001b[35m:f32[1000]\u001b[39m = sin ba\n",
      "    bc\u001b[35m:f32[1000,1]\u001b[39m = broadcast_in_dim[\n",
      "      broadcast_dimensions=(0,)\n",
      "      shape=(1000, 1)\n",
      "      sharding=None\n",
      "    ] s\n",
      "    bd\u001b[35m:f32[1000,1]\u001b[39m = broadcast_in_dim[\n",
      "      broadcast_dimensions=(0,)\n",
      "      shape=(1000, 1)\n",
      "      sharding=None\n",
      "    ] v\n",
      "    be\u001b[35m:f32[1000,1]\u001b[39m = broadcast_in_dim[\n",
      "      broadcast_dimensions=(0,)\n",
      "      shape=(1000, 1)\n",
      "      sharding=None\n",
      "    ] y\n",
      "    bf\u001b[35m:f32[1000,1]\u001b[39m = broadcast_in_dim[\n",
      "      broadcast_dimensions=(0,)\n",
      "      shape=(1000, 1)\n",
      "      sharding=None\n",
      "    ] bb\n",
      "    bg\u001b[35m:f32[1000,4]\u001b[39m = concatenate[dimension=1] bc bd be bf\n",
      "    bh\u001b[35m:f32[1000,1]\u001b[39m = slice[\n",
      "      limit_indices=(1000, 1)\n",
      "      start_indices=(0, 0)\n",
      "      strides=None\n",
      "    ] p\n",
      "    bi\u001b[35m:f32[1000]\u001b[39m = squeeze[dimensions=(1,)] bh\n",
      "    bj\u001b[35m:f32[1000,1]\u001b[39m = slice[\n",
      "      limit_indices=(1000, 2)\n",
      "      start_indices=(0, 1)\n",
      "      strides=None\n",
      "    ] p\n",
      "    bk\u001b[35m:f32[1000]\u001b[39m = squeeze[dimensions=(1,)] bj\n",
      "    bl\u001b[35m:f32[1000]\u001b[39m = mul bi bk\n",
      "    bm\u001b[35m:f32[1000,1]\u001b[39m = slice[\n",
      "      limit_indices=(1000, 5)\n",
      "      start_indices=(0, 4)\n",
      "      strides=None\n",
      "    ] p\n",
      "    bn\u001b[35m:f32[1000]\u001b[39m = squeeze[dimensions=(1,)] bm\n",
      "    bo\u001b[35m:f32[1000,1]\u001b[39m = slice[\n",
      "      limit_indices=(1000, 6)\n",
      "      start_indices=(0, 5)\n",
      "      strides=None\n",
      "    ] p\n",
      "    bp\u001b[35m:f32[1000]\u001b[39m = squeeze[dimensions=(1,)] bo\n",
      "    bq\u001b[35m:f32[1000]\u001b[39m = mul bn bp\n",
      "    br\u001b[35m:f32[1000,1]\u001b[39m = broadcast_in_dim[\n",
      "      broadcast_dimensions=(0,)\n",
      "      shape=(1000, 1)\n",
      "      sharding=None\n",
      "    ] bl\n",
      "    bs\u001b[35m:f32[1000,1]\u001b[39m = broadcast_in_dim[\n",
      "      broadcast_dimensions=(0,)\n",
      "      shape=(1000, 1)\n",
      "      sharding=None\n",
      "    ] bq\n",
      "    bt\u001b[35m:f32[1000,2]\u001b[39m = concatenate[dimension=1] br bs\n",
      "    bu\u001b[35m:f32[1000,6]\u001b[39m = concatenate[dimension=1] bg bt\n",
      "    bv\u001b[35m:f32[1000,8]\u001b[39m = dot_general[dimension_numbers=(([1], [0]), ([], []))] bu c\n",
      "    bw\u001b[35m:f32[1,8]\u001b[39m = reshape[dimensions=None new_sizes=(1, 8) sharding=None] d\n",
      "    bx\u001b[35m:f32[1000,8]\u001b[39m = add bv bw\n",
      "    by\u001b[35m:f32[1000,1]\u001b[39m = slice[\n",
      "      limit_indices=(1000, 3)\n",
      "      start_indices=(0, 2)\n",
      "      strides=None\n",
      "    ] bx\n",
      "    bz\u001b[35m:f32[1000]\u001b[39m = squeeze[dimensions=(1,)] by\n",
      "    ca\u001b[35m:f32[1000]\u001b[39m = cos bz\n",
      "    cb\u001b[35m:f32[1000,1]\u001b[39m = slice[\n",
      "      limit_indices=(1000, 4)\n",
      "      start_indices=(0, 3)\n",
      "      strides=None\n",
      "    ] bx\n",
      "    cc\u001b[35m:f32[1000]\u001b[39m = squeeze[dimensions=(1,)] cb\n",
      "    cd\u001b[35m:f32[1000]\u001b[39m = sin cc\n",
      "    ce\u001b[35m:f32[1000,1]\u001b[39m = slice[\n",
      "      limit_indices=(1000, 7)\n",
      "      start_indices=(0, 6)\n",
      "      strides=None\n",
      "    ] bx\n",
      "    cf\u001b[35m:f32[1000]\u001b[39m = squeeze[dimensions=(1,)] ce\n",
      "    cg\u001b[35m:f32[1000]\u001b[39m = cos cf\n",
      "    ch\u001b[35m:f32[1000,1]\u001b[39m = slice[\n",
      "      limit_indices=(1000, 8)\n",
      "      start_indices=(0, 7)\n",
      "      strides=None\n",
      "    ] bx\n",
      "    ci\u001b[35m:f32[1000]\u001b[39m = squeeze[dimensions=(1,)] ch\n",
      "    cj\u001b[35m:f32[1000]\u001b[39m = sin ci\n",
      "    ck\u001b[35m:f32[1000,1]\u001b[39m = broadcast_in_dim[\n",
      "      broadcast_dimensions=(0,)\n",
      "      shape=(1000, 1)\n",
      "      sharding=None\n",
      "    ] ca\n",
      "    cl\u001b[35m:f32[1000,1]\u001b[39m = broadcast_in_dim[\n",
      "      broadcast_dimensions=(0,)\n",
      "      shape=(1000, 1)\n",
      "      sharding=None\n",
      "    ] cd\n",
      "    cm\u001b[35m:f32[1000,1]\u001b[39m = broadcast_in_dim[\n",
      "      broadcast_dimensions=(0,)\n",
      "      shape=(1000, 1)\n",
      "      sharding=None\n",
      "    ] cg\n",
      "    cn\u001b[35m:f32[1000,1]\u001b[39m = broadcast_in_dim[\n",
      "      broadcast_dimensions=(0,)\n",
      "      shape=(1000, 1)\n",
      "      sharding=None\n",
      "    ] cj\n",
      "    co\u001b[35m:f32[1000,4]\u001b[39m = concatenate[dimension=1] ck cl cm cn\n",
      "    cp\u001b[35m:f32[1000,1]\u001b[39m = slice[\n",
      "      limit_indices=(1000, 1)\n",
      "      start_indices=(0, 0)\n",
      "      strides=None\n",
      "    ] bx\n",
      "    cq\u001b[35m:f32[1000]\u001b[39m = squeeze[dimensions=(1,)] cp\n",
      "    cr\u001b[35m:f32[1000,1]\u001b[39m = slice[\n",
      "      limit_indices=(1000, 2)\n",
      "      start_indices=(0, 1)\n",
      "      strides=None\n",
      "    ] bx\n",
      "    cs\u001b[35m:f32[1000]\u001b[39m = squeeze[dimensions=(1,)] cr\n",
      "    ct\u001b[35m:f32[1000]\u001b[39m = mul cq cs\n",
      "    cu\u001b[35m:f32[1000,1]\u001b[39m = slice[\n",
      "      limit_indices=(1000, 5)\n",
      "      start_indices=(0, 4)\n",
      "      strides=None\n",
      "    ] bx\n",
      "    cv\u001b[35m:f32[1000]\u001b[39m = squeeze[dimensions=(1,)] cu\n",
      "    cw\u001b[35m:f32[1000,1]\u001b[39m = slice[\n",
      "      limit_indices=(1000, 6)\n",
      "      start_indices=(0, 5)\n",
      "      strides=None\n",
      "    ] bx\n",
      "    cx\u001b[35m:f32[1000]\u001b[39m = squeeze[dimensions=(1,)] cw\n",
      "    cy\u001b[35m:f32[1000]\u001b[39m = mul cv cx\n",
      "    cz\u001b[35m:f32[1000,1]\u001b[39m = broadcast_in_dim[\n",
      "      broadcast_dimensions=(0,)\n",
      "      shape=(1000, 1)\n",
      "      sharding=None\n",
      "    ] ct\n",
      "    da\u001b[35m:f32[1000,1]\u001b[39m = broadcast_in_dim[\n",
      "      broadcast_dimensions=(0,)\n",
      "      shape=(1000, 1)\n",
      "      sharding=None\n",
      "    ] cy\n",
      "    db\u001b[35m:f32[1000,2]\u001b[39m = concatenate[dimension=1] cz da\n",
      "    dc\u001b[35m:f32[1000,6]\u001b[39m = concatenate[dimension=1] co db\n",
      "    dd\u001b[35m:f32[1000,1]\u001b[39m = dot_general[dimension_numbers=(([1], [0]), ([], []))] dc e\n",
      "    de\u001b[35m:f32[1,1]\u001b[39m = reshape[dimensions=None new_sizes=(1, 1) sharding=None] f\n",
      "    df\u001b[35m:f32[1000,1]\u001b[39m = add dd de\n",
      "  \u001b[34m\u001b[22m\u001b[1min \u001b[39m\u001b[22m\u001b[22m(df,) }\n"
     ]
    }
   ],
   "source": [
    "print(jax.make_jaxpr(f)(x,params))"
   ]
  },
  {
   "cell_type": "code",
   "execution_count": 49,
   "id": "73cc3ecb",
   "metadata": {
    "ExecuteTime": {
     "end_time": "2023-07-05T12:58:37.162706Z",
     "start_time": "2023-07-05T12:58:37.151465Z"
    }
   },
   "outputs": [],
   "source": [
    "def mse_fn(params):\n",
    "    pred = e.apply(params, x)\n",
    "    return jnp.mean((pred-y)**2)\n",
    "\n",
    "\n",
    "def get_mask_spec(thresh, params):\n",
    "    flat, spec = tree_flatten(params)\n",
    "    mask = [jnp.abs(f) > thresh for f in flat]\n",
    "    return mask, spec\n",
    "\n",
    "def apply_mask(mask, spec, params):\n",
    "    flat, _ = tree_flatten(params)\n",
    "    masked_params = tree_unflatten(spec, [f*m for f,m in zip(flat, mask)])\n",
    "    return masked_params\n",
    "\n",
    "\n",
    "def get_masked_mse(thresh, params):\n",
    "    mask, spec = get_mask_spec(thresh, params)\n",
    "    def masked_mse(params):\n",
    "        masked_params = apply_mask(mask, spec, params)\n",
    "        return mse_fn(masked_params)\n",
    "    return jax.jit(masked_mse)\n",
    "    \n",
    "\n",
    "def l1_fn(params):\n",
    "    return sum(\n",
    "        jnp.abs(w).mean() for w in jax.tree.leaves(params[\"params\"])\n",
    "    )"
   ]
  },
  {
   "cell_type": "code",
   "execution_count": 50,
   "id": "abc6f00e",
   "metadata": {
    "ExecuteTime": {
     "end_time": "2023-06-30T12:18:51.631976Z",
     "start_time": "2023-06-30T12:18:51.624018Z"
    }
   },
   "outputs": [],
   "source": [
    "def get_loss(lamba):\n",
    "    def loss_fn(params):\n",
    "        return mse_fn(params)  + lamba * l1_fn(params)\n",
    "    return loss_fn\n",
    "\n",
    "def get_loss_grad(lamba):\n",
    "    loss = get_loss(lamba)\n",
    "    return jax.jit(jax.value_and_grad(loss))"
   ]
  },
  {
   "cell_type": "code",
   "execution_count": 51,
   "id": "5c47711b",
   "metadata": {
    "ExecuteTime": {
     "end_time": "2023-06-30T12:18:52.427844Z",
     "start_time": "2023-06-30T12:18:52.363551Z"
    }
   },
   "outputs": [],
   "source": [
    "tx = optax.adam(learning_rate=1e-2)\n",
    "opt_state = tx.init(params)"
   ]
  },
  {
   "cell_type": "code",
   "execution_count": 52,
   "id": "097ca4d8",
   "metadata": {
    "ExecuteTime": {
     "end_time": "2023-06-30T12:19:10.286145Z",
     "start_time": "2023-06-30T12:18:53.239781Z"
    }
   },
   "outputs": [
    {
     "name": "stdout",
     "output_type": "stream",
     "text": [
      "0.0027960988\n",
      "0.00041793875\n",
      "0.00026049122\n",
      "0.00010524316\n",
      "1.8509174e-05\n",
      "4.316204e-06\n",
      "3.6661515e-06\n",
      "3.5083053e-06\n",
      "3.3494446e-06\n",
      "0.015170485\n",
      "1.514023\n",
      "0.012992911\n",
      "1.2966099\n",
      "0.011273896\n",
      "1.1249194\n",
      "0.010014574\n",
      "0.9998518\n",
      "0.009265739\n",
      "0.92502797\n",
      "0.008786042\n",
      "0.8761539\n",
      "0.008316746\n",
      "0.8292042\n",
      "0.007901113\n",
      "0.78824556\n",
      "0.007455474\n",
      "0.7426778\n",
      "0.0072117704\n",
      "0.71789104\n",
      "0.0070529766\n",
      "0.701208\n",
      "0.0068570278\n",
      "0.68472946\n",
      "0.0067139305\n",
      "0.6674716\n",
      "0.006532983\n",
      "0.6504694\n",
      "0.006347271\n",
      "0.63327837\n",
      "0.0062148757\n",
      "0.6185476\n",
      "0.006051357\n",
      "0.6032225\n",
      "0.005900569\n",
      "0.58672076\n",
      "0.005724036\n",
      "0.5700405\n",
      "0.005568296\n",
      "0.5526626\n",
      "0.005346085\n",
      "0.532651\n",
      "0.005204119\n",
      "0.5183987\n",
      "0.005270538\n",
      "0.5052099\n",
      "0.00494418\n",
      "0.49054587\n",
      "0.004792625\n",
      "0.4772443\n",
      "0.0046483744\n",
      "0.46311858\n",
      "0.0045114206\n",
      "0.4486933\n",
      "0.0043865885\n",
      "0.43633038\n",
      "0.004286748\n",
      "0.42675477\n",
      "4.161805e-06\n",
      "1.8518053e-06\n",
      "7.9769654e-07\n",
      "3.3133182e-07\n",
      "1.3207847e-07\n",
      "5.0497704e-08\n",
      "1.0379539e-05\n",
      "5.798387e-09\n",
      "6.9755015e-09\n"
     ]
    }
   ],
   "source": [
    "loss_grad_1 = get_loss_grad(0)\n",
    "loss_grad_2 = get_loss_grad(1e-2)\n",
    "\n",
    "for i in range(1000):\n",
    "    loss_val, grads = loss_grad_1(params)\n",
    "    updates, opt_state = tx.update(grads, opt_state)\n",
    "    params = optax.apply_updates(params, updates)\n",
    "    if i % 100 == 0 and i > 0:\n",
    "        print(loss_val)\n",
    "        wandb.log({\"loss\": loss_val})\n",
    "\n",
    "for i in range(3000):\n",
    "    loss_val, grads = loss_grad_2(params)\n",
    "    updates, opt_state = tx.update(grads, opt_state)\n",
    "    params = optax.apply_updates(params, updates)\n",
    "    if i % 100 == 0 and i > 0:\n",
    "        print(loss_val)\n",
    "        print(l1_fn(params))\n",
    "        wandb.log({\"loss\": loss_val})\n",
    "        \n",
    "thr = 1e-3\n",
    "loss_grad_masked = jax.jit(jax.value_and_grad(get_masked_mse(thr, params)))\n",
    "\n",
    "for i in range(1000):\n",
    "    loss_val, grads = loss_grad_masked(params)\n",
    "    updates, opt_state = tx.update(grads, opt_state)\n",
    "    params = optax.apply_updates(params, updates)\n",
    "    mask, spec = get_mask_spec(thr, params)\n",
    "    params = apply_mask(mask, spec, params)\n",
    "    if i % 100 == 0 and i > 0:\n",
    "        print(loss_val)\n",
    "        wandb.log({\"loss\": loss_val})"
   ]
  },
  {
   "cell_type": "code",
   "execution_count": 53,
   "id": "29296c2d",
   "metadata": {},
   "outputs": [
    {
     "data": {
      "text/plain": [
       "{'params': {'last': {'bias': Array([0.], dtype=float32),\n",
       "   'kernel': Array([[ 0.        ],\n",
       "          [ 0.12263943],\n",
       "          [ 0.        ],\n",
       "          [ 0.        ],\n",
       "          [-0.00386547],\n",
       "          [-0.53217864]], dtype=float32)},\n",
       "  'layers_0': {'linear_layer': {'bias': Array([ 0.        ,  0.        ,  0.        ,  0.        , -0.01496816,\n",
       "            0.        ,  0.        ,  0.        ], dtype=float32),\n",
       "    'kernel': Array([[ 0.49164796, -0.49165705,  0.03423718,  0.        ,  0.00303308,\n",
       "             0.        ,  0.        ,  0.        ]], dtype=float32)}},\n",
       "  'layers_1': {'linear_layer': {'bias': Array([ 0.        , -0.00319671,  0.        ,  0.        ,  0.        ,\n",
       "            0.01109702,  0.        ,  0.01310011], dtype=float32),\n",
       "    'kernel': Array([[ 0.        ,  0.        ,  0.        ,  0.27129987,  1.8525475 ,\n",
       "            -0.30027294,  0.        ,  0.        ],\n",
       "           [ 0.        ,  0.        ,  0.        ,  0.        , -0.00344228,\n",
       "            -0.00859725,  0.        , -0.01083106],\n",
       "           [ 0.        ,  0.        ,  0.        ,  0.62788975,  1.9121301 ,\n",
       "            -0.6501301 ,  0.09032912,  0.        ],\n",
       "           [ 0.0073525 ,  0.        ,  0.        ,  0.        , -0.00429165,\n",
       "            -0.00882992, -0.00598631,  0.        ],\n",
       "           [ 0.        ,  0.        ,  0.00427852,  0.        ,  0.422809  ,\n",
       "            -2.987159  ,  0.        , -0.01120256],\n",
       "           [-0.00547627,  0.01010962,  0.00477396,  0.        ,  0.        ,\n",
       "             0.        , -0.00942046,  0.00458112]], dtype=float32)}}}}"
      ]
     },
     "execution_count": 53,
     "metadata": {},
     "output_type": "execute_result"
    }
   ],
   "source": [
    "params"
   ]
  },
  {
   "cell_type": "code",
   "execution_count": 54,
   "id": "41b51cf3",
   "metadata": {
    "ExecuteTime": {
     "end_time": "2023-06-30T12:19:13.753643Z",
     "start_time": "2023-06-30T12:19:13.419486Z"
    }
   },
   "outputs": [
    {
     "data": {
      "text/latex": [
       "$\\displaystyle - 0.532178640365601 \\left(- 0.102202316171661 x_{0}^{2} + 1.85254752635956 \\cos{\\left(0.0342371799051762 x_{0} \\right)} + 1.91213011741638\\right) \\left(0.722062601609799 x_{0}^{2} - 0.300272941589355 \\cos{\\left(0.0342371799051762 x_{0} \\right)} - 0.639033070765436\\right) + 0.122639432549477 \\sin{\\left(0.271299868822098 \\cos{\\left(0.0342371799051762 x_{0} \\right)} + 0.627889752388 \\right)}$"
      ],
      "text/plain": [
       "-0.532178640365601*(-0.102202316171661*x0**2 + 1.85254752635956*cos(0.0342371799051762*x0) + 1.91213011741638)*(0.722062601609799*x0**2 - 0.300272941589355*cos(0.0342371799051762*x0) - 0.639033070765436) + 0.122639432549477*sin(0.271299868822098*cos(0.0342371799051762*x0) + 0.627889752388)"
      ]
     },
     "execution_count": 54,
     "metadata": {},
     "output_type": "execute_result"
    }
   ],
   "source": [
    "symb = get_symbolic_expr(apply_mask(mask, spec, params), funs)[0]\n",
    "symb"
   ]
  },
  {
   "cell_type": "code",
   "execution_count": 55,
   "id": "97988c92",
   "metadata": {
    "ExecuteTime": {
     "end_time": "2023-06-30T12:19:15.341528Z",
     "start_time": "2023-06-30T12:19:15.316693Z"
    }
   },
   "outputs": [
    {
     "data": {
      "text/latex": [
       "$\\displaystyle 0.0392729052309385 x_{0}^{4} - 0.728203383803228 x_{0}^{2} \\cos{\\left(0.0342371799051762 x_{0} \\right)} - 0.769524091278662 x_{0}^{2} + 0.122639432549477 \\sin{\\left(0.271299868822098 \\cos{\\left(0.0342371799051762 x_{0} \\right)} + 0.627889752388 \\right)} + 0.296034956490051 \\cos^{2}{\\left(0.0342371799051762 x_{0} \\right)} + 0.935570086784625 \\cos{\\left(0.0342371799051762 x_{0} \\right)} + 0.650276733729862$"
      ],
      "text/plain": [
       "0.0392729052309385*x0**4 - 0.728203383803228*x0**2*cos(0.0342371799051762*x0) - 0.769524091278662*x0**2 + 0.122639432549477*sin(0.271299868822098*cos(0.0342371799051762*x0) + 0.627889752388) + 0.296034956490051*cos(0.0342371799051762*x0)**2 + 0.935570086784625*cos(0.0342371799051762*x0) + 0.650276733729862"
      ]
     },
     "execution_count": 55,
     "metadata": {},
     "output_type": "execute_result"
    }
   ],
   "source": [
    "sy.expand(symb)"
   ]
  },
  {
   "cell_type": "code",
   "execution_count": 56,
   "id": "af448f92",
   "metadata": {},
   "outputs": [
    {
     "data": {
      "text/html": [],
      "text/plain": [
       "<IPython.core.display.HTML object>"
      ]
     },
     "metadata": {},
     "output_type": "display_data"
    },
    {
     "data": {
      "text/html": [
       "<br>    <style><br>        .wandb-row {<br>            display: flex;<br>            flex-direction: row;<br>            flex-wrap: wrap;<br>            justify-content: flex-start;<br>            width: 100%;<br>        }<br>        .wandb-col {<br>            display: flex;<br>            flex-direction: column;<br>            flex-basis: 100%;<br>            flex: 1;<br>            padding: 10px;<br>        }<br>    </style><br><div class=\"wandb-row\"><div class=\"wandb-col\"><h3>Run history:</h3><br/><table class=\"wandb\"><tr><td>loss</td><td>▂▁▁▁▁▁▁▁█▇▆▆▅▅▅▄▄▄▄▄▄▄▄▄▄▃▃▃▃▃▃▃▃▁▁▁▁▁▁▁</td></tr></table><br/></div><div class=\"wandb-col\"><h3>Run summary:</h3><br/><table class=\"wandb\"><tr><td>loss</td><td>0.0</td></tr></table><br/></div></div>"
      ],
      "text/plain": [
       "<IPython.core.display.HTML object>"
      ]
     },
     "metadata": {},
     "output_type": "display_data"
    },
    {
     "data": {
      "text/html": [
       " View run <strong style=\"color:#cdcd00\">olive-dream-3</strong> at: <a href='https://wandb.ai/simonb03-university-of-t-bingen/Example_2/runs/jk6i7rsj' target=\"_blank\">https://wandb.ai/simonb03-university-of-t-bingen/Example_2/runs/jk6i7rsj</a><br> View project at: <a href='https://wandb.ai/simonb03-university-of-t-bingen/Example_2' target=\"_blank\">https://wandb.ai/simonb03-university-of-t-bingen/Example_2</a><br>Synced 5 W&B file(s), 0 media file(s), 0 artifact file(s) and 0 other file(s)"
      ],
      "text/plain": [
       "<IPython.core.display.HTML object>"
      ]
     },
     "metadata": {},
     "output_type": "display_data"
    },
    {
     "data": {
      "text/html": [
       "Find logs at: <code>.\\wandb\\run-20250120_223030-jk6i7rsj\\logs</code>"
      ],
      "text/plain": [
       "<IPython.core.display.HTML object>"
      ]
     },
     "metadata": {},
     "output_type": "display_data"
    }
   ],
   "source": [
    "wandb.finish()"
   ]
  }
 ],
 "metadata": {
  "kernelspec": {
   "display_name": "EQL",
   "language": "python",
   "name": "python3"
  },
  "language_info": {
   "codemirror_mode": {
    "name": "ipython",
    "version": 3
   },
   "file_extension": ".py",
   "mimetype": "text/x-python",
   "name": "python",
   "nbconvert_exporter": "python",
   "pygments_lexer": "ipython3",
   "version": "3.11.11"
  },
  "varInspector": {
   "cols": {
    "lenName": 16,
    "lenType": 16,
    "lenVar": 40
   },
   "kernels_config": {
    "python": {
     "delete_cmd_postfix": "",
     "delete_cmd_prefix": "del ",
     "library": "var_list.py",
     "varRefreshCmd": "print(var_dic_list())"
    },
    "r": {
     "delete_cmd_postfix": ") ",
     "delete_cmd_prefix": "rm(",
     "library": "var_list.r",
     "varRefreshCmd": "cat(var_dic_list()) "
    }
   },
   "types_to_exclude": [
    "module",
    "function",
    "builtin_function_or_method",
    "instance",
    "_Feature"
   ],
   "window_display": false
  }
 },
 "nbformat": 4,
 "nbformat_minor": 5
}
