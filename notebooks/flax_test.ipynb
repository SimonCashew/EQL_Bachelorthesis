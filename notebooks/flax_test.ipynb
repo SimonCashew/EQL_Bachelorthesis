{
 "cells": [
  {
   "cell_type": "code",
   "execution_count": 27,
   "id": "b3cdd0d3",
   "metadata": {
    "ExecuteTime": {
     "end_time": "2022-04-12T15:13:28.368146Z",
     "start_time": "2022-04-12T15:13:28.194049Z"
    }
   },
   "outputs": [],
   "source": [
    "import jax\n",
    "from typing import Any, Callable, Sequence, Optional\n",
    "from jax import lax, random, numpy as jnp\n",
    "import flax\n",
    "from flax import linen as nn\n",
    "import sympy as sy\n",
    "import numpy as np\n",
    "import sys\n",
    "sys.path.append(\"..\")\n",
    "from eql import eqlearner as eql\n",
    "from eql import custom_functions\n",
    "from eql.symbolic import get_symbolic_expr, get_symbolic_expr_layer\n",
    "from typing import List, Tuple, Callable\n",
    "from functools import partial\n",
    "import matplotlib.pyplot as plt"
   ]
  },
  {
   "cell_type": "code",
   "execution_count": 28,
   "id": "2a3c4f13",
   "metadata": {
    "ExecuteTime": {
     "end_time": "2022-04-12T15:13:28.921510Z",
     "start_time": "2022-04-12T15:13:28.911727Z"
    }
   },
   "outputs": [],
   "source": [
    "import scipy\n",
    "sys.path.append(\"../../orient\")\n",
    "from eql.np_utils import flatten, unflatten"
   ]
  },
  {
   "cell_type": "code",
   "execution_count": 29,
   "id": "4dcf5dce",
   "metadata": {
    "ExecuteTime": {
     "end_time": "2022-04-12T15:13:29.059575Z",
     "start_time": "2022-04-12T15:13:29.052825Z"
    }
   },
   "outputs": [],
   "source": [
    "#funs = ['sin', 'cos', 'id', 'mul']\n",
    "funs = ['mul', 'cos', 'sin']\n",
    "e = eql.EQL(n_layers=1, functions=funs, features=1, use_l0=True, drop_rate=0.3, temperature=2./3)"
   ]
  },
  {
   "cell_type": "code",
   "execution_count": 30,
   "id": "52eb455c",
   "metadata": {
    "ExecuteTime": {
     "end_time": "2022-04-12T15:13:29.442239Z",
     "start_time": "2022-04-12T15:13:29.177398Z"
    },
    "scrolled": true
   },
   "outputs": [],
   "source": [
    "key = random.PRNGKey(0)\n",
    "key, k1, k2 = random.split(key, 3)"
   ]
  },
  {
   "cell_type": "code",
   "execution_count": 31,
   "id": "1ae681e9",
   "metadata": {
    "ExecuteTime": {
     "end_time": "2022-04-12T15:13:32.120563Z",
     "start_time": "2022-04-12T15:13:30.340493Z"
    }
   },
   "outputs": [
    {
     "name": "stderr",
     "output_type": "stream",
     "text": [
      "c:\\users\\simon\\bachelorarbeit\\eql\\eql\\l0_dense.py:15: UserWarning: Explicitly requested dtype <class 'jax.numpy.float64'>  is not available, and will be truncated to dtype float32. To enable more dtypes, set the jax_enable_x64 configuration option or the JAX_ENABLE_X64 shell environment variable. See https://github.com/jax-ml/jax#current-gotchas for more.\n",
      "  return random.normal(key, shape, dtype) * stddev + mean\n"
     ]
    }
   ],
   "source": [
    "N = 100\n",
    "xdim = 1\n",
    "x = (random.uniform(key, (N, xdim))-.5) * 2\n",
    "#x = np.array([[1., 2.]]).T\n",
    "#x = np.linspace(-1, 1, N)[:,None]\n",
    "#y = x[:,0] + jnp.cos(x[:,1])\n",
    "y = jnp.cos(x) + 1 - x**2 \n",
    "\n",
    "\n",
    "def make_mse_func(xbatched, ybatched):\n",
    "    def mse(params, key):\n",
    "        def squared_error(x, y):\n",
    "            pred = e.apply(params, x, deterministic=True, rngs={'l0': key})\n",
    "            return jnp.inner(y-pred, y-pred)*0.5\n",
    "        return jnp.mean(jax.vmap(squared_error)(xbatched, ybatched))\n",
    "    #return jax.jit(mse)\n",
    "    return mse\n",
    "\n",
    "def make_l0_func():\n",
    "    def l0(params, key):\n",
    "        return e.apply(params, rngs={'l0':key}, method=e.l0_reg)\n",
    "    return jax.jit(l0)\n",
    "\n",
    "\n",
    "def my_mse(params, key):\n",
    "    #pred = e.apply(params, x)\n",
    "    pred = e.apply(params, x, rngs={'l0': key})\n",
    "    return jnp.mean((pred-y)**2)\n",
    "#     def mse(params, key):\n",
    "#         def err(x,y):\n",
    "#             pred = e.apply(params, x)\n",
    "#             return (x-y)**2\n",
    "#     return jnp.mean(jax.vmap(mse)(xb, yb))\n",
    "\n",
    "mse_fn = jax.jit(my_mse)#make_mse_func(x, y)\n",
    "l0_fn = make_l0_func()\n",
    "\n",
    "params = e.init({'params':k1, 'l0': k2}, x);"
   ]
  },
  {
   "cell_type": "code",
   "execution_count": 32,
   "id": "98e5fe47",
   "metadata": {
    "ExecuteTime": {
     "end_time": "2022-04-12T15:13:32.645276Z",
     "start_time": "2022-04-12T15:13:32.401178Z"
    },
    "collapsed": true
   },
   "outputs": [
    {
     "name": "stderr",
     "output_type": "stream",
     "text": [
      "c:\\users\\simon\\bachelorarbeit\\eql\\eql\\l0_dense.py:15: UserWarning: Explicitly requested dtype <class 'jax.numpy.float64'>  is not available, and will be truncated to dtype float32. To enable more dtypes, set the jax_enable_x64 configuration option or the JAX_ENABLE_X64 shell environment variable. See https://github.com/jax-ml/jax#current-gotchas for more.\n",
      "  return random.normal(key, shape, dtype) * stddev + mean\n",
      "c:\\users\\simon\\bachelorarbeit\\eql\\eql\\l0_dense.py:15: UserWarning: Explicitly requested dtype <class 'jax.numpy.float64'>  is not available, and will be truncated to dtype float32. To enable more dtypes, set the jax_enable_x64 configuration option or the JAX_ENABLE_X64 shell environment variable. See https://github.com/jax-ml/jax#current-gotchas for more.\n",
      "  return random.normal(key, shape, dtype) * stddev + mean\n"
     ]
    },
    {
     "data": {
      "text/plain": [
       "Array([[ 0.08853967],\n",
       "       [-0.13015154],\n",
       "       [-0.09678119],\n",
       "       [ 0.087517  ],\n",
       "       [-0.13200417],\n",
       "       [-0.13845336],\n",
       "       [-0.11419303],\n",
       "       [ 0.08671196],\n",
       "       [-0.0701721 ],\n",
       "       [ 0.00686772],\n",
       "       [-0.05799545],\n",
       "       [ 0.07469562],\n",
       "       [ 0.06920244],\n",
       "       [-0.11118751],\n",
       "       [ 0.04882265],\n",
       "       [-0.00163973],\n",
       "       [ 0.08260427],\n",
       "       [ 0.07675817],\n",
       "       [-0.06371181],\n",
       "       [ 0.01232748],\n",
       "       [-0.08388253],\n",
       "       [ 0.07334481],\n",
       "       [-0.11538859],\n",
       "       [-0.0269792 ],\n",
       "       [ 0.08540102],\n",
       "       [ 0.06689867],\n",
       "       [-0.06093382],\n",
       "       [ 0.00656039],\n",
       "       [ 0.08801116],\n",
       "       [-0.01288298],\n",
       "       [ 0.07492674],\n",
       "       [-0.09152374],\n",
       "       [ 0.08492926],\n",
       "       [ 0.08846551],\n",
       "       [-0.13184963],\n",
       "       [-0.13690206],\n",
       "       [-0.12667875],\n",
       "       [ 0.08137362],\n",
       "       [-0.09596881],\n",
       "       [-0.02146488],\n",
       "       [-0.03495042],\n",
       "       [ 0.04340443],\n",
       "       [ 0.08215246],\n",
       "       [ 0.0842502 ],\n",
       "       [-0.09938774],\n",
       "       [ 0.05476002],\n",
       "       [-0.1257625 ],\n",
       "       [-0.07878202],\n",
       "       [ 0.06919094],\n",
       "       [ 0.07416539],\n",
       "       [ 0.05059392],\n",
       "       [ 0.06829993],\n",
       "       [-0.13607167],\n",
       "       [-0.11590659],\n",
       "       [-0.00880652],\n",
       "       [-0.10194451],\n",
       "       [ 0.03623475],\n",
       "       [ 0.05244431],\n",
       "       [ 0.05584621],\n",
       "       [ 0.08852196],\n",
       "       [-0.12469529],\n",
       "       [-0.12195159],\n",
       "       [-0.13269746],\n",
       "       [ 0.08853712],\n",
       "       [-0.1326488 ],\n",
       "       [-0.04768757],\n",
       "       [ 0.08589075],\n",
       "       [-0.08881873],\n",
       "       [-0.12344178],\n",
       "       [-0.13759984],\n",
       "       [-0.11880296],\n",
       "       [-0.06649511],\n",
       "       [-0.13746396],\n",
       "       [-0.01597098],\n",
       "       [-0.13698533],\n",
       "       [ 0.07883333],\n",
       "       [-0.01109949],\n",
       "       [ 0.08063496],\n",
       "       [-0.08892317],\n",
       "       [ 0.08810746],\n",
       "       [ 0.08787896],\n",
       "       [ 0.08799939],\n",
       "       [ 0.08278522],\n",
       "       [-0.03978011],\n",
       "       [ 0.01662791],\n",
       "       [ 0.08836795],\n",
       "       [ 0.08624749],\n",
       "       [-0.1361303 ],\n",
       "       [-0.13843775],\n",
       "       [-0.12910193],\n",
       "       [-0.13832618],\n",
       "       [ 0.04653967],\n",
       "       [ 0.02185252],\n",
       "       [ 0.01341966],\n",
       "       [ 0.07351295],\n",
       "       [ 0.06462088],\n",
       "       [ 0.08853681],\n",
       "       [-0.12135328],\n",
       "       [ 0.07624937],\n",
       "       [-0.13821603]], dtype=float32)"
      ]
     },
     "execution_count": 32,
     "metadata": {},
     "output_type": "execute_result"
    }
   ],
   "source": [
    "key, _ = random.split(key)\n",
    "e.apply(params, x, rngs={'l0':key})"
   ]
  },
  {
   "cell_type": "code",
   "execution_count": 33,
   "id": "c458446a",
   "metadata": {
    "ExecuteTime": {
     "end_time": "2022-04-12T15:13:37.700827Z",
     "start_time": "2022-04-12T15:13:37.698379Z"
    }
   },
   "outputs": [],
   "source": [
    "def loss(params, key):\n",
    "    return mse_fn(params, key) + 1e-1*l0_fn(params, key)\n",
    "loss_grad_fn = jax.jit(jax.value_and_grad(loss))"
   ]
  },
  {
   "cell_type": "code",
   "execution_count": 34,
   "id": "45a9a26f",
   "metadata": {
    "ExecuteTime": {
     "end_time": "2022-04-12T15:13:37.911358Z",
     "start_time": "2022-04-12T15:13:37.885715Z"
    }
   },
   "outputs": [],
   "source": [
    "spec, flat = flatten(params)"
   ]
  },
  {
   "cell_type": "code",
   "execution_count": 35,
   "id": "f4a93d0d",
   "metadata": {
    "ExecuteTime": {
     "end_time": "2022-04-12T15:13:38.903090Z",
     "start_time": "2022-04-12T15:13:38.107880Z"
    }
   },
   "outputs": [
    {
     "name": "stderr",
     "output_type": "stream",
     "text": [
      "c:\\users\\simon\\bachelorarbeit\\eql\\eql\\l0_dense.py:15: UserWarning: Explicitly requested dtype <class 'jax.numpy.float64'>  is not available, and will be truncated to dtype float32. To enable more dtypes, set the jax_enable_x64 configuration option or the JAX_ENABLE_X64 shell environment variable. See https://github.com/jax-ml/jax#current-gotchas for more.\n",
      "  return random.normal(key, shape, dtype) * stddev + mean\n",
      "c:\\users\\simon\\bachelorarbeit\\eql\\eql\\l0_dense.py:15: UserWarning: Explicitly requested dtype <class 'jax.numpy.float64'>  is not available, and will be truncated to dtype float32. To enable more dtypes, set the jax_enable_x64 configuration option or the JAX_ENABLE_X64 shell environment variable. See https://github.com/jax-ml/jax#current-gotchas for more.\n",
      "  return random.normal(key, shape, dtype) * stddev + mean\n"
     ]
    },
    {
     "data": {
      "text/plain": [
       "Array(4.096766, dtype=float32)"
      ]
     },
     "execution_count": 35,
     "metadata": {},
     "output_type": "execute_result"
    }
   ],
   "source": [
    "key, k1 = random.split(key)\n",
    "loss(params, key)"
   ]
  },
  {
   "cell_type": "code",
   "execution_count": 36,
   "id": "5230a107",
   "metadata": {
    "ExecuteTime": {
     "end_time": "2022-04-12T15:13:41.543500Z",
     "start_time": "2022-04-12T15:13:41.532413Z"
    }
   },
   "outputs": [],
   "source": [
    "def np_fn(params, key):\n",
    "    params = unflatten(spec, params)\n",
    "    \n",
    "    key = jax.random.fold_in(key, np_fn.counter)\n",
    "    loss, grad = loss_grad_fn(params, key)\n",
    "    _, grad = flatten(grad)\n",
    "    \n",
    "    print(loss)\n",
    "    np_fn.counter += 1\n",
    "\n",
    "    return loss, np.array(grad)\n",
    "np_fn.counter = 0"
   ]
  },
  {
   "cell_type": "code",
   "execution_count": 37,
   "id": "d5860e69",
   "metadata": {
    "ExecuteTime": {
     "end_time": "2022-04-12T15:00:12.797441Z",
     "start_time": "2022-04-12T15:00:12.793039Z"
    }
   },
   "outputs": [],
   "source": [
    "spec, flat = flatten(params)"
   ]
  },
  {
   "cell_type": "code",
   "execution_count": 38,
   "id": "20aa96c2",
   "metadata": {
    "ExecuteTime": {
     "end_time": "2022-04-12T15:02:02.793403Z",
     "start_time": "2022-04-12T15:02:02.750021Z"
    },
    "collapsed": true
   },
   "outputs": [
    {
     "name": "stdout",
     "output_type": "stream",
     "text": [
      "4.835133\n",
      "1.6779506\n",
      "0.87388027\n",
      "0.8492927\n",
      "0.8293707\n",
      "0.8373783\n",
      "0.8190908\n",
      "0.82326007\n",
      "0.91104746\n",
      "0.8342121\n",
      "0.8321759\n",
      "0.83094895\n",
      "0.83264154\n",
      "0.81103826\n",
      "0.8186477\n",
      "0.8185697\n",
      "0.8262977\n",
      "0.8312088\n",
      "0.8256296\n",
      "0.83413494\n",
      "0.8342558\n",
      "0.17817561\n"
     ]
    }
   ],
   "source": [
    "key, _ = random.split(key)\n",
    "x0, _, info = scipy.optimize.fmin_l_bfgs_b(\n",
    "        np_fn,\n",
    "        args=[key],\n",
    "        x0 = np.array(flat),\n",
    "        maxfun=2000,\n",
    "        factr=1.,\n",
    "        m=500,\n",
    "        pgtol=1e-20,\n",
    "        maxls = 1000)\n",
    "print(mse_fn(unflatten(spec, x0), key))\n",
    "flat = x0"
   ]
  },
  {
   "cell_type": "code",
   "execution_count": 39,
   "id": "cb3b274d",
   "metadata": {
    "ExecuteTime": {
     "end_time": "2022-04-12T15:01:36.774732Z",
     "start_time": "2022-04-12T15:01:36.772279Z"
    }
   },
   "outputs": [],
   "source": [
    "# for i in range(1000):\n",
    "#     key, k1 = random.split(key)\n",
    "#     x0, _, info = scipy.optimize.fmin_l_bfgs_b(\n",
    "#         np_fn,\n",
    "#         args=[key],\n",
    "#         x0 = np.array(flat),\n",
    "#         maxfun=10,\n",
    "#         factr=1,\n",
    "#         m=30,\n",
    "#         pgtol=1e-12)\n",
    "#     if i % 99 == 0:\n",
    "#         print(mse_fn(unflatten(spec,x0), key))\n",
    "#         #print(l0_fn(unflatten(spec,x0), key))\n",
    "#     flat = x0"
   ]
  },
  {
   "cell_type": "code",
   "execution_count": 40,
   "id": "e0025d71",
   "metadata": {
    "ExecuteTime": {
     "end_time": "2022-04-12T15:15:04.030873Z",
     "start_time": "2022-04-12T15:15:03.972256Z"
    }
   },
   "outputs": [],
   "source": [
    "symb = get_symbolic_expr(unflatten(spec, x0), funs)[0]\n",
    "#symb = get_symbolic_expr(unflatten(spec,flat), funs)[0]\n",
    "outs = sy.lambdify(\"x0\", symb)(x[:,0])#, x[:,1], x[:,2])\n",
    "#outs = sy.lambdify(\"x0, x1, x2\", symb)(x[:,0])#, x[:,1], x[:,2])"
   ]
  },
  {
   "cell_type": "code",
   "execution_count": 41,
   "id": "bf9bab22",
   "metadata": {
    "ExecuteTime": {
     "end_time": "2022-04-12T15:01:37.604014Z",
     "start_time": "2022-04-12T15:01:37.586571Z"
    },
    "collapsed": true
   },
   "outputs": [
    {
     "data": {
      "text/plain": [
       "{'params': {'last': {'bias': array([1.35439975]),\n",
       "   'kernel': array([[ 0.11104736],\n",
       "          [ 0.18729694],\n",
       "          [-1.25634826]]),\n",
       "   'qz_loga': array([[0.5677041 ],\n",
       "          [0.80420347],\n",
       "          [0.85719934]])},\n",
       "  'layers_0': {'linear_layer': {'bias': array([0.02407459, 0.22010836, 0.00414664, 0.33835922]),\n",
       "    'kernel': array([[-0.71767824, -0.01345287, -0.44910399, -1.9813176 ]]),\n",
       "    'qz_loga': array([[0.84071643, 0.82365202, 0.84768373, 0.7967196 ]])}}}}"
      ]
     },
     "execution_count": 41,
     "metadata": {},
     "output_type": "execute_result"
    }
   ],
   "source": [
    "unflatten(spec, x0)"
   ]
  },
  {
   "cell_type": "code",
   "execution_count": 42,
   "id": "a3cb1dea",
   "metadata": {
    "ExecuteTime": {
     "end_time": "2022-04-12T15:15:14.533432Z",
     "start_time": "2022-04-12T15:15:14.380516Z"
    }
   },
   "outputs": [
    {
     "data": {
      "text/plain": [
       "<matplotlib.collections.PathCollection at 0x286ebb7ad20>"
      ]
     },
     "execution_count": 42,
     "metadata": {},
     "output_type": "execute_result"
    },
    {
     "data": {
      "image/png": "[encoded data removed]",
      "text/plain": [
       "<Figure size 640x480 with 1 Axes>"
      ]
     },
     "metadata": {},
     "output_type": "display_data"
    }
   ],
   "source": [
    "plt.scatter(x,y)\n",
    "#plt.scatter(x,e.apply(unflatten(spec, x0), x),alpha=.3,marker='.')\n",
    "plt.scatter(x,outs)"
   ]
  },
  {
   "cell_type": "code",
   "execution_count": 43,
   "id": "d46889c6",
   "metadata": {
    "ExecuteTime": {
     "end_time": "2022-04-12T15:13:47.769772Z",
     "start_time": "2022-04-12T15:13:47.661862Z"
    }
   },
   "outputs": [],
   "source": [
    "import optax\n",
    "tx = optax.adam(learning_rate=1e-2)\n",
    "opt_state = tx.init(params)\n",
    "loss_grad_fn = jax.jit(jax.value_and_grad(loss))"
   ]
  },
  {
   "cell_type": "code",
   "execution_count": 44,
   "id": "3c6bcb01",
   "metadata": {
    "ExecuteTime": {
     "end_time": "2022-04-12T15:14:40.959386Z",
     "start_time": "2022-04-12T15:14:29.100321Z"
    },
    "scrolled": true
   },
   "outputs": [
    {
     "name": "stdout",
     "output_type": "stream",
     "text": [
      "5.2200294\n",
      "4.4514995\n",
      "6.439699\n",
      "1.0055645\n",
      "0.3695967\n",
      "6.3296413\n",
      "0.85384935\n",
      "0.23683482\n",
      "6.158529\n",
      "0.68137497\n",
      "0.109599076\n",
      "5.7089934\n",
      "0.6243007\n",
      "0.113140665\n",
      "5.102709\n",
      "0.52090603\n",
      "0.047935\n",
      "4.706841\n",
      "0.47965935\n",
      "0.044059314\n",
      "4.346407\n",
      "0.41471803\n",
      "0.0059423135\n",
      "4.086587\n",
      "0.4017221\n",
      "0.0060896324\n",
      "3.953177\n",
      "0.41328397\n",
      "0.025768828\n",
      "3.8701863\n",
      "0.38644823\n",
      "0.0066129235\n",
      "3.795898\n"
     ]
    }
   ],
   "source": [
    "for i in range(1000):\n",
    "    key, k1 = random.split(key)\n",
    "    loss_val, grads = loss_grad_fn(params, key)\n",
    "    updates, opt_state = tx.update(grads, opt_state)\n",
    "    params = optax.apply_updates(params, updates)\n",
    "    if i % 99 == 0:\n",
    "        print(loss_val)\n",
    "        print(mse_fn(params, key))\n",
    "        print(l0_fn(params, key))"
   ]
  },
  {
   "cell_type": "code",
   "execution_count": 45,
   "id": "19a6555b",
   "metadata": {
    "ExecuteTime": {
     "end_time": "2022-04-12T15:14:45.528308Z",
     "start_time": "2022-04-12T15:14:45.479274Z"
    }
   },
   "outputs": [],
   "source": [
    "symb = get_symbolic_expr(params, funs, use_l0=True)[0]\n"
   ]
  },
  {
   "cell_type": "code",
   "execution_count": 46,
   "id": "e5da47f1",
   "metadata": {
    "ExecuteTime": {
     "end_time": "2022-04-12T15:14:45.703571Z",
     "start_time": "2022-04-12T15:14:45.694089Z"
    }
   },
   "outputs": [
    {
     "data": {
      "text/latex": [
       "$\\displaystyle 1.26335967471636 - 0.734513998031616 \\sin{\\left(2.23690605163574 x_{0} - 1.58385705947876 \\right)}$"
      ],
      "text/plain": [
       "1.26335967471636 - 0.734513998031616*sin(2.23690605163574*x0 - 1.58385705947876)"
      ]
     },
     "execution_count": 46,
     "metadata": {},
     "output_type": "execute_result"
    }
   ],
   "source": [
    "symb"
   ]
  },
  {
   "cell_type": "code",
   "execution_count": null,
   "id": "d8f3a7ad",
   "metadata": {},
   "outputs": [],
   "source": []
  },
  {
   "cell_type": "code",
   "execution_count": null,
   "id": "8aab1cd0",
   "metadata": {},
   "outputs": [],
   "source": []
  },
  {
   "cell_type": "code",
   "execution_count": 47,
   "id": "d9ba67bb",
   "metadata": {
    "ExecuteTime": {
     "end_time": "2022-03-26T12:45:57.605223Z",
     "start_time": "2022-03-26T12:45:57.600706Z"
    }
   },
   "outputs": [],
   "source": [
    "jit_apply = jax.jit(e.apply, static_argnames='deterministic')"
   ]
  },
  {
   "cell_type": "code",
   "execution_count": 48,
   "id": "832cd8e1",
   "metadata": {
    "ExecuteTime": {
     "end_time": "2022-03-16T15:51:40.875258Z",
     "start_time": "2022-03-16T15:51:40.873013Z"
    }
   },
   "outputs": [],
   "source": [
    "jit_part = partial(jit_apply, params)\n",
    "#jax.grad(jit_part)(x)"
   ]
  },
  {
   "cell_type": "code",
   "execution_count": 49,
   "id": "27d60bba",
   "metadata": {
    "ExecuteTime": {
     "end_time": "2022-03-17T11:14:56.406908Z",
     "start_time": "2022-03-17T11:14:56.298358Z"
    }
   },
   "outputs": [
    {
     "data": {
      "text/plain": [
       "Array(3.7892332, dtype=float32)"
      ]
     },
     "execution_count": 49,
     "metadata": {},
     "output_type": "execute_result"
    }
   ],
   "source": [
    "e.apply(params, rngs={'l0': k1}, method=e.l0_reg)"
   ]
  },
  {
   "cell_type": "code",
   "execution_count": 50,
   "id": "6f0cdd40",
   "metadata": {
    "ExecuteTime": {
     "end_time": "2022-03-17T11:15:18.875394Z",
     "start_time": "2022-03-17T11:15:18.053353Z"
    },
    "collapsed": true
   },
   "outputs": [
    {
     "name": "stderr",
     "output_type": "stream",
     "text": [
      "c:\\users\\simon\\bachelorarbeit\\eql\\eql\\l0_dense.py:15: UserWarning: Explicitly requested dtype <class 'jax.numpy.float64'>  is not available, and will be truncated to dtype float32. To enable more dtypes, set the jax_enable_x64 configuration option or the JAX_ENABLE_X64 shell environment variable. See https://github.com/jax-ml/jax#current-gotchas for more.\n",
      "  return random.normal(key, shape, dtype) * stddev + mean\n",
      "c:\\users\\simon\\bachelorarbeit\\eql\\eql\\l0_dense.py:15: UserWarning: Explicitly requested dtype <class 'jax.numpy.float64'>  is not available, and will be truncated to dtype float32. To enable more dtypes, set the jax_enable_x64 configuration option or the JAX_ENABLE_X64 shell environment variable. See https://github.com/jax-ml/jax#current-gotchas for more.\n",
      "  return random.normal(key, shape, dtype) * stddev + mean\n"
     ]
    },
    {
     "data": {
      "text/plain": [
       "Array([[1.9510235],\n",
       "       [1.9510235],\n",
       "       [1.9510235],\n",
       "       [1.9510235],\n",
       "       [1.9510235],\n",
       "       [1.9510235],\n",
       "       [1.9510235],\n",
       "       [1.9510235],\n",
       "       [1.9510235],\n",
       "       [1.9510235],\n",
       "       [1.9510235],\n",
       "       [1.9510235],\n",
       "       [1.9510235],\n",
       "       [1.9510235],\n",
       "       [1.9510235],\n",
       "       [1.9510235],\n",
       "       [1.9510235],\n",
       "       [1.9510235],\n",
       "       [1.9510235],\n",
       "       [1.9510235],\n",
       "       [1.9510235],\n",
       "       [1.9510235],\n",
       "       [1.9510235],\n",
       "       [1.9510235],\n",
       "       [1.9510235],\n",
       "       [1.9510235],\n",
       "       [1.9510235],\n",
       "       [1.9510235],\n",
       "       [1.9510235],\n",
       "       [1.9510235],\n",
       "       [1.9510235],\n",
       "       [1.9510235],\n",
       "       [1.9510235],\n",
       "       [1.9510235],\n",
       "       [1.9510235],\n",
       "       [1.9510235],\n",
       "       [1.9510235],\n",
       "       [1.9510235],\n",
       "       [1.9510235],\n",
       "       [1.9510235],\n",
       "       [1.9510235],\n",
       "       [1.9510235],\n",
       "       [1.9510235],\n",
       "       [1.9510235],\n",
       "       [1.9510235],\n",
       "       [1.9510235],\n",
       "       [1.9510235],\n",
       "       [1.9510235],\n",
       "       [1.9510235],\n",
       "       [1.9510235],\n",
       "       [1.9510235],\n",
       "       [1.9510235],\n",
       "       [1.9510235],\n",
       "       [1.9510235],\n",
       "       [1.9510235],\n",
       "       [1.9510235],\n",
       "       [1.9510235],\n",
       "       [1.9510235],\n",
       "       [1.9510235],\n",
       "       [1.9510235],\n",
       "       [1.9510235],\n",
       "       [1.9510235],\n",
       "       [1.9510235],\n",
       "       [1.9510235],\n",
       "       [1.9510235],\n",
       "       [1.9510235],\n",
       "       [1.9510235],\n",
       "       [1.9510235],\n",
       "       [1.9510235],\n",
       "       [1.9510235],\n",
       "       [1.9510235],\n",
       "       [1.9510235],\n",
       "       [1.9510235],\n",
       "       [1.9510235],\n",
       "       [1.9510235],\n",
       "       [1.9510235],\n",
       "       [1.9510235],\n",
       "       [1.9510235],\n",
       "       [1.9510235],\n",
       "       [1.9510235],\n",
       "       [1.9510235],\n",
       "       [1.9510235],\n",
       "       [1.9510235],\n",
       "       [1.9510235],\n",
       "       [1.9510235],\n",
       "       [1.9510235],\n",
       "       [1.9510235],\n",
       "       [1.9510235],\n",
       "       [1.9510235],\n",
       "       [1.9510235],\n",
       "       [1.9510235],\n",
       "       [1.9510235],\n",
       "       [1.9510235],\n",
       "       [1.9510235],\n",
       "       [1.9510235],\n",
       "       [1.9510235],\n",
       "       [1.9510235],\n",
       "       [1.9510235],\n",
       "       [1.9510235],\n",
       "       [1.9510235]], dtype=float32)"
      ]
     },
     "execution_count": 50,
     "metadata": {},
     "output_type": "execute_result"
    }
   ],
   "source": [
    "k1, _ = random.split(k1)\n",
    "e.apply(params, x, deterministic=False, rngs={'l0': k1})"
   ]
  },
  {
   "cell_type": "code",
   "execution_count": 51,
   "id": "10091994",
   "metadata": {
    "ExecuteTime": {
     "end_time": "2022-03-17T11:15:45.632004Z",
     "start_time": "2022-03-17T11:15:45.625438Z"
    },
    "collapsed": true
   },
   "outputs": [
    {
     "name": "stderr",
     "output_type": "stream",
     "text": [
      "c:\\users\\simon\\bachelorarbeit\\eql\\eql\\l0_dense.py:15: UserWarning: Explicitly requested dtype <class 'jax.numpy.float64'>  is not available, and will be truncated to dtype float32. To enable more dtypes, set the jax_enable_x64 configuration option or the JAX_ENABLE_X64 shell environment variable. See https://github.com/jax-ml/jax#current-gotchas for more.\n",
      "  return random.normal(key, shape, dtype) * stddev + mean\n",
      "c:\\users\\simon\\bachelorarbeit\\eql\\eql\\l0_dense.py:15: UserWarning: Explicitly requested dtype <class 'jax.numpy.float64'>  is not available, and will be truncated to dtype float32. To enable more dtypes, set the jax_enable_x64 configuration option or the JAX_ENABLE_X64 shell environment variable. See https://github.com/jax-ml/jax#current-gotchas for more.\n",
      "  return random.normal(key, shape, dtype) * stddev + mean\n"
     ]
    },
    {
     "data": {
      "text/plain": [
       "Array([[1.302842  ],\n",
       "       [1.1992404 ],\n",
       "       [1.624079  ],\n",
       "       [1.2028911 ],\n",
       "       [1.1575269 ],\n",
       "       [0.86422485],\n",
       "       [1.448066  ],\n",
       "       [1.1681999 ],\n",
       "       [1.8048979 ],\n",
       "       [1.9798905 ],\n",
       "       [1.8633407 ],\n",
       "       [0.9365747 ],\n",
       "       [0.8753398 ],\n",
       "       [1.4832147 ],\n",
       "       [1.8718191 ],\n",
       "       [1.9824466 ],\n",
       "       [1.0595552 ],\n",
       "       [1.6460285 ],\n",
       "       [1.83754   ],\n",
       "       [1.9752308 ],\n",
       "       [1.7220604 ],\n",
       "       [0.9202595 ],\n",
       "       [1.4333705 ],\n",
       "       [1.9580009 ],\n",
       "       [1.486779  ],\n",
       "       [0.85307133],\n",
       "       [1.850429  ],\n",
       "       [1.9800813 ],\n",
       "       [1.381328  ],\n",
       "       [1.9774113 ],\n",
       "       [1.669286  ],\n",
       "       [1.666693  ],\n",
       "       [1.1128647 ],\n",
       "       [1.2784611 ],\n",
       "       [1.1612102 ],\n",
       "       [1.0026395 ],\n",
       "       [1.2666326 ],\n",
       "       [1.0359519 ],\n",
       "       [1.6309272 ],\n",
       "       [1.9673142 ],\n",
       "       [1.9406166 ],\n",
       "       [1.8966558 ],\n",
       "       [1.0506023 ],\n",
       "       [1.0957634 ],\n",
       "       [1.6014105 ],\n",
       "       [1.8395207 ],\n",
       "       [1.2826872 ],\n",
       "       [1.7551811 ],\n",
       "       [1.7308494 ],\n",
       "       [0.9300578 ],\n",
       "       [1.8627782 ],\n",
       "       [0.86641246],\n",
       "       [1.0376798 ],\n",
       "       [1.4268668 ],\n",
       "       [1.9803212 ],\n",
       "       [1.5780851 ],\n",
       "       [1.9236978 ],\n",
       "       [1.8528063 ],\n",
       "       [1.832962  ],\n",
       "       [1.2924993 ],\n",
       "       [1.3006611 ],\n",
       "       [1.3437996 ],\n",
       "       [1.1404563 ],\n",
       "       [1.3131895 ],\n",
       "       [1.1416861 ],\n",
       "       [1.9030188 ],\n",
       "       [1.1402893 ],\n",
       "       [1.6871325 ],\n",
       "       [1.3208793 ],\n",
       "       [0.9653353 ],\n",
       "       [1.3888361 ],\n",
       "       [1.8239431 ],\n",
       "       [0.9734964 ],\n",
       "       [1.974396  ],\n",
       "       [0.99868053],\n",
       "       [0.9935608 ],\n",
       "       [1.9788347 ],\n",
       "       [1.0228543 ],\n",
       "       [1.686361  ],\n",
       "       [1.2390773 ],\n",
       "       [1.2231704 ],\n",
       "       [1.3821495 ],\n",
       "       [1.0632447 ],\n",
       "       [1.9278022 ],\n",
       "       [1.9698242 ],\n",
       "       [1.3494225 ],\n",
       "       [1.1517688 ],\n",
       "       [1.0354168 ],\n",
       "       [0.87584454],\n",
       "       [1.2208709 ],\n",
       "       [0.90122503],\n",
       "       [1.8827839 ],\n",
       "       [1.9611025 ],\n",
       "       [1.9740052 ],\n",
       "       [0.9222397 ],\n",
       "       [0.8326103 ],\n",
       "       [1.3134309 ],\n",
       "       [1.3526928 ],\n",
       "       [1.6527073 ],\n",
       "       [0.81058574]], dtype=float32)"
      ]
     },
     "execution_count": 51,
     "metadata": {},
     "output_type": "execute_result"
    }
   ],
   "source": [
    "k1, _ = random.split(k1)\n",
    "jit_apply(params, x, deterministic=False, rngs={'l0': k1})"
   ]
  },
  {
   "cell_type": "code",
   "execution_count": 52,
   "id": "02b38239",
   "metadata": {
    "ExecuteTime": {
     "end_time": "2022-04-01T17:31:05.702492Z",
     "start_time": "2022-04-01T17:31:05.669684Z"
    }
   },
   "outputs": [
    {
     "data": {
      "text/plain": [
       "Array([1.5032835, 1.424153 , 1.4428592, 1.4860289, 1.4244668, 1.4403286,\n",
       "       1.4302775, 1.4793537, 1.4649689, 1.5255649, 1.4753202, 1.423879 ,\n",
       "       1.4051934, 1.4322181, 1.5459427, 1.5198252, 1.4559057, 1.5419061,\n",
       "       1.4704659, 1.529038 , 1.4533851, 1.4191027, 1.429546 , 1.500887 ,\n",
       "       1.527939 , 1.3978446, 1.4728272, 1.5253643, 1.5148988, 1.5117197,\n",
       "       1.5433146, 1.4470791, 1.4679155, 1.4993355, 1.4244225, 1.4294944,\n",
       "       1.424486 , 1.4502524, 1.443503 , 1.505202 , 1.4944999, 1.5443759,\n",
       "       1.4537866, 1.4641732, 1.4408171, 1.5470842, 1.4247136, 1.4576684,\n",
       "       1.5461389, 1.4219878, 1.546352 , 1.4022858, 1.4277796, 1.4292371,\n",
       "       1.5147202, 1.4388543, 1.5416814, 1.5467191, 1.5472165, 1.5016288,\n",
       "       1.4250349, 1.426089 , 1.4247147, 1.5049098, 1.4246944, 1.484001 ,\n",
       "       1.4737096, 1.4492921, 1.4254793, 1.4317383, 1.4276131, 1.4680977,\n",
       "       1.4312086, 1.5094044, 1.4297115, 1.4395374, 1.5130405, 1.4470209,\n",
       "       1.4492062, 1.4926063, 1.4897624, 1.5150118, 1.4567702, 1.4905562,\n",
       "       1.5316423, 1.510376 , 1.4760612, 1.4278793, 1.4391314, 1.4241488,\n",
       "       1.4367187, 1.5453376, 1.5346332, 1.5297108, 1.4196899, 1.3907973,\n",
       "       1.5049474, 1.4263557, 1.5423286, 1.4466958], dtype=float32)"
      ]
     },
     "execution_count": 52,
     "metadata": {},
     "output_type": "execute_result"
    }
   ],
   "source": [
    "symb = get_symbolic_expr(unflatten(spec, x0), funs)\n",
    "sy.lambdify(\"x0, x1, x2\", symb[0])(x[:,0], x[:,1], x[:,2])"
   ]
  },
  {
   "cell_type": "code",
   "execution_count": 53,
   "id": "1a37feae",
   "metadata": {
    "ExecuteTime": {
     "end_time": "2022-03-07T18:25:22.188321Z",
     "start_time": "2022-03-07T18:25:21.777572Z"
    }
   },
   "outputs": [
    {
     "ename": "IndexError",
     "evalue": "list index out of range",
     "output_type": "error",
     "traceback": [
      "\u001b[1;31m---------------------------------------------------------------------------\u001b[0m",
      "\u001b[1;31mIndexError\u001b[0m                                Traceback (most recent call last)",
      "Cell \u001b[1;32mIn[53], line 1\u001b[0m\n\u001b[1;32m----> 1\u001b[0m sy\u001b[38;5;241m.\u001b[39mlambdify(sy\u001b[38;5;241m.\u001b[39msymbols(\u001b[38;5;124m\"\u001b[39m\u001b[38;5;124mx0, x1\u001b[39m\u001b[38;5;124m\"\u001b[39m), \u001b[43msymb\u001b[49m\u001b[43m[\u001b[49m\u001b[38;5;241;43m1\u001b[39;49m\u001b[43m]\u001b[49m, \u001b[38;5;124m\"\u001b[39m\u001b[38;5;124mnumpy\u001b[39m\u001b[38;5;124m\"\u001b[39m)(x[:,\u001b[38;5;241m0\u001b[39m],x[:,\u001b[38;5;241m1\u001b[39m])\n",
      "\u001b[1;31mIndexError\u001b[0m: list index out of range"
     ]
    }
   ],
   "source": [
    "sy.lambdify(sy.symbols(\"x0, x1\"), symb[1], \"numpy\")(x[:,0],x[:,1])"
   ]
  },
  {
   "cell_type": "code",
   "execution_count": null,
   "id": "0fda647d",
   "metadata": {},
   "outputs": [],
   "source": []
  }
 ],
 "metadata": {
  "kernelspec": {
   "display_name": "EQL",
   "language": "python",
   "name": "python3"
  },
  "language_info": {
   "codemirror_mode": {
    "name": "ipython",
    "version": 3
   },
   "file_extension": ".py",
   "mimetype": "text/x-python",
   "name": "python",
   "nbconvert_exporter": "python",
   "pygments_lexer": "ipython3",
   "version": "3.12.7"
  }
 },
 "nbformat": 4,
 "nbformat_minor": 5
}
