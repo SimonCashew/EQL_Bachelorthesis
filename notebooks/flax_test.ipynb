{
 "cells": [
  {
   "cell_type": "code",
   "execution_count": 2,
   "id": "b3cdd0d3",
   "metadata": {
    "ExecuteTime": {
     "end_time": "2022-04-12T15:13:28.368146Z",
     "start_time": "2022-04-12T15:13:28.194049Z"
    }
   },
   "outputs": [],
   "source": [
    "import jax\n",
    "from typing import Any, Callable, Sequence, Optional\n",
    "from jax import lax, random, numpy as jnp\n",
    "import flax\n",
    "from flax import linen as nn\n",
    "import sympy as sy\n",
    "import numpy as np\n",
    "import sys\n",
    "sys.path.append(\"..\")\n",
    "import eqlearner as eql\n",
    "import custom_functions\n",
    "from symbolic import get_symbolic_expr, get_symbolic_expr_layer\n",
    "from typing import List, Tuple, Callable\n",
    "from functools import partial\n",
    "import matplotlib.pyplot as plt"
   ]
  },
  {
   "cell_type": "code",
   "execution_count": 3,
   "id": "2a3c4f13",
   "metadata": {
    "ExecuteTime": {
     "end_time": "2022-04-12T15:13:28.921510Z",
     "start_time": "2022-04-12T15:13:28.911727Z"
    }
   },
   "outputs": [],
   "source": [
    "import scipy\n",
    "sys.path.append(\"../../orient\")\n",
    "from np_utils import flatten, unflatten"
   ]
  },
  {
   "cell_type": "code",
   "execution_count": 4,
   "id": "4dcf5dce",
   "metadata": {
    "ExecuteTime": {
     "end_time": "2022-04-12T15:13:29.059575Z",
     "start_time": "2022-04-12T15:13:29.052825Z"
    }
   },
   "outputs": [],
   "source": [
    "#funs = ['sin', 'cos', 'id', 'mul']\n",
    "funs = ['mul', 'cos', 'sin']\n",
    "e = eql.EQL(n_layers=1, functions=funs, features=1, use_l0=True, drop_rate=0.3, temperature=2./3)"
   ]
  },
  {
   "cell_type": "code",
   "execution_count": 5,
   "id": "52eb455c",
   "metadata": {
    "ExecuteTime": {
     "end_time": "2022-04-12T15:13:29.442239Z",
     "start_time": "2022-04-12T15:13:29.177398Z"
    },
    "scrolled": true
   },
   "outputs": [
    {
     "name": "stderr",
     "output_type": "stream",
     "text": [
      "WARNING:absl:No GPU/TPU found, falling back to CPU. (Set TF_CPP_MIN_LOG_LEVEL=0 and rerun for more info.)\n"
     ]
    }
   ],
   "source": [
    "key = random.PRNGKey(0)\n",
    "key, k1, k2 = random.split(key, 3)"
   ]
  },
  {
   "cell_type": "code",
   "execution_count": 6,
   "id": "1ae681e9",
   "metadata": {
    "ExecuteTime": {
     "end_time": "2022-04-12T15:13:32.120563Z",
     "start_time": "2022-04-12T15:13:30.340493Z"
    }
   },
   "outputs": [],
   "source": [
    "N = 100\n",
    "xdim = 1\n",
    "x = (random.uniform(key, (N, xdim))-.5) * 2\n",
    "#x = np.array([[1., 2.]]).T\n",
    "#x = np.linspace(-1, 1, N)[:,None]\n",
    "#y = x[:,0] + jnp.cos(x[:,1])\n",
    "y = jnp.cos(x) + 1 - x**2 \n",
    "\n",
    "\n",
    "def make_mse_func(xbatched, ybatched):\n",
    "    def mse(params, key):\n",
    "        def squared_error(x, y):\n",
    "            pred = e.apply(params, x, deterministic=True, rngs={'l0': key})\n",
    "            return jnp.inner(y-pred, y-pred)*0.5\n",
    "        return jnp.mean(jax.vmap(squared_error)(xbatched, ybatched))\n",
    "    #return jax.jit(mse)\n",
    "    return mse\n",
    "\n",
    "def make_l0_func():\n",
    "    def l0(params, key):\n",
    "        return e.apply(params, rngs={'l0':key}, method=e.l0_reg)\n",
    "    return jax.jit(l0)\n",
    "\n",
    "\n",
    "def my_mse(params, key):\n",
    "    #pred = e.apply(params, x)\n",
    "    pred = e.apply(params, x, rngs={'l0': key})\n",
    "    return jnp.mean((pred-y)**2)\n",
    "#     def mse(params, key):\n",
    "#         def err(x,y):\n",
    "#             pred = e.apply(params, x)\n",
    "#             return (x-y)**2\n",
    "#     return jnp.mean(jax.vmap(mse)(xb, yb))\n",
    "\n",
    "mse_fn = jax.jit(my_mse)#make_mse_func(x, y)\n",
    "l0_fn = make_l0_func()\n",
    "\n",
    "params = e.init({'params':k1, 'l0': k2}, x);"
   ]
  },
  {
   "cell_type": "code",
   "execution_count": 7,
   "id": "98e5fe47",
   "metadata": {
    "ExecuteTime": {
     "end_time": "2022-04-12T15:13:32.645276Z",
     "start_time": "2022-04-12T15:13:32.401178Z"
    },
    "collapsed": true
   },
   "outputs": [
    {
     "data": {
      "text/plain": [
       "DeviceArray([[0.21311142],\n",
       "             [0.09844016],\n",
       "             [0.07386532],\n",
       "             [0.23155987],\n",
       "             [0.10192861],\n",
       "             [0.1343924 ],\n",
       "             [0.08174524],\n",
       "             [0.23824148],\n",
       "             [0.06995171],\n",
       "             [0.08747214],\n",
       "             [0.07020017],\n",
       "             [0.28829774],\n",
       "             [0.3038271 ],\n",
       "             [0.07990917],\n",
       "             [0.11610247],\n",
       "             [0.0836701 ],\n",
       "             [0.26035637],\n",
       "             [0.15510452],\n",
       "             [0.06995089],\n",
       "             [0.0901984 ],\n",
       "             [0.07107636],\n",
       "             [0.29231092],\n",
       "             [0.08255031],\n",
       "             [0.07520035],\n",
       "             [0.18139105],\n",
       "             [0.30982217],\n",
       "             [0.07004374],\n",
       "             [0.08732556],\n",
       "             [0.19929448],\n",
       "             [0.07940946],\n",
       "             [0.15127371],\n",
       "             [0.07249014],\n",
       "             [0.24925852],\n",
       "             [0.21751353],\n",
       "             [0.10161159],\n",
       "             [0.11705022],\n",
       "             [0.09325087],\n",
       "             [0.26544422],\n",
       "             [0.07362884],\n",
       "             [0.07670179],\n",
       "             [0.0733538 ],\n",
       "             [0.11116169],\n",
       "             [0.2622728 ],\n",
       "             [0.2527629 ],\n",
       "             [0.07468835],\n",
       "             [0.12216425],\n",
       "             [0.09209152],\n",
       "             [0.07046439],\n",
       "             [0.14104518],\n",
       "             [0.2898907 ],\n",
       "             [0.11783373],\n",
       "             [0.3062059 ],\n",
       "             [0.11329435],\n",
       "             [0.08291363],\n",
       "             [0.0808582 ],\n",
       "             [0.07559774],\n",
       "             [0.10533079],\n",
       "             [0.11971023],\n",
       "             [0.12335876],\n",
       "             [0.21497181],\n",
       "             [0.09082734],\n",
       "             [0.08793531],\n",
       "             [0.10342127],\n",
       "             [0.21126008],\n",
       "             [0.10331242],\n",
       "             [0.07120007],\n",
       "             [0.2437396 ],\n",
       "             [0.07191601],\n",
       "             [0.08944719],\n",
       "             [0.12130105],\n",
       "             [0.0851246 ],\n",
       "             [0.06991324],\n",
       "             [0.12034748],\n",
       "             [0.0783824 ],\n",
       "             [0.11748857],\n",
       "             [0.27488774],\n",
       "             [0.08003017],\n",
       "             [0.2683183 ],\n",
       "             [0.07193661],\n",
       "             [0.22475302],\n",
       "             [0.22772583],\n",
       "             [0.19915238],\n",
       "             [0.2595712 ],\n",
       "             [0.07242087],\n",
       "             [0.09251612],\n",
       "             [0.20485115],\n",
       "             [0.24146435],\n",
       "             [0.1135304 ],\n",
       "             [0.13275313],\n",
       "             [0.0967163 ],\n",
       "             [0.12930402],\n",
       "             [0.11395843],\n",
       "             [0.09554974],\n",
       "             [0.09077235],\n",
       "             [0.2918193 ],\n",
       "             [0.3155213 ],\n",
       "             [0.21121699],\n",
       "             [0.0873636 ],\n",
       "             [0.1540055 ],\n",
       "             [0.1425162 ]], dtype=float32)"
      ]
     },
     "execution_count": 7,
     "metadata": {},
     "output_type": "execute_result"
    }
   ],
   "source": [
    "key, _ = random.split(key)\n",
    "e.apply(params, x, rngs={'l0':key})"
   ]
  },
  {
   "cell_type": "code",
   "execution_count": 8,
   "id": "c458446a",
   "metadata": {
    "ExecuteTime": {
     "end_time": "2022-04-12T15:13:37.700827Z",
     "start_time": "2022-04-12T15:13:37.698379Z"
    }
   },
   "outputs": [],
   "source": [
    "def loss(params, key):\n",
    "    return mse_fn(params, key) + 1e-1*l0_fn(params, key)\n",
    "loss_grad_fn = jax.jit(jax.value_and_grad(loss))"
   ]
  },
  {
   "cell_type": "code",
   "execution_count": 9,
   "id": "45a9a26f",
   "metadata": {
    "ExecuteTime": {
     "end_time": "2022-04-12T15:13:37.911358Z",
     "start_time": "2022-04-12T15:13:37.885715Z"
    }
   },
   "outputs": [],
   "source": [
    "spec, flat = flatten(params)"
   ]
  },
  {
   "cell_type": "code",
   "execution_count": 10,
   "id": "f4a93d0d",
   "metadata": {
    "ExecuteTime": {
     "end_time": "2022-04-12T15:13:38.903090Z",
     "start_time": "2022-04-12T15:13:38.107880Z"
    }
   },
   "outputs": [
    {
     "data": {
      "text/plain": [
       "DeviceArray(1.4391469, dtype=float32)"
      ]
     },
     "execution_count": 10,
     "metadata": {},
     "output_type": "execute_result"
    }
   ],
   "source": [
    "key, k1 = random.split(key)\n",
    "loss(params, key)"
   ]
  },
  {
   "cell_type": "code",
   "execution_count": 11,
   "id": "5230a107",
   "metadata": {
    "ExecuteTime": {
     "end_time": "2022-04-12T15:13:41.543500Z",
     "start_time": "2022-04-12T15:13:41.532413Z"
    }
   },
   "outputs": [],
   "source": [
    "def np_fn(params, key):\n",
    "    params = unflatten(spec, params)\n",
    "    \n",
    "    key = jax.random.fold_in(key, np_fn.counter)\n",
    "    loss, grad = loss_grad_fn(params, key)\n",
    "    _, grad = flatten(grad)\n",
    "    \n",
    "    print(loss)\n",
    "    np_fn.counter += 1\n",
    "\n",
    "    return loss, np.array(grad)\n",
    "np_fn.counter = 0"
   ]
  },
  {
   "cell_type": "code",
   "execution_count": 144,
   "id": "d5860e69",
   "metadata": {
    "ExecuteTime": {
     "end_time": "2022-04-12T15:00:12.797441Z",
     "start_time": "2022-04-12T15:00:12.793039Z"
    }
   },
   "outputs": [],
   "source": [
    "spec, flat = flatten(params)"
   ]
  },
  {
   "cell_type": "code",
   "execution_count": 192,
   "id": "20aa96c2",
   "metadata": {
    "ExecuteTime": {
     "end_time": "2022-04-12T15:02:02.793403Z",
     "start_time": "2022-04-12T15:02:02.750021Z"
    },
    "collapsed": true
   },
   "outputs": [
    {
     "name": "stdout",
     "output_type": "stream",
     "text": [
      "1.4325396\n",
      "0.8930896\n",
      "1.2796133\n",
      "0.79581535\n",
      "1.061635\n",
      "0.72526276\n",
      "0.83469933\n",
      "1.1050805\n",
      "0.75421375\n",
      "1.2343869\n",
      "0.72414684\n",
      "0.76874924\n",
      "0.8637842\n",
      "0.7486098\n",
      "0.76174223\n",
      "0.71510446\n",
      "0.75182754\n",
      "0.84273785\n",
      "0.75773346\n",
      "0.7488566\n",
      "0.16399877\n"
     ]
    }
   ],
   "source": [
    "key, _ = random.split(key)\n",
    "x0, _, info = scipy.optimize.fmin_l_bfgs_b(\n",
    "        np_fn,\n",
    "        args=[key],\n",
    "        x0 = np.array(flat),\n",
    "        maxfun=2000,\n",
    "        factr=1.,\n",
    "        m=500,\n",
    "        pgtol=1e-20,\n",
    "        maxls = 1000)\n",
    "print(mse_fn(unflatten(spec, x0), key))\n",
    "flat = x0"
   ]
  },
  {
   "cell_type": "code",
   "execution_count": 178,
   "id": "cb3b274d",
   "metadata": {
    "ExecuteTime": {
     "end_time": "2022-04-12T15:01:36.774732Z",
     "start_time": "2022-04-12T15:01:36.772279Z"
    }
   },
   "outputs": [],
   "source": [
    "# for i in range(1000):\n",
    "#     key, k1 = random.split(key)\n",
    "#     x0, _, info = scipy.optimize.fmin_l_bfgs_b(\n",
    "#         np_fn,\n",
    "#         args=[key],\n",
    "#         x0 = np.array(flat),\n",
    "#         maxfun=10,\n",
    "#         factr=1,\n",
    "#         m=30,\n",
    "#         pgtol=1e-12)\n",
    "#     if i % 99 == 0:\n",
    "#         print(mse_fn(unflatten(spec,x0), key))\n",
    "#         #print(l0_fn(unflatten(spec,x0), key))\n",
    "#     flat = x0"
   ]
  },
  {
   "cell_type": "code",
   "execution_count": 19,
   "id": "e0025d71",
   "metadata": {
    "ExecuteTime": {
     "end_time": "2022-04-12T15:15:04.030873Z",
     "start_time": "2022-04-12T15:15:03.972256Z"
    }
   },
   "outputs": [],
   "source": [
    "#symb = get_symbolic_expr(unflatten(spec, x0), funs)[0]\n",
    "#symb = get_symbolic_expr(unflatten(spec,flat), funs)[0]\n",
    "outs = sy.lambdify(\"x0\", symb)(x[:,0])#, x[:,1], x[:,2])\n",
    "#outs = sy.lambdify(\"x0, x1, x2\", symb)(x[:,0])#, x[:,1], x[:,2])"
   ]
  },
  {
   "cell_type": "code",
   "execution_count": 180,
   "id": "bf9bab22",
   "metadata": {
    "ExecuteTime": {
     "end_time": "2022-04-12T15:01:37.604014Z",
     "start_time": "2022-04-12T15:01:37.586571Z"
    },
    "collapsed": true
   },
   "outputs": [
    {
     "data": {
      "text/plain": [
       "FrozenDict({\n",
       "    params: {\n",
       "        last: {\n",
       "            bias: array([0.95162128]),\n",
       "            kernel: array([[ 1.25168583],\n",
       "                   [-0.22715099],\n",
       "                   [ 1.06029194]]),\n",
       "            qz_loga: array([[1.25866802],\n",
       "                   [0.76055529],\n",
       "                   [0.7848026 ]]),\n",
       "        },\n",
       "        layers_0: {\n",
       "            linear_layer: {\n",
       "                bias: array([ 0.02105369, -0.02238841, -0.02004986, -0.21383779]),\n",
       "                kernel: array([[ 0.99716019, -1.61496719, -1.9753781 ,  0.29054365]]),\n",
       "                qz_loga: array([[0.72129677, 0.82273441, 1.07489342, 0.75930646]]),\n",
       "            },\n",
       "        },\n",
       "    },\n",
       "})"
      ]
     },
     "execution_count": 180,
     "metadata": {},
     "output_type": "execute_result"
    }
   ],
   "source": [
    "unflatten(spec, x0)"
   ]
  },
  {
   "cell_type": "code",
   "execution_count": 21,
   "id": "a3cb1dea",
   "metadata": {
    "ExecuteTime": {
     "end_time": "2022-04-12T15:15:14.533432Z",
     "start_time": "2022-04-12T15:15:14.380516Z"
    }
   },
   "outputs": [
    {
     "data": {
      "text/plain": [
       "<matplotlib.collections.PathCollection at 0x7fc9c06ebdf0>"
      ]
     },
     "execution_count": 21,
     "metadata": {},
     "output_type": "execute_result"
    },
    {
     "data": {
      "image/png": "[encoded data removed]",
      "text/plain": [
       "<Figure size 432x288 with 1 Axes>"
      ]
     },
     "metadata": {
      "needs_background": "light"
     },
     "output_type": "display_data"
    }
   ],
   "source": [
    "plt.scatter(x,y)\n",
    "#plt.scatter(x,e.apply(unflatten(spec, x0), x),alpha=.3,marker='.')\n",
    "plt.scatter(x,outs)"
   ]
  },
  {
   "cell_type": "code",
   "execution_count": 12,
   "id": "d46889c6",
   "metadata": {
    "ExecuteTime": {
     "end_time": "2022-04-12T15:13:47.769772Z",
     "start_time": "2022-04-12T15:13:47.661862Z"
    }
   },
   "outputs": [],
   "source": [
    "import optax\n",
    "tx = optax.adam(learning_rate=1e-2)\n",
    "opt_state = tx.init(params)\n",
    "loss_grad_fn = jax.jit(jax.value_and_grad(loss))"
   ]
  },
  {
   "cell_type": "code",
   "execution_count": 16,
   "id": "3c6bcb01",
   "metadata": {
    "ExecuteTime": {
     "end_time": "2022-04-12T15:14:40.959386Z",
     "start_time": "2022-04-12T15:14:29.100321Z"
    },
    "scrolled": true
   },
   "outputs": [
    {
     "name": "stdout",
     "output_type": "stream",
     "text": [
      "0.26326945\n",
      "0.0026024997\n",
      "2.60335\n",
      "0.2720268\n",
      "0.034541786\n",
      "2.3648212\n",
      "0.2964531\n",
      "0.072116725\n",
      "2.231814\n",
      "0.21934544\n",
      "0.002834662\n",
      "2.1644893\n",
      "0.21537581\n",
      "0.00281325\n",
      "2.1254327\n",
      "0.25640377\n",
      "0.04556483\n",
      "2.1006348\n",
      "0.2116993\n",
      "0.003415704\n",
      "2.0831156\n",
      "0.2099477\n",
      "0.0029289406\n",
      "2.070114\n",
      "0.2088095\n",
      "0.0028104947\n",
      "2.059847\n",
      "0.2081405\n",
      "0.0028978821\n",
      "2.0521927\n",
      "0.20739129\n",
      "0.0027970248\n",
      "2.0458536\n"
     ]
    }
   ],
   "source": [
    "for i in range(1000):\n",
    "    key, k1 = random.split(key)\n",
    "    loss_val, grads = loss_grad_fn(params, key)\n",
    "    updates, opt_state = tx.update(grads, opt_state)\n",
    "    params = optax.apply_updates(params, updates)\n",
    "    if i % 99 == 0:\n",
    "        print(loss_val)\n",
    "        print(mse_fn(params, key))\n",
    "        print(l0_fn(params, key))"
   ]
  },
  {
   "cell_type": "code",
   "execution_count": 17,
   "id": "19a6555b",
   "metadata": {
    "ExecuteTime": {
     "end_time": "2022-04-12T15:14:45.528308Z",
     "start_time": "2022-04-12T15:14:45.479274Z"
    }
   },
   "outputs": [],
   "source": [
    "symb = get_symbolic_expr(params, funs, use_l0=True)[0]\n"
   ]
  },
  {
   "cell_type": "code",
   "execution_count": 18,
   "id": "e5da47f1",
   "metadata": {
    "ExecuteTime": {
     "end_time": "2022-04-12T15:14:45.703571Z",
     "start_time": "2022-04-12T15:14:45.694089Z"
    }
   },
   "outputs": [
    {
     "data": {
      "text/latex": [
       "$\\displaystyle 0.797775685787201 \\cos{\\left(2.31218290328979 x_{0} - 0.0134243918582797 \\right)} + 1.27095198795263$"
      ],
      "text/plain": [
       "0.797775685787201*cos(2.31218290328979*x0 - 0.0134243918582797) + 1.27095198795263"
      ]
     },
     "execution_count": 18,
     "metadata": {},
     "output_type": "execute_result"
    }
   ],
   "source": [
    "symb"
   ]
  },
  {
   "cell_type": "code",
   "execution_count": null,
   "id": "d8f3a7ad",
   "metadata": {},
   "outputs": [],
   "source": []
  },
  {
   "cell_type": "code",
   "execution_count": null,
   "id": "8aab1cd0",
   "metadata": {},
   "outputs": [],
   "source": []
  },
  {
   "cell_type": "code",
   "execution_count": 139,
   "id": "d9ba67bb",
   "metadata": {
    "ExecuteTime": {
     "end_time": "2022-03-26T12:45:57.605223Z",
     "start_time": "2022-03-26T12:45:57.600706Z"
    }
   },
   "outputs": [],
   "source": [
    "jit_apply = jax.jit(e.apply, static_argnames='deterministic')"
   ]
  },
  {
   "cell_type": "code",
   "execution_count": 13,
   "id": "832cd8e1",
   "metadata": {
    "ExecuteTime": {
     "end_time": "2022-03-16T15:51:40.875258Z",
     "start_time": "2022-03-16T15:51:40.873013Z"
    }
   },
   "outputs": [],
   "source": [
    "jit_part = partial(jit_apply, params)\n",
    "#jax.grad(jit_part)(x)"
   ]
  },
  {
   "cell_type": "code",
   "execution_count": 9,
   "id": "27d60bba",
   "metadata": {
    "ExecuteTime": {
     "end_time": "2022-03-17T11:14:56.406908Z",
     "start_time": "2022-03-17T11:14:56.298358Z"
    }
   },
   "outputs": [
    {
     "data": {
      "text/plain": [
       "DeviceArray(508.99625, dtype=float32)"
      ]
     },
     "execution_count": 9,
     "metadata": {},
     "output_type": "execute_result"
    }
   ],
   "source": [
    "e.apply(params, rngs={'l0': k1}, method=e.l0_reg)"
   ]
  },
  {
   "cell_type": "code",
   "execution_count": 12,
   "id": "6f0cdd40",
   "metadata": {
    "ExecuteTime": {
     "end_time": "2022-03-17T11:15:18.875394Z",
     "start_time": "2022-03-17T11:15:18.053353Z"
    },
    "collapsed": true
   },
   "outputs": [
    {
     "data": {
      "text/plain": [
       "DeviceArray([[ 8.58321381e+00,  1.51409264e+01, -2.02603173e+00,\n",
       "               2.00298309e+01,  1.47476797e+01, -4.98244190e+00,\n",
       "               2.11784592e+01, -1.21116362e+01, -1.42601099e+01,\n",
       "              -4.60530281e+00],\n",
       "             [ 5.63098877e+02,  2.89830261e+02,  6.18977844e+02,\n",
       "               4.19883545e+02,  2.96393799e+02, -3.36902313e+02,\n",
       "              -1.66018234e+02, -5.47439697e+02, -7.59330521e+01,\n",
       "              -1.87522095e+02],\n",
       "             [ 1.41679535e+01,  2.39808059e+00,  7.43775249e-01,\n",
       "               1.33280349e+00,  1.10605164e+01,  1.10182362e+01,\n",
       "               1.54590921e+01, -3.53029418e+00,  8.96689796e+00,\n",
       "               1.93303025e+00],\n",
       "             [ 7.56713000e+05,  6.11489188e+05, -5.11581875e+05,\n",
       "              -7.13832312e+05, -4.38223906e+05, -5.07743945e+04,\n",
       "               2.48641734e+05,  7.31543625e+05,  2.68542062e+05,\n",
       "              -3.95877188e+05],\n",
       "             [ 4.73204404e-01, -9.08424735e-01, -7.54241526e-01,\n",
       "              -2.32303977e+00, -8.88724804e-01, -1.15344369e+00,\n",
       "              -1.03319955e+00,  1.70531440e+00, -1.61145926e+00,\n",
       "              -8.68631065e-01],\n",
       "             [ 2.23020573e+01,  2.11017246e+01, -2.45556965e+01,\n",
       "              -3.35117073e+01, -2.33959045e+01,  1.16016245e+01,\n",
       "               6.38718033e+00,  3.12952442e+01,  8.14205933e+00,\n",
       "              -7.07790613e+00],\n",
       "             [ 1.56921377e+01,  1.55033283e+01,  3.05390406e+00,\n",
       "              -6.83016014e+00,  1.83854675e+01, -1.34353995e+00,\n",
       "              -3.51661652e-01, -3.31007719e-01,  4.89101076e+00,\n",
       "              -2.64227123e+01],\n",
       "             [-2.01522899e+00, -1.71056032e+00,  3.42124254e-02,\n",
       "              -6.58775473e+00,  6.83291852e-01,  1.16166401e+01,\n",
       "              -2.00415111e+00,  2.39746404e+00, -1.27099025e+00,\n",
       "              -3.69050074e+00],\n",
       "             [-9.36479136e+12,  1.13140753e+13, -2.40892117e+12,\n",
       "               1.40517803e+13, -1.43814526e+13,  7.11721065e+12,\n",
       "              -3.82523146e+12, -5.24684257e+12,  1.65884933e+12,\n",
       "               8.69992130e+12],\n",
       "             [-1.17808320e-01, -3.33378792e+00, -1.18086495e-01,\n",
       "              -8.14584255e-01,  9.12182629e-01, -1.93612587e+00,\n",
       "               7.78630450e-02,  4.73170280e-01,  1.00288701e+00,\n",
       "               3.53734553e-01],\n",
       "             [ 1.94581652e+00,  5.80713367e+00, -1.07052481e+00,\n",
       "               1.35845196e+00,  2.12179109e-01,  4.26649761e+00,\n",
       "               1.11006033e+00, -1.18471193e+00,  1.47190595e+00,\n",
       "               1.88021743e+00],\n",
       "             [-3.31358165e-01, -1.90461195e+00,  2.13234854e+00,\n",
       "              -3.92331928e-01, -3.06351781e+00, -7.00476766e-01,\n",
       "               3.11738110e+00,  3.72727633e-01, -6.06507587e+00,\n",
       "              -3.43942952e+00],\n",
       "             [-1.22346506e-02, -1.24191988e+00,  4.22469139e-01,\n",
       "              -2.43361086e-01,  3.25399101e-01, -6.59793973e-01,\n",
       "              -2.93869400e+00,  1.51448858e+00,  1.82245553e+00,\n",
       "               1.43608701e+00],\n",
       "             [ 7.17999181e-03,  3.65471840e-01,  1.41352749e+00,\n",
       "               9.56689239e-01,  2.68521272e-02,  6.71110809e-01,\n",
       "              -4.99494523e-01, -6.42733395e-01,  8.66641641e-01,\n",
       "              -1.63521290e-01],\n",
       "             [ 1.39183891e+00, -4.31763828e-02, -1.32879996e+00,\n",
       "              -8.76127303e-01,  9.32740152e-01, -1.45453930e+00,\n",
       "               1.36473024e+00, -4.32612002e-01,  3.31942618e-01,\n",
       "               9.51024115e-01],\n",
       "             [ 2.45195970e-01, -1.08389720e-01,  2.71717280e-01,\n",
       "               2.30677888e-01,  1.04650760e+00, -9.19645071e-01,\n",
       "              -8.57825816e-01,  1.61311924e-01,  3.19324881e-01,\n",
       "              -5.43307550e-02],\n",
       "             [-3.05065513e-01, -6.89570963e-01, -4.15173620e-01,\n",
       "               2.11633325e+00,  1.66823018e+00,  1.19113708e+00,\n",
       "               1.18500817e+00, -1.54420435e+00, -5.36757469e-01,\n",
       "               5.29762626e-01],\n",
       "             [ 5.92208282e+09,  8.74929254e+09, -7.60859750e+09,\n",
       "              -9.25274829e+09, -5.15655629e+09,  1.18316941e+09,\n",
       "               4.23037133e+09,  1.10752881e+10, -3.47251712e+09,\n",
       "              -8.65213850e+09],\n",
       "             [ 5.71569290e+01,  6.31965179e+01, -6.56382751e+01,\n",
       "              -8.84780121e+01,  1.89345360e+01,  1.02102432e+01,\n",
       "               5.68832626e+01,  1.34259613e+02,  2.07481146e+00,\n",
       "              -9.72936554e+01],\n",
       "             [-3.86858569e+03, -1.13506924e+04,  3.19010840e+03,\n",
       "               3.74474365e+03,  8.32474805e+03,  4.26801953e+03,\n",
       "               6.45160693e+03, -1.90288945e+04, -1.48610771e+04,\n",
       "               4.72126709e+03]], dtype=float32)"
      ]
     },
     "execution_count": 12,
     "metadata": {},
     "output_type": "execute_result"
    }
   ],
   "source": [
    "k1, _ = random.split(k1)\n",
    "e.apply(params, x, deterministic=False, rngs={'l0': k1})"
   ]
  },
  {
   "cell_type": "code",
   "execution_count": 16,
   "id": "10091994",
   "metadata": {
    "ExecuteTime": {
     "end_time": "2022-03-17T11:15:45.632004Z",
     "start_time": "2022-03-17T11:15:45.625438Z"
    },
    "collapsed": true
   },
   "outputs": [
    {
     "data": {
      "text/plain": [
       "DeviceArray([[-3.78209448e+00,  4.46613979e+00, -5.88704634e+00,\n",
       "               1.94581795e+00,  1.25876462e+00,  5.66233540e+00,\n",
       "              -5.79753447e+00, -3.79149890e+00,  7.15724325e+00,\n",
       "               7.17711067e+00],\n",
       "             [ 3.95358396e+00,  6.34684658e+00, -2.64497590e+00,\n",
       "               3.13939035e-01, -1.19828969e-01,  1.12981653e+00,\n",
       "              -2.60230207e+00,  1.02555215e+00, -2.70521045e+00,\n",
       "              -4.04525566e+00],\n",
       "             [-4.18014479e+00, -3.11423206e+00, -3.79945159e+00,\n",
       "              -4.71738863e+00,  2.46585870e+00, -5.51736546e+00,\n",
       "              -4.07708788e+00,  1.80600092e-01, -1.94446886e+00,\n",
       "               9.08502400e-01],\n",
       "             [ 3.12757816e+01, -8.57553899e-01,  1.08915466e+02,\n",
       "               1.92732449e+01, -2.73622179e+00, -1.32710707e+00,\n",
       "               3.48873405e+01, -1.96826286e+01, -4.13103142e+01,\n",
       "               5.81769943e-01],\n",
       "             [-1.20899057e+00,  5.42552710e-01, -7.33462906e+00,\n",
       "              -3.19516850e+00,  2.55184144e-01, -2.80703211e+00,\n",
       "              -2.39852715e+00,  7.48074532e+00, -8.48368704e-02,\n",
       "               2.68795967e+00],\n",
       "             [-2.83845632e+10,  1.60600668e+10,  1.84967127e+10,\n",
       "              -2.08564716e+10, -2.87922463e+10,  8.56531200e+09,\n",
       "              -9.59846502e+09, -3.59221289e+10, -1.61802250e+10,\n",
       "               3.04975155e+10],\n",
       "             [ 1.45505142e+00, -9.66149032e-01, -1.08004604e-02,\n",
       "               1.26736438e+00,  5.88505387e-01,  2.22192502e+00,\n",
       "               2.67055964e+00, -5.36112249e-01,  1.07703888e+00,\n",
       "               1.10854340e+00],\n",
       "             [ 1.03034943e+02,  2.26665527e+02,  3.38898804e+02,\n",
       "               6.82155533e+01, -2.25188232e+02,  1.40490265e+02,\n",
       "               2.62693207e+02, -3.36419403e+02, -1.05123276e+02,\n",
       "               9.50031891e+01],\n",
       "             [ 3.92911873e+01, -1.84875870e+01, -4.13630829e+01,\n",
       "               1.30909224e+01,  3.64777774e-01,  1.14763775e+01,\n",
       "               4.49562988e+01, -3.44426346e+01,  1.67161922e+01,\n",
       "              -2.10998058e+01],\n",
       "             [-4.34643412e+00,  4.46239889e-01,  2.02812299e-01,\n",
       "               4.48200077e-01, -5.77230394e-01, -4.78118038e+00,\n",
       "              -2.12557840e+00,  2.72447467e-01, -1.26302743e+00,\n",
       "              -1.56217468e+00],\n",
       "             [-2.52568836e+01, -8.18129539e+00, -3.64205217e+00,\n",
       "              -1.41927958e+00,  7.71645010e-01,  1.45304890e+01,\n",
       "               1.14133463e+01, -2.85707359e+01,  1.32542143e+01,\n",
       "               1.60419827e+01],\n",
       "             [-3.48058963e+00, -1.68934479e-01, -1.15981948e+00,\n",
       "              -2.67708331e-01,  6.06912374e+00, -4.40009594e+00,\n",
       "              -4.16104746e+00,  9.12585795e-01, -2.60698748e+00,\n",
       "               6.72912240e-01],\n",
       "             [-2.13652778e+00,  4.98958158e+00,  1.16645622e+00,\n",
       "              -2.38706827e+00,  3.68631065e-01,  1.95960546e+00,\n",
       "              -3.53142476e+00,  6.04384482e-01, -1.27376592e+00,\n",
       "               1.87722504e+00],\n",
       "             [ 7.20292332e+10,  2.04371942e+09,  3.99663104e+10,\n",
       "              -2.18973983e+10, -2.68541870e+10,  2.76677202e+10,\n",
       "               3.84084828e+10, -6.84919562e+10, -1.59884780e+10,\n",
       "               3.32235571e+10],\n",
       "             [ 1.03374219e+00, -4.26827812e+00,  2.83615923e+00,\n",
       "              -5.69018507e+00, -1.00460100e+01,  1.10322523e+00,\n",
       "               1.38703060e+01,  4.08678246e+00, -1.62304096e+01,\n",
       "              -1.34525423e+01],\n",
       "             [-8.82969177e+02,  7.60691833e+02, -9.31619812e+02,\n",
       "               6.23914429e+02,  1.71277237e+01,  6.52095459e+02,\n",
       "              -2.52798935e+02,  1.71816757e+02,  5.84385193e+02,\n",
       "               1.04789893e+03],\n",
       "             [-1.73120972e+03, -7.72709717e+02,  1.03068445e+03,\n",
       "              -9.11556213e+02, -1.00365625e+03, -3.01343670e+01,\n",
       "               6.08487854e+01, -2.36399194e+03, -7.63906494e+02,\n",
       "               4.26460541e+02],\n",
       "             [ 3.34452701e+00, -3.34341288e-01,  1.93894517e+00,\n",
       "               5.25085390e-01,  2.02780080e+00,  1.88019347e+00,\n",
       "               3.32984519e+00,  5.19319832e-01,  1.40002406e+00,\n",
       "              -1.23437572e+00],\n",
       "             [-2.19573164e+00, -4.81795430e-01, -3.61065239e-01,\n",
       "               2.12475717e-01, -5.52493930e-01,  7.84456491e-01,\n",
       "               4.71307546e-01, -4.30858284e-01,  5.64436495e-01,\n",
       "               1.41651940e+00],\n",
       "             [ 1.33870173e+00, -2.99959946e+00, -3.65632725e+00,\n",
       "               1.17492914e+00, -8.65467191e-01,  2.20895553e+00,\n",
       "               3.39501917e-01, -7.44102716e-01, -6.73600495e-01,\n",
       "              -2.57636070e+00]], dtype=float32)"
      ]
     },
     "execution_count": 16,
     "metadata": {},
     "output_type": "execute_result"
    }
   ],
   "source": [
    "k1, _ = random.split(k1)\n",
    "jit_apply(params, x, deterministic=False, rngs={'l0': k1})"
   ]
  },
  {
   "cell_type": "code",
   "execution_count": 31,
   "id": "02b38239",
   "metadata": {
    "ExecuteTime": {
     "end_time": "2022-04-01T17:31:05.702492Z",
     "start_time": "2022-04-01T17:31:05.669684Z"
    }
   },
   "outputs": [
    {
     "data": {
      "text/plain": [
       "DeviceArray([ 0.57243985,  0.4264363 ,  0.20558922, ...,  0.4450177 ,\n",
       "             -0.22650672,  0.41479236], dtype=float32)"
      ]
     },
     "execution_count": 31,
     "metadata": {},
     "output_type": "execute_result"
    }
   ],
   "source": [
    "#symb = get_symbolic_expr(unflatten(spec, x0), funs)\n",
    "sy.lambdify(\"x0, x1, x2\", symb[0])(x[:,0], x[:,1], x[:,2])"
   ]
  },
  {
   "cell_type": "code",
   "execution_count": 8,
   "id": "1a37feae",
   "metadata": {
    "ExecuteTime": {
     "end_time": "2022-03-07T18:25:22.188321Z",
     "start_time": "2022-03-07T18:25:21.777572Z"
    }
   },
   "outputs": [
    {
     "data": {
      "text/plain": [
       "DeviceArray([ 0.29320884, 20.998196  ,  3.2638202 ], dtype=float32)"
      ]
     },
     "execution_count": 8,
     "metadata": {},
     "output_type": "execute_result"
    }
   ],
   "source": [
    "sy.lambdify(sy.symbols(\"x0, x1\"), symb[1], \"numpy\")(x[:,0],x[:,1])"
   ]
  },
  {
   "cell_type": "code",
   "execution_count": null,
   "id": "0fda647d",
   "metadata": {},
   "outputs": [],
   "source": []
  }
 ],
 "metadata": {
  "kernelspec": {
   "display_name": "Python 3",
   "language": "python",
   "name": "python3"
  },
  "language_info": {
   "codemirror_mode": {
    "name": "ipython",
    "version": 3
   },
   "file_extension": ".py",
   "mimetype": "text/x-python",
   "name": "python",
   "nbconvert_exporter": "python",
   "pygments_lexer": "ipython3",
   "version": "3.8.10"
  }
 },
 "nbformat": 4,
 "nbformat_minor": 5
}
