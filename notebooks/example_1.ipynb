{
 "cells": [
  {
   "cell_type": "code",
   "execution_count": 1,
   "id": "6ce5cbbf",
   "metadata": {
    "ExecuteTime": {
     "end_time": "2023-06-30T12:17:50.716958Z",
     "start_time": "2023-06-30T12:17:49.425632Z"
    }
   },
   "outputs": [],
   "source": [
    "import jax\n",
    "from typing import Any, Callable, Sequence, Optional\n",
    "from jax import lax, random, numpy as jnp\n",
    "import flax\n",
    "from flax import linen as nn\n",
    "import sympy as sy\n",
    "import numpy as np\n",
    "import sys\n",
    "sys.path.append(\"..\")\n",
    "from eql.eqlearner import EQL\n",
    "from eql.symbolic import get_symbolic_expr, get_symbolic_expr_layer\n",
    "from typing import List, Tuple, Callable\n",
    "from functools import partial\n",
    "import matplotlib.pyplot as plt\n",
    "import scipy\n",
    "sys.path.append(\"../../orient\")\n",
    "import optax\n",
    "\n",
    "from np_utils import flatten, unflatten"
   ]
  },
  {
   "cell_type": "code",
   "execution_count": 2,
   "id": "3589912f",
   "metadata": {
    "ExecuteTime": {
     "end_time": "2023-06-30T12:17:50.748912Z",
     "start_time": "2023-06-30T12:17:50.723382Z"
    }
   },
   "outputs": [
    {
     "name": "stderr",
     "output_type": "stream",
     "text": [
      "No GPU/TPU found, falling back to CPU. (Set TF_CPP_MIN_LOG_LEVEL=0 and rerun for more info.)\n"
     ]
    }
   ],
   "source": [
    "funs = ['mul', 'cos', 'sin']*2\n",
    "e = EQL(n_layers=2, functions=funs, features=1)\n",
    "key = random.PRNGKey(0)"
   ]
  },
  {
   "cell_type": "code",
   "execution_count": 3,
   "id": "10748401",
   "metadata": {
    "ExecuteTime": {
     "end_time": "2023-06-30T12:17:53.742551Z",
     "start_time": "2023-06-30T12:17:53.506646Z"
    }
   },
   "outputs": [],
   "source": [
    "N = 1000\n",
    "xdim = 1\n",
    "x = (random.uniform(key, (N, xdim))-.5) * 2\n",
    "\n",
    "#y = x[:,0] + jnp.cos(x[:,1])\n",
    "y = jnp.cos(x) + 1 - x**2 "
   ]
  },
  {
   "cell_type": "code",
   "execution_count": 4,
   "id": "c6438daa",
   "metadata": {
    "ExecuteTime": {
     "end_time": "2023-06-30T12:17:54.567013Z",
     "start_time": "2023-06-30T12:17:53.763416Z"
    }
   },
   "outputs": [],
   "source": [
    "params = e.init({'params':key}, x);"
   ]
  },
  {
   "cell_type": "code",
   "execution_count": 5,
   "id": "7530de69",
   "metadata": {
    "ExecuteTime": {
     "end_time": "2023-06-30T12:17:56.627502Z",
     "start_time": "2023-06-30T12:17:56.618214Z"
    }
   },
   "outputs": [
    {
     "data": {
      "text/plain": [
       "FrozenDict({\n",
       "    params: {\n",
       "        layers_0: {\n",
       "            linear_layer: {\n",
       "                kernel: Array([[ 0.6292481 , -0.54229003, -0.4677973 ,  0.70746535,  0.09610943,\n",
       "                         0.4903576 ,  0.06954016,  0.31511047]], dtype=float32),\n",
       "                bias: Array([0., 0., 0., 0., 0., 0., 0., 0.], dtype=float32),\n",
       "            },\n",
       "        },\n",
       "        layers_1: {\n",
       "            linear_layer: {\n",
       "                kernel: Array([[ 0.19629148,  0.06706532,  0.00969497,  0.23161124, -0.11875771,\n",
       "                         0.01930422,  0.05764793, -0.0596979 ],\n",
       "                       [ 0.4696742 ,  0.46638718,  0.21155392, -0.8553514 ,  0.6172892 ,\n",
       "                        -0.44233188,  0.22190586, -0.18106432],\n",
       "                       [-0.44605988, -0.20469512, -0.32464647,  0.5807687 ,  0.02217815,\n",
       "                        -0.2559955 ,  0.17005439,  0.71249163],\n",
       "                       [ 0.45161504, -0.10305008, -0.47209048,  0.35264972, -0.3844344 ,\n",
       "                         0.2527192 , -0.5963687 ,  0.310487  ],\n",
       "                       [-0.04032504,  0.10622181,  0.5348187 ,  0.14317314,  0.38765785,\n",
       "                        -0.48200536, -0.28618744,  0.3023454 ],\n",
       "                       [-0.90012056, -0.02397138, -0.5772944 , -0.01594903, -0.32118613,\n",
       "                         0.45124516,  0.42732358,  0.45643777]], dtype=float32),\n",
       "                bias: Array([0., 0., 0., 0., 0., 0., 0., 0.], dtype=float32),\n",
       "            },\n",
       "        },\n",
       "        last: {\n",
       "            kernel: Array([[ 0.3419978 ],\n",
       "                   [ 0.7218391 ],\n",
       "                   [-0.6941807 ],\n",
       "                   [-0.0590653 ],\n",
       "                   [-0.01466033],\n",
       "                   [-0.08124907]], dtype=float32),\n",
       "            bias: Array([0.], dtype=float32),\n",
       "        },\n",
       "    },\n",
       "})"
      ]
     },
     "execution_count": 5,
     "metadata": {},
     "output_type": "execute_result"
    }
   ],
   "source": [
    "params"
   ]
  },
  {
   "cell_type": "code",
   "execution_count": 6,
   "id": "efac62b1",
   "metadata": {
    "ExecuteTime": {
     "end_time": "2023-06-30T12:17:56.785273Z",
     "start_time": "2023-06-30T12:17:56.781877Z"
    }
   },
   "outputs": [],
   "source": [
    "def mse_fn(params):\n",
    "    pred = e.apply(params, x)\n",
    "    return jnp.mean((pred-y)**2)"
   ]
  },
  {
   "cell_type": "code",
   "execution_count": 7,
   "id": "0750cbc9",
   "metadata": {
    "ExecuteTime": {
     "end_time": "2023-06-30T12:17:57.645053Z",
     "start_time": "2023-06-30T12:17:57.636206Z"
    }
   },
   "outputs": [],
   "source": [
    "def loss(params):\n",
    "    return mse_fn(params)\n",
    "loss_grad_fn = jax.jit(jax.value_and_grad(loss))"
   ]
  },
  {
   "cell_type": "code",
   "execution_count": 8,
   "id": "257cb82c",
   "metadata": {
    "ExecuteTime": {
     "end_time": "2023-06-30T12:17:58.491732Z",
     "start_time": "2023-06-30T12:17:58.425922Z"
    }
   },
   "outputs": [],
   "source": [
    "tx = optax.adam(learning_rate=1e-2)\n",
    "opt_state = tx.init(params)\n",
    "loss_grad_fn = jax.jit(jax.value_and_grad(loss))"
   ]
  },
  {
   "cell_type": "code",
   "execution_count": 9,
   "id": "b9f9a804",
   "metadata": {
    "ExecuteTime": {
     "end_time": "2023-06-30T12:18:21.412064Z",
     "start_time": "2023-06-30T12:17:59.343211Z"
    }
   },
   "outputs": [
    {
     "name": "stdout",
     "output_type": "stream",
     "text": [
      "2.2196107\n",
      "0.0027071456\n",
      "0.00042087326\n",
      "0.0002654106\n",
      "0.00011064316\n",
      "2.0543643e-05\n",
      "4.4613835e-06\n",
      "3.6789131e-06\n",
      "3.520719e-06\n",
      "3.36399e-06\n",
      "3.2019113e-06\n",
      "3.0358647e-06\n",
      "2.8672011e-06\n",
      "2.6971727e-06\n",
      "2.5271006e-06\n",
      "2.3581579e-06\n",
      "2.1915357e-06\n",
      "2.0283371e-06\n",
      "1.8695941e-06\n",
      "1.7162446e-06\n",
      "1.5692009e-06\n",
      "1.4292251e-06\n",
      "1.2970004e-06\n",
      "1.1730463e-06\n",
      "1.0577919e-06\n",
      "9.515116e-07\n",
      "8.54322e-07\n",
      "7.6624815e-07\n",
      "6.871244e-07\n",
      "6.1663485e-07\n",
      "8.6005423e-07\n",
      "4.960215e-07\n",
      "4.5028426e-07\n",
      "5.873193e-07\n",
      "3.7753443e-07\n",
      "3.5102744e-07\n",
      "5.0225583e-07\n",
      "3.1070547e-07\n",
      "3.4219494e-07\n",
      "2.9524352e-07\n",
      "2.7227787e-07\n",
      "1.4357581e-05\n",
      "2.6714446e-07\n",
      "2.4733802e-07\n",
      "2.2175887e-05\n",
      "2.4136529e-07\n",
      "2.2805808e-07\n",
      "5.8675296e-06\n",
      "2.2211954e-07\n",
      "2.1000004e-07\n",
      "2.6261935e-07\n",
      "2.0675199e-07\n",
      "2.0703268e-07\n",
      "2.1314641e-07\n",
      "1.9277927e-07\n",
      "5.2044e-07\n",
      "2.098606e-07\n",
      "1.8224698e-07\n",
      "1.7019016e-07\n",
      "3.334164e-07\n",
      "1.7446423e-07\n",
      "1.6227581e-07\n",
      "1.8598286e-06\n",
      "1.643442e-07\n",
      "1.522236e-07\n",
      "7.825269e-07\n"
     ]
    },
    {
     "ename": "KeyboardInterrupt",
     "evalue": "",
     "output_type": "error",
     "traceback": [
      "\u001b[0;31m---------------------------------------------------------------------------\u001b[0m",
      "\u001b[0;31mKeyboardInterrupt\u001b[0m                         Traceback (most recent call last)",
      "Cell \u001b[0;32mIn[9], line 3\u001b[0m\n\u001b[1;32m      1\u001b[0m \u001b[38;5;28;01mfor\u001b[39;00m i \u001b[38;5;129;01min\u001b[39;00m \u001b[38;5;28mrange\u001b[39m(\u001b[38;5;241m10000\u001b[39m):\n\u001b[1;32m      2\u001b[0m     loss_val, grads \u001b[38;5;241m=\u001b[39m loss_grad_fn(params)\n\u001b[0;32m----> 3\u001b[0m     updates, opt_state \u001b[38;5;241m=\u001b[39m \u001b[43mtx\u001b[49m\u001b[38;5;241;43m.\u001b[39;49m\u001b[43mupdate\u001b[49m\u001b[43m(\u001b[49m\u001b[43mgrads\u001b[49m\u001b[43m,\u001b[49m\u001b[43m \u001b[49m\u001b[43mopt_state\u001b[49m\u001b[43m)\u001b[49m\n\u001b[1;32m      4\u001b[0m     params \u001b[38;5;241m=\u001b[39m optax\u001b[38;5;241m.\u001b[39mapply_updates(params, updates)\n\u001b[1;32m      5\u001b[0m     \u001b[38;5;28;01mif\u001b[39;00m i \u001b[38;5;241m%\u001b[39m \u001b[38;5;241m99\u001b[39m \u001b[38;5;241m==\u001b[39m \u001b[38;5;241m0\u001b[39m:\n",
      "File \u001b[0;32m~/envs/dev/lib/python3.10/site-packages/optax/_src/combine.py:59\u001b[0m, in \u001b[0;36mchain.<locals>.update_fn\u001b[0;34m(updates, state, params, **extra_args)\u001b[0m\n\u001b[1;32m     57\u001b[0m new_state \u001b[38;5;241m=\u001b[39m []\n\u001b[1;32m     58\u001b[0m \u001b[38;5;28;01mfor\u001b[39;00m s, fn \u001b[38;5;129;01min\u001b[39;00m \u001b[38;5;28mzip\u001b[39m(state, update_fns):\n\u001b[0;32m---> 59\u001b[0m   updates, new_s \u001b[38;5;241m=\u001b[39m \u001b[43mfn\u001b[49m\u001b[43m(\u001b[49m\u001b[43mupdates\u001b[49m\u001b[43m,\u001b[49m\u001b[43m \u001b[49m\u001b[43ms\u001b[49m\u001b[43m,\u001b[49m\u001b[43m \u001b[49m\u001b[43mparams\u001b[49m\u001b[43m,\u001b[49m\u001b[43m \u001b[49m\u001b[38;5;241;43m*\u001b[39;49m\u001b[38;5;241;43m*\u001b[39;49m\u001b[43mextra_args\u001b[49m\u001b[43m)\u001b[49m\n\u001b[1;32m     60\u001b[0m   new_state\u001b[38;5;241m.\u001b[39mappend(new_s)\n\u001b[1;32m     61\u001b[0m \u001b[38;5;28;01mreturn\u001b[39;00m updates, \u001b[38;5;28mtuple\u001b[39m(new_state)\n",
      "File \u001b[0;32m~/envs/dev/lib/python3.10/site-packages/optax/_src/base.py:311\u001b[0m, in \u001b[0;36mwith_extra_args_support.<locals>.update\u001b[0;34m(***failed resolving arguments***)\u001b[0m\n\u001b[1;32m    309\u001b[0m \u001b[38;5;28;01mdef\u001b[39;00m \u001b[38;5;21mupdate\u001b[39m(updates, state, params\u001b[38;5;241m=\u001b[39m\u001b[38;5;28;01mNone\u001b[39;00m, \u001b[38;5;241m*\u001b[39m\u001b[38;5;241m*\u001b[39mextra_args):\n\u001b[1;32m    310\u001b[0m   \u001b[38;5;28;01mdel\u001b[39;00m extra_args\n\u001b[0;32m--> 311\u001b[0m   \u001b[38;5;28;01mreturn\u001b[39;00m \u001b[43mtx\u001b[49m\u001b[38;5;241;43m.\u001b[39;49m\u001b[43mupdate\u001b[49m\u001b[43m(\u001b[49m\u001b[43mupdates\u001b[49m\u001b[43m,\u001b[49m\u001b[43m \u001b[49m\u001b[43mstate\u001b[49m\u001b[43m,\u001b[49m\u001b[43m \u001b[49m\u001b[43mparams\u001b[49m\u001b[43m)\u001b[49m\n",
      "File \u001b[0;32m~/envs/dev/lib/python3.10/site-packages/optax/_src/transform.py:344\u001b[0m, in \u001b[0;36mscale_by_adam.<locals>.update_fn\u001b[0;34m(***failed resolving arguments***)\u001b[0m\n\u001b[1;32m    342\u001b[0m mu \u001b[38;5;241m=\u001b[39m update_moment(updates, state\u001b[38;5;241m.\u001b[39mmu, b1, \u001b[38;5;241m1\u001b[39m)\n\u001b[1;32m    343\u001b[0m nu \u001b[38;5;241m=\u001b[39m update_moment_per_elem_norm(updates, state\u001b[38;5;241m.\u001b[39mnu, b2, \u001b[38;5;241m2\u001b[39m)\n\u001b[0;32m--> 344\u001b[0m count_inc \u001b[38;5;241m=\u001b[39m \u001b[43mnumerics\u001b[49m\u001b[38;5;241;43m.\u001b[39;49m\u001b[43msafe_int32_increment\u001b[49m\u001b[43m(\u001b[49m\u001b[43mstate\u001b[49m\u001b[38;5;241;43m.\u001b[39;49m\u001b[43mcount\u001b[49m\u001b[43m)\u001b[49m\n\u001b[1;32m    345\u001b[0m mu_hat \u001b[38;5;241m=\u001b[39m bias_correction(mu, b1, count_inc)\n\u001b[1;32m    346\u001b[0m nu_hat \u001b[38;5;241m=\u001b[39m bias_correction(nu, b2, count_inc)\n",
      "File \u001b[0;32m~/envs/dev/lib/python3.10/site-packages/optax/_src/numerics.py:117\u001b[0m, in \u001b[0;36msafe_int32_increment\u001b[0;34m(count)\u001b[0m\n\u001b[1;32m    115\u001b[0m chex\u001b[38;5;241m.\u001b[39massert_type(count, jnp\u001b[38;5;241m.\u001b[39mint32)\n\u001b[1;32m    116\u001b[0m max_int32_value \u001b[38;5;241m=\u001b[39m jnp\u001b[38;5;241m.\u001b[39miinfo(jnp\u001b[38;5;241m.\u001b[39mint32)\u001b[38;5;241m.\u001b[39mmax\n\u001b[0;32m--> 117\u001b[0m one \u001b[38;5;241m=\u001b[39m \u001b[43mjnp\u001b[49m\u001b[38;5;241;43m.\u001b[39;49m\u001b[43marray\u001b[49m\u001b[43m(\u001b[49m\u001b[38;5;241;43m1\u001b[39;49m\u001b[43m,\u001b[49m\u001b[43m \u001b[49m\u001b[43mdtype\u001b[49m\u001b[38;5;241;43m=\u001b[39;49m\u001b[43mjnp\u001b[49m\u001b[38;5;241;43m.\u001b[39;49m\u001b[43mint32\u001b[49m\u001b[43m)\u001b[49m\n\u001b[1;32m    118\u001b[0m \u001b[38;5;28;01mreturn\u001b[39;00m jnp\u001b[38;5;241m.\u001b[39mwhere(count \u001b[38;5;241m<\u001b[39m max_int32_value, count \u001b[38;5;241m+\u001b[39m one, max_int32_value)\n",
      "File \u001b[0;32m~/envs/dev/lib/python3.10/site-packages/jax/_src/numpy/lax_numpy.py:2051\u001b[0m, in \u001b[0;36marray\u001b[0;34m(object, dtype, copy, order, ndmin)\u001b[0m\n\u001b[1;32m   2047\u001b[0m     \u001b[38;5;28;01mreturn\u001b[39;00m array(np\u001b[38;5;241m.\u001b[39masarray(view), dtype, copy, ndmin\u001b[38;5;241m=\u001b[39mndmin)\n\u001b[1;32m   2049\u001b[0m   \u001b[38;5;28;01mraise\u001b[39;00m \u001b[38;5;167;01mTypeError\u001b[39;00m(\u001b[38;5;124mf\u001b[39m\u001b[38;5;124m\"\u001b[39m\u001b[38;5;124mUnexpected input type for array: \u001b[39m\u001b[38;5;132;01m{\u001b[39;00m\u001b[38;5;28mtype\u001b[39m(\u001b[38;5;28mobject\u001b[39m)\u001b[38;5;132;01m}\u001b[39;00m\u001b[38;5;124m\"\u001b[39m)\n\u001b[0;32m-> 2051\u001b[0m out_array: Array \u001b[38;5;241m=\u001b[39m \u001b[43mlax_internal\u001b[49m\u001b[38;5;241;43m.\u001b[39;49m\u001b[43m_convert_element_type\u001b[49m\u001b[43m(\u001b[49m\u001b[43mout\u001b[49m\u001b[43m,\u001b[49m\u001b[43m \u001b[49m\u001b[43mdtype\u001b[49m\u001b[43m,\u001b[49m\u001b[43m \u001b[49m\u001b[43mweak_type\u001b[49m\u001b[38;5;241;43m=\u001b[39;49m\u001b[43mweak_type\u001b[49m\u001b[43m)\u001b[49m\n\u001b[1;32m   2052\u001b[0m \u001b[38;5;28;01mif\u001b[39;00m ndmin \u001b[38;5;241m>\u001b[39m ndim(out_array):\n\u001b[1;32m   2053\u001b[0m   out_array \u001b[38;5;241m=\u001b[39m lax\u001b[38;5;241m.\u001b[39mexpand_dims(out_array, \u001b[38;5;28mrange\u001b[39m(ndmin \u001b[38;5;241m-\u001b[39m ndim(out_array)))\n",
      "File \u001b[0;32m~/envs/dev/lib/python3.10/site-packages/jax/_src/lax/lax.py:549\u001b[0m, in \u001b[0;36m_convert_element_type\u001b[0;34m(operand, new_dtype, weak_type)\u001b[0m\n\u001b[1;32m    547\u001b[0m   \u001b[38;5;28;01mreturn\u001b[39;00m type_cast(Array, operand)\n\u001b[1;32m    548\u001b[0m \u001b[38;5;28;01melse\u001b[39;00m:\n\u001b[0;32m--> 549\u001b[0m   \u001b[38;5;28;01mreturn\u001b[39;00m \u001b[43mconvert_element_type_p\u001b[49m\u001b[38;5;241;43m.\u001b[39;49m\u001b[43mbind\u001b[49m\u001b[43m(\u001b[49m\u001b[43moperand\u001b[49m\u001b[43m,\u001b[49m\u001b[43m \u001b[49m\u001b[43mnew_dtype\u001b[49m\u001b[38;5;241;43m=\u001b[39;49m\u001b[43mnew_dtype\u001b[49m\u001b[43m,\u001b[49m\n\u001b[1;32m    550\u001b[0m \u001b[43m                                     \u001b[49m\u001b[43mweak_type\u001b[49m\u001b[38;5;241;43m=\u001b[39;49m\u001b[38;5;28;43mbool\u001b[39;49m\u001b[43m(\u001b[49m\u001b[43mweak_type\u001b[49m\u001b[43m)\u001b[49m\u001b[43m)\u001b[49m\n",
      "File \u001b[0;32m~/envs/dev/lib/python3.10/site-packages/jax/_src/core.py:380\u001b[0m, in \u001b[0;36mPrimitive.bind\u001b[0;34m(self, *args, **params)\u001b[0m\n\u001b[1;32m    377\u001b[0m \u001b[38;5;28;01mdef\u001b[39;00m \u001b[38;5;21mbind\u001b[39m(\u001b[38;5;28mself\u001b[39m, \u001b[38;5;241m*\u001b[39margs, \u001b[38;5;241m*\u001b[39m\u001b[38;5;241m*\u001b[39mparams):\n\u001b[1;32m    378\u001b[0m   \u001b[38;5;28;01massert\u001b[39;00m (\u001b[38;5;129;01mnot\u001b[39;00m config\u001b[38;5;241m.\u001b[39mjax_enable_checks \u001b[38;5;129;01mor\u001b[39;00m\n\u001b[1;32m    379\u001b[0m           \u001b[38;5;28mall\u001b[39m(\u001b[38;5;28misinstance\u001b[39m(arg, Tracer) \u001b[38;5;129;01mor\u001b[39;00m valid_jaxtype(arg) \u001b[38;5;28;01mfor\u001b[39;00m arg \u001b[38;5;129;01min\u001b[39;00m args)), args\n\u001b[0;32m--> 380\u001b[0m   \u001b[38;5;28;01mreturn\u001b[39;00m \u001b[38;5;28;43mself\u001b[39;49m\u001b[38;5;241;43m.\u001b[39;49m\u001b[43mbind_with_trace\u001b[49m\u001b[43m(\u001b[49m\u001b[43mfind_top_trace\u001b[49m\u001b[43m(\u001b[49m\u001b[43margs\u001b[49m\u001b[43m)\u001b[49m\u001b[43m,\u001b[49m\u001b[43m \u001b[49m\u001b[43margs\u001b[49m\u001b[43m,\u001b[49m\u001b[43m \u001b[49m\u001b[43mparams\u001b[49m\u001b[43m)\u001b[49m\n",
      "File \u001b[0;32m~/envs/dev/lib/python3.10/site-packages/jax/_src/core.py:383\u001b[0m, in \u001b[0;36mPrimitive.bind_with_trace\u001b[0;34m(self, trace, args, params)\u001b[0m\n\u001b[1;32m    382\u001b[0m \u001b[38;5;28;01mdef\u001b[39;00m \u001b[38;5;21mbind_with_trace\u001b[39m(\u001b[38;5;28mself\u001b[39m, trace, args, params):\n\u001b[0;32m--> 383\u001b[0m   out \u001b[38;5;241m=\u001b[39m \u001b[43mtrace\u001b[49m\u001b[38;5;241;43m.\u001b[39;49m\u001b[43mprocess_primitive\u001b[49m\u001b[43m(\u001b[49m\u001b[38;5;28;43mself\u001b[39;49m\u001b[43m,\u001b[49m\u001b[43m \u001b[49m\u001b[38;5;28;43mmap\u001b[39;49m\u001b[43m(\u001b[49m\u001b[43mtrace\u001b[49m\u001b[38;5;241;43m.\u001b[39;49m\u001b[43mfull_raise\u001b[49m\u001b[43m,\u001b[49m\u001b[43m \u001b[49m\u001b[43margs\u001b[49m\u001b[43m)\u001b[49m\u001b[43m,\u001b[49m\u001b[43m \u001b[49m\u001b[43mparams\u001b[49m\u001b[43m)\u001b[49m\n\u001b[1;32m    384\u001b[0m   \u001b[38;5;28;01mreturn\u001b[39;00m \u001b[38;5;28mmap\u001b[39m(full_lower, out) \u001b[38;5;28;01mif\u001b[39;00m \u001b[38;5;28mself\u001b[39m\u001b[38;5;241m.\u001b[39mmultiple_results \u001b[38;5;28;01melse\u001b[39;00m full_lower(out)\n",
      "File \u001b[0;32m~/envs/dev/lib/python3.10/site-packages/jax/_src/core.py:790\u001b[0m, in \u001b[0;36mEvalTrace.process_primitive\u001b[0;34m(self, primitive, tracers, params)\u001b[0m\n\u001b[1;32m    789\u001b[0m \u001b[38;5;28;01mdef\u001b[39;00m \u001b[38;5;21mprocess_primitive\u001b[39m(\u001b[38;5;28mself\u001b[39m, primitive, tracers, params):\n\u001b[0;32m--> 790\u001b[0m   \u001b[38;5;28;01mreturn\u001b[39;00m \u001b[43mprimitive\u001b[49m\u001b[38;5;241;43m.\u001b[39;49m\u001b[43mimpl\u001b[49m\u001b[43m(\u001b[49m\u001b[38;5;241;43m*\u001b[39;49m\u001b[43mtracers\u001b[49m\u001b[43m,\u001b[49m\u001b[43m \u001b[49m\u001b[38;5;241;43m*\u001b[39;49m\u001b[38;5;241;43m*\u001b[39;49m\u001b[43mparams\u001b[49m\u001b[43m)\u001b[49m\n",
      "File \u001b[0;32m~/envs/dev/lib/python3.10/site-packages/jax/_src/dispatch.py:131\u001b[0m, in \u001b[0;36mapply_primitive\u001b[0;34m(prim, *args, **params)\u001b[0m\n\u001b[1;32m    128\u001b[0m \u001b[38;5;28;01mfrom\u001b[39;00m \u001b[38;5;21;01mjax\u001b[39;00m\u001b[38;5;21;01m.\u001b[39;00m\u001b[38;5;21;01m_src\u001b[39;00m \u001b[38;5;28;01mimport\u001b[39;00m pjit\n\u001b[1;32m    130\u001b[0m \u001b[38;5;28;01mtry\u001b[39;00m:\n\u001b[0;32m--> 131\u001b[0m   in_avals, in_shardings \u001b[38;5;241m=\u001b[39m util\u001b[38;5;241m.\u001b[39munzip2([arg_spec(a) \u001b[38;5;28;01mfor\u001b[39;00m a \u001b[38;5;129;01min\u001b[39;00m args])\n\u001b[1;32m    132\u001b[0m   compiled_fun \u001b[38;5;241m=\u001b[39m xla_primitive_callable(\n\u001b[1;32m    133\u001b[0m       prim, in_avals, OrigShardings(in_shardings), \u001b[38;5;241m*\u001b[39m\u001b[38;5;241m*\u001b[39mparams)\n\u001b[1;32m    134\u001b[0m \u001b[38;5;28;01mexcept\u001b[39;00m pxla\u001b[38;5;241m.\u001b[39mDeviceAssignmentMismatchError \u001b[38;5;28;01mas\u001b[39;00m e:\n",
      "File \u001b[0;32m~/envs/dev/lib/python3.10/site-packages/jax/_src/dispatch.py:131\u001b[0m, in \u001b[0;36m<listcomp>\u001b[0;34m(.0)\u001b[0m\n\u001b[1;32m    128\u001b[0m \u001b[38;5;28;01mfrom\u001b[39;00m \u001b[38;5;21;01mjax\u001b[39;00m\u001b[38;5;21;01m.\u001b[39;00m\u001b[38;5;21;01m_src\u001b[39;00m \u001b[38;5;28;01mimport\u001b[39;00m pjit\n\u001b[1;32m    130\u001b[0m \u001b[38;5;28;01mtry\u001b[39;00m:\n\u001b[0;32m--> 131\u001b[0m   in_avals, in_shardings \u001b[38;5;241m=\u001b[39m util\u001b[38;5;241m.\u001b[39munzip2([\u001b[43marg_spec\u001b[49m\u001b[43m(\u001b[49m\u001b[43ma\u001b[49m\u001b[43m)\u001b[49m \u001b[38;5;28;01mfor\u001b[39;00m a \u001b[38;5;129;01min\u001b[39;00m args])\n\u001b[1;32m    132\u001b[0m   compiled_fun \u001b[38;5;241m=\u001b[39m xla_primitive_callable(\n\u001b[1;32m    133\u001b[0m       prim, in_avals, OrigShardings(in_shardings), \u001b[38;5;241m*\u001b[39m\u001b[38;5;241m*\u001b[39mparams)\n\u001b[1;32m    134\u001b[0m \u001b[38;5;28;01mexcept\u001b[39;00m pxla\u001b[38;5;241m.\u001b[39mDeviceAssignmentMismatchError \u001b[38;5;28;01mas\u001b[39;00m e:\n",
      "File \u001b[0;32m~/envs/dev/lib/python3.10/site-packages/jax/_src/dispatch.py:102\u001b[0m, in \u001b[0;36marg_spec\u001b[0;34m(x)\u001b[0m\n\u001b[1;32m     99\u001b[0m \u001b[38;5;28;01mdef\u001b[39;00m \u001b[38;5;21marg_spec\u001b[39m(x: Any) \u001b[38;5;241m-\u001b[39m\u001b[38;5;241m>\u001b[39m ArgSpec:\n\u001b[1;32m    100\u001b[0m   \u001b[38;5;28;01mfrom\u001b[39;00m \u001b[38;5;21;01mjax\u001b[39;00m\u001b[38;5;21;01m.\u001b[39;00m\u001b[38;5;21;01m_src\u001b[39;00m \u001b[38;5;28;01mimport\u001b[39;00m pjit\n\u001b[0;32m--> 102\u001b[0m   aval \u001b[38;5;241m=\u001b[39m \u001b[43mxla\u001b[49m\u001b[38;5;241;43m.\u001b[39;49m\u001b[43mabstractify\u001b[49m\u001b[43m(\u001b[49m\u001b[43mx\u001b[49m\u001b[43m)\u001b[49m\n\u001b[1;32m    103\u001b[0m   \u001b[38;5;28;01mtry\u001b[39;00m:\n\u001b[1;32m    104\u001b[0m     \u001b[38;5;28;01mif\u001b[39;00m \u001b[38;5;28misinstance\u001b[39m(x\u001b[38;5;241m.\u001b[39msharding, PmapSharding):\n",
      "File \u001b[0;32m~/envs/dev/lib/python3.10/site-packages/jax/_src/interpreters/xla.py:194\u001b[0m, in \u001b[0;36mabstractify\u001b[0;34m(x)\u001b[0m\n\u001b[1;32m    192\u001b[0m typ \u001b[38;5;241m=\u001b[39m \u001b[38;5;28mtype\u001b[39m(x)\n\u001b[1;32m    193\u001b[0m aval_fn \u001b[38;5;241m=\u001b[39m pytype_aval_mappings\u001b[38;5;241m.\u001b[39mget(typ)\n\u001b[0;32m--> 194\u001b[0m \u001b[38;5;28;01mif\u001b[39;00m aval_fn: \u001b[38;5;28;01mreturn\u001b[39;00m \u001b[43maval_fn\u001b[49m\u001b[43m(\u001b[49m\u001b[43mx\u001b[49m\u001b[43m)\u001b[49m\n\u001b[1;32m    195\u001b[0m \u001b[38;5;28;01mfor\u001b[39;00m typ \u001b[38;5;129;01min\u001b[39;00m typ\u001b[38;5;241m.\u001b[39m\u001b[38;5;18m__mro__\u001b[39m:\n\u001b[1;32m    196\u001b[0m   aval_fn \u001b[38;5;241m=\u001b[39m pytype_aval_mappings\u001b[38;5;241m.\u001b[39mget(typ)\n",
      "File \u001b[0;32m~/envs/dev/lib/python3.10/site-packages/jax/_src/interpreters/xla.py:216\u001b[0m, in \u001b[0;36m_make_shaped_array_for_numpy_array\u001b[0;34m(x)\u001b[0m\n\u001b[1;32m    214\u001b[0m dtype \u001b[38;5;241m=\u001b[39m x\u001b[38;5;241m.\u001b[39mdtype\n\u001b[1;32m    215\u001b[0m dtypes\u001b[38;5;241m.\u001b[39mcheck_valid_dtype(dtype)\n\u001b[0;32m--> 216\u001b[0m \u001b[38;5;28;01mreturn\u001b[39;00m \u001b[43mShapedArray\u001b[49m\u001b[43m(\u001b[49m\u001b[43mx\u001b[49m\u001b[38;5;241;43m.\u001b[39;49m\u001b[43mshape\u001b[49m\u001b[43m,\u001b[49m\u001b[43m \u001b[49m\u001b[43mdtypes\u001b[49m\u001b[38;5;241;43m.\u001b[39;49m\u001b[43mcanonicalize_dtype\u001b[49m\u001b[43m(\u001b[49m\u001b[43mdtype\u001b[49m\u001b[43m)\u001b[49m\u001b[43m)\u001b[49m\n",
      "\u001b[0;31mKeyboardInterrupt\u001b[0m: "
     ]
    }
   ],
   "source": [
    "for i in range(10000):\n",
    "    loss_val, grads = loss_grad_fn(params)\n",
    "    updates, opt_state = tx.update(grads, opt_state)\n",
    "    params = optax.apply_updates(params, updates)\n",
    "    if i % 99 == 0:\n",
    "        print(loss_val)"
   ]
  },
  {
   "cell_type": "code",
   "execution_count": 10,
   "id": "80303e46",
   "metadata": {
    "ExecuteTime": {
     "end_time": "2023-06-30T12:18:23.682332Z",
     "start_time": "2023-06-30T12:18:23.667829Z"
    }
   },
   "outputs": [
    {
     "data": {
      "text/plain": [
       "FrozenDict({\n",
       "    params: {\n",
       "        last: {\n",
       "            bias: Array([0.2339758], dtype=float32),\n",
       "            kernel: Array([[ 0.58265454],\n",
       "                   [ 0.9746547 ],\n",
       "                   [-0.45646206],\n",
       "                   [ 0.17972724],\n",
       "                   [ 0.04261871],\n",
       "                   [-0.43190786]], dtype=float32),\n",
       "        },\n",
       "        layers_0: {\n",
       "            linear_layer: {\n",
       "                bias: Array([-0.04613144,  0.04685027, -0.30019155, -0.1410033 , -0.12093793,\n",
       "                       -0.07968189, -0.38642558, -0.24723455], dtype=float32),\n",
       "                kernel: Array([[ 0.9059607 , -0.829572  , -0.6477162 ,  0.73437506, -0.0984896 ,\n",
       "                         0.33892304, -0.6802242 ,  0.03162879]], dtype=float32),\n",
       "            },\n",
       "        },\n",
       "        layers_1: {\n",
       "            linear_layer: {\n",
       "                bias: Array([-0.05229618, -0.04547407,  0.12206765,  0.20241621,  0.43422917,\n",
       "                       -0.07817697,  0.24973992, -0.021704  ], dtype=float32),\n",
       "                kernel: Array([[ 0.12125461, -0.00247242,  0.14792664,  0.43140858,  0.26724356,\n",
       "                        -0.17395258,  0.3276731 , -0.04740462],\n",
       "                       [ 0.2673463 ,  0.25715184,  1.0564889 , -1.0425167 ,  0.41427302,\n",
       "                        -0.08601396,  0.31100756,  0.11444893],\n",
       "                       [-0.5027193 , -0.25456244, -0.18697333,  0.77925116,  0.37990817,\n",
       "                        -0.4396072 ,  0.43139628,  0.7031496 ],\n",
       "                       [ 0.28066608, -0.28305715,  0.24130447,  0.0418851 , -0.6673062 ,\n",
       "                         0.33370757, -0.55866516,  0.41868103],\n",
       "                       [-0.30016062, -0.1517278 ,  0.77634585, -0.09015562, -0.38374585,\n",
       "                        -1.2631924 , -0.01997233,  0.96067035],\n",
       "                       [-0.72142905,  0.15572803, -0.30637318,  0.14980194, -0.2753317 ,\n",
       "                         0.0679194 ,  0.4695102 ,  0.26771852]], dtype=float32),\n",
       "            },\n",
       "        },\n",
       "    },\n",
       "})"
      ]
     },
     "execution_count": 10,
     "metadata": {},
     "output_type": "execute_result"
    }
   ],
   "source": [
    "params"
   ]
  },
  {
   "cell_type": "code",
   "execution_count": 11,
   "id": "b0675219",
   "metadata": {
    "ExecuteTime": {
     "end_time": "2023-06-30T12:18:26.225133Z",
     "start_time": "2023-06-30T12:18:25.778966Z"
    }
   },
   "outputs": [
    {
     "name": "stdout",
     "output_type": "stream",
     "text": [
      "-0.43190786242485*(-1.26319241523743*(0.0468502715229988 - 0.829572021961212*x0)*(0.90596067905426*x0 - 0.0461314432322979) + 0.0679193958640099*(-0.0984895974397659*x0 - 0.120937928557396)*(0.338923037052155*x0 - 0.0796818882226944) + 0.333707571029663*sin(0.0316287912428379*x0 - 0.247234553098679) - 0.0860139578580856*sin(0.734375059604645*x0 - 0.141003295779228) - 0.173952579498291*cos(0.647716224193573*x0 + 0.300191551446915) - 0.439607203006744*cos(0.680224180221558*x0 + 0.386425584554672) - 0.0781769677996635)*(-0.383745849132538*(0.0468502715229988 - 0.829572021961212*x0)*(0.90596067905426*x0 - 0.0461314432322979) - 0.27533170580864*(-0.0984895974397659*x0 - 0.120937928557396)*(0.338923037052155*x0 - 0.0796818882226944) - 0.667306184768677*sin(0.0316287912428379*x0 - 0.247234553098679) + 0.414273023605347*sin(0.734375059604645*x0 - 0.141003295779228) + 0.267243564128876*cos(0.647716224193573*x0 + 0.300191551446915) + 0.379908174276352*cos(0.680224180221558*x0 + 0.386425584554672) + 0.434229165315628) + 0.0426187068223953*(-0.300160616636276*(0.0468502715229988 - 0.829572021961212*x0)*(0.90596067905426*x0 - 0.0461314432322979) - 0.721429049968719*(-0.0984895974397659*x0 - 0.120937928557396)*(0.338923037052155*x0 - 0.0796818882226944) + 0.280666083097458*sin(0.0316287912428379*x0 - 0.247234553098679) + 0.267346292734146*sin(0.734375059604645*x0 - 0.141003295779228) + 0.121254608035088*cos(0.647716224193573*x0 + 0.300191551446915) - 0.502719283103943*cos(0.680224180221558*x0 + 0.386425584554672) - 0.0522961840033531)*(-0.151727795600891*(0.0468502715229988 - 0.829572021961212*x0)*(0.90596067905426*x0 - 0.0461314432322979) + 0.155728027224541*(-0.0984895974397659*x0 - 0.120937928557396)*(0.338923037052155*x0 - 0.0796818882226944) - 0.283057153224945*sin(0.0316287912428379*x0 - 0.247234553098679) + 0.25715184211731*sin(0.734375059604645*x0 - 0.141003295779228) - 0.00247242278419435*cos(0.647716224193573*x0 + 0.300191551446915) - 0.254562437534332*cos(0.680224180221558*x0 + 0.386425584554672) - 0.0454740673303604) + 0.974654674530029*sin(-0.090155616402626*(0.0468502715229988 - 0.829572021961212*x0)*(0.90596067905426*x0 - 0.0461314432322979) + 0.149801939725876*(-0.0984895974397659*x0 - 0.120937928557396)*(0.338923037052155*x0 - 0.0796818882226944) + 0.0418851003050804*sin(0.0316287912428379*x0 - 0.247234553098679) - 1.04251670837402*sin(0.734375059604645*x0 - 0.141003295779228) + 0.431408584117889*cos(0.647716224193573*x0 + 0.300191551446915) + 0.779251158237457*cos(0.680224180221558*x0 + 0.386425584554672) + 0.202416211366653) + 0.179727241396904*sin(0.960670351982117*(0.0468502715229988 - 0.829572021961212*x0)*(0.90596067905426*x0 - 0.0461314432322979) + 0.267718523740768*(-0.0984895974397659*x0 - 0.120937928557396)*(0.338923037052155*x0 - 0.0796818882226944) + 0.418681025505066*sin(0.0316287912428379*x0 - 0.247234553098679) + 0.114448927342892*sin(0.734375059604645*x0 - 0.141003295779228) - 0.0474046245217323*cos(0.647716224193573*x0 + 0.300191551446915) + 0.703149616718292*cos(0.680224180221558*x0 + 0.386425584554672) - 0.0217039957642555) - 0.456462055444717*cos(-0.0199723336845636*(0.0468502715229988 - 0.829572021961212*x0)*(0.90596067905426*x0 - 0.0461314432322979) + 0.469510197639465*(-0.0984895974397659*x0 - 0.120937928557396)*(0.338923037052155*x0 - 0.0796818882226944) - 0.558665156364441*sin(0.0316287912428379*x0 - 0.247234553098679) + 0.311007559299469*sin(0.734375059604645*x0 - 0.141003295779228) + 0.327673107385635*cos(0.647716224193573*x0 + 0.300191551446915) + 0.431396275758743*cos(0.680224180221558*x0 + 0.386425584554672) + 0.249739915132523) + 0.582654535770416*cos(0.77634584903717*(0.0468502715229988 - 0.829572021961212*x0)*(0.90596067905426*x0 - 0.0461314432322979) - 0.306373178958893*(-0.0984895974397659*x0 - 0.120937928557396)*(0.338923037052155*x0 - 0.0796818882226944) + 0.241304472088814*sin(0.0316287912428379*x0 - 0.247234553098679) + 1.0564888715744*sin(0.734375059604645*x0 - 0.141003295779228) + 0.147926643490791*cos(0.647716224193573*x0 + 0.300191551446915) - 0.186973333358765*cos(0.680224180221558*x0 + 0.386425584554672) + 0.122067645192146) + 0.233975797891617\n"
     ]
    }
   ],
   "source": [
    "symb = get_symbolic_expr(params, funs)[0]\n",
    "print(symb)"
   ]
  },
  {
   "cell_type": "code",
   "execution_count": null,
   "id": "e397cfa1",
   "metadata": {},
   "outputs": [],
   "source": []
  }
 ],
 "metadata": {
  "kernelspec": {
   "display_name": "Python 3 (ipykernel)",
   "language": "python",
   "name": "python3"
  },
  "language_info": {
   "codemirror_mode": {
    "name": "ipython",
    "version": 3
   },
   "file_extension": ".py",
   "mimetype": "text/x-python",
   "name": "python",
   "nbconvert_exporter": "python",
   "pygments_lexer": "ipython3",
   "version": "3.10.6"
  },
  "varInspector": {
   "cols": {
    "lenName": 16,
    "lenType": 16,
    "lenVar": 40
   },
   "kernels_config": {
    "python": {
     "delete_cmd_postfix": "",
     "delete_cmd_prefix": "del ",
     "library": "var_list.py",
     "varRefreshCmd": "print(var_dic_list())"
    },
    "r": {
     "delete_cmd_postfix": ") ",
     "delete_cmd_prefix": "rm(",
     "library": "var_list.r",
     "varRefreshCmd": "cat(var_dic_list()) "
    }
   },
   "types_to_exclude": [
    "module",
    "function",
    "builtin_function_or_method",
    "instance",
    "_Feature"
   ],
   "window_display": false
  }
 },
 "nbformat": 4,
 "nbformat_minor": 5
}
