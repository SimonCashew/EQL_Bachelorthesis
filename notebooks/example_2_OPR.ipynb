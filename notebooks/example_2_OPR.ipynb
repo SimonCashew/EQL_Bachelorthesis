{
 "cells": [
  {
   "cell_type": "code",
   "execution_count": 64,
   "id": "004dede5",
   "metadata": {
    "ExecuteTime": {
     "end_time": "2023-07-05T12:58:33.306015Z",
     "start_time": "2023-07-05T12:58:33.287782Z"
    }
   },
   "outputs": [],
   "source": [
    "import jax\n",
    "from jax import lax, random, numpy as jnp\n",
    "from jax.tree_util import tree_flatten, tree_unflatten\n",
    "import wandb\n",
    "import flax\n",
    "from flax import linen as nn\n",
    "\n",
    "import sympy as sy\n",
    "import numpy as np\n",
    "\n",
    "import sys\n",
    "sys.path.append(\"..\")\n",
    "\n",
    "from eql.eqlearner import EQL\n",
    "from eql.symbolic import get_symbolic_expr, get_symbolic_expr_layer\n",
    "\n",
    "import optax\n",
    "import scipy\n",
    "from functools import partial"
   ]
  },
  {
   "cell_type": "code",
   "execution_count": 65,
   "id": "20d0c746",
   "metadata": {},
   "outputs": [
    {
     "data": {
      "text/html": [
       "Tracking run with wandb version 0.19.4"
      ],
      "text/plain": [
       "<IPython.core.display.HTML object>"
      ]
     },
     "metadata": {},
     "output_type": "display_data"
    },
    {
     "data": {
      "text/html": [
       "Run data is saved locally in <code>c:\\Users\\Simon\\Bachelorarbeit\\EQL\\notebooks\\wandb\\run-20250122_032234-d62zc94y</code>"
      ],
      "text/plain": [
       "<IPython.core.display.HTML object>"
      ]
     },
     "metadata": {},
     "output_type": "display_data"
    },
    {
     "data": {
      "text/html": [
       "Syncing run <strong><a href='https://wandb.ai/simonb03-university-of-t-bingen/Example_2/runs/d62zc94y' target=\"_blank\">spring-surf-6</a></strong> to <a href='https://wandb.ai/simonb03-university-of-t-bingen/Example_2' target=\"_blank\">Weights & Biases</a> (<a href='https://wandb.me/developer-guide' target=\"_blank\">docs</a>)<br>"
      ],
      "text/plain": [
       "<IPython.core.display.HTML object>"
      ]
     },
     "metadata": {},
     "output_type": "display_data"
    },
    {
     "data": {
      "text/html": [
       " View project at <a href='https://wandb.ai/simonb03-university-of-t-bingen/Example_2' target=\"_blank\">https://wandb.ai/simonb03-university-of-t-bingen/Example_2</a>"
      ],
      "text/plain": [
       "<IPython.core.display.HTML object>"
      ]
     },
     "metadata": {},
     "output_type": "display_data"
    },
    {
     "data": {
      "text/html": [
       " View run at <a href='https://wandb.ai/simonb03-university-of-t-bingen/Example_2/runs/d62zc94y' target=\"_blank\">https://wandb.ai/simonb03-university-of-t-bingen/Example_2/runs/d62zc94y</a>"
      ],
      "text/plain": [
       "<IPython.core.display.HTML object>"
      ]
     },
     "metadata": {},
     "output_type": "display_data"
    },
    {
     "data": {
      "text/html": [
       "<button onClick=\"this.nextSibling.style.display='block';this.style.display='none';\">Display W&B run</button><iframe src='https://wandb.ai/simonb03-university-of-t-bingen/Example_2/runs/d62zc94y?jupyter=true' style='border:none;width:100%;height:420px;display:none;'></iframe>"
      ],
      "text/plain": [
       "<wandb.sdk.wandb_run.Run at 0x1bbe56a2b40>"
      ]
     },
     "execution_count": 65,
     "metadata": {},
     "output_type": "execute_result"
    }
   ],
   "source": [
    "wandb.init(\n",
    "    # set the wandb project where this run will be logged\n",
    "    project=\"Example_2\",\n",
    "\n",
    "    # track hyperparameters and run metadata\n",
    "    config={\n",
    "    \"learning_rate\": 0.01,\n",
    "    \"architecture\": \"EQL_2_Layers\",\n",
    "    \"epochs\": 5000,\n",
    "    \"optimizer\": \"Adam\",\n",
    "    \"regularization\": \"No_reg(1000)+OPR(3000)+Pruning(1000)\",\n",
    "    \"Batchsize\": 1000,\n",
    "    \"Reg_Factor\": 0.01,\n",
    "    \"Threshold\": 0.001,\n",
    "    \"input_dim\": 1,\n",
    "    \"output_dim\": 1\n",
    "    }\n",
    ")"
   ]
  },
  {
   "cell_type": "code",
   "execution_count": 66,
   "id": "194c741e",
   "metadata": {
    "ExecuteTime": {
     "end_time": "2023-07-05T12:58:33.594541Z",
     "start_time": "2023-07-05T12:58:33.566239Z"
    }
   },
   "outputs": [],
   "source": [
    "funs = ['mul', 'cos', 'sin']*2\n",
    "e = EQL(n_layers=2, functions=funs, features=1)\n",
    "key = random.PRNGKey(0)"
   ]
  },
  {
   "cell_type": "code",
   "execution_count": 67,
   "id": "b74deec9",
   "metadata": {
    "ExecuteTime": {
     "end_time": "2023-07-05T12:58:34.380893Z",
     "start_time": "2023-07-05T12:58:34.350598Z"
    }
   },
   "outputs": [],
   "source": [
    "N = 1000\n",
    "xdim = 1\n",
    "x = (random.uniform(key, (N, xdim))-.5) * 2\n",
    "#x = np.array([[1., 2.]]).T\n",
    "#x = np.linspace(-1, 1, N)[:,None]\n",
    "#y = x[:,0] + jnp.cos(x[:,1])\n",
    "y = jnp.cos(x) + 1 - x**2 "
   ]
  },
  {
   "cell_type": "code",
   "execution_count": 68,
   "id": "fd3ff5e6",
   "metadata": {
    "ExecuteTime": {
     "end_time": "2023-07-05T12:58:35.991384Z",
     "start_time": "2023-07-05T12:58:35.904647Z"
    }
   },
   "outputs": [],
   "source": [
    "params = e.init({'params':key}, x)"
   ]
  },
  {
   "cell_type": "code",
   "execution_count": 69,
   "id": "2e4182f7",
   "metadata": {
    "ExecuteTime": {
     "end_time": "2023-07-05T12:59:04.482608Z",
     "start_time": "2023-07-05T12:59:04.474073Z"
    }
   },
   "outputs": [],
   "source": [
    "def f(x, p):\n",
    "    return e.apply(params, x)"
   ]
  },
  {
   "cell_type": "code",
   "execution_count": 70,
   "id": "0183a762",
   "metadata": {
    "ExecuteTime": {
     "end_time": "2023-07-05T13:00:04.067142Z",
     "start_time": "2023-07-05T13:00:03.984716Z"
    }
   },
   "outputs": [
    {
     "name": "stdout",
     "output_type": "stream",
     "text": [
      "{ \u001b[34m\u001b[22m\u001b[1mlambda \u001b[39m\u001b[22m\u001b[22ma\u001b[35m:f32[1,8]\u001b[39m b\u001b[35m:f32[8]\u001b[39m c\u001b[35m:f32[6,8]\u001b[39m d\u001b[35m:f32[8]\u001b[39m e\u001b[35m:f32[6,1]\u001b[39m f\u001b[35m:f32[1]\u001b[39m; g\u001b[35m:f32[1000,1]\u001b[39m\n",
      "    h\u001b[35m:f32[1]\u001b[39m i\u001b[35m:f32[6,1]\u001b[39m j\u001b[35m:f32[8]\u001b[39m k\u001b[35m:f32[1,8]\u001b[39m l\u001b[35m:f32[8]\u001b[39m m\u001b[35m:f32[6,8]\u001b[39m. \u001b[34m\u001b[22m\u001b[1mlet\n",
      "    \u001b[39m\u001b[22m\u001b[22mn\u001b[35m:f32[1000,8]\u001b[39m = dot_general[dimension_numbers=(([1], [0]), ([], []))] g a\n",
      "    o\u001b[35m:f32[1,8]\u001b[39m = reshape[dimensions=None new_sizes=(1, 8) sharding=None] b\n",
      "    p\u001b[35m:f32[1000,8]\u001b[39m = add n o\n",
      "    q\u001b[35m:f32[1000,1]\u001b[39m = slice[\n",
      "      limit_indices=(1000, 3)\n",
      "      start_indices=(0, 2)\n",
      "      strides=None\n",
      "    ] p\n",
      "    r\u001b[35m:f32[1000]\u001b[39m = squeeze[dimensions=(1,)] q\n",
      "    s\u001b[35m:f32[1000]\u001b[39m = cos r\n",
      "    t\u001b[35m:f32[1000,1]\u001b[39m = slice[\n",
      "      limit_indices=(1000, 4)\n",
      "      start_indices=(0, 3)\n",
      "      strides=None\n",
      "    ] p\n",
      "    u\u001b[35m:f32[1000]\u001b[39m = squeeze[dimensions=(1,)] t\n",
      "    v\u001b[35m:f32[1000]\u001b[39m = sin u\n",
      "    w\u001b[35m:f32[1000,1]\u001b[39m = slice[\n",
      "      limit_indices=(1000, 7)\n",
      "      start_indices=(0, 6)\n",
      "      strides=None\n",
      "    ] p\n",
      "    x\u001b[35m:f32[1000]\u001b[39m = squeeze[dimensions=(1,)] w\n",
      "    y\u001b[35m:f32[1000]\u001b[39m = cos x\n",
      "    z\u001b[35m:f32[1000,1]\u001b[39m = slice[\n",
      "      limit_indices=(1000, 8)\n",
      "      start_indices=(0, 7)\n",
      "      strides=None\n",
      "    ] p\n",
      "    ba\u001b[35m:f32[1000]\u001b[39m = squeeze[dimensions=(1,)] z\n",
      "    bb\u001b[35m:f32[1000]\u001b[39m = sin ba\n",
      "    bc\u001b[35m:f32[1000,1]\u001b[39m = broadcast_in_dim[\n",
      "      broadcast_dimensions=(0,)\n",
      "      shape=(1000, 1)\n",
      "      sharding=None\n",
      "    ] s\n",
      "    bd\u001b[35m:f32[1000,1]\u001b[39m = broadcast_in_dim[\n",
      "      broadcast_dimensions=(0,)\n",
      "      shape=(1000, 1)\n",
      "      sharding=None\n",
      "    ] v\n",
      "    be\u001b[35m:f32[1000,1]\u001b[39m = broadcast_in_dim[\n",
      "      broadcast_dimensions=(0,)\n",
      "      shape=(1000, 1)\n",
      "      sharding=None\n",
      "    ] y\n",
      "    bf\u001b[35m:f32[1000,1]\u001b[39m = broadcast_in_dim[\n",
      "      broadcast_dimensions=(0,)\n",
      "      shape=(1000, 1)\n",
      "      sharding=None\n",
      "    ] bb\n",
      "    bg\u001b[35m:f32[1000,4]\u001b[39m = concatenate[dimension=1] bc bd be bf\n",
      "    bh\u001b[35m:f32[1000,1]\u001b[39m = slice[\n",
      "      limit_indices=(1000, 1)\n",
      "      start_indices=(0, 0)\n",
      "      strides=None\n",
      "    ] p\n",
      "    bi\u001b[35m:f32[1000]\u001b[39m = squeeze[dimensions=(1,)] bh\n",
      "    bj\u001b[35m:f32[1000,1]\u001b[39m = slice[\n",
      "      limit_indices=(1000, 2)\n",
      "      start_indices=(0, 1)\n",
      "      strides=None\n",
      "    ] p\n",
      "    bk\u001b[35m:f32[1000]\u001b[39m = squeeze[dimensions=(1,)] bj\n",
      "    bl\u001b[35m:f32[1000]\u001b[39m = mul bi bk\n",
      "    bm\u001b[35m:f32[1000,1]\u001b[39m = slice[\n",
      "      limit_indices=(1000, 5)\n",
      "      start_indices=(0, 4)\n",
      "      strides=None\n",
      "    ] p\n",
      "    bn\u001b[35m:f32[1000]\u001b[39m = squeeze[dimensions=(1,)] bm\n",
      "    bo\u001b[35m:f32[1000,1]\u001b[39m = slice[\n",
      "      limit_indices=(1000, 6)\n",
      "      start_indices=(0, 5)\n",
      "      strides=None\n",
      "    ] p\n",
      "    bp\u001b[35m:f32[1000]\u001b[39m = squeeze[dimensions=(1,)] bo\n",
      "    bq\u001b[35m:f32[1000]\u001b[39m = mul bn bp\n",
      "    br\u001b[35m:f32[1000,1]\u001b[39m = broadcast_in_dim[\n",
      "      broadcast_dimensions=(0,)\n",
      "      shape=(1000, 1)\n",
      "      sharding=None\n",
      "    ] bl\n",
      "    bs\u001b[35m:f32[1000,1]\u001b[39m = broadcast_in_dim[\n",
      "      broadcast_dimensions=(0,)\n",
      "      shape=(1000, 1)\n",
      "      sharding=None\n",
      "    ] bq\n",
      "    bt\u001b[35m:f32[1000,2]\u001b[39m = concatenate[dimension=1] br bs\n",
      "    bu\u001b[35m:f32[1000,6]\u001b[39m = concatenate[dimension=1] bg bt\n",
      "    bv\u001b[35m:f32[1000,8]\u001b[39m = dot_general[dimension_numbers=(([1], [0]), ([], []))] bu c\n",
      "    bw\u001b[35m:f32[1,8]\u001b[39m = reshape[dimensions=None new_sizes=(1, 8) sharding=None] d\n",
      "    bx\u001b[35m:f32[1000,8]\u001b[39m = add bv bw\n",
      "    by\u001b[35m:f32[1000,1]\u001b[39m = slice[\n",
      "      limit_indices=(1000, 3)\n",
      "      start_indices=(0, 2)\n",
      "      strides=None\n",
      "    ] bx\n",
      "    bz\u001b[35m:f32[1000]\u001b[39m = squeeze[dimensions=(1,)] by\n",
      "    ca\u001b[35m:f32[1000]\u001b[39m = cos bz\n",
      "    cb\u001b[35m:f32[1000,1]\u001b[39m = slice[\n",
      "      limit_indices=(1000, 4)\n",
      "      start_indices=(0, 3)\n",
      "      strides=None\n",
      "    ] bx\n",
      "    cc\u001b[35m:f32[1000]\u001b[39m = squeeze[dimensions=(1,)] cb\n",
      "    cd\u001b[35m:f32[1000]\u001b[39m = sin cc\n",
      "    ce\u001b[35m:f32[1000,1]\u001b[39m = slice[\n",
      "      limit_indices=(1000, 7)\n",
      "      start_indices=(0, 6)\n",
      "      strides=None\n",
      "    ] bx\n",
      "    cf\u001b[35m:f32[1000]\u001b[39m = squeeze[dimensions=(1,)] ce\n",
      "    cg\u001b[35m:f32[1000]\u001b[39m = cos cf\n",
      "    ch\u001b[35m:f32[1000,1]\u001b[39m = slice[\n",
      "      limit_indices=(1000, 8)\n",
      "      start_indices=(0, 7)\n",
      "      strides=None\n",
      "    ] bx\n",
      "    ci\u001b[35m:f32[1000]\u001b[39m = squeeze[dimensions=(1,)] ch\n",
      "    cj\u001b[35m:f32[1000]\u001b[39m = sin ci\n",
      "    ck\u001b[35m:f32[1000,1]\u001b[39m = broadcast_in_dim[\n",
      "      broadcast_dimensions=(0,)\n",
      "      shape=(1000, 1)\n",
      "      sharding=None\n",
      "    ] ca\n",
      "    cl\u001b[35m:f32[1000,1]\u001b[39m = broadcast_in_dim[\n",
      "      broadcast_dimensions=(0,)\n",
      "      shape=(1000, 1)\n",
      "      sharding=None\n",
      "    ] cd\n",
      "    cm\u001b[35m:f32[1000,1]\u001b[39m = broadcast_in_dim[\n",
      "      broadcast_dimensions=(0,)\n",
      "      shape=(1000, 1)\n",
      "      sharding=None\n",
      "    ] cg\n",
      "    cn\u001b[35m:f32[1000,1]\u001b[39m = broadcast_in_dim[\n",
      "      broadcast_dimensions=(0,)\n",
      "      shape=(1000, 1)\n",
      "      sharding=None\n",
      "    ] cj\n",
      "    co\u001b[35m:f32[1000,4]\u001b[39m = concatenate[dimension=1] ck cl cm cn\n",
      "    cp\u001b[35m:f32[1000,1]\u001b[39m = slice[\n",
      "      limit_indices=(1000, 1)\n",
      "      start_indices=(0, 0)\n",
      "      strides=None\n",
      "    ] bx\n",
      "    cq\u001b[35m:f32[1000]\u001b[39m = squeeze[dimensions=(1,)] cp\n",
      "    cr\u001b[35m:f32[1000,1]\u001b[39m = slice[\n",
      "      limit_indices=(1000, 2)\n",
      "      start_indices=(0, 1)\n",
      "      strides=None\n",
      "    ] bx\n",
      "    cs\u001b[35m:f32[1000]\u001b[39m = squeeze[dimensions=(1,)] cr\n",
      "    ct\u001b[35m:f32[1000]\u001b[39m = mul cq cs\n",
      "    cu\u001b[35m:f32[1000,1]\u001b[39m = slice[\n",
      "      limit_indices=(1000, 5)\n",
      "      start_indices=(0, 4)\n",
      "      strides=None\n",
      "    ] bx\n",
      "    cv\u001b[35m:f32[1000]\u001b[39m = squeeze[dimensions=(1,)] cu\n",
      "    cw\u001b[35m:f32[1000,1]\u001b[39m = slice[\n",
      "      limit_indices=(1000, 6)\n",
      "      start_indices=(0, 5)\n",
      "      strides=None\n",
      "    ] bx\n",
      "    cx\u001b[35m:f32[1000]\u001b[39m = squeeze[dimensions=(1,)] cw\n",
      "    cy\u001b[35m:f32[1000]\u001b[39m = mul cv cx\n",
      "    cz\u001b[35m:f32[1000,1]\u001b[39m = broadcast_in_dim[\n",
      "      broadcast_dimensions=(0,)\n",
      "      shape=(1000, 1)\n",
      "      sharding=None\n",
      "    ] ct\n",
      "    da\u001b[35m:f32[1000,1]\u001b[39m = broadcast_in_dim[\n",
      "      broadcast_dimensions=(0,)\n",
      "      shape=(1000, 1)\n",
      "      sharding=None\n",
      "    ] cy\n",
      "    db\u001b[35m:f32[1000,2]\u001b[39m = concatenate[dimension=1] cz da\n",
      "    dc\u001b[35m:f32[1000,6]\u001b[39m = concatenate[dimension=1] co db\n",
      "    dd\u001b[35m:f32[1000,1]\u001b[39m = dot_general[dimension_numbers=(([1], [0]), ([], []))] dc e\n",
      "    de\u001b[35m:f32[1,1]\u001b[39m = reshape[dimensions=None new_sizes=(1, 1) sharding=None] f\n",
      "    df\u001b[35m:f32[1000,1]\u001b[39m = add dd de\n",
      "  \u001b[34m\u001b[22m\u001b[1min \u001b[39m\u001b[22m\u001b[22m(df,) }\n"
     ]
    }
   ],
   "source": [
    "print(jax.make_jaxpr(f)(x,params))"
   ]
  },
  {
   "cell_type": "code",
   "execution_count": 71,
   "id": "73cc3ecb",
   "metadata": {
    "ExecuteTime": {
     "end_time": "2023-07-05T12:58:37.162706Z",
     "start_time": "2023-07-05T12:58:37.151465Z"
    }
   },
   "outputs": [],
   "source": [
    "def mse_fn(params):\n",
    "    pred = e.apply(params, x)\n",
    "    return jnp.mean((pred-y)**2)\n",
    "\n",
    "\n",
    "def get_mask_spec(thresh, params):\n",
    "    flat, spec = tree_flatten(params)\n",
    "    mask = [jnp.abs(f) > thresh for f in flat]\n",
    "    return mask, spec\n",
    "\n",
    "def apply_mask(mask, spec, params):\n",
    "    flat, _ = tree_flatten(params)\n",
    "    masked_params = tree_unflatten(spec, [f*m for f,m in zip(flat, mask)])\n",
    "    return masked_params\n",
    "\n",
    "\n",
    "def get_masked_mse(thresh, params):\n",
    "    mask, spec = get_mask_spec(thresh, params)\n",
    "    def masked_mse(params):\n",
    "        masked_params = apply_mask(mask, spec, params)\n",
    "        return mse_fn(masked_params)\n",
    "    return jax.jit(masked_mse)\n",
    "    \n",
    "\n",
    "def l1_fn(params):\n",
    "    return sum(\n",
    "        jnp.abs(w).mean() for w in jax.tree.leaves(params[\"params\"])\n",
    "    )"
   ]
  },
  {
   "cell_type": "code",
   "execution_count": 72,
   "id": "abc6f00e",
   "metadata": {
    "ExecuteTime": {
     "end_time": "2023-06-30T12:18:51.631976Z",
     "start_time": "2023-06-30T12:18:51.624018Z"
    }
   },
   "outputs": [],
   "source": [
    "def get_loss_grad(lamba):\n",
    "    \n",
    "    def loss_grad_fn(params):\n",
    "        mse_val, mse_grad = jax.value_and_grad(mse_fn)(params)\n",
    "        \n",
    "        l1_val, l1_grad = jax.value_and_grad(l1_fn)(params)\n",
    "        \n",
    "        mse_flat, spec = tree_flatten(mse_grad)\n",
    "        l1_flat, _ = tree_flatten(l1_grad)\n",
    "        \n",
    "        dot_product = sum(jnp.dot(m1.ravel(), l1.ravel()) for m1, l1 in zip(mse_flat, l1_flat))\n",
    "        norm_squared = sum(jnp.dot(m1.ravel(), m1.ravel()) for m1 in mse_flat)\n",
    "        \n",
    "        proj_scalar = dot_product / (norm_squared + 1e-8)\n",
    "        \n",
    "        proj_l1_flat = [l1 - proj_scalar * m1 for l1, m1 in zip(l1_flat, mse_flat)]\n",
    "        combined_grad_flat = [m1 + lamba * p1 for m1, p1 in zip(mse_flat, proj_l1_flat)]\n",
    "        combined_grad = tree_unflatten(spec, combined_grad_flat)\n",
    "        combined_loss = mse_val + lamba * l1_val\n",
    "        \n",
    "        return combined_loss, combined_grad\n",
    "    \n",
    "    return jax.jit(loss_grad_fn)"
   ]
  },
  {
   "cell_type": "code",
   "execution_count": 73,
   "id": "5c47711b",
   "metadata": {
    "ExecuteTime": {
     "end_time": "2023-06-30T12:18:52.427844Z",
     "start_time": "2023-06-30T12:18:52.363551Z"
    }
   },
   "outputs": [],
   "source": [
    "tx = optax.adam(learning_rate=1e-2)\n",
    "opt_state = tx.init(params)"
   ]
  },
  {
   "cell_type": "code",
   "execution_count": 74,
   "id": "097ca4d8",
   "metadata": {
    "ExecuteTime": {
     "end_time": "2023-06-30T12:19:10.286145Z",
     "start_time": "2023-06-30T12:18:53.239781Z"
    }
   },
   "outputs": [
    {
     "name": "stdout",
     "output_type": "stream",
     "text": [
      "0.0027960988\n",
      "0.00041793875\n",
      "0.00026049122\n",
      "0.00010524316\n",
      "1.8509174e-05\n",
      "4.316204e-06\n",
      "3.6661515e-06\n",
      "3.5083053e-06\n",
      "3.3494446e-06\n",
      "0.015175413\n",
      "1.5149567\n",
      "0.013005482\n",
      "1.2970622\n",
      "0.01128583\n",
      "1.1256647\n",
      "0.010028285\n",
      "1.0015178\n",
      "0.009288606\n",
      "0.9259709\n",
      "0.0088067455\n",
      "0.87797856\n",
      "0.008343381\n",
      "0.83063567\n",
      "0.007914561\n",
      "0.7898774\n",
      "0.0074660387\n",
      "0.74392545\n",
      "0.0072041308\n",
      "0.7188498\n",
      "0.0070492313\n",
      "0.70199364\n",
      "0.0068699853\n",
      "0.68555295\n",
      "0.006716198\n",
      "0.6679546\n",
      "0.00654328\n",
      "0.65061593\n",
      "0.0063721742\n",
      "0.6338\n",
      "0.006221539\n",
      "0.61881304\n",
      "0.0060529835\n",
      "0.6034317\n",
      "0.0059031663\n",
      "0.58733714\n",
      "0.005744346\n",
      "0.5704863\n",
      "0.0055367034\n",
      "0.5521358\n",
      "0.005349946\n",
      "0.5338613\n",
      "0.005235622\n",
      "0.51891446\n",
      "0.005066209\n",
      "0.5051458\n",
      "0.0049210005\n",
      "0.4911219\n",
      "0.0047788573\n",
      "0.47679925\n",
      "0.004684058\n",
      "0.46320108\n",
      "0.0045221522\n",
      "0.44916743\n",
      "0.004381592\n",
      "0.43605798\n",
      "0.004286056\n",
      "0.42724532\n",
      "4.445052e-06\n",
      "1.9368488e-06\n",
      "8.1848566e-07\n",
      "3.333035e-07\n",
      "1.3026813e-07\n",
      "4.934162e-05\n",
      "1.7054077e-08\n",
      "5.9102594e-09\n",
      "8.545005e-07\n"
     ]
    }
   ],
   "source": [
    "loss_grad_1 = get_loss_grad(0)\n",
    "loss_grad_2 = get_loss_grad(1e-2)\n",
    "\n",
    "for i in range(1000):\n",
    "    loss_val, grads = loss_grad_1(params)\n",
    "    updates, opt_state = tx.update(grads, opt_state)\n",
    "    params = optax.apply_updates(params, updates)\n",
    "    if i % 100 == 0 and i > 0:\n",
    "        print(loss_val)\n",
    "        wandb.log({\"loss\": loss_val})\n",
    "\n",
    "for i in range(3000):\n",
    "    loss_val, grads = loss_grad_2(params)\n",
    "    updates, opt_state = tx.update(grads, opt_state)\n",
    "    params = optax.apply_updates(params, updates)\n",
    "    if i % 100 == 0 and i > 0:\n",
    "        print(loss_val)\n",
    "        print(l1_fn(params))\n",
    "        wandb.log({\"loss\": loss_val})\n",
    "        \n",
    "thr = 1e-3\n",
    "loss_grad_masked = jax.jit(jax.value_and_grad(get_masked_mse(thr, params)))\n",
    "\n",
    "for i in range(1000):\n",
    "    loss_val, grads = loss_grad_masked(params)\n",
    "    updates, opt_state = tx.update(grads, opt_state)\n",
    "    params = optax.apply_updates(params, updates)\n",
    "    mask, spec = get_mask_spec(thr, params)\n",
    "    params = apply_mask(mask, spec, params)\n",
    "    if i % 100 == 0 and i > 0:\n",
    "        print(loss_val)\n",
    "        wandb.log({\"loss\": loss_val})"
   ]
  },
  {
   "cell_type": "code",
   "execution_count": 75,
   "id": "29296c2d",
   "metadata": {},
   "outputs": [
    {
     "data": {
      "text/plain": [
       "{'params': {'last': {'bias': Array([0.], dtype=float32),\n",
       "   'kernel': Array([[ 0.        ],\n",
       "          [ 0.12263211],\n",
       "          [ 0.        ],\n",
       "          [ 0.        ],\n",
       "          [ 0.        ],\n",
       "          [-0.53281856]], dtype=float32)},\n",
       "  'layers_0': {'linear_layer': {'bias': Array([ 0.0109022 , -0.01115601,  0.00468342,  0.        ,  0.        ,\n",
       "            0.        , -0.01791567,  0.00413576], dtype=float32),\n",
       "    'kernel': Array([[ 0.49267825, -0.4926865 ,  0.        ,  0.        ,  0.00355938,\n",
       "            -0.01648284,  0.01258602,  0.        ]], dtype=float32)}},\n",
       "  'layers_1': {'linear_layer': {'bias': Array([ 0.        ,  0.        ,  0.        ,  0.        ,  0.        ,\n",
       "            0.        ,  0.        , -0.01516098], dtype=float32),\n",
       "    'kernel': Array([[-4.0627629e-03,  0.0000000e+00,  0.0000000e+00,  2.7152407e-01,\n",
       "             1.8476720e+00, -3.0167583e-01,  0.0000000e+00,  0.0000000e+00],\n",
       "           [ 0.0000000e+00, -8.1290407e-03,  0.0000000e+00,  0.0000000e+00,\n",
       "             7.8327945e-03,  0.0000000e+00,  0.0000000e+00,  1.4362489e-02],\n",
       "           [ 0.0000000e+00,  0.0000000e+00,  0.0000000e+00,  6.2813175e-01,\n",
       "             1.9093192e+00, -6.4962697e-01,  9.0626538e-02,  0.0000000e+00],\n",
       "           [ 0.0000000e+00,  0.0000000e+00,  0.0000000e+00,  0.0000000e+00,\n",
       "             0.0000000e+00,  0.0000000e+00,  0.0000000e+00, -1.0158895e-02],\n",
       "           [-9.6900929e-03,  8.4969467e-03, -2.8165218e-03,  0.0000000e+00,\n",
       "             4.2361793e-01, -2.9784038e+00,  0.0000000e+00,  7.7917827e-03],\n",
       "           [ 0.0000000e+00,  0.0000000e+00,  4.6970611e-03, -8.8448590e-03,\n",
       "            -1.1844983e-02, -1.3252844e-02,  0.0000000e+00,  4.6074362e-03]],      dtype=float32)}}}}"
      ]
     },
     "execution_count": 75,
     "metadata": {},
     "output_type": "execute_result"
    }
   ],
   "source": [
    "params"
   ]
  },
  {
   "cell_type": "code",
   "execution_count": 76,
   "id": "41b51cf3",
   "metadata": {
    "ExecuteTime": {
     "end_time": "2023-06-30T12:19:13.753643Z",
     "start_time": "2023-06-30T12:19:13.419486Z"
    }
   },
   "outputs": [
    {
     "data": {
      "text/latex": [
       "$\\displaystyle - 0.532818555831909 \\left(6.94929926730461 \\cdot 10^{-7} x_{0}^{2} + 0.4236179292202 \\left(- 0.49268651008606 x_{0} - 0.0111560123041272\\right) \\left(0.492678254842758 x_{0} + 0.0109022026881576\\right) + 1.90931916236877 \\cos{\\left(0.0125860152766109 x_{0} - 0.0179156735539436 \\right)} + 1.84765172184128\\right) \\left(7.7752730662506 \\cdot 10^{-7} x_{0}^{2} - 2.9784038066864 \\left(- 0.49268651008606 x_{0} - 0.0111560123041272\\right) \\left(0.492678254842758 x_{0} + 0.0109022026881576\\right) - 0.649626970291138 \\cos{\\left(0.0125860152766109 x_{0} - 0.0179156735539436 \\right)} - 0.301672517772522\\right) + 0.12263210862875 \\sin{\\left(5.18916491933865 \\cdot 10^{-7} x_{0}^{2} + 0.628131747245789 \\cos{\\left(0.0125860152766109 x_{0} - 0.0179156735539436 \\right)} + 0.271521093835101 \\right)}$"
      ],
      "text/plain": [
       "-0.532818555831909*(6.94929926730461e-7*x0**2 + 0.4236179292202*(-0.49268651008606*x0 - 0.0111560123041272)*(0.492678254842758*x0 + 0.0109022026881576) + 1.90931916236877*cos(0.0125860152766109*x0 - 0.0179156735539436) + 1.84765172184128)*(7.7752730662506e-7*x0**2 - 2.9784038066864*(-0.49268651008606*x0 - 0.0111560123041272)*(0.492678254842758*x0 + 0.0109022026881576) - 0.649626970291138*cos(0.0125860152766109*x0 - 0.0179156735539436) - 0.301672517772522) + 0.12263210862875*sin(5.18916491933865e-7*x0**2 + 0.628131747245789*cos(0.0125860152766109*x0 - 0.0179156735539436) + 0.271521093835101)"
      ]
     },
     "execution_count": 76,
     "metadata": {},
     "output_type": "execute_result"
    }
   ],
   "source": [
    "symb = get_symbolic_expr(apply_mask(mask, spec, params), funs)[0]\n",
    "symb"
   ]
  },
  {
   "cell_type": "code",
   "execution_count": 77,
   "id": "97988c92",
   "metadata": {
    "ExecuteTime": {
     "end_time": "2023-06-30T12:19:15.341528Z",
     "start_time": "2023-06-30T12:19:15.316693Z"
    }
   },
   "outputs": [
    {
     "data": {
      "text/latex": [
       "$\\displaystyle 0.0396098242762188 x_{0}^{4} + 0.00354680601222744 x_{0}^{3} - 0.771080373835565 x_{0}^{2} \\cos{\\left(0.0125860152766109 x_{0} - 0.0179156735539436 \\right)} - 0.72814267193512 x_{0}^{2} - 0.0345225311220222 x_{0} \\cos{\\left(0.0125860152766109 x_{0} - 0.0179156735539436 \\right)} - 0.0326036886884059 x_{0} + 0.12263210862875 \\sin{\\left(5.18916491933865 \\cdot 10^{-7} x_{0}^{2} + 0.628131747245789 \\cos{\\left(0.0125860152766109 x_{0} - 0.0179156735539436 \\right)} + 0.271521093835101 \\right)} + 0.660878950328488 \\cos^{2}{\\left(0.0125860152766109 x_{0} - 0.0179156735539436 \\right)} + 0.946045129155795 \\cos{\\left(0.0125860152766109 x_{0} - 0.0179156735539436 \\right)} + 0.296620576607424$"
      ],
      "text/plain": [
       "0.0396098242762188*x0**4 + 0.00354680601222744*x0**3 - 0.771080373835565*x0**2*cos(0.0125860152766109*x0 - 0.0179156735539436) - 0.72814267193512*x0**2 - 0.0345225311220222*x0*cos(0.0125860152766109*x0 - 0.0179156735539436) - 0.0326036886884059*x0 + 0.12263210862875*sin(5.18916491933865e-7*x0**2 + 0.628131747245789*cos(0.0125860152766109*x0 - 0.0179156735539436) + 0.271521093835101) + 0.660878950328488*cos(0.0125860152766109*x0 - 0.0179156735539436)**2 + 0.946045129155795*cos(0.0125860152766109*x0 - 0.0179156735539436) + 0.296620576607424"
      ]
     },
     "execution_count": 77,
     "metadata": {},
     "output_type": "execute_result"
    }
   ],
   "source": [
    "sy.expand(symb)"
   ]
  },
  {
   "cell_type": "code",
   "execution_count": 78,
   "id": "af448f92",
   "metadata": {},
   "outputs": [
    {
     "data": {
      "text/html": [],
      "text/plain": [
       "<IPython.core.display.HTML object>"
      ]
     },
     "metadata": {},
     "output_type": "display_data"
    },
    {
     "data": {
      "text/html": [
       "<br>    <style><br>        .wandb-row {<br>            display: flex;<br>            flex-direction: row;<br>            flex-wrap: wrap;<br>            justify-content: flex-start;<br>            width: 100%;<br>        }<br>        .wandb-col {<br>            display: flex;<br>            flex-direction: column;<br>            flex-basis: 100%;<br>            flex: 1;<br>            padding: 10px;<br>        }<br>    </style><br><div class=\"wandb-row\"><div class=\"wandb-col\"><h3>Run history:</h3><br/><table class=\"wandb\"><tr><td>loss</td><td>▂▁▁▁▁▁▁▁█▇▆▆▅▅▅▄▄▄▄▄▄▄▄▄▄▃▃▃▃▃▃▃▃▁▁▁▁▁▁▁</td></tr></table><br/></div><div class=\"wandb-col\"><h3>Run summary:</h3><br/><table class=\"wandb\"><tr><td>loss</td><td>0.0</td></tr></table><br/></div></div>"
      ],
      "text/plain": [
       "<IPython.core.display.HTML object>"
      ]
     },
     "metadata": {},
     "output_type": "display_data"
    },
    {
     "data": {
      "text/html": [
       " View run <strong style=\"color:#cdcd00\">spring-surf-6</strong> at: <a href='https://wandb.ai/simonb03-university-of-t-bingen/Example_2/runs/d62zc94y' target=\"_blank\">https://wandb.ai/simonb03-university-of-t-bingen/Example_2/runs/d62zc94y</a><br> View project at: <a href='https://wandb.ai/simonb03-university-of-t-bingen/Example_2' target=\"_blank\">https://wandb.ai/simonb03-university-of-t-bingen/Example_2</a><br>Synced 5 W&B file(s), 0 media file(s), 0 artifact file(s) and 0 other file(s)"
      ],
      "text/plain": [
       "<IPython.core.display.HTML object>"
      ]
     },
     "metadata": {},
     "output_type": "display_data"
    },
    {
     "data": {
      "text/html": [
       "Find logs at: <code>.\\wandb\\run-20250122_032234-d62zc94y\\logs</code>"
      ],
      "text/plain": [
       "<IPython.core.display.HTML object>"
      ]
     },
     "metadata": {},
     "output_type": "display_data"
    }
   ],
   "source": [
    "wandb.finish()"
   ]
  }
 ],
 "metadata": {
  "kernelspec": {
   "display_name": "EQL",
   "language": "python",
   "name": "python3"
  },
  "language_info": {
   "codemirror_mode": {
    "name": "ipython",
    "version": 3
   },
   "file_extension": ".py",
   "mimetype": "text/x-python",
   "name": "python",
   "nbconvert_exporter": "python",
   "pygments_lexer": "ipython3",
   "version": "3.11.11"
  },
  "varInspector": {
   "cols": {
    "lenName": 16,
    "lenType": 16,
    "lenVar": 40
   },
   "kernels_config": {
    "python": {
     "delete_cmd_postfix": "",
     "delete_cmd_prefix": "del ",
     "library": "var_list.py",
     "varRefreshCmd": "print(var_dic_list())"
    },
    "r": {
     "delete_cmd_postfix": ") ",
     "delete_cmd_prefix": "rm(",
     "library": "var_list.r",
     "varRefreshCmd": "cat(var_dic_list()) "
    }
   },
   "types_to_exclude": [
    "module",
    "function",
    "builtin_function_or_method",
    "instance",
    "_Feature"
   ],
   "window_display": false
  }
 },
 "nbformat": 4,
 "nbformat_minor": 5
}
