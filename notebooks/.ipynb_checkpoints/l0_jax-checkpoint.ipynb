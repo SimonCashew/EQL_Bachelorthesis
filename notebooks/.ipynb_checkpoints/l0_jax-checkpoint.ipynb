{
 "cells": [
  {
   "cell_type": "code",
   "execution_count": 1,
   "id": "6c0af6d6",
   "metadata": {
    "ExecuteTime": {
     "end_time": "2022-03-08T12:46:10.856447Z",
     "start_time": "2022-03-08T12:46:10.673489Z"
    }
   },
   "outputs": [],
   "source": [
    "import jax\n",
    "from typing import Any, Callable, Sequence, Optional\n",
    "from jax import lax, random, numpy as jnp\n",
    "import flax\n",
    "from flax import linen as nn\n",
    "import sympy as sy\n",
    "import matplotlib.pyplot as plt"
   ]
  },
  {
   "cell_type": "code",
   "execution_count": 2,
   "id": "96f06e95",
   "metadata": {
    "ExecuteTime": {
     "end_time": "2022-03-08T12:36:29.718013Z",
     "start_time": "2022-03-08T12:36:29.656103Z"
    }
   },
   "outputs": [],
   "source": [
    "key = random.PRNGKey(32)"
   ]
  },
  {
   "cell_type": "code",
   "execution_count": 3,
   "id": "39cf4152",
   "metadata": {
    "ExecuteTime": {
     "end_time": "2022-03-08T12:37:17.633263Z",
     "start_time": "2022-03-08T12:37:17.422348Z"
    }
   },
   "outputs": [
    {
     "data": {
      "text/plain": [
       "Array([[0.57366943],\n",
       "       [0.3568976 ],\n",
       "       [0.6369716 ],\n",
       "       ...,\n",
       "       [0.7642505 ],\n",
       "       [0.10045469],\n",
       "       [0.311921  ]], dtype=float32)"
      ]
     },
     "execution_count": 3,
     "metadata": {},
     "output_type": "execute_result"
    }
   ],
   "source": [
    "random.uniform(key, (1024, 1))"
   ]
  },
  {
   "cell_type": "code",
   "execution_count": 4,
   "id": "5625abb0",
   "metadata": {
    "ExecuteTime": {
     "end_time": "2022-03-08T13:11:37.995188Z",
     "start_time": "2022-03-08T13:11:37.987949Z"
    }
   },
   "outputs": [],
   "source": [
    "limit_a, limit_b, epsilon = -.1, 1.1, 1e-6\n",
    "temperature = 2./3.\n",
    "qz_loga = random.normal(key, (5,))\n",
    "\n",
    "def cdf_qz(x):\n",
    "    \"\"\"Implements the CDF of the 'stretched' concrete distribution\"\"\"\n",
    "    xn = (x - limit_a) / (limit_b - limit_a)\n",
    "    logits = jnp.log(xn) - jnp.log(1 - xn)\n",
    "    return lax.clamp(epsilon,\n",
    "                     nn.sigmoid(logits * temperature - qz_loga),\n",
    "                     1.-epsilon)\n",
    "\n",
    "def quantile_concrete(x):\n",
    "    \"\"\"Implements the quantile, aka inverse CDF, of the 'stretched' concrete distribution\"\"\"\n",
    "    y = nn.sigmoid((jnp.log(x) - jnp.log(1 - x) + qz_loga) / temperature)\n",
    "    return y * (limit_b - limit_a) + limit_a\n",
    "\n",
    "def hard_tanh(x):\n",
    "    return jnp.where(x > 1, 1, jnp.where(x < 0, 0, x))\n",
    "\n",
    "def get_eps(key, shape):\n",
    "    return random.uniform(key, shape, minval=epsilon, maxval=1.-epsilon)"
   ]
  },
  {
   "cell_type": "code",
   "execution_count": 5,
   "id": "9004c387",
   "metadata": {
    "ExecuteTime": {
     "end_time": "2022-03-08T13:11:38.168655Z",
     "start_time": "2022-03-08T13:11:38.158577Z"
    }
   },
   "outputs": [],
   "source": [
    "def sample_z(key, shape, sample=True):\n",
    "    if sample:\n",
    "        eps = get_eps(key, shape)\n",
    "        z = quantile_concrete(eps)\n",
    "        return hard_tanh(z)\n",
    "    else:\n",
    "        pi = nn.sigmoid(qz_loga)\n",
    "        return hard_tanh(pi * (limit_b - limit_a) + limit_a)"
   ]
  },
  {
   "cell_type": "code",
   "execution_count": 6,
   "id": "fe1af88c",
   "metadata": {
    "ExecuteTime": {
     "end_time": "2022-03-08T13:11:38.638128Z",
     "start_time": "2022-03-08T13:11:38.592962Z"
    }
   },
   "outputs": [
    {
     "ename": "TypeError",
     "evalue": "add got incompatible shapes for broadcasting: (4,), (5,).",
     "output_type": "error",
     "traceback": [
      "\u001b[1;31m---------------------------------------------------------------------------\u001b[0m",
      "\u001b[1;31mTypeError\u001b[0m                                 Traceback (most recent call last)",
      "Cell \u001b[1;32mIn[6], line 1\u001b[0m\n\u001b[1;32m----> 1\u001b[0m \u001b[43msample_z\u001b[49m\u001b[43m(\u001b[49m\u001b[43mkey\u001b[49m\u001b[43m,\u001b[49m\u001b[43m \u001b[49m\u001b[43m(\u001b[49m\u001b[38;5;241;43m4\u001b[39;49m\u001b[43m,\u001b[49m\u001b[43m)\u001b[49m\u001b[43m)\u001b[49m\n",
      "Cell \u001b[1;32mIn[5], line 4\u001b[0m, in \u001b[0;36msample_z\u001b[1;34m(key, shape, sample)\u001b[0m\n\u001b[0;32m      2\u001b[0m \u001b[38;5;28;01mif\u001b[39;00m sample:\n\u001b[0;32m      3\u001b[0m     eps \u001b[38;5;241m=\u001b[39m get_eps(key, shape)\n\u001b[1;32m----> 4\u001b[0m     z \u001b[38;5;241m=\u001b[39m \u001b[43mquantile_concrete\u001b[49m\u001b[43m(\u001b[49m\u001b[43meps\u001b[49m\u001b[43m)\u001b[49m\n\u001b[0;32m      5\u001b[0m     \u001b[38;5;28;01mreturn\u001b[39;00m hard_tanh(z)\n\u001b[0;32m      6\u001b[0m \u001b[38;5;28;01melse\u001b[39;00m:\n",
      "Cell \u001b[1;32mIn[4], line 15\u001b[0m, in \u001b[0;36mquantile_concrete\u001b[1;34m(x)\u001b[0m\n\u001b[0;32m     13\u001b[0m \u001b[38;5;28;01mdef\u001b[39;00m \u001b[38;5;21mquantile_concrete\u001b[39m(x):\n\u001b[0;32m     14\u001b[0m \u001b[38;5;250m    \u001b[39m\u001b[38;5;124;03m\"\"\"Implements the quantile, aka inverse CDF, of the 'stretched' concrete distribution\"\"\"\u001b[39;00m\n\u001b[1;32m---> 15\u001b[0m     y \u001b[38;5;241m=\u001b[39m nn\u001b[38;5;241m.\u001b[39msigmoid((\u001b[43mjnp\u001b[49m\u001b[38;5;241;43m.\u001b[39;49m\u001b[43mlog\u001b[49m\u001b[43m(\u001b[49m\u001b[43mx\u001b[49m\u001b[43m)\u001b[49m\u001b[43m \u001b[49m\u001b[38;5;241;43m-\u001b[39;49m\u001b[43m \u001b[49m\u001b[43mjnp\u001b[49m\u001b[38;5;241;43m.\u001b[39;49m\u001b[43mlog\u001b[49m\u001b[43m(\u001b[49m\u001b[38;5;241;43m1\u001b[39;49m\u001b[43m \u001b[49m\u001b[38;5;241;43m-\u001b[39;49m\u001b[43m \u001b[49m\u001b[43mx\u001b[49m\u001b[43m)\u001b[49m\u001b[43m \u001b[49m\u001b[38;5;241;43m+\u001b[39;49m\u001b[43m \u001b[49m\u001b[43mqz_loga\u001b[49m) \u001b[38;5;241m/\u001b[39m temperature)\n\u001b[0;32m     16\u001b[0m     \u001b[38;5;28;01mreturn\u001b[39;00m y \u001b[38;5;241m*\u001b[39m (limit_b \u001b[38;5;241m-\u001b[39m limit_a) \u001b[38;5;241m+\u001b[39m limit_a\n",
      "File \u001b[1;32mc:\\Users\\Simon\\.conda\\envs\\EQL\\Lib\\site-packages\\jax\\_src\\numpy\\array_methods.py:573\u001b[0m, in \u001b[0;36m_defer_to_unrecognized_arg.<locals>.deferring_binary_op\u001b[1;34m(self, other)\u001b[0m\n\u001b[0;32m    571\u001b[0m args \u001b[38;5;241m=\u001b[39m (other, \u001b[38;5;28mself\u001b[39m) \u001b[38;5;28;01mif\u001b[39;00m swap \u001b[38;5;28;01melse\u001b[39;00m (\u001b[38;5;28mself\u001b[39m, other)\n\u001b[0;32m    572\u001b[0m \u001b[38;5;28;01mif\u001b[39;00m \u001b[38;5;28misinstance\u001b[39m(other, _accepted_binop_types):\n\u001b[1;32m--> 573\u001b[0m   \u001b[38;5;28;01mreturn\u001b[39;00m \u001b[43mbinary_op\u001b[49m\u001b[43m(\u001b[49m\u001b[38;5;241;43m*\u001b[39;49m\u001b[43margs\u001b[49m\u001b[43m)\u001b[49m\n\u001b[0;32m    574\u001b[0m \u001b[38;5;66;03m# Note: don't use isinstance here, because we don't want to raise for\u001b[39;00m\n\u001b[0;32m    575\u001b[0m \u001b[38;5;66;03m# subclasses, e.g. NamedTuple objects that may override operators.\u001b[39;00m\n\u001b[0;32m    576\u001b[0m \u001b[38;5;28;01mif\u001b[39;00m \u001b[38;5;28mtype\u001b[39m(other) \u001b[38;5;129;01min\u001b[39;00m _rejected_binop_types:\n",
      "File \u001b[1;32mc:\\Users\\Simon\\.conda\\envs\\EQL\\Lib\\site-packages\\jax\\_src\\numpy\\ufunc_api.py:179\u001b[0m, in \u001b[0;36mufunc.__call__\u001b[1;34m(self, out, where, *args)\u001b[0m\n\u001b[0;32m    177\u001b[0m   \u001b[38;5;28;01mraise\u001b[39;00m \u001b[38;5;167;01mNotImplementedError\u001b[39;00m(\u001b[38;5;124mf\u001b[39m\u001b[38;5;124m\"\u001b[39m\u001b[38;5;124mwhere argument of \u001b[39m\u001b[38;5;132;01m{\u001b[39;00m\u001b[38;5;28mself\u001b[39m\u001b[38;5;132;01m}\u001b[39;00m\u001b[38;5;124m\"\u001b[39m)\n\u001b[0;32m    178\u001b[0m call \u001b[38;5;241m=\u001b[39m \u001b[38;5;28mself\u001b[39m\u001b[38;5;241m.\u001b[39m__static_props[\u001b[38;5;124m'\u001b[39m\u001b[38;5;124mcall\u001b[39m\u001b[38;5;124m'\u001b[39m] \u001b[38;5;129;01mor\u001b[39;00m \u001b[38;5;28mself\u001b[39m\u001b[38;5;241m.\u001b[39m_call_vectorized\n\u001b[1;32m--> 179\u001b[0m \u001b[38;5;28;01mreturn\u001b[39;00m \u001b[43mcall\u001b[49m\u001b[43m(\u001b[49m\u001b[38;5;241;43m*\u001b[39;49m\u001b[43margs\u001b[49m\u001b[43m)\u001b[49m\n",
      "    \u001b[1;31m[... skipping hidden 13 frame]\u001b[0m\n",
      "File \u001b[1;32mc:\\Users\\Simon\\.conda\\envs\\EQL\\Lib\\site-packages\\jax\\_src\\numpy\\ufuncs.py:1215\u001b[0m, in \u001b[0;36madd\u001b[1;34m(x, y)\u001b[0m\n\u001b[0;32m   1189\u001b[0m \u001b[38;5;250m\u001b[39m\u001b[38;5;124;03m\"\"\"Add two arrays element-wise.\u001b[39;00m\n\u001b[0;32m   1190\u001b[0m \n\u001b[0;32m   1191\u001b[0m \u001b[38;5;124;03mJAX implementation of :obj:`numpy.add`. This is a universal function,\u001b[39;00m\n\u001b[1;32m   (...)\u001b[0m\n\u001b[0;32m   1212\u001b[0m \u001b[38;5;124;03m  Array([10, 11, 12, 13], dtype=int32)\u001b[39;00m\n\u001b[0;32m   1213\u001b[0m \u001b[38;5;124;03m\"\"\"\u001b[39;00m\n\u001b[0;32m   1214\u001b[0m x, y \u001b[38;5;241m=\u001b[39m promote_args(\u001b[38;5;124m\"\u001b[39m\u001b[38;5;124madd\u001b[39m\u001b[38;5;124m\"\u001b[39m, x, y)\n\u001b[1;32m-> 1215\u001b[0m \u001b[38;5;28;01mreturn\u001b[39;00m \u001b[43mlax\u001b[49m\u001b[38;5;241;43m.\u001b[39;49m\u001b[43madd\u001b[49m\u001b[43m(\u001b[49m\u001b[43mx\u001b[49m\u001b[43m,\u001b[49m\u001b[43m \u001b[49m\u001b[43my\u001b[49m\u001b[43m)\u001b[49m \u001b[38;5;28;01mif\u001b[39;00m x\u001b[38;5;241m.\u001b[39mdtype \u001b[38;5;241m!=\u001b[39m \u001b[38;5;28mbool\u001b[39m \u001b[38;5;28;01melse\u001b[39;00m lax\u001b[38;5;241m.\u001b[39mbitwise_or(x, y)\n",
      "    \u001b[1;31m[... skipping hidden 7 frame]\u001b[0m\n",
      "File \u001b[1;32mc:\\Users\\Simon\\.conda\\envs\\EQL\\Lib\\site-packages\\jax\\_src\\lax\\lax.py:2157\u001b[0m, in \u001b[0;36mbroadcasting_shape_rule\u001b[1;34m(name, *avals)\u001b[0m\n\u001b[0;32m   2155\u001b[0m       result_shape\u001b[38;5;241m.\u001b[39mappend(non_1s[\u001b[38;5;241m0\u001b[39m])\n\u001b[0;32m   2156\u001b[0m     \u001b[38;5;28;01melse\u001b[39;00m:\n\u001b[1;32m-> 2157\u001b[0m       \u001b[38;5;28;01mraise\u001b[39;00m \u001b[38;5;167;01mTypeError\u001b[39;00m(\u001b[38;5;124mf\u001b[39m\u001b[38;5;124m'\u001b[39m\u001b[38;5;132;01m{\u001b[39;00mname\u001b[38;5;132;01m}\u001b[39;00m\u001b[38;5;124m got incompatible shapes for broadcasting: \u001b[39m\u001b[38;5;124m'\u001b[39m\n\u001b[0;32m   2158\u001b[0m                       \u001b[38;5;124mf\u001b[39m\u001b[38;5;124m'\u001b[39m\u001b[38;5;132;01m{\u001b[39;00m\u001b[38;5;124m\"\u001b[39m\u001b[38;5;124m, \u001b[39m\u001b[38;5;124m\"\u001b[39m\u001b[38;5;241m.\u001b[39mjoin(\u001b[38;5;28mmap\u001b[39m(\u001b[38;5;28mstr\u001b[39m,\u001b[38;5;250m \u001b[39m\u001b[38;5;28mmap\u001b[39m(\u001b[38;5;28mtuple\u001b[39m,\u001b[38;5;250m \u001b[39mshapes)))\u001b[38;5;132;01m}\u001b[39;00m\u001b[38;5;124m.\u001b[39m\u001b[38;5;124m'\u001b[39m)\n\u001b[0;32m   2160\u001b[0m \u001b[38;5;28;01mreturn\u001b[39;00m \u001b[38;5;28mtuple\u001b[39m(result_shape)\n",
      "\u001b[1;31mTypeError\u001b[0m: add got incompatible shapes for broadcasting: (4,), (5,)."
     ]
    }
   ],
   "source": [
    "sample_z(key, (4,))"
   ]
  },
  {
   "cell_type": "code",
   "execution_count": 58,
   "id": "18e45f96",
   "metadata": {
    "ExecuteTime": {
     "end_time": "2022-03-08T13:08:45.696382Z",
     "start_time": "2022-03-08T13:08:45.674908Z"
    }
   },
   "outputs": [],
   "source": [
    "def sample_z(self, batch_size, sample=True):\n",
    "    \"\"\"Sample the hard-concrete gates for training and use a deterministic value for testing\"\"\"\n",
    "    if sample:\n",
    "        eps = self.get_eps(self.floatTensor(batch_size, self.dim_z))\n",
    "        z = self.quantile_concrete(eps).view(batch_size, self.dim_z, 1, 1)\n",
    "        return F.hardtanh(z, min_val=0, max_val=1)\n",
    "    else:  # mode\n",
    "        pi = F.sigmoid(self.qz_loga).view(1, self.dim_z, 1, 1)\n",
    "        return F.hardtanh(pi * (limit_b - limit_a) + limit_a, min_val=0, max_val=1)\n",
    "\n",
    "def sample_weights(self):\n",
    "    z = self.quantile_concrete(self.get_eps(self.floatTensor(self.dim_z))).view(self.dim_z, 1, 1, 1)\n",
    "    return F.hardtanh(z, min_val=0, max_val=1) * self.weights\n",
    "\n",
    "def forward(self, input_):\n",
    "    if self.input_shape is None:\n",
    "        self.input_shape = input_.size()\n",
    "    b = None if not self.use_bias else self.bias\n",
    "    if self.local_rep or not self.training:\n",
    "        output = F.conv2d(input_, self.weights, b, self.stride, self.padding, self.dilation, self.groups)\n",
    "        z = self.sample_z(output.size(0), sample=self.training)\n",
    "        return output.mul(z)\n",
    "    else:\n",
    "        weights = self.sample_weights()\n",
    "        output = F.conv2d(input_, weights, None, self.stride, self.padding, self.dilation, self.groups)\n",
    "        return output"
   ]
  },
  {
   "cell_type": "code",
   "execution_count": null,
   "id": "29e01a54",
   "metadata": {},
   "outputs": [],
   "source": []
  }
 ],
 "metadata": {
  "kernelspec": {
   "display_name": "EQL",
   "language": "python",
   "name": "python3"
  },
  "language_info": {
   "codemirror_mode": {
    "name": "ipython",
    "version": 3
   },
   "file_extension": ".py",
   "mimetype": "text/x-python",
   "name": "python",
   "nbconvert_exporter": "python",
   "pygments_lexer": "ipython3",
   "version": "3.12.7"
  }
 },
 "nbformat": 4,
 "nbformat_minor": 5
}
