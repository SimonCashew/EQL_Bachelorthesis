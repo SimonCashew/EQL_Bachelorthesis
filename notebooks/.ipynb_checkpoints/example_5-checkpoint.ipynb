{
 "cells": [
  {
   "cell_type": "code",
   "execution_count": null,
   "id": "004dede5",
   "metadata": {
    "ExecuteTime": {
     "end_time": "2022-11-18T13:12:54.979564Z",
     "start_time": "2022-11-18T13:12:54.979552Z"
    }
   },
   "outputs": [],
   "source": [
    "import jax\n",
    "from jax import lax, random, numpy as jnp\n",
    "from jax.tree_util import tree_flatten, tree_unflatten\n",
    "\n",
    "import flax\n",
    "from flax import linen as nn\n",
    "\n",
    "import sympy as sy\n",
    "from sympy.core.rules import Transform\n",
    "import numpy as np\n",
    "\n",
    "import sys\n",
    "sys.path.append(\"..\")\n",
    "sys.path.append(\"../../orient/\")\n",
    "\n",
    "\n",
    "from eql.eqlearner import EQL, EQLdiv\n",
    "from eql.symbolic import get_symbolic_expr_div, get_symbolic_expr\n",
    "from np_utils import flatten, unflatten\n",
    "\n",
    "\n",
    "import optax\n",
    "import scipy\n",
    "from functools import partial\n",
    "import matplotlib.pyplot as plt"
   ]
  },
  {
   "cell_type": "code",
   "execution_count": 24,
   "id": "194c741e",
   "metadata": {
    "ExecuteTime": {
     "end_time": "2022-11-18T13:12:55.618508Z",
     "start_time": "2022-11-18T13:12:55.558255Z"
    }
   },
   "outputs": [],
   "source": [
    "funs = ['mul', 'cos' , 'sin', 'id', 'id', 'id', 'id']\n",
    "e = EQLdiv(n_layers=1, functions=funs, features=1)\n",
    "key = random.PRNGKey(0)"
   ]
  },
  {
   "cell_type": "code",
   "execution_count": 25,
   "id": "b74deec9",
   "metadata": {
    "ExecuteTime": {
     "end_time": "2022-11-18T13:12:57.024171Z",
     "start_time": "2022-11-18T13:12:56.950806Z"
    }
   },
   "outputs": [],
   "source": [
    "N = 1024\n",
    "xdim = 2\n",
    "x = (random.uniform(key, (N, xdim))-.5) * 2\n",
    "#x = np.array([[1., 2.]]).T\n",
    "#x = np.linspace(-1, 1, N)[:,None]\n",
    "#y = x[:,0] + jnp.cos(x[:,1])\n",
    "#y = (jnp.cos(x) + 1 - x**2)/(x-3)**3\n",
    "\n",
    "\n",
    "y = np.sin(np.pi * x[:,0])/(x[:,1]**2 + 1)\n",
    "#y = 1./3. * ((1.+x[:,1])*np.sin(np.pi*x[:,0]) + x[:,1]*x[:,2]*x[:,3])\n",
    "#plt.scatter(x[:,0], x[:,1], c=y)"
   ]
  },
  {
   "cell_type": "code",
   "execution_count": 26,
   "id": "fd3ff5e6",
   "metadata": {
    "ExecuteTime": {
     "end_time": "2022-11-18T13:12:58.677624Z",
     "start_time": "2022-11-18T13:12:58.255138Z"
    }
   },
   "outputs": [],
   "source": [
    "params = e.init({'params':key}, x, 1.0);"
   ]
  },
  {
   "cell_type": "code",
   "execution_count": 27,
   "id": "73cc3ecb",
   "metadata": {
    "ExecuteTime": {
     "end_time": "2022-11-18T13:12:58.729057Z",
     "start_time": "2022-11-18T13:12:58.721045Z"
    }
   },
   "outputs": [],
   "source": [
    "def mse_fn(params, threshold):\n",
    "    pred, _ = e.apply(params, x, threshold)\n",
    "    return jnp.mean((pred-y)**2)\n",
    "\n",
    "def mse_b_fn(params, threshold):\n",
    "    pred, b = e.apply(params, x, threshold)\n",
    "    return jnp.mean((pred-y)**2), b\n",
    "\n",
    "def mse_b_y_fn(params, threshold):\n",
    "    pred, b = e.apply(params, x, threshold)\n",
    "    return jnp.mean((pred-y)**2), b, pred\n",
    "\n",
    "\n",
    "def get_mask_spec(thresh, params):\n",
    "    flat, spec = tree_flatten(params)\n",
    "    mask = [jnp.abs(f) > thresh for f in flat]\n",
    "    return mask, spec\n",
    "\n",
    "def apply_mask(mask, spec, params):\n",
    "    flat, _ = tree_flatten(params)\n",
    "    masked_params = tree_unflatten(spec, [f*m for f,m in zip(flat, mask)])\n",
    "    return masked_params\n",
    "\n",
    "\n",
    "def get_masked_mse(thresh, params):\n",
    "    mask, spec = get_mask_spec(thresh, params)\n",
    "    def masked_mse(params, threshold):\n",
    "        masked_params = apply_mask(mask, spec, params)\n",
    "        return mse_fn(masked_params, threshold)\n",
    "    return jax.jit(masked_mse)\n",
    "    \n",
    "\n",
    "def l1_fn(params):\n",
    "    return sum(\n",
    "        jnp.abs(w).mean() for w in jax.tree_leaves(params[\"params\"])\n",
    "    )\n",
    "\n",
    "def reg_fn(threshold, b):\n",
    "    return (jnp.maximum(0, threshold - b)).sum()\n",
    "\n",
    "def penalty_fn(y, B=10, supp=3):\n",
    "    penalty_fn.key, _ = random.split(key)\n",
    "    xr = (random.uniform(penalty_fn.key, (N, xdim))-.5) * supp\n",
    "    return jnp.sum(jnp.maximum(y-B, 0)+jnp.maximum(-y-B, 0))\n",
    "penalty_fn.key = key"
   ]
  },
  {
   "cell_type": "code",
   "execution_count": 28,
   "id": "abc6f00e",
   "metadata": {
    "ExecuteTime": {
     "end_time": "2022-11-18T13:12:59.106215Z",
     "start_time": "2022-11-18T13:12:59.102165Z"
    }
   },
   "outputs": [],
   "source": [
    "def get_loss(lamba):\n",
    "    def loss_fn(params, threshold):\n",
    "        mse, b = mse_b_fn(params, threshold)\n",
    "        return mse  + lamba * l1_fn(params) + reg_fn(threshold, b)\n",
    "    return loss_fn\n",
    "\n",
    "def get_loss_pen():\n",
    "    def loss_fn(params, threshold):\n",
    "        mse, b, y = mse_b_y_fn(params, threshold)\n",
    "        return penalty_fn(y) + reg_fn(threshold, b)\n",
    "    return loss_fn\n",
    "\n",
    "def get_loss_grad(lamba=1e-3, is_penalty=False):\n",
    "    if is_penalty:\n",
    "        loss = get_loss_pen()\n",
    "    else:\n",
    "        loss = get_loss(lamba)\n",
    "    return jax.jit(jax.value_and_grad(loss))"
   ]
  },
  {
   "cell_type": "code",
   "execution_count": 29,
   "id": "5c47711b",
   "metadata": {
    "ExecuteTime": {
     "end_time": "2022-11-18T13:13:00.744510Z",
     "start_time": "2022-11-18T13:13:00.726190Z"
    }
   },
   "outputs": [],
   "source": [
    "tx = optax.adam(learning_rate=1e-4)\n",
    "opt_state = tx.init(params)"
   ]
  },
  {
   "cell_type": "code",
   "execution_count": 30,
   "id": "fdc16e51",
   "metadata": {
    "ExecuteTime": {
     "end_time": "2022-11-18T13:13:01.437186Z",
     "start_time": "2022-11-18T13:13:01.422128Z"
    }
   },
   "outputs": [],
   "source": [
    "loss_grad_pen = get_loss_grad(is_penalty=True)\n",
    "loss_grad_1 = get_loss_grad(0)\n",
    "loss_grad_2 = get_loss_grad(1e-1)"
   ]
  },
  {
   "cell_type": "code",
   "execution_count": 31,
   "id": "7e47c7f7",
   "metadata": {
    "ExecuteTime": {
     "end_time": "2022-11-18T13:13:01.921816Z",
     "start_time": "2022-11-18T13:13:01.914579Z"
    }
   },
   "outputs": [],
   "source": [
    "def do_step(loss_grad, params, theta, opt_state):\n",
    "    loss_val, grad = loss_grad(params, theta)\n",
    "    updates, opt_state = tx.update(grad, opt_state)\n",
    "    return optax.apply_updates(params, updates), opt_state, loss_val"
   ]
  },
  {
   "cell_type": "code",
   "execution_count": null,
   "id": "33d18ce7",
   "metadata": {
    "ExecuteTime": {
     "start_time": "2022-11-18T13:13:43.980Z"
    }
   },
   "outputs": [
    {
     "name": "stdout",
     "output_type": "stream",
     "text": [
      "1.0463288 1.0\n",
      "0.8063853 0.1\n",
      "0.7134607 0.07088812\n",
      "0.62582123 0.057928447\n",
      "0.54472995 0.050188564\n",
      "0.47112125 0.044901326\n",
      "0.4055975 0.040996004\n",
      "0.34845302 0.037959483\n",
      "0.29969972 0.035511043\n",
      "0.25908375 0.033482477\n",
      "0.22609517 0.031766046\n",
      "0.1999807 0.030289127\n",
      "0.17978574 0.029000739\n",
      "0.16444081 0.02786391\n",
      "0.15288499 0.026851078\n",
      "0.14418502 0.02594123\n",
      "0.13759723 0.02511802\n",
      "0.13256624 0.02436851\n",
      "0.12868685 0.023682324\n",
      "0.1256597 0.023051023\n",
      "0.12325783 0.022467656\n",
      "0.12130536 0.02192645\n",
      "0.1196658 0.021422561\n",
      "0.11823578 0.020951888\n",
      "0.116939545 0.020510932\n",
      "0.115723 0.020096697\n",
      "0.11454752 0.019706586\n",
      "0.11338485 0.019338345\n",
      "0.11221367 0.018990004\n",
      "0.111017816 0.018659834\n",
      "0.10978538 0.018346308\n",
      "0.108508125 0.018048072\n",
      "0.10718068 0.017763922\n",
      "0.10579964 0.017492786\n",
      "0.1043628 0.017233696\n",
      "0.10286854 0.016985789\n",
      "0.10131577 0.016748281\n",
      "0.09970393 0.016520465\n",
      "0.098033346 0.016301699\n",
      "0.09630523 0.0160914\n",
      "0.09452173 0.015889037\n",
      "0.09268546 0.01569412\n",
      "0.0907993 0.015506205\n",
      "0.08886569 0.015324884\n",
      "0.08688657 0.015149776\n",
      "0.08486298 0.014980537\n",
      "0.08279508 0.014816848\n"
     ]
    }
   ],
   "source": [
    "T1 = 10_000\n",
    "Tpenalty = 500\n",
    "for i in range(20_000):\n",
    "    theta = 1./jnp.sqrt(i/1. + 1)\n",
    "    if i < T1:\n",
    "        lg = loss_grad_1\n",
    "    elif i >= T1:\n",
    "        lg = loss_grad_2\n",
    "    params, opt_state, loss_val = do_step(lg, params, theta, opt_state)\n",
    "    if i % 99 == 0:\n",
    "        print(loss_val, theta)\n",
    "        for j in range(100):\n",
    "            params, opt_state, loss_val = do_step(loss_grad_pen, params, theta, opt_state)"
   ]
  },
  {
   "cell_type": "code",
   "execution_count": 12,
   "id": "6895def7",
   "metadata": {
    "ExecuteTime": {
     "end_time": "2022-11-18T13:02:56.251362Z",
     "start_time": "2022-11-18T13:02:56.197543Z"
    },
    "collapsed": true
   },
   "outputs": [
    {
     "ename": "NameError",
     "evalue": "name 'loss_grad_1' is not defined",
     "output_type": "error",
     "traceback": [
      "\u001b[0;31m---------------------------------------------------------------------------\u001b[0m",
      "\u001b[0;31mNameError\u001b[0m                                 Traceback (most recent call last)",
      "Input \u001b[0;32mIn [12]\u001b[0m, in \u001b[0;36m<cell line: 2>\u001b[0;34m()\u001b[0m\n\u001b[1;32m      2\u001b[0m \u001b[38;5;28;01mfor\u001b[39;00m i \u001b[38;5;129;01min\u001b[39;00m \u001b[38;5;28mrange\u001b[39m(\u001b[38;5;241m10_000\u001b[39m):\n\u001b[1;32m      3\u001b[0m     theta \u001b[38;5;241m=\u001b[39m \u001b[38;5;241m1.\u001b[39m\u001b[38;5;241m/\u001b[39mjnp\u001b[38;5;241m.\u001b[39msqrt(T\u001b[38;5;241m/\u001b[39m\u001b[38;5;241m1\u001b[39m \u001b[38;5;241m+\u001b[39m \u001b[38;5;241m1\u001b[39m)\n\u001b[0;32m----> 4\u001b[0m     loss_val, grads \u001b[38;5;241m=\u001b[39m \u001b[43mloss_grad_1\u001b[49m(params, theta)\n\u001b[1;32m      5\u001b[0m     updates, opt_state \u001b[38;5;241m=\u001b[39m tx\u001b[38;5;241m.\u001b[39mupdate(grads, opt_state)\n\u001b[1;32m      6\u001b[0m     params \u001b[38;5;241m=\u001b[39m optax\u001b[38;5;241m.\u001b[39mapply_updates(params, updates)\n",
      "\u001b[0;31mNameError\u001b[0m: name 'loss_grad_1' is not defined"
     ]
    }
   ],
   "source": [
    "T = 0\n",
    "for i in range(10_000):\n",
    "    theta = 1./jnp.sqrt(T/1 + 1)\n",
    "    loss_val, grads = loss_grad_1(params, theta)\n",
    "    updates, opt_state = tx.update(grads, opt_state)\n",
    "    params = optax.apply_updates(params, updates)\n",
    "    T +=1 \n",
    "    if i % 99 == 0:\n",
    "        print(loss_val, theta)\n",
    "\n",
    "for i in range(10_000):\n",
    "    theta = 1./jnp.sqrt(T/1 + 1)\n",
    "    loss_val, grads = loss_grad_2(params, theta)\n",
    "    updates, opt_state = tx.update(grads, opt_state)\n",
    "    params = optax.apply_updates(params, updates)\n",
    "    T +=1\n",
    "    if i % 99 == 0:\n",
    "        print(loss_val, theta)\n",
    "        print(l1_fn(params))"
   ]
  },
  {
   "cell_type": "code",
   "execution_count": 37,
   "id": "cd92eeca",
   "metadata": {
    "ExecuteTime": {
     "end_time": "2022-10-21T12:28:21.561395Z",
     "start_time": "2022-10-21T12:28:21.558177Z"
    }
   },
   "outputs": [],
   "source": [
    "# thr = 1e-3\n",
    "# loss_grad_masked = jax.jit(jax.value_and_grad(get_masked_mse(thr, params)))\n",
    "# mask, spec = get_mask_spec(thr, params)\n",
    "\n",
    "# for i in range(1000):\n",
    "#     theta = 1./jnp.sqrt(T/1 + 1)\n",
    "#     loss_val, grads = loss_grad_masked(params, theta)\n",
    "#     updates, opt_state = tx.update(grads, opt_state)\n",
    "#     params = optax.apply_updates(params, updates)\n",
    "#     T +=1\n",
    "#     if i % 99 == 0:\n",
    "#         print(loss_val)"
   ]
  },
  {
   "cell_type": "code",
   "execution_count": 38,
   "id": "e3be2da2",
   "metadata": {
    "ExecuteTime": {
     "end_time": "2022-10-21T12:28:22.851884Z",
     "start_time": "2022-10-21T12:28:22.849510Z"
    }
   },
   "outputs": [],
   "source": [
    "#symb = get_symbolic_expr_div(apply_mask(mask, spec, params), funs)[0]\n",
    "#symb = get_symbolic_expr_div(params, funs)[0]\n",
    "#symb"
   ]
  },
  {
   "cell_type": "code",
   "execution_count": 129,
   "id": "2d8df02c",
   "metadata": {
    "ExecuteTime": {
     "end_time": "2022-10-21T13:26:46.570113Z",
     "start_time": "2022-10-21T13:26:46.373817Z"
    }
   },
   "outputs": [],
   "source": [
    "spec, fparam = flatten(params)\n",
    "full_shape = fparam.shape\n",
    "mask = jnp.abs(fparam) > 0.01\n",
    "idxs = jnp.arange(fparam.shape[0])[mask]\n",
    "count = sum(mask).item()"
   ]
  },
  {
   "cell_type": "code",
   "execution_count": 130,
   "id": "941aa293",
   "metadata": {
    "ExecuteTime": {
     "end_time": "2022-10-21T13:26:47.899503Z",
     "start_time": "2022-10-21T13:26:47.896272Z"
    }
   },
   "outputs": [],
   "source": [
    "def red_loss_grad_fn(red_param):\n",
    "    full_param = jnp.zeros(full_shape).at[idxs].set(red_param)\n",
    "    full_param = unflatten(spec, full_param)\n",
    "\n",
    "    #return mse_fn(full_param, 1e-4)\n",
    "    loss, grad = loss_grad_1(full_param, 1e-4)\n",
    "    _, grad = flatten(grad)\n",
    "    return loss, np.array(grad)[idxs,]\n",
    "    \n",
    "#red_loss_grad = jax.jit(jax.value_and_grad(red_mse_fn))"
   ]
  },
  {
   "cell_type": "code",
   "execution_count": 131,
   "id": "c9e832fe",
   "metadata": {
    "ExecuteTime": {
     "end_time": "2022-10-21T13:27:12.002804Z",
     "start_time": "2022-10-21T13:26:49.153164Z"
    }
   },
   "outputs": [],
   "source": [
    "x0, f, info = scipy.optimize.fmin_l_bfgs_b(\n",
    "        red_loss_grad_fn,\n",
    "        x0 = np.array(fparam[mask]),\n",
    "        factr=1.,\n",
    "        m=500,\n",
    "        pgtol=1e-13,\n",
    "        maxls=100)\n",
    "#x0[np.abs(x0) < 1e-3] = 0.0"
   ]
  },
  {
   "cell_type": "code",
   "execution_count": 132,
   "id": "95928da4",
   "metadata": {
    "ExecuteTime": {
     "end_time": "2022-10-21T13:27:13.673380Z",
     "start_time": "2022-10-21T13:27:13.667865Z"
    }
   },
   "outputs": [
    {
     "data": {
      "text/plain": [
       "DeviceArray(1.5276278e-08, dtype=float32)"
      ]
     },
     "execution_count": 132,
     "metadata": {},
     "output_type": "execute_result"
    }
   ],
   "source": [
    "f"
   ]
  },
  {
   "cell_type": "code",
   "execution_count": 133,
   "id": "a993b691",
   "metadata": {
    "ExecuteTime": {
     "end_time": "2022-10-21T13:27:15.472057Z",
     "start_time": "2022-10-21T13:27:15.456540Z"
    }
   },
   "outputs": [],
   "source": [
    "final_param = unflatten(spec, jnp.zeros(full_shape).at[idxs].set(x0))"
   ]
  },
  {
   "cell_type": "code",
   "execution_count": 134,
   "id": "fe186476",
   "metadata": {
    "ExecuteTime": {
     "end_time": "2022-10-21T13:27:18.078674Z",
     "start_time": "2022-10-21T13:27:16.874400Z"
    }
   },
   "outputs": [],
   "source": [
    "symb = get_symbolic_expr_div(final_param, funs)[0]\n",
    "#symb"
   ]
  },
  {
   "cell_type": "code",
   "execution_count": 135,
   "id": "ce5f44f8",
   "metadata": {
    "ExecuteTime": {
     "end_time": "2022-10-21T13:27:19.486279Z",
     "start_time": "2022-10-21T13:27:19.482056Z"
    }
   },
   "outputs": [],
   "source": [
    "def clean_expr(expr):\n",
    "    # WARNING: might return 0/NaN/inf if expression only contains small numbers\n",
    "    def prune(expr, thr=1e-5):\n",
    "        return expr.replace(lambda x: x.is_Number and abs(x) < thr, lambda x: 0)\n",
    "    \n",
    "    def rounding(expr, dig=3):\n",
    "        return expr.xreplace(Transform(lambda x: x.round(dig), lambda x: x.is_Number))\n",
    "    \n",
    "    # prune small numbers\n",
    "    expr = prune(expr)\n",
    "    # round number\n",
    "    expr = rounding(expr)\n",
    "    # expand\n",
    "    expr = prune(sy.expand(expr), 1e-3)\n",
    "    return sy.simplify(expr)"
   ]
  },
  {
   "cell_type": "code",
   "execution_count": 136,
   "id": "1e2c3e71",
   "metadata": {
    "ExecuteTime": {
     "end_time": "2022-10-21T13:27:39.178751Z",
     "start_time": "2022-10-21T13:27:20.937023Z"
    }
   },
   "outputs": [
    {
     "data": {
      "text/latex": [
       "$\\displaystyle \\frac{0.03108 x_{0}^{2} - 0.006742 x_{0} x_{1} + 0.387 x_{0} \\sin{\\left(1.554 x_{0} - 0.026 x_{1} \\right)} + 0.01311 x_{0} + 0.249 x_{1} x_{2} x_{3} + 0.007547 x_{1} \\sin{\\left(1.554 x_{0} - 0.026 x_{1} \\right)} + 0.002551 \\sin{\\left(2.083 x_{0} \\right)} + 0.002551 \\sin{\\left(1.025 x_{0} - 0.052 x_{1} \\right)} - 0.03413 \\sin{\\left(1.554 x_{0} - 0.026 x_{1} \\right)} + 0.264 \\sin{\\left(3.036 x_{0} + 0.04 \\sin{\\left(1.554 x_{0} - 0.026 x_{1} \\right)} \\right)} - 0.22 \\sin{\\left(0.168 \\cos{\\left(0.529 x_{0} + 0.026 x_{1} \\right)} - 0.554 \\right)} + 0.812 \\cos{\\left(0.003 x_{1} \\right)} + 0.047 \\cos{\\left(0.529 x_{0} + 0.026 x_{1} \\right)} + 2.502 \\cos{\\left(3.108 x_{0} - 0.052 x_{1} \\right)} - 2.293 \\cos{\\left(3.18 x_{0} + 0.053 x_{1} - 0.013 \\sin{\\left(1.554 x_{0} - 0.026 x_{1} \\right)} \\right)} - 1.15}{- 0.004 x_{0} + 0.003 \\sin{\\left(1.554 x_{0} - 0.026 x_{1} \\right)} - 0.16 \\sin{\\left(0.168 \\cos{\\left(0.529 x_{0} + 0.026 x_{1} \\right)} - 0.554 \\right)} + 0.168 \\cos{\\left(0.003 x_{1} \\right)} - 0.03 \\cos{\\left(0.529 x_{0} + 0.026 x_{1} \\right)} + 0.003 \\cos{\\left(3.18 x_{0} + 0.053 x_{1} - 0.013 \\sin{\\left(1.554 x_{0} - 0.026 x_{1} \\right)} \\right)} + 0.547}$"
      ],
      "text/plain": [
       "(0.03108*x0**2 - 0.006742*x0*x1 + 0.387*x0*sin(1.554*x0 - 0.026*x1) + 0.01311*x0 + 0.249*x1*x2*x3 + 0.007547*x1*sin(1.554*x0 - 0.026*x1) + 0.002551*sin(2.083*x0) + 0.002551*sin(1.025*x0 - 0.052*x1) - 0.03413*sin(1.554*x0 - 0.026*x1) + 0.264*sin(3.036*x0 + 0.04*sin(1.554*x0 - 0.026*x1)) - 0.22*sin(0.168*cos(0.529*x0 + 0.026*x1) - 0.554) + 0.812*cos(0.003*x1) + 0.047*cos(0.529*x0 + 0.026*x1) + 2.502*cos(3.108*x0 - 0.052*x1) - 2.293*cos(3.18*x0 + 0.053*x1 - 0.013*sin(1.554*x0 - 0.026*x1)) - 1.15)/(-0.004*x0 + 0.003*sin(1.554*x0 - 0.026*x1) - 0.16*sin(0.168*cos(0.529*x0 + 0.026*x1) - 0.554) + 0.168*cos(0.003*x1) - 0.03*cos(0.529*x0 + 0.026*x1) + 0.003*cos(3.18*x0 + 0.053*x1 - 0.013*sin(1.554*x0 - 0.026*x1)) + 0.547)"
      ]
     },
     "execution_count": 136,
     "metadata": {},
     "output_type": "execute_result"
    }
   ],
   "source": [
    "clean_expr(symb)"
   ]
  },
  {
   "cell_type": "code",
   "execution_count": 17,
   "id": "6282d3d3",
   "metadata": {
    "ExecuteTime": {
     "end_time": "2022-10-21T11:32:15.942712Z",
     "start_time": "2022-10-21T11:32:15.937116Z"
    }
   },
   "outputs": [
    {
     "data": {
      "text/plain": [
       "DeviceArray(3.995705e-10, dtype=float32)"
      ]
     },
     "execution_count": 17,
     "metadata": {},
     "output_type": "execute_result"
    }
   ],
   "source": [
    "f"
   ]
  },
  {
   "cell_type": "code",
   "execution_count": 18,
   "id": "cb6eb0f5",
   "metadata": {
    "ExecuteTime": {
     "end_time": "2022-10-21T11:32:53.791764Z",
     "start_time": "2022-10-21T11:32:53.779138Z"
    }
   },
   "outputs": [
    {
     "data": {
      "text/latex": [
       "$\\displaystyle 0.333338635331777 x_{1} x_{2} x_{3} + 55.461997142339 \\sin{\\left(3.14159385455771 x_{0} - 0.00273492131132952 x_{1} + 1.56751096248627 \\right)} + 55.4619321409225 \\sin{\\left(3.14159387018332 x_{0} + 0.00327529226449791 x_{1} - 1.56807163357735 \\right)}$"
      ],
      "text/plain": [
       "0.333338635331777*x1*x2*x3 + 55.461997142339*sin(3.14159385455771*x0 - 0.00273492131132952*x1 + 1.56751096248627) + 55.4619321409225*sin(3.14159387018332*x0 + 0.00327529226449791*x1 - 1.56807163357735)"
      ]
     },
     "execution_count": 18,
     "metadata": {},
     "output_type": "execute_result"
    }
   ],
   "source": [
    "symb\n"
   ]
  },
  {
   "cell_type": "code",
   "execution_count": null,
   "id": "84e7ce54",
   "metadata": {},
   "outputs": [],
   "source": []
  }
 ],
 "metadata": {
  "kernelspec": {
   "display_name": "Python 3 (ipykernel)",
   "language": "python",
   "name": "python3"
  },
  "language_info": {
   "codemirror_mode": {
    "name": "ipython",
    "version": 3
   },
   "file_extension": ".py",
   "mimetype": "text/x-python",
   "name": "python",
   "nbconvert_exporter": "python",
   "pygments_lexer": "ipython3",
   "version": "3.8.10"
  },
  "varInspector": {
   "cols": {
    "lenName": 16,
    "lenType": 16,
    "lenVar": 40
   },
   "kernels_config": {
    "python": {
     "delete_cmd_postfix": "",
     "delete_cmd_prefix": "del ",
     "library": "var_list.py",
     "varRefreshCmd": "print(var_dic_list())"
    },
    "r": {
     "delete_cmd_postfix": ") ",
     "delete_cmd_prefix": "rm(",
     "library": "var_list.r",
     "varRefreshCmd": "cat(var_dic_list()) "
    }
   },
   "types_to_exclude": [
    "module",
    "function",
    "builtin_function_or_method",
    "instance",
    "_Feature"
   ],
   "window_display": false
  }
 },
 "nbformat": 4,
 "nbformat_minor": 5
}
