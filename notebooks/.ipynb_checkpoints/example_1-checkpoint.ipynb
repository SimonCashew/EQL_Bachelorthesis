{
 "cells": [
  {
   "cell_type": "code",
   "execution_count": 12,
   "id": "6ce5cbbf",
   "metadata": {
    "ExecuteTime": {
     "end_time": "2022-11-22T11:33:07.451421Z",
     "start_time": "2022-11-22T11:33:07.443643Z"
    }
   },
   "outputs": [],
   "source": [
    "import jax\n",
    "from typing import Any, Callable, Sequence, Optional\n",
    "from jax import lax, random, numpy as jnp\n",
    "import flax\n",
    "from flax import linen as nn\n",
    "import sympy as sy\n",
    "import numpy as np\n",
    "import sys\n",
    "sys.path.append(\"..\")\n",
    "from eql.eqlearner import EQL\n",
    "from eql.symbolic import get_symbolic_expr, get_symbolic_expr_layer\n",
    "from typing import List, Tuple, Callable\n",
    "from functools import partial\n",
    "import matplotlib.pyplot as plt\n",
    "import scipy\n",
    "sys.path.append(\"../../orient\")\n",
    "import optax\n",
    "\n",
    "from np_utils import flatten, unflatten"
   ]
  },
  {
   "cell_type": "code",
   "execution_count": 13,
   "id": "3589912f",
   "metadata": {
    "ExecuteTime": {
     "end_time": "2022-11-22T11:33:07.805771Z",
     "start_time": "2022-11-22T11:33:07.783219Z"
    }
   },
   "outputs": [],
   "source": [
    "funs = ['mul', 'cos', 'sin']*2\n",
    "e = EQL(n_layers=2, functions=funs, features=1)\n",
    "key = random.PRNGKey(0)"
   ]
  },
  {
   "cell_type": "code",
   "execution_count": 14,
   "id": "10748401",
   "metadata": {
    "ExecuteTime": {
     "end_time": "2022-11-22T11:33:08.169256Z",
     "start_time": "2022-11-22T11:33:08.163481Z"
    }
   },
   "outputs": [],
   "source": [
    "N = 1000\n",
    "xdim = 1\n",
    "x = (random.uniform(key, (N, xdim))-.5) * 2\n",
    "\n",
    "#y = x[:,0] + jnp.cos(x[:,1])\n",
    "y = jnp.cos(x) + 1 - x**2 "
   ]
  },
  {
   "cell_type": "code",
   "execution_count": 15,
   "id": "c6438daa",
   "metadata": {
    "ExecuteTime": {
     "end_time": "2022-11-22T11:33:10.338962Z",
     "start_time": "2022-11-22T11:33:10.285315Z"
    }
   },
   "outputs": [],
   "source": [
    "params = e.init({'params':key}, x);"
   ]
  },
  {
   "cell_type": "code",
   "execution_count": 16,
   "id": "7530de69",
   "metadata": {
    "ExecuteTime": {
     "end_time": "2022-11-22T11:33:17.540358Z",
     "start_time": "2022-11-22T11:33:17.520505Z"
    },
    "collapsed": true
   },
   "outputs": [
    {
     "data": {
      "text/plain": [
       "FrozenDict({\n",
       "    params: {\n",
       "        layers_0: {\n",
       "            linear_layer: {\n",
       "                kernel: DeviceArray([[-7.2592092e-01,  1.4928404e-03, -1.1177226e+00,\n",
       "                              -1.5228953e+00, -8.1515509e-01, -2.2600982e+00,\n",
       "                               2.4191648e-01, -1.8337251e+00]], dtype=float32),\n",
       "                bias: DeviceArray([0., 0., 0., 0., 0., 0., 0., 0.], dtype=float32),\n",
       "            },\n",
       "        },\n",
       "        layers_1: {\n",
       "            linear_layer: {\n",
       "                kernel: DeviceArray([[ 0.02277731,  0.17892736, -0.51479936, -0.6999076 ,\n",
       "                              -0.43175164, -0.38907874,  0.21593012, -0.31170368],\n",
       "                             [ 0.34880134, -0.19892956, -0.57989043, -0.01286852,\n",
       "                              -0.1202417 , -0.08883591,  0.30248502, -0.74179024],\n",
       "                             [ 0.4252634 ,  0.31946254, -0.28948838,  0.7172954 ,\n",
       "                               0.3699872 ,  0.30644968, -0.339205  ,  0.31891167],\n",
       "                             [ 0.41415888, -0.2625697 ,  0.09739159,  0.7624372 ,\n",
       "                              -0.2931598 ,  0.77443767, -0.7188077 , -0.71904194],\n",
       "                             [ 0.816642  ,  0.74137133,  0.59053946, -0.25860703,\n",
       "                              -0.0781242 ,  0.03801922, -0.02028203,  0.3263745 ],\n",
       "                             [-0.3652358 ,  0.50186515, -0.2058206 , -0.09527023,\n",
       "                               0.09431894,  0.59644514,  0.5278653 ,  0.6174643 ]],            dtype=float32),\n",
       "                bias: DeviceArray([0., 0., 0., 0., 0., 0., 0., 0.], dtype=float32),\n",
       "            },\n",
       "        },\n",
       "        last: {\n",
       "            kernel: DeviceArray([[ 0.10741389],\n",
       "                         [-0.15843517],\n",
       "                         [ 0.05878027],\n",
       "                         [ 0.4560138 ],\n",
       "                         [ 0.37889332],\n",
       "                         [ 0.61627156]], dtype=float32),\n",
       "            bias: DeviceArray([0.], dtype=float32),\n",
       "        },\n",
       "    },\n",
       "})"
      ]
     },
     "execution_count": 16,
     "metadata": {},
     "output_type": "execute_result"
    }
   ],
   "source": [
    "params"
   ]
  },
  {
   "cell_type": "code",
   "execution_count": 17,
   "id": "efac62b1",
   "metadata": {
    "ExecuteTime": {
     "end_time": "2022-11-22T11:34:30.445082Z",
     "start_time": "2022-11-22T11:34:30.441233Z"
    }
   },
   "outputs": [],
   "source": [
    "def mse_fn(params):\n",
    "    pred = e.apply(params, x)\n",
    "    return jnp.mean((pred-y)**2)"
   ]
  },
  {
   "cell_type": "code",
   "execution_count": 18,
   "id": "0750cbc9",
   "metadata": {
    "ExecuteTime": {
     "end_time": "2022-11-22T11:34:40.199857Z",
     "start_time": "2022-11-22T11:34:40.143765Z"
    }
   },
   "outputs": [],
   "source": [
    "def loss(params):\n",
    "    return mse_fn(params)\n",
    "loss_grad_fn = jax.jit(jax.value_and_grad(loss))"
   ]
  },
  {
   "cell_type": "code",
   "execution_count": 19,
   "id": "257cb82c",
   "metadata": {
    "ExecuteTime": {
     "end_time": "2022-11-22T11:34:45.641825Z",
     "start_time": "2022-11-22T11:34:45.623001Z"
    }
   },
   "outputs": [],
   "source": [
    "tx = optax.adam(learning_rate=1e-2)\n",
    "opt_state = tx.init(params)\n",
    "loss_grad_fn = jax.jit(jax.value_and_grad(loss))"
   ]
  },
  {
   "cell_type": "code",
   "execution_count": 21,
   "id": "b9f9a804",
   "metadata": {
    "ExecuteTime": {
     "end_time": "2022-11-22T11:35:35.564135Z",
     "start_time": "2022-11-22T11:34:56.906331Z"
    },
    "collapsed": true
   },
   "outputs": [
    {
     "name": "stdout",
     "output_type": "stream",
     "text": [
      "1.0019127e-05\n",
      "8.54314e-06\n",
      "7.2747416e-06\n",
      "6.210226e-06\n",
      "5.3362523e-06\n",
      "4.631923e-06\n",
      "4.070804e-06\n",
      "3.6245508e-06\n",
      "3.2655016e-06\n",
      "2.9697164e-06\n",
      "2.7179026e-06\n",
      "2.496307e-06\n",
      "2.2955846e-06\n",
      "2.1100368e-06\n",
      "1.936609e-06\n",
      "1.7737342e-06\n",
      "1.620818e-06\n",
      "1.4775273e-06\n",
      "1.3439228e-06\n",
      "1.2199718e-06\n",
      "1.1056237e-06\n",
      "1.0008273e-06\n",
      "9.053834e-07\n",
      "8.189853e-07\n",
      "7.41341e-07\n",
      "6.720133e-07\n",
      "6.105197e-07\n",
      "5.5630824e-07\n",
      "5.088538e-07\n",
      "4.6747743e-07\n",
      "4.3158423e-07\n"
     ]
    },
    {
     "ename": "KeyboardInterrupt",
     "evalue": "",
     "output_type": "error",
     "traceback": [
      "\u001b[0;31m---------------------------------------------------------------------------\u001b[0m",
      "\u001b[0;31mKeyboardInterrupt\u001b[0m                         Traceback (most recent call last)",
      "Input \u001b[0;32mIn [21]\u001b[0m, in \u001b[0;36m<cell line: 1>\u001b[0;34m()\u001b[0m\n\u001b[1;32m      1\u001b[0m \u001b[38;5;28;01mfor\u001b[39;00m i \u001b[38;5;129;01min\u001b[39;00m \u001b[38;5;28mrange\u001b[39m(\u001b[38;5;241m10000\u001b[39m):\n\u001b[1;32m      2\u001b[0m     loss_val, grads \u001b[38;5;241m=\u001b[39m loss_grad_fn(params)\n\u001b[0;32m----> 3\u001b[0m     updates, opt_state \u001b[38;5;241m=\u001b[39m \u001b[43mtx\u001b[49m\u001b[38;5;241;43m.\u001b[39;49m\u001b[43mupdate\u001b[49m\u001b[43m(\u001b[49m\u001b[43mgrads\u001b[49m\u001b[43m,\u001b[49m\u001b[43m \u001b[49m\u001b[43mopt_state\u001b[49m\u001b[43m)\u001b[49m\n\u001b[1;32m      4\u001b[0m     params \u001b[38;5;241m=\u001b[39m optax\u001b[38;5;241m.\u001b[39mapply_updates(params, updates)\n\u001b[1;32m      5\u001b[0m     \u001b[38;5;28;01mif\u001b[39;00m i \u001b[38;5;241m%\u001b[39m \u001b[38;5;241m99\u001b[39m \u001b[38;5;241m==\u001b[39m \u001b[38;5;241m0\u001b[39m:\n",
      "File \u001b[0;32m~/code/NeuralSymbolicRegressionThatScales/env/lib/python3.8/site-packages/optax/_src/combine.py:54\u001b[0m, in \u001b[0;36mchain.<locals>.update_fn\u001b[0;34m(updates, state, params)\u001b[0m\n\u001b[1;32m     52\u001b[0m new_state \u001b[38;5;241m=\u001b[39m []\n\u001b[1;32m     53\u001b[0m \u001b[38;5;28;01mfor\u001b[39;00m s, fn \u001b[38;5;129;01min\u001b[39;00m \u001b[38;5;28mzip\u001b[39m(state, update_fns):\n\u001b[0;32m---> 54\u001b[0m   updates, new_s \u001b[38;5;241m=\u001b[39m \u001b[43mfn\u001b[49m\u001b[43m(\u001b[49m\u001b[43mupdates\u001b[49m\u001b[43m,\u001b[49m\u001b[43m \u001b[49m\u001b[43ms\u001b[49m\u001b[43m,\u001b[49m\u001b[43m \u001b[49m\u001b[43mparams\u001b[49m\u001b[43m)\u001b[49m\n\u001b[1;32m     55\u001b[0m   new_state\u001b[38;5;241m.\u001b[39mappend(new_s)\n\u001b[1;32m     56\u001b[0m \u001b[38;5;28;01mreturn\u001b[39;00m updates, \u001b[38;5;28mtuple\u001b[39m(new_state)\n",
      "File \u001b[0;32m~/code/NeuralSymbolicRegressionThatScales/env/lib/python3.8/site-packages/optax/_src/transform.py:329\u001b[0m, in \u001b[0;36mscale_by_adam.<locals>.update_fn\u001b[0;34m(***failed resolving arguments***)\u001b[0m\n\u001b[1;32m    327\u001b[0m nu \u001b[38;5;241m=\u001b[39m _update_moment_per_elem_norm(updates, state\u001b[38;5;241m.\u001b[39mnu, b2, \u001b[38;5;241m2\u001b[39m)\n\u001b[1;32m    328\u001b[0m count_inc \u001b[38;5;241m=\u001b[39m numerics\u001b[38;5;241m.\u001b[39msafe_int32_increment(state\u001b[38;5;241m.\u001b[39mcount)\n\u001b[0;32m--> 329\u001b[0m mu_hat \u001b[38;5;241m=\u001b[39m utils\u001b[38;5;241m.\u001b[39mcast_tree(\u001b[43m_bias_correction\u001b[49m\u001b[43m(\u001b[49m\u001b[43mmu\u001b[49m\u001b[43m,\u001b[49m\u001b[43m \u001b[49m\u001b[43mb1\u001b[49m\u001b[43m,\u001b[49m\u001b[43m \u001b[49m\u001b[43mcount_inc\u001b[49m\u001b[43m)\u001b[49m, mu_dtype)\n\u001b[1;32m    330\u001b[0m nu_hat \u001b[38;5;241m=\u001b[39m _bias_correction(nu, b2, count_inc)\n\u001b[1;32m    331\u001b[0m updates \u001b[38;5;241m=\u001b[39m jax\u001b[38;5;241m.\u001b[39mtree_multimap(\n\u001b[1;32m    332\u001b[0m     \u001b[38;5;28;01mlambda\u001b[39;00m m, v: m \u001b[38;5;241m/\u001b[39m (jnp\u001b[38;5;241m.\u001b[39msqrt(v \u001b[38;5;241m+\u001b[39m eps_root) \u001b[38;5;241m+\u001b[39m eps), mu_hat, nu_hat)\n",
      "File \u001b[0;32m~/code/NeuralSymbolicRegressionThatScales/env/lib/python3.8/site-packages/optax/_src/transform.py:105\u001b[0m, in \u001b[0;36m_bias_correction\u001b[0;34m(moment, decay, count)\u001b[0m\n\u001b[1;32m    103\u001b[0m \u001b[38;5;28;01mdef\u001b[39;00m \u001b[38;5;21m_bias_correction\u001b[39m(moment, decay, count):\n\u001b[1;32m    104\u001b[0m   \u001b[38;5;124;03m\"\"\"Perform bias correction. This becomes a no-op as count goes to infinity.\"\"\"\u001b[39;00m\n\u001b[0;32m--> 105\u001b[0m   bias_correction \u001b[38;5;241m=\u001b[39m \u001b[38;5;241m1\u001b[39m \u001b[38;5;241m-\u001b[39m \u001b[43mdecay\u001b[49m\u001b[38;5;241;43m*\u001b[39;49m\u001b[38;5;241;43m*\u001b[39;49m\u001b[43mcount\u001b[49m\n\u001b[1;32m    106\u001b[0m   \u001b[38;5;28;01mreturn\u001b[39;00m jax\u001b[38;5;241m.\u001b[39mtree_map(\u001b[38;5;28;01mlambda\u001b[39;00m t: t \u001b[38;5;241m/\u001b[39m bias_correction\u001b[38;5;241m.\u001b[39mastype(t\u001b[38;5;241m.\u001b[39mdtype), moment)\n",
      "File \u001b[0;32m~/code/NeuralSymbolicRegressionThatScales/env/lib/python3.8/site-packages/jax/_src/numpy/lax_numpy.py:6690\u001b[0m, in \u001b[0;36m_defer_to_unrecognized_arg.<locals>.deferring_binary_op\u001b[0;34m(self, other)\u001b[0m\n\u001b[1;32m   6688\u001b[0m \u001b[38;5;28;01mif\u001b[39;00m \u001b[38;5;129;01mnot\u001b[39;00m \u001b[38;5;28misinstance\u001b[39m(other, _accepted_binop_types):\n\u001b[1;32m   6689\u001b[0m   \u001b[38;5;28;01mreturn\u001b[39;00m \u001b[38;5;28mNotImplemented\u001b[39m\n\u001b[0;32m-> 6690\u001b[0m \u001b[38;5;28;01mreturn\u001b[39;00m \u001b[43mbinary_op\u001b[49m\u001b[43m(\u001b[49m\u001b[38;5;28;43mself\u001b[39;49m\u001b[43m,\u001b[49m\u001b[43m \u001b[49m\u001b[43mother\u001b[49m\u001b[43m)\u001b[49m\n",
      "File \u001b[0;32m~/code/NeuralSymbolicRegressionThatScales/env/lib/python3.8/site-packages/jax/_src/numpy/lax_numpy.py:6694\u001b[0m, in \u001b[0;36m_swap_args.<locals>.<lambda>\u001b[0;34m(x, y)\u001b[0m\n\u001b[1;32m   6693\u001b[0m \u001b[38;5;28;01mdef\u001b[39;00m \u001b[38;5;21m_swap_args\u001b[39m(f):\n\u001b[0;32m-> 6694\u001b[0m   \u001b[38;5;28;01mreturn\u001b[39;00m \u001b[38;5;28;01mlambda\u001b[39;00m x, y: \u001b[43mf\u001b[49m\u001b[43m(\u001b[49m\u001b[43my\u001b[49m\u001b[43m,\u001b[49m\u001b[43m \u001b[49m\u001b[43mx\u001b[49m\u001b[43m)\u001b[49m\n",
      "File \u001b[0;32m~/code/NeuralSymbolicRegressionThatScales/env/lib/python3.8/site-packages/jax/_src/numpy/lax_numpy.py:935\u001b[0m, in \u001b[0;36mpower\u001b[0;34m(x1, x2)\u001b[0m\n\u001b[1;32m    933\u001b[0m     \u001b[38;5;28;01mpass\u001b[39;00m\n\u001b[1;32m    934\u001b[0m   \u001b[38;5;28;01melse\u001b[39;00m:\n\u001b[0;32m--> 935\u001b[0m     \u001b[38;5;28;01mreturn\u001b[39;00m \u001b[43mlax\u001b[49m\u001b[38;5;241;43m.\u001b[39;49m\u001b[43minteger_pow\u001b[49m\u001b[43m(\u001b[49m\u001b[43mx1\u001b[49m\u001b[43m,\u001b[49m\u001b[43m \u001b[49m\u001b[43mx2\u001b[49m\u001b[43m)\u001b[49m\n\u001b[1;32m    936\u001b[0m \u001b[38;5;28;01mreturn\u001b[39;00m _power(x1, x2)\n",
      "File \u001b[0;32m~/code/NeuralSymbolicRegressionThatScales/env/lib/python3.8/site-packages/jax/_src/lax/lax.py:339\u001b[0m, in \u001b[0;36minteger_pow\u001b[0;34m(x, y)\u001b[0m\n\u001b[1;32m    337\u001b[0m \u001b[38;5;28;01mdef\u001b[39;00m \u001b[38;5;21minteger_pow\u001b[39m(x: Array, y: \u001b[38;5;28mint\u001b[39m) \u001b[38;5;241m-\u001b[39m\u001b[38;5;241m>\u001b[39m Array:\n\u001b[1;32m    338\u001b[0m   \u001b[38;5;124mr\u001b[39m\u001b[38;5;124;03m\"\"\"Elementwise power: :math:`x^y`, where :math:`y` is a fixed integer.\"\"\"\u001b[39;00m\n\u001b[0;32m--> 339\u001b[0m   \u001b[38;5;28;01mreturn\u001b[39;00m \u001b[43minteger_pow_p\u001b[49m\u001b[38;5;241;43m.\u001b[39;49m\u001b[43mbind\u001b[49m\u001b[43m(\u001b[49m\u001b[43mx\u001b[49m\u001b[43m,\u001b[49m\u001b[43m \u001b[49m\u001b[43my\u001b[49m\u001b[38;5;241;43m=\u001b[39;49m\u001b[43my\u001b[49m\u001b[43m)\u001b[49m\n",
      "File \u001b[0;32m~/code/NeuralSymbolicRegressionThatScales/env/lib/python3.8/site-packages/jax/core.py:274\u001b[0m, in \u001b[0;36mPrimitive.bind\u001b[0;34m(self, *args, **params)\u001b[0m\n\u001b[1;32m    271\u001b[0m \u001b[38;5;28;01mdef\u001b[39;00m \u001b[38;5;21mbind\u001b[39m(\u001b[38;5;28mself\u001b[39m, \u001b[38;5;241m*\u001b[39margs, \u001b[38;5;241m*\u001b[39m\u001b[38;5;241m*\u001b[39mparams):\n\u001b[1;32m    272\u001b[0m   \u001b[38;5;28;01massert\u001b[39;00m (\u001b[38;5;129;01mnot\u001b[39;00m config\u001b[38;5;241m.\u001b[39mjax_enable_checks \u001b[38;5;129;01mor\u001b[39;00m\n\u001b[1;32m    273\u001b[0m           \u001b[38;5;28mall\u001b[39m(\u001b[38;5;28misinstance\u001b[39m(arg, Tracer) \u001b[38;5;129;01mor\u001b[39;00m valid_jaxtype(arg) \u001b[38;5;28;01mfor\u001b[39;00m arg \u001b[38;5;129;01min\u001b[39;00m args)), args\n\u001b[0;32m--> 274\u001b[0m   \u001b[38;5;28;01mreturn\u001b[39;00m \u001b[38;5;28;43mself\u001b[39;49m\u001b[38;5;241;43m.\u001b[39;49m\u001b[43mbind_with_trace\u001b[49m\u001b[43m(\u001b[49m\u001b[43mfind_top_trace\u001b[49m\u001b[43m(\u001b[49m\u001b[43margs\u001b[49m\u001b[43m)\u001b[49m\u001b[43m,\u001b[49m\u001b[43m \u001b[49m\u001b[43margs\u001b[49m\u001b[43m,\u001b[49m\u001b[43m \u001b[49m\u001b[43mparams\u001b[49m\u001b[43m)\u001b[49m\n",
      "File \u001b[0;32m~/code/NeuralSymbolicRegressionThatScales/env/lib/python3.8/site-packages/jax/core.py:277\u001b[0m, in \u001b[0;36mPrimitive.bind_with_trace\u001b[0;34m(self, trace, args, params)\u001b[0m\n\u001b[1;32m    276\u001b[0m \u001b[38;5;28;01mdef\u001b[39;00m \u001b[38;5;21mbind_with_trace\u001b[39m(\u001b[38;5;28mself\u001b[39m, trace, args, params):\n\u001b[0;32m--> 277\u001b[0m   out \u001b[38;5;241m=\u001b[39m \u001b[43mtrace\u001b[49m\u001b[38;5;241;43m.\u001b[39;49m\u001b[43mprocess_primitive\u001b[49m\u001b[43m(\u001b[49m\u001b[38;5;28;43mself\u001b[39;49m\u001b[43m,\u001b[49m\u001b[43m \u001b[49m\u001b[38;5;28;43mmap\u001b[39;49m\u001b[43m(\u001b[49m\u001b[43mtrace\u001b[49m\u001b[38;5;241;43m.\u001b[39;49m\u001b[43mfull_raise\u001b[49m\u001b[43m,\u001b[49m\u001b[43m \u001b[49m\u001b[43margs\u001b[49m\u001b[43m)\u001b[49m\u001b[43m,\u001b[49m\u001b[43m \u001b[49m\u001b[43mparams\u001b[49m\u001b[43m)\u001b[49m\n\u001b[1;32m    278\u001b[0m   \u001b[38;5;28;01mreturn\u001b[39;00m \u001b[38;5;28mmap\u001b[39m(full_lower, out) \u001b[38;5;28;01mif\u001b[39;00m \u001b[38;5;28mself\u001b[39m\u001b[38;5;241m.\u001b[39mmultiple_results \u001b[38;5;28;01melse\u001b[39;00m full_lower(out)\n",
      "File \u001b[0;32m~/code/NeuralSymbolicRegressionThatScales/env/lib/python3.8/site-packages/jax/core.py:593\u001b[0m, in \u001b[0;36mEvalTrace.process_primitive\u001b[0;34m(self, primitive, tracers, params)\u001b[0m\n\u001b[1;32m    592\u001b[0m \u001b[38;5;28;01mdef\u001b[39;00m \u001b[38;5;21mprocess_primitive\u001b[39m(\u001b[38;5;28mself\u001b[39m, primitive, tracers, params):\n\u001b[0;32m--> 593\u001b[0m   \u001b[38;5;28;01mreturn\u001b[39;00m \u001b[43mprimitive\u001b[49m\u001b[38;5;241;43m.\u001b[39;49m\u001b[43mimpl\u001b[49m\u001b[43m(\u001b[49m\u001b[38;5;241;43m*\u001b[39;49m\u001b[43mtracers\u001b[49m\u001b[43m,\u001b[49m\u001b[43m \u001b[49m\u001b[38;5;241;43m*\u001b[39;49m\u001b[38;5;241;43m*\u001b[39;49m\u001b[43mparams\u001b[49m\u001b[43m)\u001b[49m\n",
      "File \u001b[0;32m~/code/NeuralSymbolicRegressionThatScales/env/lib/python3.8/site-packages/jax/_src/dispatch.py:92\u001b[0m, in \u001b[0;36mapply_primitive\u001b[0;34m(prim, *args, **params)\u001b[0m\n\u001b[1;32m     90\u001b[0m \u001b[38;5;28;01mdef\u001b[39;00m \u001b[38;5;21mapply_primitive\u001b[39m(prim, \u001b[38;5;241m*\u001b[39margs, \u001b[38;5;241m*\u001b[39m\u001b[38;5;241m*\u001b[39mparams):\n\u001b[1;32m     91\u001b[0m   \u001b[38;5;124;03m\"\"\"Impl rule that compiles and runs a single primitive 'prim' using XLA.\"\"\"\u001b[39;00m\n\u001b[0;32m---> 92\u001b[0m   compiled_fun \u001b[38;5;241m=\u001b[39m \u001b[43mxla_primitive_callable\u001b[49m\u001b[43m(\u001b[49m\u001b[43mprim\u001b[49m\u001b[43m,\u001b[49m\u001b[43m \u001b[49m\u001b[38;5;241;43m*\u001b[39;49m\u001b[43munsafe_map\u001b[49m\u001b[43m(\u001b[49m\u001b[43marg_spec\u001b[49m\u001b[43m,\u001b[49m\u001b[43m \u001b[49m\u001b[43margs\u001b[49m\u001b[43m)\u001b[49m\u001b[43m,\u001b[49m\n\u001b[1;32m     93\u001b[0m \u001b[43m                                        \u001b[49m\u001b[38;5;241;43m*\u001b[39;49m\u001b[38;5;241;43m*\u001b[39;49m\u001b[43mparams\u001b[49m\u001b[43m)\u001b[49m\n\u001b[1;32m     94\u001b[0m   \u001b[38;5;28;01mreturn\u001b[39;00m compiled_fun(\u001b[38;5;241m*\u001b[39margs)\n",
      "File \u001b[0;32m~/code/NeuralSymbolicRegressionThatScales/env/lib/python3.8/site-packages/jax/_src/util.py:202\u001b[0m, in \u001b[0;36mcache.<locals>.wrap.<locals>.wrapper\u001b[0;34m(*args, **kwargs)\u001b[0m\n\u001b[1;32m    200\u001b[0m   \u001b[38;5;28;01mreturn\u001b[39;00m f(\u001b[38;5;241m*\u001b[39margs, \u001b[38;5;241m*\u001b[39m\u001b[38;5;241m*\u001b[39mkwargs)\n\u001b[1;32m    201\u001b[0m \u001b[38;5;28;01melse\u001b[39;00m:\n\u001b[0;32m--> 202\u001b[0m   \u001b[38;5;28;01mreturn\u001b[39;00m \u001b[43mcached\u001b[49m\u001b[43m(\u001b[49m\u001b[43mconfig\u001b[49m\u001b[38;5;241;43m.\u001b[39;49m\u001b[43m_trace_context\u001b[49m\u001b[43m(\u001b[49m\u001b[43m)\u001b[49m\u001b[43m,\u001b[49m\u001b[43m \u001b[49m\u001b[38;5;241;43m*\u001b[39;49m\u001b[43margs\u001b[49m\u001b[43m,\u001b[49m\u001b[43m \u001b[49m\u001b[38;5;241;43m*\u001b[39;49m\u001b[38;5;241;43m*\u001b[39;49m\u001b[43mkwargs\u001b[49m\u001b[43m)\u001b[49m\n",
      "File \u001b[0;32m~/code/NeuralSymbolicRegressionThatScales/env/lib/python3.8/site-packages/jax/_src/util.py:195\u001b[0m, in \u001b[0;36mcache.<locals>.wrap.<locals>.cached\u001b[0;34m(_, *args, **kwargs)\u001b[0m\n\u001b[1;32m    193\u001b[0m \u001b[38;5;129m@functools\u001b[39m\u001b[38;5;241m.\u001b[39mlru_cache(max_size)\n\u001b[1;32m    194\u001b[0m \u001b[38;5;28;01mdef\u001b[39;00m \u001b[38;5;21mcached\u001b[39m(_, \u001b[38;5;241m*\u001b[39margs, \u001b[38;5;241m*\u001b[39m\u001b[38;5;241m*\u001b[39mkwargs):\n\u001b[0;32m--> 195\u001b[0m   \u001b[38;5;28;01mreturn\u001b[39;00m \u001b[43mf\u001b[49m\u001b[43m(\u001b[49m\u001b[38;5;241;43m*\u001b[39;49m\u001b[43margs\u001b[49m\u001b[43m,\u001b[49m\u001b[43m \u001b[49m\u001b[38;5;241;43m*\u001b[39;49m\u001b[38;5;241;43m*\u001b[39;49m\u001b[43mkwargs\u001b[49m\u001b[43m)\u001b[49m\n",
      "File \u001b[0;32m~/code/NeuralSymbolicRegressionThatScales/env/lib/python3.8/site-packages/jax/_src/dispatch.py:111\u001b[0m, in \u001b[0;36mxla_primitive_callable\u001b[0;34m(prim, *arg_specs, **params)\u001b[0m\n\u001b[1;32m    109\u001b[0m   \u001b[38;5;28;01melse\u001b[39;00m:\n\u001b[1;32m    110\u001b[0m     \u001b[38;5;28;01mreturn\u001b[39;00m out,\n\u001b[0;32m--> 111\u001b[0m compiled \u001b[38;5;241m=\u001b[39m \u001b[43m_xla_callable_uncached\u001b[49m\u001b[43m(\u001b[49m\u001b[43mlu\u001b[49m\u001b[38;5;241;43m.\u001b[39;49m\u001b[43mwrap_init\u001b[49m\u001b[43m(\u001b[49m\u001b[43mprim_fun\u001b[49m\u001b[43m)\u001b[49m\u001b[43m,\u001b[49m\u001b[43m \u001b[49m\u001b[43mdevice\u001b[49m\u001b[43m,\u001b[49m\u001b[43m \u001b[49m\u001b[38;5;28;43;01mNone\u001b[39;49;00m\u001b[43m,\u001b[49m\n\u001b[1;32m    112\u001b[0m \u001b[43m                                  \u001b[49m\u001b[43mprim\u001b[49m\u001b[38;5;241;43m.\u001b[39;49m\u001b[43mname\u001b[49m\u001b[43m,\u001b[49m\u001b[43m \u001b[49m\u001b[43mdonated_invars\u001b[49m\u001b[43m,\u001b[49m\u001b[43m \u001b[49m\u001b[38;5;241;43m*\u001b[39;49m\u001b[43marg_specs\u001b[49m\u001b[43m)\u001b[49m\n\u001b[1;32m    113\u001b[0m \u001b[38;5;28;01mif\u001b[39;00m \u001b[38;5;129;01mnot\u001b[39;00m prim\u001b[38;5;241m.\u001b[39mmultiple_results:\n\u001b[1;32m    114\u001b[0m   \u001b[38;5;28;01mreturn\u001b[39;00m \u001b[38;5;28;01mlambda\u001b[39;00m \u001b[38;5;241m*\u001b[39margs, \u001b[38;5;241m*\u001b[39m\u001b[38;5;241m*\u001b[39mkw: compiled(\u001b[38;5;241m*\u001b[39margs, \u001b[38;5;241m*\u001b[39m\u001b[38;5;241m*\u001b[39mkw)[\u001b[38;5;241m0\u001b[39m]\n",
      "File \u001b[0;32m~/code/NeuralSymbolicRegressionThatScales/env/lib/python3.8/site-packages/jax/_src/dispatch.py:169\u001b[0m, in \u001b[0;36m_xla_callable_uncached\u001b[0;34m(fun, device, backend, name, donated_invars, *arg_specs)\u001b[0m\n\u001b[1;32m    167\u001b[0m \u001b[38;5;28;01mdef\u001b[39;00m \u001b[38;5;21m_xla_callable_uncached\u001b[39m(fun: lu\u001b[38;5;241m.\u001b[39mWrappedFun, device, backend, name,\n\u001b[1;32m    168\u001b[0m                            donated_invars, \u001b[38;5;241m*\u001b[39marg_specs):\n\u001b[0;32m--> 169\u001b[0m   \u001b[38;5;28;01mreturn\u001b[39;00m \u001b[43mlower_xla_callable\u001b[49m\u001b[43m(\u001b[49m\u001b[43mfun\u001b[49m\u001b[43m,\u001b[49m\u001b[43m \u001b[49m\u001b[43mdevice\u001b[49m\u001b[43m,\u001b[49m\u001b[43m \u001b[49m\u001b[43mbackend\u001b[49m\u001b[43m,\u001b[49m\u001b[43m \u001b[49m\u001b[43mname\u001b[49m\u001b[43m,\u001b[49m\u001b[43m \u001b[49m\u001b[43mdonated_invars\u001b[49m\u001b[43m,\u001b[49m\n\u001b[1;32m    170\u001b[0m \u001b[43m                            \u001b[49m\u001b[38;5;241;43m*\u001b[39;49m\u001b[43marg_specs\u001b[49m\u001b[43m)\u001b[49m\u001b[38;5;241;43m.\u001b[39;49m\u001b[43mcompile\u001b[49m\u001b[43m(\u001b[49m\u001b[43m)\u001b[49m\u001b[38;5;241m.\u001b[39munsafe_call\n",
      "File \u001b[0;32m~/code/NeuralSymbolicRegressionThatScales/env/lib/python3.8/site-packages/jax/_src/dispatch.py:526\u001b[0m, in \u001b[0;36mXlaComputation.compile\u001b[0;34m(self)\u001b[0m\n\u001b[1;32m    523\u001b[0m     \u001b[38;5;28mself\u001b[39m\u001b[38;5;241m.\u001b[39m_executable \u001b[38;5;241m=\u001b[39m XlaCompiledComputation\u001b[38;5;241m.\u001b[39mfrom_trivial_jaxpr(\n\u001b[1;32m    524\u001b[0m         \u001b[38;5;241m*\u001b[39m\u001b[38;5;241m*\u001b[39m\u001b[38;5;28mself\u001b[39m\u001b[38;5;241m.\u001b[39mcompile_args)\n\u001b[1;32m    525\u001b[0m   \u001b[38;5;28;01melse\u001b[39;00m:\n\u001b[0;32m--> 526\u001b[0m     \u001b[38;5;28mself\u001b[39m\u001b[38;5;241m.\u001b[39m_executable \u001b[38;5;241m=\u001b[39m \u001b[43mXlaCompiledComputation\u001b[49m\u001b[38;5;241;43m.\u001b[39;49m\u001b[43mfrom_xla_computation\u001b[49m\u001b[43m(\u001b[49m\n\u001b[1;32m    527\u001b[0m \u001b[43m        \u001b[49m\u001b[38;5;28;43mself\u001b[39;49m\u001b[38;5;241;43m.\u001b[39;49m\u001b[43mname\u001b[49m\u001b[43m,\u001b[49m\u001b[43m \u001b[49m\u001b[38;5;28;43mself\u001b[39;49m\u001b[38;5;241;43m.\u001b[39;49m\u001b[43m_hlo\u001b[49m\u001b[43m,\u001b[49m\u001b[43m \u001b[49m\u001b[38;5;241;43m*\u001b[39;49m\u001b[38;5;241;43m*\u001b[39;49m\u001b[38;5;28;43mself\u001b[39;49m\u001b[38;5;241;43m.\u001b[39;49m\u001b[43mcompile_args\u001b[49m\u001b[43m)\u001b[49m\n\u001b[1;32m    529\u001b[0m \u001b[38;5;28;01mreturn\u001b[39;00m \u001b[38;5;28mself\u001b[39m\u001b[38;5;241m.\u001b[39m_executable\n",
      "File \u001b[0;32m~/code/NeuralSymbolicRegressionThatScales/env/lib/python3.8/site-packages/jax/_src/dispatch.py:611\u001b[0m, in \u001b[0;36mXlaCompiledComputation.from_xla_computation\u001b[0;34m(name, xla_computation, nreps, device, backend, tuple_args, in_avals, out_avals, kept_var_idx)\u001b[0m\n\u001b[1;32m    608\u001b[0m options\u001b[38;5;241m.\u001b[39mparameter_is_tupled_arguments \u001b[38;5;241m=\u001b[39m tuple_args\n\u001b[1;32m    609\u001b[0m \u001b[38;5;28;01mwith\u001b[39;00m log_elapsed_time(\u001b[38;5;124mf\u001b[39m\u001b[38;5;124m\"\u001b[39m\u001b[38;5;124mFinished XLA compilation of \u001b[39m\u001b[38;5;132;01m{\u001b[39;00mname\u001b[38;5;132;01m}\u001b[39;00m\u001b[38;5;124m \u001b[39m\u001b[38;5;124m\"\u001b[39m\n\u001b[1;32m    610\u001b[0m                       \u001b[38;5;124m\"\u001b[39m\u001b[38;5;124min \u001b[39m\u001b[38;5;132;01m{elapsed_time}\u001b[39;00m\u001b[38;5;124m sec\u001b[39m\u001b[38;5;124m\"\u001b[39m):\n\u001b[0;32m--> 611\u001b[0m   compiled \u001b[38;5;241m=\u001b[39m \u001b[43mcompile_or_get_cached\u001b[49m\u001b[43m(\u001b[49m\u001b[43mbackend\u001b[49m\u001b[43m,\u001b[49m\u001b[43m \u001b[49m\u001b[43mxla_computation\u001b[49m\u001b[43m,\u001b[49m\u001b[43m \u001b[49m\u001b[43moptions\u001b[49m\u001b[43m)\u001b[49m\n\u001b[1;32m    612\u001b[0m buffer_counts \u001b[38;5;241m=\u001b[39m (\u001b[38;5;28;01mNone\u001b[39;00m \u001b[38;5;28;01mif\u001b[39;00m \u001b[38;5;28mlen\u001b[39m(out_avals) \u001b[38;5;241m==\u001b[39m \u001b[38;5;241m1\u001b[39m \u001b[38;5;28;01melse\u001b[39;00m\n\u001b[1;32m    613\u001b[0m                  [aval_to_num_buffers(aval) \u001b[38;5;28;01mfor\u001b[39;00m aval \u001b[38;5;129;01min\u001b[39;00m out_avals])\n\u001b[1;32m    614\u001b[0m execute \u001b[38;5;241m=\u001b[39m _execute_compiled \u001b[38;5;28;01mif\u001b[39;00m nreps \u001b[38;5;241m==\u001b[39m \u001b[38;5;241m1\u001b[39m \u001b[38;5;28;01melse\u001b[39;00m _execute_replicated\n",
      "File \u001b[0;32m~/code/NeuralSymbolicRegressionThatScales/env/lib/python3.8/site-packages/jax/_src/dispatch.py:580\u001b[0m, in \u001b[0;36mcompile_or_get_cached\u001b[0;34m(backend, computation, compile_options)\u001b[0m\n\u001b[1;32m    577\u001b[0m   ir_str \u001b[38;5;241m=\u001b[39m (computation \u001b[38;5;28;01mif\u001b[39;00m \u001b[38;5;28misinstance\u001b[39m(computation, \u001b[38;5;28mstr\u001b[39m)\n\u001b[1;32m    578\u001b[0m             \u001b[38;5;28;01melse\u001b[39;00m computation\u001b[38;5;241m.\u001b[39mas_hlo_text())\n\u001b[1;32m    579\u001b[0m   _dump_ir_to_file(module_name, ir_str)\n\u001b[0;32m--> 580\u001b[0m \u001b[38;5;28;01mreturn\u001b[39;00m \u001b[43mbackend_compile\u001b[49m\u001b[43m(\u001b[49m\u001b[43mbackend\u001b[49m\u001b[43m,\u001b[49m\u001b[43m \u001b[49m\u001b[43mcomputation\u001b[49m\u001b[43m,\u001b[49m\u001b[43m \u001b[49m\u001b[43mcompile_options\u001b[49m\u001b[43m)\u001b[49m\n",
      "File \u001b[0;32m~/code/NeuralSymbolicRegressionThatScales/env/lib/python3.8/site-packages/jax/_src/profiler.py:206\u001b[0m, in \u001b[0;36mannotate_function.<locals>.wrapper\u001b[0;34m(*args, **kwargs)\u001b[0m\n\u001b[1;32m    203\u001b[0m \u001b[38;5;129m@wraps\u001b[39m(func)\n\u001b[1;32m    204\u001b[0m \u001b[38;5;28;01mdef\u001b[39;00m \u001b[38;5;21mwrapper\u001b[39m(\u001b[38;5;241m*\u001b[39margs, \u001b[38;5;241m*\u001b[39m\u001b[38;5;241m*\u001b[39mkwargs):\n\u001b[1;32m    205\u001b[0m   \u001b[38;5;28;01mwith\u001b[39;00m TraceAnnotation(name, \u001b[38;5;241m*\u001b[39m\u001b[38;5;241m*\u001b[39mdecorator_kwargs):\n\u001b[0;32m--> 206\u001b[0m     \u001b[38;5;28;01mreturn\u001b[39;00m \u001b[43mfunc\u001b[49m\u001b[43m(\u001b[49m\u001b[38;5;241;43m*\u001b[39;49m\u001b[43margs\u001b[49m\u001b[43m,\u001b[49m\u001b[43m \u001b[49m\u001b[38;5;241;43m*\u001b[39;49m\u001b[38;5;241;43m*\u001b[39;49m\u001b[43mkwargs\u001b[49m\u001b[43m)\u001b[49m\n\u001b[1;32m    207\u001b[0m   \u001b[38;5;28;01mreturn\u001b[39;00m wrapper\n",
      "File \u001b[0;32m~/code/NeuralSymbolicRegressionThatScales/env/lib/python3.8/site-packages/jax/_src/dispatch.py:535\u001b[0m, in \u001b[0;36mbackend_compile\u001b[0;34m(backend, built_c, options)\u001b[0m\n\u001b[1;32m    531\u001b[0m \u001b[38;5;129m@profiler\u001b[39m\u001b[38;5;241m.\u001b[39mannotate_function\n\u001b[1;32m    532\u001b[0m \u001b[38;5;28;01mdef\u001b[39;00m \u001b[38;5;21mbackend_compile\u001b[39m(backend, built_c, options):\n\u001b[1;32m    533\u001b[0m   \u001b[38;5;66;03m# we use a separate function call to ensure that XLA compilation appears\u001b[39;00m\n\u001b[1;32m    534\u001b[0m   \u001b[38;5;66;03m# separately in Python profiling results\u001b[39;00m\n\u001b[0;32m--> 535\u001b[0m   \u001b[38;5;28;01mreturn\u001b[39;00m \u001b[43mbackend\u001b[49m\u001b[38;5;241;43m.\u001b[39;49m\u001b[43mcompile\u001b[49m\u001b[43m(\u001b[49m\u001b[43mbuilt_c\u001b[49m\u001b[43m,\u001b[49m\u001b[43m \u001b[49m\u001b[43mcompile_options\u001b[49m\u001b[38;5;241;43m=\u001b[39;49m\u001b[43moptions\u001b[49m\u001b[43m)\u001b[49m\n",
      "\u001b[0;31mKeyboardInterrupt\u001b[0m: "
     ]
    }
   ],
   "source": [
    "for i in range(10000):\n",
    "    loss_val, grads = loss_grad_fn(params)\n",
    "    updates, opt_state = tx.update(grads, opt_state)\n",
    "    params = optax.apply_updates(params, updates)\n",
    "    if i % 99 == 0:\n",
    "        print(loss_val)"
   ]
  },
  {
   "cell_type": "code",
   "execution_count": 22,
   "id": "80303e46",
   "metadata": {
    "ExecuteTime": {
     "end_time": "2022-11-22T11:35:45.286322Z",
     "start_time": "2022-11-22T11:35:45.267961Z"
    }
   },
   "outputs": [
    {
     "data": {
      "text/plain": [
       "FrozenDict({\n",
       "    params: {\n",
       "        last: {\n",
       "            bias: DeviceArray([0.18907651], dtype=float32),\n",
       "            kernel: DeviceArray([[ 0.3093719 ],\n",
       "                         [-0.20909262],\n",
       "                         [ 0.2651188 ],\n",
       "                         [ 0.49299037],\n",
       "                         [ 0.588305  ],\n",
       "                         [ 0.3081454 ]], dtype=float32),\n",
       "        },\n",
       "        layers_0: {\n",
       "            linear_layer: {\n",
       "                bias: DeviceArray([ 0.12463151,  0.05000146, -0.15119174, -0.30613348,\n",
       "                              0.09569556,  0.11766236, -0.03175413, -0.29099533],            dtype=float32),\n",
       "                kernel: DeviceArray([[-0.6132989,  0.0657657, -1.1314934, -1.2790749, -0.8241023,\n",
       "                              -2.2584727,  0.3420058, -1.4921745]], dtype=float32),\n",
       "            },\n",
       "        },\n",
       "        layers_1: {\n",
       "            linear_layer: {\n",
       "                bias: DeviceArray([ 0.13890126,  0.2596124 ,  0.21440063, -0.21265374,\n",
       "                              0.01050282,  0.06809567,  0.27886185,  0.27353236],            dtype=float32),\n",
       "                kernel: DeviceArray([[ 0.23393586,  0.4807544 , -0.25010413, -0.9540076 ,\n",
       "                              -0.31218177, -0.26740047,  0.4216124 , -0.01910747],\n",
       "                             [ 0.14609596, -0.02895869, -0.6838582 , -0.03061178,\n",
       "                              -0.10976573, -0.2593081 ,  0.5887135 , -0.6777186 ],\n",
       "                             [ 0.5644878 ,  0.57985044, -0.07322527,  0.50385964,\n",
       "                               0.38154867,  0.37380594, -0.0606281 ,  0.5928537 ],\n",
       "                             [ 0.22131647, -0.068105  ,  0.02038727,  0.6854741 ,\n",
       "                              -0.275263  ,  0.6009543 , -0.44331855, -0.6240821 ],\n",
       "                             [ 0.6417498 ,  0.72957766,  0.4994315 , -0.17380762,\n",
       "                              -0.21973301, -0.27445418,  0.267519  ,  0.31596005],\n",
       "                             [-0.44148988,  0.3777525 , -0.2937928 , -0.05898675,\n",
       "                              -0.0112713 ,  0.53305304,  0.86205477,  0.6127499 ]],            dtype=float32),\n",
       "            },\n",
       "        },\n",
       "    },\n",
       "})"
      ]
     },
     "execution_count": 22,
     "metadata": {},
     "output_type": "execute_result"
    }
   ],
   "source": [
    "params"
   ]
  },
  {
   "cell_type": "code",
   "execution_count": 23,
   "id": "b0675219",
   "metadata": {
    "ExecuteTime": {
     "end_time": "2022-11-22T11:35:55.325371Z",
     "start_time": "2022-11-22T11:35:54.921866Z"
    }
   },
   "outputs": [
    {
     "name": "stdout",
     "output_type": "stream",
     "text": [
      "0.588304996490479*(-0.44148987531662*(0.0956955552101135 - 0.824102282524109*x0)*(0.117662355303764 - 2.25847268104553*x0) + 0.641749799251556*(0.124631509184837 - 0.613298892974854*x0)*(0.0657657012343407*x0 + 0.0500014573335648) - 0.146095961332321*sin(1.27907490730286*x0 + 0.306133478879929) - 0.2213164716959*sin(1.49217450618744*x0 + 0.290995329618454) + 0.564487814903259*cos(0.342005789279938*x0 - 0.03175413236022) + 0.233935862779617*cos(1.13149344921112*x0 + 0.151191741228104) + 0.138901263475418)*(0.377752512693405*(0.0956955552101135 - 0.824102282524109*x0)*(0.117662355303764 - 2.25847268104553*x0) + 0.729577660560608*(0.124631509184837 - 0.613298892974854*x0)*(0.0657657012343407*x0 + 0.0500014573335648) + 0.028958685696125*sin(1.27907490730286*x0 + 0.306133478879929) + 0.0681050047278404*sin(1.49217450618744*x0 + 0.290995329618454) + 0.579850435256958*cos(0.342005789279938*x0 - 0.03175413236022) + 0.480754405260086*cos(1.13149344921112*x0 + 0.151191741228104) + 0.259612411260605) + 0.308145403862*(-0.0112713007256389*(0.0956955552101135 - 0.824102282524109*x0)*(0.117662355303764 - 2.25847268104553*x0) - 0.219733014702797*(0.124631509184837 - 0.613298892974854*x0)*(0.0657657012343407*x0 + 0.0500014573335648) + 0.109765730798244*sin(1.27907490730286*x0 + 0.306133478879929) + 0.275263011455536*sin(1.49217450618744*x0 + 0.290995329618454) + 0.381548672914505*cos(0.342005789279938*x0 - 0.03175413236022) - 0.312181770801544*cos(1.13149344921112*x0 + 0.151191741228104) + 0.0105028161779046)*(0.533053040504456*(0.0956955552101135 - 0.824102282524109*x0)*(0.117662355303764 - 2.25847268104553*x0) - 0.274454176425934*(0.124631509184837 - 0.613298892974854*x0)*(0.0657657012343407*x0 + 0.0500014573335648) + 0.259308099746704*sin(1.27907490730286*x0 + 0.306133478879929) - 0.600954294204712*sin(1.49217450618744*x0 + 0.290995329618454) + 0.373805940151215*cos(0.342005789279938*x0 - 0.03175413236022) - 0.267400473356247*cos(1.13149344921112*x0 + 0.151191741228104) + 0.0680956691503525) + 0.209092617034912*sin(0.0589867532253265*(0.0956955552101135 - 0.824102282524109*x0)*(0.117662355303764 - 2.25847268104553*x0) + 0.173807621002197*(0.124631509184837 - 0.613298892974854*x0)*(0.0657657012343407*x0 + 0.0500014573335648) - 0.0306117776781321*sin(1.27907490730286*x0 + 0.306133478879929) + 0.685474097728729*sin(1.49217450618744*x0 + 0.290995329618454) - 0.503859639167786*cos(0.342005789279938*x0 - 0.03175413236022) + 0.954007625579834*cos(1.13149344921112*x0 + 0.151191741228104) + 0.212653741240501) + 0.492990374565125*sin(0.612749874591827*(0.0956955552101135 - 0.824102282524109*x0)*(0.117662355303764 - 2.25847268104553*x0) + 0.315960049629211*(0.124631509184837 - 0.613298892974854*x0)*(0.0657657012343407*x0 + 0.0500014573335648) + 0.677718579769135*sin(1.27907490730286*x0 + 0.306133478879929) + 0.624082088470459*sin(1.49217450618744*x0 + 0.290995329618454) + 0.592853724956512*cos(0.342005789279938*x0 - 0.03175413236022) - 0.019107474014163*cos(1.13149344921112*x0 + 0.151191741228104) + 0.27353236079216) + 0.309371888637543*cos(0.293792814016342*(0.0956955552101135 - 0.824102282524109*x0)*(0.117662355303764 - 2.25847268104553*x0) - 0.499431490898132*(0.124631509184837 - 0.613298892974854*x0)*(0.0657657012343407*x0 + 0.0500014573335648) - 0.683858215808868*sin(1.27907490730286*x0 + 0.306133478879929) + 0.0203872676938772*sin(1.49217450618744*x0 + 0.290995329618454) + 0.073225274682045*cos(0.342005789279938*x0 - 0.03175413236022) + 0.250104129314423*cos(1.13149344921112*x0 + 0.151191741228104) - 0.214400634169579) + 0.265118807554245*cos(0.862054765224457*(0.0956955552101135 - 0.824102282524109*x0)*(0.117662355303764 - 2.25847268104553*x0) + 0.267518997192383*(0.124631509184837 - 0.613298892974854*x0)*(0.0657657012343407*x0 + 0.0500014573335648) - 0.588713526725769*sin(1.27907490730286*x0 + 0.306133478879929) + 0.443318545818329*sin(1.49217450618744*x0 + 0.290995329618454) - 0.0606280975043774*cos(0.342005789279938*x0 - 0.03175413236022) + 0.421612411737442*cos(1.13149344921112*x0 + 0.151191741228104) + 0.278861850500107) + 0.189076513051987\n"
     ]
    }
   ],
   "source": [
    "symb = get_symbolic_expr(params, funs)[0]\n",
    "print(symb)"
   ]
  },
  {
   "cell_type": "code",
   "execution_count": null,
   "id": "e397cfa1",
   "metadata": {},
   "outputs": [],
   "source": []
  }
 ],
 "metadata": {
  "kernelspec": {
   "display_name": "Python 3 (ipykernel)",
   "language": "python",
   "name": "python3"
  },
  "language_info": {
   "codemirror_mode": {
    "name": "ipython",
    "version": 3
   },
   "file_extension": ".py",
   "mimetype": "text/x-python",
   "name": "python",
   "nbconvert_exporter": "python",
   "pygments_lexer": "ipython3",
   "version": "3.8.10"
  },
  "varInspector": {
   "cols": {
    "lenName": 16,
    "lenType": 16,
    "lenVar": 40
   },
   "kernels_config": {
    "python": {
     "delete_cmd_postfix": "",
     "delete_cmd_prefix": "del ",
     "library": "var_list.py",
     "varRefreshCmd": "print(var_dic_list())"
    },
    "r": {
     "delete_cmd_postfix": ") ",
     "delete_cmd_prefix": "rm(",
     "library": "var_list.r",
     "varRefreshCmd": "cat(var_dic_list()) "
    }
   },
   "types_to_exclude": [
    "module",
    "function",
    "builtin_function_or_method",
    "instance",
    "_Feature"
   ],
   "window_display": false
  }
 },
 "nbformat": 4,
 "nbformat_minor": 5
}
