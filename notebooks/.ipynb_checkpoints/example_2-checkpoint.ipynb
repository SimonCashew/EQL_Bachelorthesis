{
 "cells": [
  {
   "cell_type": "code",
   "execution_count": 11,
   "id": "004dede5",
   "metadata": {
    "ExecuteTime": {
     "end_time": "2023-01-18T12:21:29.462619Z",
     "start_time": "2023-01-18T12:21:28.537787Z"
    }
   },
   "outputs": [],
   "source": [
    "import jax\n",
    "from jax import lax, random, numpy as jnp\n",
    "from jax.tree_util import tree_flatten, tree_unflatten\n",
    "\n",
    "import flax\n",
    "from flax import linen as nn\n",
    "\n",
    "import sympy as sy\n",
    "import numpy as np\n",
    "\n",
    "import sys\n",
    "sys.path.append(\"..\")\n",
    "\n",
    "from eql.eqlearner import EQL\n",
    "from eql.symbolic import get_symbolic_expr, get_symbolic_expr_layer\n",
    "\n",
    "import optax\n",
    "import scipy\n",
    "from functools import partial"
   ]
  },
  {
   "cell_type": "code",
   "execution_count": 12,
   "id": "194c741e",
   "metadata": {
    "ExecuteTime": {
     "end_time": "2023-01-18T12:21:29.524128Z",
     "start_time": "2023-01-18T12:21:29.471119Z"
    }
   },
   "outputs": [],
   "source": [
    "funs = ['mul', 'cos', 'sin']*2\n",
    "e = EQL(n_layers=2, functions=funs, features=1)\n",
    "key = random.PRNGKey(0)"
   ]
  },
  {
   "cell_type": "code",
   "execution_count": 13,
   "id": "b74deec9",
   "metadata": {
    "ExecuteTime": {
     "end_time": "2023-01-18T12:21:29.725277Z",
     "start_time": "2023-01-18T12:21:29.535068Z"
    }
   },
   "outputs": [],
   "source": [
    "N = 1000\n",
    "xdim = 1\n",
    "x = (random.uniform(key, (N, xdim))-.5) * 2\n",
    "#x = np.array([[1., 2.]]).T\n",
    "#x = np.linspace(-1, 1, N)[:,None]\n",
    "#y = x[:,0] + jnp.cos(x[:,1])\n",
    "y = jnp.cos(x) + 1 - x**2 "
   ]
  },
  {
   "cell_type": "code",
   "execution_count": 14,
   "id": "fd3ff5e6",
   "metadata": {
    "ExecuteTime": {
     "end_time": "2022-11-22T11:36:26.627069Z",
     "start_time": "2022-11-22T11:36:26.363470Z"
    }
   },
   "outputs": [],
   "source": [
    "params = e.init({'params':key}, x);"
   ]
  },
  {
   "cell_type": "code",
   "execution_count": 15,
   "id": "73cc3ecb",
   "metadata": {
    "ExecuteTime": {
     "end_time": "2022-11-22T11:37:12.210117Z",
     "start_time": "2022-11-22T11:37:12.203297Z"
    }
   },
   "outputs": [],
   "source": [
    "def mse_fn(params):\n",
    "    pred = e.apply(params, x)\n",
    "    return jnp.mean((pred-y)**2)\n",
    "\n",
    "\n",
    "def get_mask_spec(thresh, params):\n",
    "    flat, spec = tree_flatten(params)\n",
    "    mask = [jnp.abs(f) > thresh for f in flat]\n",
    "    return mask, spec\n",
    "\n",
    "def apply_mask(mask, spec, params):\n",
    "    flat, _ = tree_flatten(params)\n",
    "    masked_params = tree_unflatten(spec, [f*m for f,m in zip(flat, mask)])\n",
    "    return masked_params\n",
    "\n",
    "\n",
    "def get_masked_mse(thresh, params):\n",
    "    mask, spec = get_mask_spec(thresh, params)\n",
    "    def masked_mse(params):\n",
    "        masked_params = apply_mask(mask, spec, params)\n",
    "        return mse_fn(masked_params)\n",
    "    return jax.jit(masked_mse)\n",
    "    \n",
    "\n",
    "def l1_fn(params):\n",
    "    return sum(\n",
    "        jnp.abs(w).mean() for w in jax.tree.leaves(params[\"params\"])\n",
    "    )"
   ]
  },
  {
   "cell_type": "code",
   "execution_count": 16,
   "id": "5da75c98",
   "metadata": {
    "ExecuteTime": {
     "end_time": "2022-11-22T11:42:51.624463Z",
     "start_time": "2022-11-22T11:42:51.609212Z"
    },
    "collapsed": true
   },
   "outputs": [
    {
     "data": {
      "text/plain": [
       "{'params': {'layers_0': {'linear_layer': {'kernel': Array([[ 0.6292481 , -0.54229003, -0.4677973 ,  0.70746535,  0.09610943,\n",
       "             0.4903576 ,  0.06954016,  0.31511047]], dtype=float32),\n",
       "    'bias': Array([0., 0., 0., 0., 0., 0., 0., 0.], dtype=float32)}},\n",
       "  'layers_1': {'linear_layer': {'kernel': Array([[ 0.19629148,  0.06706532,  0.00969497,  0.23161124, -0.11875771,\n",
       "             0.01930422,  0.05764793, -0.0596979 ],\n",
       "           [ 0.4696742 ,  0.46638718,  0.21155392, -0.8553514 ,  0.6172892 ,\n",
       "            -0.44233188,  0.22190586, -0.18106432],\n",
       "           [-0.44605988, -0.20469512, -0.32464647,  0.5807687 ,  0.02217815,\n",
       "            -0.2559955 ,  0.17005439,  0.71249163],\n",
       "           [ 0.45161504, -0.10305008, -0.47209048,  0.35264972, -0.3844344 ,\n",
       "             0.2527192 , -0.5963687 ,  0.310487  ],\n",
       "           [-0.04032504,  0.10622181,  0.5348187 ,  0.14317314,  0.38765785,\n",
       "            -0.48200536, -0.28618744,  0.3023454 ],\n",
       "           [-0.90012056, -0.02397138, -0.5772944 , -0.01594903, -0.32118613,\n",
       "             0.45124516,  0.42732358,  0.45643777]], dtype=float32),\n",
       "    'bias': Array([0., 0., 0., 0., 0., 0., 0., 0.], dtype=float32)}},\n",
       "  'last': {'kernel': Array([[ 0.3419978 ],\n",
       "          [ 0.7218391 ],\n",
       "          [-0.6941807 ],\n",
       "          [-0.0590653 ],\n",
       "          [-0.01466033],\n",
       "          [-0.08124907]], dtype=float32),\n",
       "   'bias': Array([0.], dtype=float32)}}}"
      ]
     },
     "execution_count": 16,
     "metadata": {},
     "output_type": "execute_result"
    }
   ],
   "source": [
    "params"
   ]
  },
  {
   "cell_type": "code",
   "execution_count": 17,
   "id": "abc6f00e",
   "metadata": {
    "ExecuteTime": {
     "end_time": "2022-11-22T11:37:12.420477Z",
     "start_time": "2022-11-22T11:37:12.417079Z"
    }
   },
   "outputs": [],
   "source": [
    "def get_loss(lamba):\n",
    "    def loss_fn(params):\n",
    "        return mse_fn(params)  + lamba * l1_fn(params)\n",
    "    return loss_fn\n",
    "\n",
    "def get_loss_grad(lamba):\n",
    "    loss = get_loss(lamba)\n",
    "    return jax.jit(jax.value_and_grad(loss))"
   ]
  },
  {
   "cell_type": "code",
   "execution_count": 18,
   "id": "5c47711b",
   "metadata": {
    "ExecuteTime": {
     "end_time": "2022-11-22T11:39:11.518078Z",
     "start_time": "2022-11-22T11:39:11.497603Z"
    }
   },
   "outputs": [],
   "source": [
    "tx = optax.adam(learning_rate=1e-2)\n",
    "opt_state = tx.init(params)"
   ]
  },
  {
   "cell_type": "code",
   "execution_count": 19,
   "id": "097ca4d8",
   "metadata": {
    "ExecuteTime": {
     "end_time": "2022-11-22T11:40:26.091999Z",
     "start_time": "2022-11-22T11:39:18.888019Z"
    }
   },
   "outputs": [
    {
     "name": "stdout",
     "output_type": "stream",
     "text": [
      "2.2196107\n",
      "0.0027071459\n",
      "0.00042087253\n",
      "0.00026541023\n",
      "0.000110642635\n",
      "2.054354e-05\n",
      "4.461378e-06\n",
      "3.6788986e-06\n",
      "3.520743e-06\n",
      "3.3639694e-06\n",
      "3.2019138e-06\n",
      "0.01937606\n",
      "1.9362589\n",
      "0.015194671\n",
      "1.5163494\n",
      "0.013030678\n",
      "1.3007543\n",
      "0.011318412\n",
      "1.1294502\n",
      "0.010037608\n",
      "1.0021915\n",
      "0.0093057\n",
      "0.92825687\n",
      "0.008812487\n",
      "0.8789349\n",
      "0.008337744\n",
      "0.83210635\n",
      "0.007929334\n",
      "0.7913948\n",
      "0.0074878247\n",
      "0.74704474\n",
      "0.007223872\n",
      "0.7198574\n",
      "0.007066483\n",
      "0.7029166\n",
      "0.0068825274\n",
      "0.68673295\n",
      "0.006710681\n",
      "0.66948044\n",
      "0.0065550273\n",
      "0.65283126\n",
      "0.006368868\n",
      "0.6353921\n",
      "0.0062357467\n",
      "0.62077147\n",
      "0.0060761394\n",
      "0.60593516\n",
      "0.0059197755\n",
      "0.59000623\n",
      "0.0057567125\n",
      "0.5735217\n",
      "0.0055760015\n",
      "0.55551046\n",
      "0.0053894017\n",
      "0.537537\n",
      "0.005245107\n",
      "0.5218966\n",
      "0.0050993543\n",
      "0.50813997\n",
      "0.0049803494\n",
      "0.49398902\n",
      "0.004815019\n",
      "0.48012897\n",
      "0.0047136415\n",
      "0.46753278\n",
      "0.004540698\n",
      "0.45279384\n",
      "0.0044062613\n",
      "0.438745\n",
      "0.004316985\n",
      "0.42961138\n",
      "0.0042387904\n",
      "0.4201668\n",
      "5.9980455e-05\n",
      "4.1937633e-06\n",
      "1.8825775e-06\n",
      "8.189966e-07\n",
      "3.4347718e-07\n",
      "1.3840443e-07\n",
      "5.3546447e-08\n",
      "6.074402e-05\n",
      "6.448685e-09\n",
      "2.4348121e-09\n",
      "3.1852775e-07\n"
     ]
    }
   ],
   "source": [
    "loss_grad_1 = get_loss_grad(0)\n",
    "loss_grad_2 = get_loss_grad(1e-2)\n",
    "\n",
    "for i in range(1000):\n",
    "    loss_val, grads = loss_grad_1(params)\n",
    "    updates, opt_state = tx.update(grads, opt_state)\n",
    "    params = optax.apply_updates(params, updates)\n",
    "    if i % 99 == 0:\n",
    "        print(loss_val)\n",
    "\n",
    "for i in range(3000):\n",
    "    loss_val, grads = loss_grad_2(params)\n",
    "    updates, opt_state = tx.update(grads, opt_state)\n",
    "    params = optax.apply_updates(params, updates)\n",
    "    if i % 99 == 0:\n",
    "        print(loss_val)\n",
    "        print(l1_fn(params))\n",
    "        \n",
    "thr = 1e-3\n",
    "loss_grad_masked = jax.jit(jax.value_and_grad(get_masked_mse(thr, params)))\n",
    "mask, spec = get_mask_spec(thr, params)\n",
    "\n",
    "for i in range(1000):\n",
    "    loss_val, grads = loss_grad_masked(params)\n",
    "    updates, opt_state = tx.update(grads, opt_state)\n",
    "    params = optax.apply_updates(params, updates)\n",
    "    if i % 99 == 0:\n",
    "        print(loss_val)"
   ]
  },
  {
   "cell_type": "code",
   "execution_count": 20,
   "id": "41b51cf3",
   "metadata": {
    "ExecuteTime": {
     "end_time": "2022-11-22T11:40:26.424038Z",
     "start_time": "2022-11-22T11:40:26.183620Z"
    }
   },
   "outputs": [
    {
     "data": {
      "text/latex": [
       "$\\displaystyle - 0.532041907310486 \\left(0.722420658706981 x_{0}^{2} - 0.300174593925476 \\cos{\\left(0.0342495925724506 x_{0} - 1.95161028386792 \\cdot 10^{-5} \\right)} - 0.650032102755954\\right) \\left(- 0.102325013628188 x_{0}^{2} - 1.82454196927268 \\cdot 10^{-9} x_{0} + 1.85237622261047 \\cos{\\left(0.0342495925724506 x_{0} - 1.95161028386792 \\cdot 10^{-5} \\right)} + 1.9119619212137\\right) + 0.122631274163723 \\sin{\\left(0.271295964717865 \\cos{\\left(0.0342495925724506 x_{0} - 1.95161028386792 \\cdot 10^{-5} \\right)} + 0.627886056604718 \\right)}$"
      ],
      "text/plain": [
       "-0.532041907310486*(0.722420658706981*x0**2 - 0.300174593925476*cos(0.0342495925724506*x0 - 1.95161028386792e-5) - 0.650032102755954)*(-0.102325013628188*x0**2 - 1.82454196927268e-9*x0 + 1.85237622261047*cos(0.0342495925724506*x0 - 1.95161028386792e-5) + 1.9119619212137) + 0.122631274163723*sin(0.271295964717865*cos(0.0342495925724506*x0 - 1.95161028386792e-5) + 0.627886056604718)"
      ]
     },
     "execution_count": 20,
     "metadata": {},
     "output_type": "execute_result"
    }
   ],
   "source": [
    "symb = get_symbolic_expr(apply_mask(mask, spec, params), funs)[0]\n",
    "symb"
   ]
  },
  {
   "cell_type": "code",
   "execution_count": 21,
   "id": "97988c92",
   "metadata": {
    "ExecuteTime": {
     "end_time": "2022-11-18T13:25:12.161682Z",
     "start_time": "2022-11-18T13:25:12.138998Z"
    }
   },
   "outputs": [
    {
     "data": {
      "text/latex": [
       "$\\displaystyle 0.0393294442534478 x_{0}^{4} + 7.01277421074476 \\cdot 10^{-10} x_{0}^{3} - 0.728317604558885 x_{0}^{2} \\cos{\\left(0.0342495925724506 x_{0} - 1.95161028386792 \\cdot 10^{-5} \\right)} - 0.77026650939008 x_{0}^{2} - 2.91389320838233 \\cdot 10^{-10} x_{0} \\cos{\\left(0.0342495925724506 x_{0} - 1.95161028386792 \\cdot 10^{-5} \\right)} - 6.31007476242746 \\cdot 10^{-10} x_{0} + 0.122631274163723 \\sin{\\left(0.271295964717865 \\cos{\\left(0.0342495925724506 x_{0} - 1.95161028386792 \\cdot 10^{-5} \\right)} + 0.627886056604718 \\right)} + 0.295834603168116 \\cos^{2}{\\left(0.0342495925724506 x_{0} - 1.95161028386792 \\cdot 10^{-5} \\right)} + 0.945984559434695 \\cos{\\left(0.0342495925724506 x_{0} - 1.95161028386792 \\cdot 10^{-5} \\right)} + 0.66124117005553$"
      ],
      "text/plain": [
       "0.0393294442534478*x0**4 + 7.01277421074476e-10*x0**3 - 0.728317604558885*x0**2*cos(0.0342495925724506*x0 - 1.95161028386792e-5) - 0.77026650939008*x0**2 - 2.91389320838233e-10*x0*cos(0.0342495925724506*x0 - 1.95161028386792e-5) - 6.31007476242746e-10*x0 + 0.122631274163723*sin(0.271295964717865*cos(0.0342495925724506*x0 - 1.95161028386792e-5) + 0.627886056604718) + 0.295834603168116*cos(0.0342495925724506*x0 - 1.95161028386792e-5)**2 + 0.945984559434695*cos(0.0342495925724506*x0 - 1.95161028386792e-5) + 0.66124117005553"
      ]
     },
     "execution_count": 21,
     "metadata": {},
     "output_type": "execute_result"
    }
   ],
   "source": [
    "sy.expand(symb)"
   ]
  },
  {
   "cell_type": "code",
   "execution_count": null,
   "id": "3c72b683",
   "metadata": {},
   "outputs": [],
   "source": []
  }
 ],
 "metadata": {
  "kernelspec": {
   "display_name": "EQL",
   "language": "python",
   "name": "python3"
  },
  "language_info": {
   "codemirror_mode": {
    "name": "ipython",
    "version": 3
   },
   "file_extension": ".py",
   "mimetype": "text/x-python",
   "name": "python",
   "nbconvert_exporter": "python",
   "pygments_lexer": "ipython3",
   "version": "3.12.7"
  },
  "varInspector": {
   "cols": {
    "lenName": 16,
    "lenType": 16,
    "lenVar": 40
   },
   "kernels_config": {
    "python": {
     "delete_cmd_postfix": "",
     "delete_cmd_prefix": "del ",
     "library": "var_list.py",
     "varRefreshCmd": "print(var_dic_list())"
    },
    "r": {
     "delete_cmd_postfix": ") ",
     "delete_cmd_prefix": "rm(",
     "library": "var_list.r",
     "varRefreshCmd": "cat(var_dic_list()) "
    }
   },
   "types_to_exclude": [
    "module",
    "function",
    "builtin_function_or_method",
    "instance",
    "_Feature"
   ],
   "window_display": false
  }
 },
 "nbformat": 4,
 "nbformat_minor": 5
}
