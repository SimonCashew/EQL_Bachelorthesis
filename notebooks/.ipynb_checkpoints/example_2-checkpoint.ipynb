{
 "cells": [
  {
   "cell_type": "code",
   "execution_count": 1,
   "id": "004dede5",
   "metadata": {
    "ExecuteTime": {
     "end_time": "2023-01-18T12:21:29.462619Z",
     "start_time": "2023-01-18T12:21:28.537787Z"
    }
   },
   "outputs": [],
   "source": [
    "import jax\n",
    "from jax import lax, random, numpy as jnp\n",
    "from jax.tree_util import tree_flatten, tree_unflatten\n",
    "\n",
    "import flax\n",
    "from flax import linen as nn\n",
    "\n",
    "import sympy as sy\n",
    "import numpy as np\n",
    "\n",
    "import sys\n",
    "sys.path.append(\"..\")\n",
    "\n",
    "from eql.eqlearner import EQL\n",
    "from eql.symbolic import get_symbolic_expr, get_symbolic_expr_layer\n",
    "\n",
    "import optax\n",
    "import scipy\n",
    "from functools import partial"
   ]
  },
  {
   "cell_type": "code",
   "execution_count": 2,
   "id": "194c741e",
   "metadata": {
    "ExecuteTime": {
     "end_time": "2023-01-18T12:21:29.524128Z",
     "start_time": "2023-01-18T12:21:29.471119Z"
    }
   },
   "outputs": [
    {
     "name": "stderr",
     "output_type": "stream",
     "text": [
      "No GPU/TPU found, falling back to CPU. (Set TF_CPP_MIN_LOG_LEVEL=0 and rerun for more info.)\n"
     ]
    }
   ],
   "source": [
    "funs = ['mul', 'cos', 'sin']*2\n",
    "e = EQL(n_layers=2, functions=funs, features=1)\n",
    "key = random.PRNGKey(0)"
   ]
  },
  {
   "cell_type": "code",
   "execution_count": 3,
   "id": "b74deec9",
   "metadata": {
    "ExecuteTime": {
     "end_time": "2023-01-18T12:21:29.725277Z",
     "start_time": "2023-01-18T12:21:29.535068Z"
    }
   },
   "outputs": [],
   "source": [
    "N = 1000\n",
    "xdim = 1\n",
    "x = (random.uniform(key, (N, xdim))-.5) * 2\n",
    "#x = np.array([[1., 2.]]).T\n",
    "#x = np.linspace(-1, 1, N)[:,None]\n",
    "#y = x[:,0] + jnp.cos(x[:,1])\n",
    "y = jnp.cos(x) + 1 - x**2 "
   ]
  },
  {
   "cell_type": "code",
   "execution_count": 14,
   "id": "fd3ff5e6",
   "metadata": {
    "ExecuteTime": {
     "end_time": "2022-11-22T11:36:26.627069Z",
     "start_time": "2022-11-22T11:36:26.363470Z"
    }
   },
   "outputs": [],
   "source": [
    "params = e.init({'params':key}, x);"
   ]
  },
  {
   "cell_type": "code",
   "execution_count": 18,
   "id": "73cc3ecb",
   "metadata": {
    "ExecuteTime": {
     "end_time": "2022-11-22T11:37:12.210117Z",
     "start_time": "2022-11-22T11:37:12.203297Z"
    }
   },
   "outputs": [],
   "source": [
    "def mse_fn(params):\n",
    "    pred = e.apply(params, x)\n",
    "    return jnp.mean((pred-y)**2)\n",
    "\n",
    "\n",
    "def get_mask_spec(thresh, params):\n",
    "    flat, spec = tree_flatten(params)\n",
    "    mask = [jnp.abs(f) > thresh for f in flat]\n",
    "    return mask, spec\n",
    "\n",
    "def apply_mask(mask, spec, params):\n",
    "    flat, _ = tree_flatten(params)\n",
    "    masked_params = tree_unflatten(spec, [f*m for f,m in zip(flat, mask)])\n",
    "    return masked_params\n",
    "\n",
    "\n",
    "def get_masked_mse(thresh, params):\n",
    "    mask, spec = get_mask_spec(thresh, params)\n",
    "    def masked_mse(params):\n",
    "        masked_params = apply_mask(mask, spec, params)\n",
    "        return mse_fn(masked_params)\n",
    "    return jax.jit(masked_mse)\n",
    "    \n",
    "\n",
    "def l1_fn(params):\n",
    "    return sum(\n",
    "        jnp.abs(w).mean() for w in jax.tree_leaves(params[\"params\"])\n",
    "    )"
   ]
  },
  {
   "cell_type": "code",
   "execution_count": 25,
   "id": "5da75c98",
   "metadata": {
    "ExecuteTime": {
     "end_time": "2022-11-22T11:42:51.624463Z",
     "start_time": "2022-11-22T11:42:51.609212Z"
    },
    "collapsed": true
   },
   "outputs": [
    {
     "data": {
      "text/plain": [
       "FrozenDict({\n",
       "    params: {\n",
       "        last: {\n",
       "            bias: DeviceArray([-0.0034094], dtype=float32),\n",
       "            kernel: DeviceArray([[1.7903351e-03],\n",
       "                         [1.3192539e-03],\n",
       "                         [1.5542713e-03],\n",
       "                         [6.3857739e-03],\n",
       "                         [6.5374327e-01],\n",
       "                         [3.0401422e-04]], dtype=float32),\n",
       "        },\n",
       "        layers_0: {\n",
       "            linear_layer: {\n",
       "                bias: DeviceArray([-0.00407849,  0.00037369, -0.00295608, -0.0011525 ,\n",
       "                              0.0031756 ,  0.00780274,  0.00048989,  0.00183793],            dtype=float32),\n",
       "                kernel: DeviceArray([[-1.7430037e-02,  4.1446046e-04,  1.5974020e-03,\n",
       "                               8.9088688e-03, -7.1354121e-01, -7.0021921e-01,\n",
       "                               2.9338847e-03, -5.2222842e-03]], dtype=float32),\n",
       "            },\n",
       "        },\n",
       "        layers_1: {\n",
       "            linear_layer: {\n",
       "                bias: DeviceArray([ 0.00505211,  0.00348742,  0.0009161 , -0.00327124,\n",
       "                              0.0005795 ,  0.00449519, -0.01497617,  0.0014791 ],            dtype=float32),\n",
       "                kernel: DeviceArray([[ 3.8475090e-01,  1.4540073e+00, -8.1388146e-04,\n",
       "                              -1.8546116e-02, -4.1618914e-04,  8.4688491e-04,\n",
       "                               5.0068588e-04,  8.8373185e-05],\n",
       "                             [ 3.0523926e-05, -2.0223949e-04, -4.1087512e-03,\n",
       "                               2.8695646e-03,  4.3289494e-04,  1.2632742e-03,\n",
       "                              -2.6464150e-03, -1.5141071e-01],\n",
       "                             [ 6.4956808e-01,  1.5048267e+00, -4.1502938e-04,\n",
       "                              -2.7295752e-04,  6.6899054e-04, -6.7427295e-04,\n",
       "                               2.6016610e-03,  3.8057417e-01],\n",
       "                             [ 5.2536069e-04, -7.8122495e-05, -1.6965286e-03,\n",
       "                              -2.1590388e-03,  2.0131159e-04, -1.0597358e-03,\n",
       "                               1.4547834e-03, -1.8339179e-01],\n",
       "                             [ 5.1122857e-03, -2.5000649e-03, -8.5697044e-03,\n",
       "                              -6.7477198e-03,  2.3119401e-03, -1.3535179e-02,\n",
       "                              -8.8473877e-05,  6.4455154e-03],\n",
       "                             [-1.4953732e+00, -1.5503328e-01, -1.5319957e-03,\n",
       "                               2.2878262e-04, -4.6576552e-06, -2.8197388e-05,\n",
       "                              -8.3981844e-04,  4.6574423e-04]], dtype=float32),\n",
       "            },\n",
       "        },\n",
       "    },\n",
       "})"
      ]
     },
     "execution_count": 25,
     "metadata": {},
     "output_type": "execute_result"
    }
   ],
   "source": [
    "params"
   ]
  },
  {
   "cell_type": "code",
   "execution_count": 19,
   "id": "abc6f00e",
   "metadata": {
    "ExecuteTime": {
     "end_time": "2022-11-22T11:37:12.420477Z",
     "start_time": "2022-11-22T11:37:12.417079Z"
    }
   },
   "outputs": [],
   "source": [
    "def get_loss(lamba):\n",
    "    def loss_fn(params):\n",
    "        return mse_fn(params)  + lamba * l1_fn(params)\n",
    "    return loss_fn\n",
    "\n",
    "def get_loss_grad(lamba):\n",
    "    loss = get_loss(lamba)\n",
    "    return jax.jit(jax.value_and_grad(loss))"
   ]
  },
  {
   "cell_type": "code",
   "execution_count": 20,
   "id": "5c47711b",
   "metadata": {
    "ExecuteTime": {
     "end_time": "2022-11-22T11:39:11.518078Z",
     "start_time": "2022-11-22T11:39:11.497603Z"
    }
   },
   "outputs": [],
   "source": [
    "tx = optax.adam(learning_rate=1e-2)\n",
    "opt_state = tx.init(params)"
   ]
  },
  {
   "cell_type": "code",
   "execution_count": 21,
   "id": "097ca4d8",
   "metadata": {
    "ExecuteTime": {
     "end_time": "2022-11-22T11:40:26.091999Z",
     "start_time": "2022-11-22T11:39:18.888019Z"
    }
   },
   "outputs": [
    {
     "name": "stdout",
     "output_type": "stream",
     "text": [
      "2.2959127\n",
      "0.00017843182\n",
      "3.0303927e-05\n",
      "2.4509332e-05\n",
      "2.23571e-05\n",
      "2.0150723e-05\n",
      "1.7939463e-05\n",
      "1.5790602e-05\n",
      "1.3756455e-05\n",
      "1.1876678e-05\n",
      "1.0179508e-05\n",
      "0.02259168\n",
      "2.257642\n",
      "0.01931724\n",
      "1.9251344\n",
      "0.016801048\n",
      "1.6758217\n",
      "0.015045944\n",
      "1.5004771\n",
      "0.013928536\n",
      "1.3896518\n",
      "0.012968791\n",
      "1.2928609\n",
      "0.011959264\n",
      "1.1917928\n",
      "0.010990254\n",
      "1.0950935\n",
      "0.010088094\n",
      "1.0057241\n",
      "0.009269744\n",
      "0.9251915\n",
      "0.008304355\n",
      "0.82905746\n",
      "0.007351574\n",
      "0.7343733\n",
      "0.0066860174\n",
      "0.668099\n",
      "0.006403017\n",
      "0.6396043\n",
      "0.0061369035\n",
      "0.61296296\n",
      "0.005884754\n",
      "0.5880971\n",
      "0.005644731\n",
      "0.5640638\n",
      "0.0054247337\n",
      "0.5422503\n",
      "0.0052309954\n",
      "0.52235925\n",
      "0.005069772\n",
      "0.5065864\n",
      "0.004952409\n",
      "0.49519178\n",
      "0.004839332\n",
      "0.4837908\n",
      "0.004732088\n",
      "0.47303215\n",
      "0.0046400446\n",
      "0.46341783\n",
      "0.0045698294\n",
      "0.45661515\n",
      "0.004502493\n",
      "0.45048264\n",
      "0.004459777\n",
      "0.4439394\n",
      "0.004446043\n",
      "0.4391326\n",
      "0.004339714\n",
      "0.4334002\n",
      "0.004281569\n",
      "0.4267202\n",
      "0.0042609368\n",
      "0.42128238\n",
      "9.298407e-06\n",
      "5.112177e-06\n",
      "3.1451398e-06\n",
      "1.8994537e-06\n",
      "1.123328e-06\n",
      "6.491357e-07\n",
      "3.6583265e-07\n",
      "4.7616268e-05\n",
      "1.06150914e-07\n",
      "5.3155027e-08\n",
      "1.3374874e-05\n"
     ]
    }
   ],
   "source": [
    "loss_grad_1 = get_loss_grad(0)\n",
    "loss_grad_2 = get_loss_grad(1e-2)\n",
    "\n",
    "for i in range(1000):\n",
    "    loss_val, grads = loss_grad_1(params)\n",
    "    updates, opt_state = tx.update(grads, opt_state)\n",
    "    params = optax.apply_updates(params, updates)\n",
    "    if i % 99 == 0:\n",
    "        print(loss_val)\n",
    "\n",
    "for i in range(3000):\n",
    "    loss_val, grads = loss_grad_2(params)\n",
    "    updates, opt_state = tx.update(grads, opt_state)\n",
    "    params = optax.apply_updates(params, updates)\n",
    "    if i % 99 == 0:\n",
    "        print(loss_val)\n",
    "        print(l1_fn(params))\n",
    "        \n",
    "thr = 1e-3\n",
    "loss_grad_masked = jax.jit(jax.value_and_grad(get_masked_mse(thr, params)))\n",
    "mask, spec = get_mask_spec(thr, params)\n",
    "\n",
    "for i in range(1000):\n",
    "    loss_val, grads = loss_grad_masked(params)\n",
    "    updates, opt_state = tx.update(grads, opt_state)\n",
    "    params = optax.apply_updates(params, updates)\n",
    "    if i % 99 == 0:\n",
    "        print(loss_val)"
   ]
  },
  {
   "cell_type": "code",
   "execution_count": 22,
   "id": "41b51cf3",
   "metadata": {
    "ExecuteTime": {
     "end_time": "2022-11-22T11:40:26.424038Z",
     "start_time": "2022-11-22T11:40:26.183620Z"
    }
   },
   "outputs": [
    {
     "data": {
      "text/latex": [
       "$\\displaystyle 0.653743267059326 \\left(1.03431890561041 - 0.747141209541702 x_{0}^{2}\\right) \\left(2.95883375230604 - 0.0774600916783715 x_{0}^{2}\\right)$"
      ],
      "text/plain": [
       "0.653743267059326*(1.03431890561041 - 0.747141209541702*x0**2)*(2.95883375230604 - 0.0774600916783715*x0**2)"
      ]
     },
     "execution_count": 22,
     "metadata": {},
     "output_type": "execute_result"
    }
   ],
   "source": [
    "symb = get_symbolic_expr(apply_mask(mask, spec, params), funs)[0]\n",
    "symb"
   ]
  },
  {
   "cell_type": "code",
   "execution_count": 10,
   "id": "97988c92",
   "metadata": {
    "ExecuteTime": {
     "end_time": "2022-11-18T13:25:12.161682Z",
     "start_time": "2022-11-18T13:25:12.138998Z"
    }
   },
   "outputs": [
    {
     "data": {
      "text/latex": [
       "$\\displaystyle 0.0378523975426517 x_{0}^{4} - 0.768726070993095 x_{0}^{2} \\cos{\\left(0.00596933532506227 x_{0} \\right)} - 0.728908565722812 x_{0}^{2} \\cos{\\left(0.0100719733163714 x_{0} \\right)} + 0.635997118715956 \\cos^{2}{\\left(0.00596933532506227 x_{0} \\right)} + 0.99510495325993 \\cos{\\left(0.00596933532506227 x_{0} \\right)} \\cos{\\left(0.0100719733163714 x_{0} \\right)} + 0.368336395194428 \\cos^{2}{\\left(0.0100719733163714 x_{0} \\right)}$"
      ],
      "text/plain": [
       "0.0378523975426517*x0**4 - 0.768726070993095*x0**2*cos(0.00596933532506227*x0) - 0.728908565722812*x0**2*cos(0.0100719733163714*x0) + 0.635997118715956*cos(0.00596933532506227*x0)**2 + 0.99510495325993*cos(0.00596933532506227*x0)*cos(0.0100719733163714*x0) + 0.368336395194428*cos(0.0100719733163714*x0)**2"
      ]
     },
     "execution_count": 10,
     "metadata": {},
     "output_type": "execute_result"
    }
   ],
   "source": [
    "sy.expand(symb)"
   ]
  },
  {
   "cell_type": "code",
   "execution_count": null,
   "id": "3c72b683",
   "metadata": {},
   "outputs": [],
   "source": []
  }
 ],
 "metadata": {
  "kernelspec": {
   "display_name": "Python 3 (ipykernel)",
   "language": "python",
   "name": "python3"
  },
  "language_info": {
   "codemirror_mode": {
    "name": "ipython",
    "version": 3
   },
   "file_extension": ".py",
   "mimetype": "text/x-python",
   "name": "python",
   "nbconvert_exporter": "python",
   "pygments_lexer": "ipython3",
   "version": "3.8.10"
  },
  "varInspector": {
   "cols": {
    "lenName": 16,
    "lenType": 16,
    "lenVar": 40
   },
   "kernels_config": {
    "python": {
     "delete_cmd_postfix": "",
     "delete_cmd_prefix": "del ",
     "library": "var_list.py",
     "varRefreshCmd": "print(var_dic_list())"
    },
    "r": {
     "delete_cmd_postfix": ") ",
     "delete_cmd_prefix": "rm(",
     "library": "var_list.r",
     "varRefreshCmd": "cat(var_dic_list()) "
    }
   },
   "types_to_exclude": [
    "module",
    "function",
    "builtin_function_or_method",
    "instance",
    "_Feature"
   ],
   "window_display": false
  }
 },
 "nbformat": 4,
 "nbformat_minor": 5
}
