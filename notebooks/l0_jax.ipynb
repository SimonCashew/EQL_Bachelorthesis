{
 "cells": [
  {
   "cell_type": "code",
   "execution_count": 1,
   "id": "2fec39b6",
   "metadata": {
    "ExecuteTime": {
     "end_time": "2022-03-17T13:44:58.042492Z",
     "start_time": "2022-03-17T13:44:55.276943Z"
    }
   },
   "outputs": [],
   "source": [
    "import jax\n",
    "from typing import Any, Callable, Sequence, Optional\n",
    "from jax import lax, random, numpy as jnp\n",
    "import flax\n",
    "from flax import linen as nn\n",
    "import sympy as sy\n",
    "import matplotlib.pyplot as plt"
   ]
  },
  {
   "cell_type": "code",
   "execution_count": 3,
   "id": "e508034e",
   "metadata": {
    "ExecuteTime": {
     "end_time": "2022-03-17T13:44:58.128405Z",
     "start_time": "2022-03-17T13:44:58.046195Z"
    }
   },
   "outputs": [],
   "source": [
    "import sys\n",
    "sys.path.append(\"..\")\n",
    "from eql.l0_dense import L0Dense"
   ]
  },
  {
   "cell_type": "code",
   "execution_count": null,
   "id": "76681092",
   "metadata": {},
   "outputs": [],
   "source": []
  },
  {
   "cell_type": "code",
   "execution_count": 62,
   "id": "c0d77eb4",
   "metadata": {
    "ExecuteTime": {
     "end_time": "2022-03-17T13:47:26.592987Z",
     "start_time": "2022-03-17T13:47:26.585087Z"
    }
   },
   "outputs": [],
   "source": [
    "l = L0Dense(3,drop_rate=0.99)"
   ]
  },
  {
   "cell_type": "code",
   "execution_count": 63,
   "id": "bcd3aa9b",
   "metadata": {
    "ExecuteTime": {
     "end_time": "2022-03-17T13:47:26.751274Z",
     "start_time": "2022-03-17T13:47:26.743297Z"
    }
   },
   "outputs": [],
   "source": [
    "key = random.PRNGKey(0)\n",
    "key, k1, k2 = random.split(key, 3)"
   ]
  },
  {
   "cell_type": "code",
   "execution_count": 64,
   "id": "ce94c1a5",
   "metadata": {
    "ExecuteTime": {
     "end_time": "2022-03-17T13:47:26.950522Z",
     "start_time": "2022-03-17T13:47:26.943957Z"
    }
   },
   "outputs": [],
   "source": [
    "x = random.normal(key, (3, 5))"
   ]
  },
  {
   "cell_type": "code",
   "execution_count": 65,
   "id": "3c920318",
   "metadata": {
    "ExecuteTime": {
     "end_time": "2022-03-17T13:47:27.160154Z",
     "start_time": "2022-03-17T13:47:27.139842Z"
    }
   },
   "outputs": [],
   "source": [
    "params = l.init({'l0':k1, 'params': k2}, x)"
   ]
  },
  {
   "cell_type": "code",
   "execution_count": 66,
   "id": "f0e57ea9",
   "metadata": {
    "ExecuteTime": {
     "end_time": "2022-03-17T13:47:27.402536Z",
     "start_time": "2022-03-17T13:47:27.342478Z"
    }
   },
   "outputs": [
    {
     "data": {
      "text/plain": [
       "DeviceArray([[0., 0., 0.],\n",
       "             [0., 0., 0.],\n",
       "             [0., 0., 0.]], dtype=float32)"
      ]
     },
     "execution_count": 66,
     "metadata": {},
     "output_type": "execute_result"
    }
   ],
   "source": [
    "k2, k3 = random.split(k2)\n",
    "l.apply(params, x, deterministic=False, rngs={'l0': k2})"
   ]
  },
  {
   "cell_type": "code",
   "execution_count": 67,
   "id": "2c9590e9",
   "metadata": {
    "ExecuteTime": {
     "end_time": "2022-03-17T13:47:27.854469Z",
     "start_time": "2022-03-17T13:47:27.840526Z"
    }
   },
   "outputs": [
    {
     "data": {
      "text/plain": [
       "DeviceArray(0.714367, dtype=float32)"
      ]
     },
     "execution_count": 67,
     "metadata": {},
     "output_type": "execute_result"
    }
   ],
   "source": [
    "l.apply(params, rngs={'l0': k2}, method=l.l0_reg)"
   ]
  },
  {
   "cell_type": "code",
   "execution_count": null,
   "id": "b300a5cc",
   "metadata": {},
   "outputs": [],
   "source": []
  },
  {
   "cell_type": "code",
   "execution_count": 60,
   "id": "10bce6cb",
   "metadata": {
    "ExecuteTime": {
     "end_time": "2022-03-16T16:41:07.185718Z",
     "start_time": "2022-03-16T16:41:07.138618Z"
    }
   },
   "outputs": [
    {
     "name": "stdout",
     "output_type": "stream",
     "text": [
      "output:\n",
      " [0.12372394]\n"
     ]
    }
   ],
   "source": [
    "limit_a, limit_b, epsilon = -.1, 1.1, 1e-6\n",
    "\n",
    "\n",
    "def init_qz_loga(drop_rate, stddev=1e-2, dtype: Any = jnp.float_) -> Callable:\n",
    "        mean  = jnp.log(1-drop_rate) - jnp.log(drop_rate)\n",
    "        def init(key, shape, dtype=jnp.float_):\n",
    "            return random.normal(key, shape, dtype)*stddev + mean\n",
    "        return init\n",
    "    \n",
    "def hard_tanh(x):\n",
    "    return jnp.where(x > 1, 1, jnp.where(x < 0, 0, x))\n",
    "\n",
    "class L0Dense(nn.Module):\n",
    "    features: int\n",
    "    drop_rate: float = 0.5\n",
    "    temperature: float = 2./3.\n",
    "    kernel_init: Callable = nn.initializers.lecun_normal()\n",
    "    bias_init: Callable = nn.initializers.zeros\n",
    "        \n",
    "    def quantile_concrete(self, x, qz_loga):\n",
    "        \"\"\"Implements the quantile, aka inverse CDF, of the 'stretched' concrete distribution\"\"\"\n",
    "        y = nn.sigmoid((jnp.log(x) - jnp.log(1 - x) + qz_loga) / self.temperature)\n",
    "        return y * (limit_b - limit_a) + limit_a\n",
    "    \n",
    "    \n",
    "    def cdf_qz(self, x):\n",
    "        qz_loga = self.variables['params']['qz_loga']\n",
    "        xn = (x - limit_a) / (limit_b - limit_a)\n",
    "        logits = jnp.log(xn) - jnp.log(1 - xn)\n",
    "        return lax.clamp(epsilon,\n",
    "            nn.sigmoid(logits * self.temperature - qz_loga),\n",
    "            1.-epsilon)\n",
    "    \n",
    "    def sample_mask(self, qz_loga, rng):\n",
    "        shape = qz_loga.shape\n",
    "        eps = random.uniform(rng, shape, minval=epsilon, maxval=1.-epsilon)\n",
    "        z = self.quantile_concrete(eps, qz_loga)\n",
    "        mask = hard_tanh(z)\n",
    "        return mask\n",
    "    \n",
    "    def l0_reg(self):\n",
    "        return  jnp.sum((1 - self.cdf_qz(0)))\n",
    "    \n",
    "    @nn.compact\n",
    "    def __call__(self, inputs, deterministic: Optional[bool] = False):\n",
    "        kernel = self.param('kernel',\n",
    "                        self.kernel_init, # Initialization function\n",
    "                        (inputs.shape[-1], self.features))  # shape info.\n",
    "        \n",
    "        qz_loga = self.param('qz_loga',\n",
    "                             init_qz_loga(self.drop_rate),\n",
    "                             (inputs.shape[-1],))\n",
    "        \n",
    "        if deterministic:\n",
    "            pi = nn.sigmoid(qz_loga)\n",
    "            z = hard_tanh(pi * (limit_b - limit_a) + limit_a)\n",
    "            mask = jnp.broadcast_to(z[:,None], kernel.shape)\n",
    "            kernel = kernel*mask\n",
    "        else:\n",
    "            rng = self.make_rng('l0')\n",
    "            mask = self.sample_mask(qz_loga, rng)\n",
    "            mask = jnp.broadcast_to(mask[:,None], kernel.shape)\n",
    "            kernel = kernel*mask\n",
    "            \n",
    "        y = lax.dot_general(inputs, kernel,\n",
    "                        (((inputs.ndim - 1,), (0,)), ((), ())),) # TODO Why not jnp.dot?\n",
    "        \n",
    "        bias = self.param('bias', self.bias_init, (self.features,))\n",
    "        \n",
    "        y = y + bias\n",
    "        return y\n",
    "\n",
    "key1, key2, key3 = random.split(random.PRNGKey(0), 3)\n",
    "x = random.uniform(key1, (10,))\n",
    "\n",
    "model = L0Dense(features=1, drop_rate=0.9)\n",
    "params = model.init({'l0': key2, 'params': key3}, x)\n",
    "y = model.apply(params, x, deterministic=False, rngs={'l0': key3})\n",
    "\n",
    "#print('initialized parameters:\\n', params)\n",
    "print('output:\\n', y)"
   ]
  },
  {
   "cell_type": "code",
   "execution_count": 63,
   "id": "72970f3a",
   "metadata": {
    "ExecuteTime": {
     "end_time": "2022-03-16T16:54:50.052583Z",
     "start_time": "2022-03-16T16:54:50.047352Z"
    }
   },
   "outputs": [
    {
     "data": {
      "text/plain": [
       "DeviceArray(3.5409908, dtype=float32)"
      ]
     },
     "execution_count": 63,
     "metadata": {},
     "output_type": "execute_result"
    }
   ],
   "source": [
    "model.apply(params, rngs={'l0': key3}, method=model.l0_reg)"
   ]
  },
  {
   "cell_type": "code",
   "execution_count": 23,
   "id": "02573336",
   "metadata": {
    "ExecuteTime": {
     "end_time": "2022-03-16T15:08:18.799383Z",
     "start_time": "2022-03-16T15:08:18.724110Z"
    },
    "collapsed": true
   },
   "outputs": [
    {
     "name": "stdout",
     "output_type": "stream",
     "text": [
      "[[0.        ]\n",
      " [0.        ]\n",
      " [0.        ]\n",
      " [0.7264574 ]\n",
      " [0.9645642 ]\n",
      " [0.45473173]\n",
      " [0.        ]\n",
      " [0.        ]\n",
      " [0.        ]\n",
      " [0.        ]]\n",
      "[[ 0.17365593]\n",
      " [-0.04896441]\n",
      " [ 0.08915189]\n",
      " [ 0.07911363]]\n"
     ]
    }
   ],
   "source": [
    "rrr, _ = random.split(rrr, 2)\n",
    "y = model.apply(params, x, deterministic=False, rngs={'l0': rrr})\n",
    "print(y)"
   ]
  },
  {
   "cell_type": "code",
   "execution_count": 203,
   "id": "0251a33f",
   "metadata": {
    "ExecuteTime": {
     "end_time": "2022-03-16T15:01:22.211600Z",
     "start_time": "2022-03-16T15:01:22.208720Z"
    }
   },
   "outputs": [],
   "source": [
    "key = random.PRNGKey(32)"
   ]
  },
  {
   "cell_type": "code",
   "execution_count": 115,
   "id": "b209fdec",
   "metadata": {
    "ExecuteTime": {
     "end_time": "2022-03-16T14:28:39.644987Z",
     "start_time": "2022-03-16T14:28:39.642556Z"
    }
   },
   "outputs": [],
   "source": [
    "e=random.normal(key1, (2,))"
   ]
  },
  {
   "cell_type": "code",
   "execution_count": 7,
   "id": "0fd97f4a",
   "metadata": {
    "ExecuteTime": {
     "end_time": "2022-03-16T12:55:52.573527Z",
     "start_time": "2022-03-16T12:55:52.563970Z"
    }
   },
   "outputs": [
    {
     "data": {
      "text/plain": [
       "DeviceArray([[0.57366943],\n",
       "             [0.3568976 ],\n",
       "             [0.6369716 ],\n",
       "             ...,\n",
       "             [0.7642505 ],\n",
       "             [0.10045469],\n",
       "             [0.311921  ]], dtype=float32)"
      ]
     },
     "execution_count": 7,
     "metadata": {},
     "output_type": "execute_result"
    }
   ],
   "source": [
    "random.uniform(key, (1024, 1))"
   ]
  },
  {
   "cell_type": "code",
   "execution_count": 4,
   "id": "56036f4f",
   "metadata": {
    "ExecuteTime": {
     "end_time": "2022-03-16T15:06:58.401553Z",
     "start_time": "2022-03-16T15:06:58.389748Z"
    },
    "collapsed": true
   },
   "outputs": [
    {
     "ename": "NameError",
     "evalue": "name 'key' is not defined",
     "output_type": "error",
     "traceback": [
      "\u001b[0;31m---------------------------------------------------------------------------\u001b[0m",
      "\u001b[0;31mNameError\u001b[0m                                 Traceback (most recent call last)",
      "\u001b[0;32m/tmp/ipykernel_25022/3623608651.py\u001b[0m in \u001b[0;36m<module>\u001b[0;34m\u001b[0m\n\u001b[1;32m      1\u001b[0m \u001b[0mtemperature\u001b[0m \u001b[0;34m=\u001b[0m \u001b[0;36m2.\u001b[0m\u001b[0;34m/\u001b[0m\u001b[0;36m3.\u001b[0m\u001b[0;34m\u001b[0m\u001b[0;34m\u001b[0m\u001b[0m\n\u001b[0;32m----> 2\u001b[0;31m \u001b[0mqz_loga\u001b[0m \u001b[0;34m=\u001b[0m \u001b[0mrandom\u001b[0m\u001b[0;34m.\u001b[0m\u001b[0mnormal\u001b[0m\u001b[0;34m(\u001b[0m\u001b[0mkey\u001b[0m\u001b[0;34m,\u001b[0m \u001b[0;34m(\u001b[0m\u001b[0;36m5\u001b[0m\u001b[0;34m,\u001b[0m\u001b[0;34m)\u001b[0m\u001b[0;34m)\u001b[0m\u001b[0;34m\u001b[0m\u001b[0;34m\u001b[0m\u001b[0m\n\u001b[0m\u001b[1;32m      3\u001b[0m \u001b[0;34m\u001b[0m\u001b[0m\n\u001b[1;32m      4\u001b[0m \u001b[0;32mdef\u001b[0m \u001b[0mcdf_qz\u001b[0m\u001b[0;34m(\u001b[0m\u001b[0mx\u001b[0m\u001b[0;34m)\u001b[0m\u001b[0;34m:\u001b[0m\u001b[0;34m\u001b[0m\u001b[0;34m\u001b[0m\u001b[0m\n\u001b[1;32m      5\u001b[0m     \u001b[0;34m\"\"\"Implements the CDF of the 'stretched' concrete distribution\"\"\"\u001b[0m\u001b[0;34m\u001b[0m\u001b[0;34m\u001b[0m\u001b[0m\n",
      "\u001b[0;31mNameError\u001b[0m: name 'key' is not defined"
     ]
    }
   ],
   "source": [
    "temperature = 2./3.\n",
    "qz_loga = random.normal(key, (5,))\n",
    "\n",
    "def cdf_qz(x):\n",
    "    \"\"\"Implements the CDF of the 'stretched' concrete distribution\"\"\"\n",
    "    xn = (x - limit_a) / (limit_b - limit_a)\n",
    "    logits = jnp.log(xn) - jnp.log(1 - xn)\n",
    "    return lax.clamp(epsilon,\n",
    "                     nn.sigmoid(logits * temperature - qz_loga),\n",
    "                     1.-epsilon)\n",
    "\n",
    "def quantile_concrete(x):\n",
    "    \"\"\"Implements the quantile, aka inverse CDF, of the 'stretched' concrete distribution\"\"\"\n",
    "    y = nn.sigmoid((jnp.log(x) - jnp.log(1 - x) + qz_loga) / temperature)\n",
    "    return y * (limit_b - limit_a) + limit_a\n",
    "\n",
    "\n",
    "\n",
    "def get_eps(key, shape):\n",
    "    return random.uniform(key, shape, minval=epsilon, maxval=1.-epsilon)"
   ]
  },
  {
   "cell_type": "code",
   "execution_count": 9,
   "id": "659e4e39",
   "metadata": {
    "ExecuteTime": {
     "end_time": "2022-03-16T12:55:55.570452Z",
     "start_time": "2022-03-16T12:55:55.560499Z"
    }
   },
   "outputs": [],
   "source": [
    "def sample_z(key, shape, sample=True):\n",
    "    if sample:\n",
    "        eps = get_eps(key, shape)\n",
    "        z = quantile_concrete(eps)\n",
    "        return hard_tanh(z)\n",
    "    else:\n",
    "        pi = nn.sigmoid(qz_loga)\n",
    "        return hard_tanh(pi * (limit_b - limit_a) + limit_a)\n",
    "    \n",
    "def sample_weights(key, weights):\n",
    "    z = quantile_concrete(get_eps(key, (5,)))\n",
    "    print(z)\n",
    "    return hard_tanh(z).T*weights"
   ]
  },
  {
   "cell_type": "code",
   "execution_count": 10,
   "id": "4085fa4a",
   "metadata": {
    "ExecuteTime": {
     "end_time": "2022-03-16T12:55:56.720709Z",
     "start_time": "2022-03-16T12:55:56.530713Z"
    }
   },
   "outputs": [
    {
     "data": {
      "text/plain": [
       "DeviceArray([[ 0.0735873 ,  0.4324186 , -0.8828158 ,  0.14094852,\n",
       "               0.373134  ],\n",
       "             [-0.33430755,  0.18413313, -0.66062707,  1.2581732 ,\n",
       "               0.8564375 ],\n",
       "             [-1.4437462 , -0.3401676 ,  0.4056625 , -0.38791317,\n",
       "              -0.83877325],\n",
       "             [-0.5023728 ,  0.8090666 , -1.788563  , -2.4703    ,\n",
       "               0.45676166],\n",
       "             [ 1.0493878 , -0.35580957,  1.109334  ,  0.73159033,\n",
       "               0.86589175]], dtype=float32)"
      ]
     },
     "execution_count": 10,
     "metadata": {},
     "output_type": "execute_result"
    }
   ],
   "source": [
    "weights = random.normal(key, (5, 5))\n",
    "weights"
   ]
  },
  {
   "cell_type": "code",
   "execution_count": 11,
   "id": "4a917406",
   "metadata": {
    "ExecuteTime": {
     "end_time": "2022-03-16T12:55:57.947987Z",
     "start_time": "2022-03-16T12:55:57.725397Z"
    }
   },
   "outputs": [
    {
     "name": "stdout",
     "output_type": "stream",
     "text": [
      "[ 1.0299255  -0.09998897  0.6923099   0.50926715  0.69103235]\n"
     ]
    },
    {
     "data": {
      "text/plain": [
       "DeviceArray([[ 0.0735873 ,  0.        , -0.6111821 ,  0.07178045,\n",
       "               0.25784767],\n",
       "             [-0.33430755,  0.        , -0.45735866,  0.6407463 ,\n",
       "               0.591826  ],\n",
       "             [-1.4437462 , -0.        ,  0.28084418, -0.19755143,\n",
       "              -0.57961947],\n",
       "             [-0.5023728 ,  0.        , -1.2382399 , -1.2580426 ,\n",
       "               0.31563708],\n",
       "             [ 1.0493878 , -0.        ,  0.7680029 ,  0.37257493,\n",
       "               0.5983592 ]], dtype=float32)"
      ]
     },
     "execution_count": 11,
     "metadata": {},
     "output_type": "execute_result"
    }
   ],
   "source": [
    "sample_weights(key, weights)"
   ]
  },
  {
   "cell_type": "code",
   "execution_count": 12,
   "id": "04b9da92",
   "metadata": {
    "ExecuteTime": {
     "end_time": "2022-03-16T12:55:58.724082Z",
     "start_time": "2022-03-16T12:55:58.705912Z"
    }
   },
   "outputs": [
    {
     "data": {
      "text/plain": [
       "DeviceArray([1.        , 0.        , 0.6923099 , 0.50926715, 0.69103235],            dtype=float32)"
      ]
     },
     "execution_count": 12,
     "metadata": {},
     "output_type": "execute_result"
    }
   ],
   "source": [
    "sample_z(key, (5,), sample=True)"
   ]
  },
  {
   "cell_type": "code",
   "execution_count": 13,
   "id": "2b45a7ac",
   "metadata": {
    "ExecuteTime": {
     "end_time": "2022-03-16T12:55:59.891857Z",
     "start_time": "2022-03-16T12:55:59.885798Z"
    }
   },
   "outputs": [],
   "source": [
    "def sample_z(self, batch_size, sample=True):\n",
    "    \"\"\"Sample the hard-concrete gates for training and use a deterministic value for testing\"\"\"\n",
    "    if sample:\n",
    "        eps = self.get_eps(self.floatTensor(batch_size, self.dim_z))\n",
    "        z = self.quantile_concrete(eps).view(batch_size, self.dim_z, 1, 1)\n",
    "        return F.hardtanh(z, min_val=0, max_val=1)\n",
    "    else:  # mode\n",
    "        pi = F.sigmoid(self.qz_loga).view(1, self.dim_z, 1, 1)\n",
    "        return F.hardtanh(pi * (limit_b - limit_a) + limit_a, min_val=0, max_val=1)\n",
    "\n",
    "def sample_weights(self):\n",
    "    z = self.quantile_concrete(self.get_eps(self.floatTensor(self.dim_z))).view(self.dim_z, 1, 1, 1)\n",
    "    return F.hardtanh(z, min_val=0, max_val=1) * self.weights\n",
    "\n",
    "def forward(self, input_):\n",
    "    if self.input_shape is None:\n",
    "        self.input_shape = input_.size()\n",
    "    b = None if not self.use_bias else self.bias\n",
    "    if self.local_rep or not self.training:\n",
    "        output = F.conv2d(input_, self.weights, b, self.stride, self.padding, self.dilation, self.groups)\n",
    "        z = self.sample_z(output.size(0), sample=self.training)\n",
    "        return output.mul(z)\n",
    "    else:\n",
    "        weights = self.sample_weights()\n",
    "        output = F.conv2d(input_, weights, None, self.stride, self.padding, self.dilation, self.groups)\n",
    "        return output"
   ]
  },
  {
   "cell_type": "code",
   "execution_count": null,
   "id": "a8d3063b",
   "metadata": {},
   "outputs": [],
   "source": []
  },
  {
   "cell_type": "code",
   "execution_count": null,
   "id": "883c401e",
   "metadata": {},
   "outputs": [],
   "source": []
  }
 ],
 "metadata": {
  "kernelspec": {
   "display_name": "EQL",
   "language": "python",
   "name": "python3"
  },
  "language_info": {
   "codemirror_mode": {
    "name": "ipython",
    "version": 3
   },
   "file_extension": ".py",
   "mimetype": "text/x-python",
   "name": "python",
   "nbconvert_exporter": "python",
   "pygments_lexer": "ipython3",
   "version": "3.12.7"
  },
  "varInspector": {
   "cols": {
    "lenName": 16,
    "lenType": 16,
    "lenVar": 40
   },
   "kernels_config": {
    "python": {
     "delete_cmd_postfix": "",
     "delete_cmd_prefix": "del ",
     "library": "var_list.py",
     "varRefreshCmd": "print(var_dic_list())"
    },
    "r": {
     "delete_cmd_postfix": ") ",
     "delete_cmd_prefix": "rm(",
     "library": "var_list.r",
     "varRefreshCmd": "cat(var_dic_list()) "
    }
   },
   "types_to_exclude": [
    "module",
    "function",
    "builtin_function_or_method",
    "instance",
    "_Feature"
   ],
   "window_display": false
  }
 },
 "nbformat": 4,
 "nbformat_minor": 5
}
