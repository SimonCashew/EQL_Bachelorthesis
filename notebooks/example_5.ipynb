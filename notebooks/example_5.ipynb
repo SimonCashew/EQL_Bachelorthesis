{
 "cells": [
  {
   "cell_type": "code",
   "execution_count": null,
   "id": "004dede5",
   "metadata": {
    "ExecuteTime": {
     "end_time": "2022-11-18T13:12:54.979564Z",
     "start_time": "2022-11-18T13:12:54.979552Z"
    }
   },
   "outputs": [],
   "source": [
    "import jax\n",
    "from jax import lax, random, numpy as jnp\n",
    "from jax.tree_util import tree_flatten, tree_unflatten\n",
    "\n",
    "import flax\n",
    "from flax import linen as nn\n",
    "\n",
    "import sympy as sy\n",
    "from sympy.core.rules import Transform\n",
    "import numpy as np\n",
    "\n",
    "import sys\n",
    "sys.path.append(\"..\")\n",
    "sys.path.append(\"../../orient/\")\n",
    "\n",
    "\n",
    "from eql.eqlearner import EQL, EQLdiv\n",
    "from eql.symbolic import get_symbolic_expr_div, get_symbolic_expr\n",
    "from np_utils import flatten, unflatten\n",
    "\n",
    "\n",
    "import optax\n",
    "import scipy\n",
    "from functools import partial\n",
    "import matplotlib.pyplot as plt"
   ]
  },
  {
   "cell_type": "code",
   "execution_count": 24,
   "id": "194c741e",
   "metadata": {
    "ExecuteTime": {
     "end_time": "2022-11-18T13:12:55.618508Z",
     "start_time": "2022-11-18T13:12:55.558255Z"
    }
   },
   "outputs": [],
   "source": [
    "funs = ['mul', 'cos' , 'sin', 'id', 'id', 'id', 'id']\n",
    "e = EQLdiv(n_layers=1, functions=funs, features=1)\n",
    "key = random.PRNGKey(0)"
   ]
  },
  {
   "cell_type": "code",
   "execution_count": 35,
   "id": "b74deec9",
   "metadata": {
    "ExecuteTime": {
     "end_time": "2022-11-18T13:19:28.614996Z",
     "start_time": "2022-11-18T13:19:28.531256Z"
    }
   },
   "outputs": [],
   "source": [
    "N = 1024\n",
    "xdim = 2\n",
    "x = (random.uniform(key, (N, xdim))-.5) * 2\n",
    "#x = np.array([[1., 2.]]).T\n",
    "#x = np.linspace(-1, 1, N)[:,None]\n",
    "#y = x[:,0] + jnp.cos(x[:,1])\n",
    "#y = (jnp.cos(x) + 1 - x**2)/(x-3)**3\n",
    "\n",
    "\n",
    "y = np.sin(np.pi * x[:,0])/(x[:,1]**2 + 1)\n",
    "#y = 1./3. * ((1.+x[:,1])*np.sin(np.pi*x[:,0]) + x[:,1]*x[:,2]*x[:,3])\n",
    "#plt.scatter(x[:,0], x[:,1], c=y)"
   ]
  },
  {
   "cell_type": "code",
   "execution_count": 36,
   "id": "fd3ff5e6",
   "metadata": {
    "ExecuteTime": {
     "end_time": "2022-11-18T13:19:29.178176Z",
     "start_time": "2022-11-18T13:19:29.005081Z"
    }
   },
   "outputs": [],
   "source": [
    "params = e.init({'params':key}, x, 1.0);"
   ]
  },
  {
   "cell_type": "code",
   "execution_count": 27,
   "id": "73cc3ecb",
   "metadata": {
    "ExecuteTime": {
     "end_time": "2022-11-18T13:12:58.729057Z",
     "start_time": "2022-11-18T13:12:58.721045Z"
    }
   },
   "outputs": [],
   "source": [
    "def mse_fn(params, threshold):\n",
    "    pred, _ = e.apply(params, x, threshold)\n",
    "    return jnp.mean((pred-y)**2)\n",
    "\n",
    "def mse_b_fn(params, threshold):\n",
    "    pred, b = e.apply(params, x, threshold)\n",
    "    return jnp.mean((pred-y)**2), b\n",
    "\n",
    "def mse_b_y_fn(params, threshold):\n",
    "    pred, b = e.apply(params, x, threshold)\n",
    "    return jnp.mean((pred-y)**2), b, pred\n",
    "\n",
    "\n",
    "def get_mask_spec(thresh, params):\n",
    "    flat, spec = tree_flatten(params)\n",
    "    mask = [jnp.abs(f) > thresh for f in flat]\n",
    "    return mask, spec\n",
    "\n",
    "def apply_mask(mask, spec, params):\n",
    "    flat, _ = tree_flatten(params)\n",
    "    masked_params = tree_unflatten(spec, [f*m for f,m in zip(flat, mask)])\n",
    "    return masked_params\n",
    "\n",
    "\n",
    "def get_masked_mse(thresh, params):\n",
    "    mask, spec = get_mask_spec(thresh, params)\n",
    "    def masked_mse(params, threshold):\n",
    "        masked_params = apply_mask(mask, spec, params)\n",
    "        return mse_fn(masked_params, threshold)\n",
    "    return jax.jit(masked_mse)\n",
    "    \n",
    "\n",
    "def l1_fn(params):\n",
    "    return sum(\n",
    "        jnp.abs(w).mean() for w in jax.tree_leaves(params[\"params\"])\n",
    "    )\n",
    "\n",
    "def reg_fn(threshold, b):\n",
    "    return (jnp.maximum(0, threshold - b)).sum()\n",
    "\n",
    "def penalty_fn(y, B=10, supp=3):\n",
    "    penalty_fn.key, _ = random.split(key)\n",
    "    xr = (random.uniform(penalty_fn.key, (N, xdim))-.5) * supp\n",
    "    return jnp.sum(jnp.maximum(y-B, 0)+jnp.maximum(-y-B, 0))\n",
    "penalty_fn.key = key"
   ]
  },
  {
   "cell_type": "code",
   "execution_count": 28,
   "id": "abc6f00e",
   "metadata": {
    "ExecuteTime": {
     "end_time": "2022-11-18T13:12:59.106215Z",
     "start_time": "2022-11-18T13:12:59.102165Z"
    }
   },
   "outputs": [],
   "source": [
    "def get_loss(lamba):\n",
    "    def loss_fn(params, threshold):\n",
    "        mse, b = mse_b_fn(params, threshold)\n",
    "        return mse  + lamba * l1_fn(params) + reg_fn(threshold, b)\n",
    "    return loss_fn\n",
    "\n",
    "def get_loss_pen():\n",
    "    def loss_fn(params, threshold):\n",
    "        mse, b, y = mse_b_y_fn(params, threshold)\n",
    "        return penalty_fn(y) + reg_fn(threshold, b)\n",
    "    return loss_fn\n",
    "\n",
    "def get_loss_grad(lamba=1e-3, is_penalty=False):\n",
    "    if is_penalty:\n",
    "        loss = get_loss_pen()\n",
    "    else:\n",
    "        loss = get_loss(lamba)\n",
    "    return jax.jit(jax.value_and_grad(loss))"
   ]
  },
  {
   "cell_type": "code",
   "execution_count": 29,
   "id": "5c47711b",
   "metadata": {
    "ExecuteTime": {
     "end_time": "2022-11-18T13:13:00.744510Z",
     "start_time": "2022-11-18T13:13:00.726190Z"
    }
   },
   "outputs": [],
   "source": [
    "tx = optax.adam(learning_rate=1e-4)\n",
    "opt_state = tx.init(params)"
   ]
  },
  {
   "cell_type": "code",
   "execution_count": 30,
   "id": "fdc16e51",
   "metadata": {
    "ExecuteTime": {
     "end_time": "2022-11-18T13:13:01.437186Z",
     "start_time": "2022-11-18T13:13:01.422128Z"
    }
   },
   "outputs": [],
   "source": [
    "loss_grad_pen = get_loss_grad(is_penalty=True)\n",
    "loss_grad_1 = get_loss_grad(0)\n",
    "loss_grad_2 = get_loss_grad(1e-1)"
   ]
  },
  {
   "cell_type": "code",
   "execution_count": 31,
   "id": "7e47c7f7",
   "metadata": {
    "ExecuteTime": {
     "end_time": "2022-11-18T13:13:01.921816Z",
     "start_time": "2022-11-18T13:13:01.914579Z"
    }
   },
   "outputs": [],
   "source": [
    "def do_step(loss_grad, params, theta, opt_state):\n",
    "    loss_val, grad = loss_grad(params, theta)\n",
    "    updates, opt_state = tx.update(grad, opt_state)\n",
    "    return optax.apply_updates(params, updates), opt_state, loss_val"
   ]
  },
  {
   "cell_type": "code",
   "execution_count": 34,
   "id": "33d18ce7",
   "metadata": {
    "ExecuteTime": {
     "end_time": "2022-11-18T13:16:19.138314Z",
     "start_time": "2022-11-18T13:13:43.984095Z"
    }
   },
   "outputs": [
    {
     "name": "stdout",
     "output_type": "stream",
     "text": [
      "1.0463288 1.0\n",
      "0.8063853 0.1\n",
      "0.7134607 0.07088812\n",
      "0.62582123 0.057928447\n",
      "0.54472995 0.050188564\n",
      "0.47112125 0.044901326\n",
      "0.4055975 0.040996004\n",
      "0.34845302 0.037959483\n",
      "0.29969972 0.035511043\n",
      "0.25908375 0.033482477\n",
      "0.22609517 0.031766046\n",
      "0.1999807 0.030289127\n",
      "0.17978574 0.029000739\n",
      "0.16444081 0.02786391\n",
      "0.15288499 0.026851078\n",
      "0.14418502 0.02594123\n",
      "0.13759723 0.02511802\n",
      "0.13256624 0.02436851\n",
      "0.12868685 0.023682324\n",
      "0.1256597 0.023051023\n",
      "0.12325783 0.022467656\n",
      "0.12130536 0.02192645\n",
      "0.1196658 0.021422561\n",
      "0.11823578 0.020951888\n",
      "0.116939545 0.020510932\n",
      "0.115723 0.020096697\n",
      "0.11454752 0.019706586\n",
      "0.11338485 0.019338345\n",
      "0.11221367 0.018990004\n",
      "0.111017816 0.018659834\n",
      "0.10978538 0.018346308\n",
      "0.108508125 0.018048072\n",
      "0.10718068 0.017763922\n",
      "0.10579964 0.017492786\n",
      "0.1043628 0.017233696\n",
      "0.10286854 0.016985789\n",
      "0.10131577 0.016748281\n",
      "0.09970393 0.016520465\n",
      "0.098033346 0.016301699\n",
      "0.09630523 0.0160914\n",
      "0.09452173 0.015889037\n",
      "0.09268546 0.01569412\n",
      "0.0907993 0.015506205\n",
      "0.08886569 0.015324884\n",
      "0.08688657 0.015149776\n",
      "0.08486298 0.014980537\n",
      "0.08279508 0.014816848\n",
      "0.08068188 0.014658408\n",
      "0.07852117 0.014504946\n",
      "0.07630925 0.014356204\n",
      "0.07404064 0.014211946\n",
      "0.07170732 0.014071951\n",
      "0.06929763 0.013936014\n",
      "0.06679548 0.01380394\n",
      "0.064181104 0.013675553\n",
      "0.061433185 0.013550683\n"
     ]
    },
    {
     "name": "stderr",
     "output_type": "stream",
     "text": [
      "Exception ignored in: <function WeakKeyDictionary.__init__.<locals>.remove at 0x7f4125b97700>\n",
      "Traceback (most recent call last):\n",
      "  File \"/usr/lib/python3.8/weakref.py\", line 345, in remove\n",
      "KeyboardInterrupt: \n"
     ]
    },
    {
     "ename": "KeyboardInterrupt",
     "evalue": "",
     "output_type": "error",
     "traceback": [
      "\u001b[0;31m---------------------------------------------------------------------------\u001b[0m",
      "\u001b[0;31mKeyboardInterrupt\u001b[0m                         Traceback (most recent call last)",
      "Input \u001b[0;32mIn [34]\u001b[0m, in \u001b[0;36m<cell line: 3>\u001b[0;34m()\u001b[0m\n\u001b[1;32m     11\u001b[0m \u001b[38;5;28mprint\u001b[39m(loss_val, theta)\n\u001b[1;32m     12\u001b[0m \u001b[38;5;28;01mfor\u001b[39;00m j \u001b[38;5;129;01min\u001b[39;00m \u001b[38;5;28mrange\u001b[39m(\u001b[38;5;241m100\u001b[39m):\n\u001b[0;32m---> 13\u001b[0m     params, opt_state, loss_val \u001b[38;5;241m=\u001b[39m \u001b[43mdo_step\u001b[49m\u001b[43m(\u001b[49m\u001b[43mloss_grad_pen\u001b[49m\u001b[43m,\u001b[49m\u001b[43m \u001b[49m\u001b[43mparams\u001b[49m\u001b[43m,\u001b[49m\u001b[43m \u001b[49m\u001b[43mtheta\u001b[49m\u001b[43m,\u001b[49m\u001b[43m \u001b[49m\u001b[43mopt_state\u001b[49m\u001b[43m)\u001b[49m\n",
      "Input \u001b[0;32mIn [31]\u001b[0m, in \u001b[0;36mdo_step\u001b[0;34m(loss_grad, params, theta, opt_state)\u001b[0m\n\u001b[1;32m      1\u001b[0m \u001b[38;5;28;01mdef\u001b[39;00m \u001b[38;5;21mdo_step\u001b[39m(loss_grad, params, theta, opt_state):\n\u001b[1;32m      2\u001b[0m     loss_val, grad \u001b[38;5;241m=\u001b[39m loss_grad(params, theta)\n\u001b[0;32m----> 3\u001b[0m     updates, opt_state \u001b[38;5;241m=\u001b[39m \u001b[43mtx\u001b[49m\u001b[38;5;241;43m.\u001b[39;49m\u001b[43mupdate\u001b[49m\u001b[43m(\u001b[49m\u001b[43mgrad\u001b[49m\u001b[43m,\u001b[49m\u001b[43m \u001b[49m\u001b[43mopt_state\u001b[49m\u001b[43m)\u001b[49m\n\u001b[1;32m      4\u001b[0m     \u001b[38;5;28;01mreturn\u001b[39;00m optax\u001b[38;5;241m.\u001b[39mapply_updates(params, updates), opt_state, loss_val\n",
      "File \u001b[0;32m~/code/NeuralSymbolicRegressionThatScales/env/lib/python3.8/site-packages/optax/_src/combine.py:54\u001b[0m, in \u001b[0;36mchain.<locals>.update_fn\u001b[0;34m(updates, state, params)\u001b[0m\n\u001b[1;32m     52\u001b[0m new_state \u001b[38;5;241m=\u001b[39m []\n\u001b[1;32m     53\u001b[0m \u001b[38;5;28;01mfor\u001b[39;00m s, fn \u001b[38;5;129;01min\u001b[39;00m \u001b[38;5;28mzip\u001b[39m(state, update_fns):\n\u001b[0;32m---> 54\u001b[0m   updates, new_s \u001b[38;5;241m=\u001b[39m \u001b[43mfn\u001b[49m\u001b[43m(\u001b[49m\u001b[43mupdates\u001b[49m\u001b[43m,\u001b[49m\u001b[43m \u001b[49m\u001b[43ms\u001b[49m\u001b[43m,\u001b[49m\u001b[43m \u001b[49m\u001b[43mparams\u001b[49m\u001b[43m)\u001b[49m\n\u001b[1;32m     55\u001b[0m   new_state\u001b[38;5;241m.\u001b[39mappend(new_s)\n\u001b[1;32m     56\u001b[0m \u001b[38;5;28;01mreturn\u001b[39;00m updates, \u001b[38;5;28mtuple\u001b[39m(new_state)\n",
      "File \u001b[0;32m~/code/NeuralSymbolicRegressionThatScales/env/lib/python3.8/site-packages/optax/_src/transform.py:329\u001b[0m, in \u001b[0;36mscale_by_adam.<locals>.update_fn\u001b[0;34m(***failed resolving arguments***)\u001b[0m\n\u001b[1;32m    327\u001b[0m nu \u001b[38;5;241m=\u001b[39m _update_moment_per_elem_norm(updates, state\u001b[38;5;241m.\u001b[39mnu, b2, \u001b[38;5;241m2\u001b[39m)\n\u001b[1;32m    328\u001b[0m count_inc \u001b[38;5;241m=\u001b[39m numerics\u001b[38;5;241m.\u001b[39msafe_int32_increment(state\u001b[38;5;241m.\u001b[39mcount)\n\u001b[0;32m--> 329\u001b[0m mu_hat \u001b[38;5;241m=\u001b[39m utils\u001b[38;5;241m.\u001b[39mcast_tree(\u001b[43m_bias_correction\u001b[49m\u001b[43m(\u001b[49m\u001b[43mmu\u001b[49m\u001b[43m,\u001b[49m\u001b[43m \u001b[49m\u001b[43mb1\u001b[49m\u001b[43m,\u001b[49m\u001b[43m \u001b[49m\u001b[43mcount_inc\u001b[49m\u001b[43m)\u001b[49m, mu_dtype)\n\u001b[1;32m    330\u001b[0m nu_hat \u001b[38;5;241m=\u001b[39m _bias_correction(nu, b2, count_inc)\n\u001b[1;32m    331\u001b[0m updates \u001b[38;5;241m=\u001b[39m jax\u001b[38;5;241m.\u001b[39mtree_multimap(\n\u001b[1;32m    332\u001b[0m     \u001b[38;5;28;01mlambda\u001b[39;00m m, v: m \u001b[38;5;241m/\u001b[39m (jnp\u001b[38;5;241m.\u001b[39msqrt(v \u001b[38;5;241m+\u001b[39m eps_root) \u001b[38;5;241m+\u001b[39m eps), mu_hat, nu_hat)\n",
      "File \u001b[0;32m~/code/NeuralSymbolicRegressionThatScales/env/lib/python3.8/site-packages/optax/_src/transform.py:105\u001b[0m, in \u001b[0;36m_bias_correction\u001b[0;34m(moment, decay, count)\u001b[0m\n\u001b[1;32m    103\u001b[0m \u001b[38;5;28;01mdef\u001b[39;00m \u001b[38;5;21m_bias_correction\u001b[39m(moment, decay, count):\n\u001b[1;32m    104\u001b[0m   \u001b[38;5;124;03m\"\"\"Perform bias correction. This becomes a no-op as count goes to infinity.\"\"\"\u001b[39;00m\n\u001b[0;32m--> 105\u001b[0m   bias_correction \u001b[38;5;241m=\u001b[39m \u001b[38;5;241m1\u001b[39m \u001b[38;5;241m-\u001b[39m \u001b[43mdecay\u001b[49m\u001b[38;5;241;43m*\u001b[39;49m\u001b[38;5;241;43m*\u001b[39;49m\u001b[43mcount\u001b[49m\n\u001b[1;32m    106\u001b[0m   \u001b[38;5;28;01mreturn\u001b[39;00m jax\u001b[38;5;241m.\u001b[39mtree_map(\u001b[38;5;28;01mlambda\u001b[39;00m t: t \u001b[38;5;241m/\u001b[39m bias_correction\u001b[38;5;241m.\u001b[39mastype(t\u001b[38;5;241m.\u001b[39mdtype), moment)\n",
      "File \u001b[0;32m~/code/NeuralSymbolicRegressionThatScales/env/lib/python3.8/site-packages/jax/_src/numpy/lax_numpy.py:6690\u001b[0m, in \u001b[0;36m_defer_to_unrecognized_arg.<locals>.deferring_binary_op\u001b[0;34m(self, other)\u001b[0m\n\u001b[1;32m   6688\u001b[0m \u001b[38;5;28;01mif\u001b[39;00m \u001b[38;5;129;01mnot\u001b[39;00m \u001b[38;5;28misinstance\u001b[39m(other, _accepted_binop_types):\n\u001b[1;32m   6689\u001b[0m   \u001b[38;5;28;01mreturn\u001b[39;00m \u001b[38;5;28mNotImplemented\u001b[39m\n\u001b[0;32m-> 6690\u001b[0m \u001b[38;5;28;01mreturn\u001b[39;00m \u001b[43mbinary_op\u001b[49m\u001b[43m(\u001b[49m\u001b[38;5;28;43mself\u001b[39;49m\u001b[43m,\u001b[49m\u001b[43m \u001b[49m\u001b[43mother\u001b[49m\u001b[43m)\u001b[49m\n",
      "File \u001b[0;32m~/code/NeuralSymbolicRegressionThatScales/env/lib/python3.8/site-packages/jax/_src/numpy/lax_numpy.py:6694\u001b[0m, in \u001b[0;36m_swap_args.<locals>.<lambda>\u001b[0;34m(x, y)\u001b[0m\n\u001b[1;32m   6693\u001b[0m \u001b[38;5;28;01mdef\u001b[39;00m \u001b[38;5;21m_swap_args\u001b[39m(f):\n\u001b[0;32m-> 6694\u001b[0m   \u001b[38;5;28;01mreturn\u001b[39;00m \u001b[38;5;28;01mlambda\u001b[39;00m x, y: \u001b[43mf\u001b[49m\u001b[43m(\u001b[49m\u001b[43my\u001b[49m\u001b[43m,\u001b[49m\u001b[43m \u001b[49m\u001b[43mx\u001b[49m\u001b[43m)\u001b[49m\n",
      "File \u001b[0;32m~/code/NeuralSymbolicRegressionThatScales/env/lib/python3.8/site-packages/jax/_src/numpy/lax_numpy.py:935\u001b[0m, in \u001b[0;36mpower\u001b[0;34m(x1, x2)\u001b[0m\n\u001b[1;32m    933\u001b[0m     \u001b[38;5;28;01mpass\u001b[39;00m\n\u001b[1;32m    934\u001b[0m   \u001b[38;5;28;01melse\u001b[39;00m:\n\u001b[0;32m--> 935\u001b[0m     \u001b[38;5;28;01mreturn\u001b[39;00m \u001b[43mlax\u001b[49m\u001b[38;5;241;43m.\u001b[39;49m\u001b[43minteger_pow\u001b[49m\u001b[43m(\u001b[49m\u001b[43mx1\u001b[49m\u001b[43m,\u001b[49m\u001b[43m \u001b[49m\u001b[43mx2\u001b[49m\u001b[43m)\u001b[49m\n\u001b[1;32m    936\u001b[0m \u001b[38;5;28;01mreturn\u001b[39;00m _power(x1, x2)\n",
      "File \u001b[0;32m~/code/NeuralSymbolicRegressionThatScales/env/lib/python3.8/site-packages/jax/_src/lax/lax.py:339\u001b[0m, in \u001b[0;36minteger_pow\u001b[0;34m(x, y)\u001b[0m\n\u001b[1;32m    337\u001b[0m \u001b[38;5;28;01mdef\u001b[39;00m \u001b[38;5;21minteger_pow\u001b[39m(x: Array, y: \u001b[38;5;28mint\u001b[39m) \u001b[38;5;241m-\u001b[39m\u001b[38;5;241m>\u001b[39m Array:\n\u001b[1;32m    338\u001b[0m   \u001b[38;5;124mr\u001b[39m\u001b[38;5;124;03m\"\"\"Elementwise power: :math:`x^y`, where :math:`y` is a fixed integer.\"\"\"\u001b[39;00m\n\u001b[0;32m--> 339\u001b[0m   \u001b[38;5;28;01mreturn\u001b[39;00m \u001b[43minteger_pow_p\u001b[49m\u001b[38;5;241;43m.\u001b[39;49m\u001b[43mbind\u001b[49m\u001b[43m(\u001b[49m\u001b[43mx\u001b[49m\u001b[43m,\u001b[49m\u001b[43m \u001b[49m\u001b[43my\u001b[49m\u001b[38;5;241;43m=\u001b[39;49m\u001b[43my\u001b[49m\u001b[43m)\u001b[49m\n",
      "File \u001b[0;32m~/code/NeuralSymbolicRegressionThatScales/env/lib/python3.8/site-packages/jax/core.py:274\u001b[0m, in \u001b[0;36mPrimitive.bind\u001b[0;34m(self, *args, **params)\u001b[0m\n\u001b[1;32m    271\u001b[0m \u001b[38;5;28;01mdef\u001b[39;00m \u001b[38;5;21mbind\u001b[39m(\u001b[38;5;28mself\u001b[39m, \u001b[38;5;241m*\u001b[39margs, \u001b[38;5;241m*\u001b[39m\u001b[38;5;241m*\u001b[39mparams):\n\u001b[1;32m    272\u001b[0m   \u001b[38;5;28;01massert\u001b[39;00m (\u001b[38;5;129;01mnot\u001b[39;00m config\u001b[38;5;241m.\u001b[39mjax_enable_checks \u001b[38;5;129;01mor\u001b[39;00m\n\u001b[1;32m    273\u001b[0m           \u001b[38;5;28mall\u001b[39m(\u001b[38;5;28misinstance\u001b[39m(arg, Tracer) \u001b[38;5;129;01mor\u001b[39;00m valid_jaxtype(arg) \u001b[38;5;28;01mfor\u001b[39;00m arg \u001b[38;5;129;01min\u001b[39;00m args)), args\n\u001b[0;32m--> 274\u001b[0m   \u001b[38;5;28;01mreturn\u001b[39;00m \u001b[38;5;28;43mself\u001b[39;49m\u001b[38;5;241;43m.\u001b[39;49m\u001b[43mbind_with_trace\u001b[49m\u001b[43m(\u001b[49m\u001b[43mfind_top_trace\u001b[49m\u001b[43m(\u001b[49m\u001b[43margs\u001b[49m\u001b[43m)\u001b[49m\u001b[43m,\u001b[49m\u001b[43m \u001b[49m\u001b[43margs\u001b[49m\u001b[43m,\u001b[49m\u001b[43m \u001b[49m\u001b[43mparams\u001b[49m\u001b[43m)\u001b[49m\n",
      "File \u001b[0;32m~/code/NeuralSymbolicRegressionThatScales/env/lib/python3.8/site-packages/jax/core.py:277\u001b[0m, in \u001b[0;36mPrimitive.bind_with_trace\u001b[0;34m(self, trace, args, params)\u001b[0m\n\u001b[1;32m    276\u001b[0m \u001b[38;5;28;01mdef\u001b[39;00m \u001b[38;5;21mbind_with_trace\u001b[39m(\u001b[38;5;28mself\u001b[39m, trace, args, params):\n\u001b[0;32m--> 277\u001b[0m   out \u001b[38;5;241m=\u001b[39m \u001b[43mtrace\u001b[49m\u001b[38;5;241;43m.\u001b[39;49m\u001b[43mprocess_primitive\u001b[49m\u001b[43m(\u001b[49m\u001b[38;5;28;43mself\u001b[39;49m\u001b[43m,\u001b[49m\u001b[43m \u001b[49m\u001b[38;5;28;43mmap\u001b[39;49m\u001b[43m(\u001b[49m\u001b[43mtrace\u001b[49m\u001b[38;5;241;43m.\u001b[39;49m\u001b[43mfull_raise\u001b[49m\u001b[43m,\u001b[49m\u001b[43m \u001b[49m\u001b[43margs\u001b[49m\u001b[43m)\u001b[49m\u001b[43m,\u001b[49m\u001b[43m \u001b[49m\u001b[43mparams\u001b[49m\u001b[43m)\u001b[49m\n\u001b[1;32m    278\u001b[0m   \u001b[38;5;28;01mreturn\u001b[39;00m \u001b[38;5;28mmap\u001b[39m(full_lower, out) \u001b[38;5;28;01mif\u001b[39;00m \u001b[38;5;28mself\u001b[39m\u001b[38;5;241m.\u001b[39mmultiple_results \u001b[38;5;28;01melse\u001b[39;00m full_lower(out)\n",
      "File \u001b[0;32m~/code/NeuralSymbolicRegressionThatScales/env/lib/python3.8/site-packages/jax/core.py:593\u001b[0m, in \u001b[0;36mEvalTrace.process_primitive\u001b[0;34m(self, primitive, tracers, params)\u001b[0m\n\u001b[1;32m    592\u001b[0m \u001b[38;5;28;01mdef\u001b[39;00m \u001b[38;5;21mprocess_primitive\u001b[39m(\u001b[38;5;28mself\u001b[39m, primitive, tracers, params):\n\u001b[0;32m--> 593\u001b[0m   \u001b[38;5;28;01mreturn\u001b[39;00m \u001b[43mprimitive\u001b[49m\u001b[38;5;241;43m.\u001b[39;49m\u001b[43mimpl\u001b[49m\u001b[43m(\u001b[49m\u001b[38;5;241;43m*\u001b[39;49m\u001b[43mtracers\u001b[49m\u001b[43m,\u001b[49m\u001b[43m \u001b[49m\u001b[38;5;241;43m*\u001b[39;49m\u001b[38;5;241;43m*\u001b[39;49m\u001b[43mparams\u001b[49m\u001b[43m)\u001b[49m\n",
      "File \u001b[0;32m~/code/NeuralSymbolicRegressionThatScales/env/lib/python3.8/site-packages/jax/_src/dispatch.py:92\u001b[0m, in \u001b[0;36mapply_primitive\u001b[0;34m(prim, *args, **params)\u001b[0m\n\u001b[1;32m     90\u001b[0m \u001b[38;5;28;01mdef\u001b[39;00m \u001b[38;5;21mapply_primitive\u001b[39m(prim, \u001b[38;5;241m*\u001b[39margs, \u001b[38;5;241m*\u001b[39m\u001b[38;5;241m*\u001b[39mparams):\n\u001b[1;32m     91\u001b[0m   \u001b[38;5;124;03m\"\"\"Impl rule that compiles and runs a single primitive 'prim' using XLA.\"\"\"\u001b[39;00m\n\u001b[0;32m---> 92\u001b[0m   compiled_fun \u001b[38;5;241m=\u001b[39m \u001b[43mxla_primitive_callable\u001b[49m\u001b[43m(\u001b[49m\u001b[43mprim\u001b[49m\u001b[43m,\u001b[49m\u001b[43m \u001b[49m\u001b[38;5;241;43m*\u001b[39;49m\u001b[43munsafe_map\u001b[49m\u001b[43m(\u001b[49m\u001b[43marg_spec\u001b[49m\u001b[43m,\u001b[49m\u001b[43m \u001b[49m\u001b[43margs\u001b[49m\u001b[43m)\u001b[49m\u001b[43m,\u001b[49m\n\u001b[1;32m     93\u001b[0m \u001b[43m                                        \u001b[49m\u001b[38;5;241;43m*\u001b[39;49m\u001b[38;5;241;43m*\u001b[39;49m\u001b[43mparams\u001b[49m\u001b[43m)\u001b[49m\n\u001b[1;32m     94\u001b[0m   \u001b[38;5;28;01mreturn\u001b[39;00m compiled_fun(\u001b[38;5;241m*\u001b[39margs)\n",
      "File \u001b[0;32m~/code/NeuralSymbolicRegressionThatScales/env/lib/python3.8/site-packages/jax/_src/util.py:202\u001b[0m, in \u001b[0;36mcache.<locals>.wrap.<locals>.wrapper\u001b[0;34m(*args, **kwargs)\u001b[0m\n\u001b[1;32m    200\u001b[0m   \u001b[38;5;28;01mreturn\u001b[39;00m f(\u001b[38;5;241m*\u001b[39margs, \u001b[38;5;241m*\u001b[39m\u001b[38;5;241m*\u001b[39mkwargs)\n\u001b[1;32m    201\u001b[0m \u001b[38;5;28;01melse\u001b[39;00m:\n\u001b[0;32m--> 202\u001b[0m   \u001b[38;5;28;01mreturn\u001b[39;00m \u001b[43mcached\u001b[49m\u001b[43m(\u001b[49m\u001b[43mconfig\u001b[49m\u001b[38;5;241;43m.\u001b[39;49m\u001b[43m_trace_context\u001b[49m\u001b[43m(\u001b[49m\u001b[43m)\u001b[49m\u001b[43m,\u001b[49m\u001b[43m \u001b[49m\u001b[38;5;241;43m*\u001b[39;49m\u001b[43margs\u001b[49m\u001b[43m,\u001b[49m\u001b[43m \u001b[49m\u001b[38;5;241;43m*\u001b[39;49m\u001b[38;5;241;43m*\u001b[39;49m\u001b[43mkwargs\u001b[49m\u001b[43m)\u001b[49m\n",
      "\u001b[0;31mKeyboardInterrupt\u001b[0m: "
     ]
    }
   ],
   "source": [
    "T1 = 10_000\n",
    "Tpenalty = 500\n",
    "for i in range(20_000):\n",
    "    theta = 1./jnp.sqrt(i/1. + 1)\n",
    "    if i < T1:\n",
    "        lg = loss_grad_1\n",
    "    elif i >= T1:\n",
    "        lg = loss_grad_2\n",
    "    params, opt_state, loss_val = do_step(lg, params, theta, opt_state)\n",
    "    if i % 99 == 0:\n",
    "        print(loss_val, theta)\n",
    "        for j in range(100):\n",
    "            params, opt_state, loss_val = do_step(loss_grad_pen, params, theta, opt_state)"
   ]
  },
  {
   "cell_type": "code",
   "execution_count": 12,
   "id": "6895def7",
   "metadata": {
    "ExecuteTime": {
     "end_time": "2022-11-18T13:02:56.251362Z",
     "start_time": "2022-11-18T13:02:56.197543Z"
    },
    "collapsed": true
   },
   "outputs": [
    {
     "ename": "NameError",
     "evalue": "name 'loss_grad_1' is not defined",
     "output_type": "error",
     "traceback": [
      "\u001b[0;31m---------------------------------------------------------------------------\u001b[0m",
      "\u001b[0;31mNameError\u001b[0m                                 Traceback (most recent call last)",
      "Input \u001b[0;32mIn [12]\u001b[0m, in \u001b[0;36m<cell line: 2>\u001b[0;34m()\u001b[0m\n\u001b[1;32m      2\u001b[0m \u001b[38;5;28;01mfor\u001b[39;00m i \u001b[38;5;129;01min\u001b[39;00m \u001b[38;5;28mrange\u001b[39m(\u001b[38;5;241m10_000\u001b[39m):\n\u001b[1;32m      3\u001b[0m     theta \u001b[38;5;241m=\u001b[39m \u001b[38;5;241m1.\u001b[39m\u001b[38;5;241m/\u001b[39mjnp\u001b[38;5;241m.\u001b[39msqrt(T\u001b[38;5;241m/\u001b[39m\u001b[38;5;241m1\u001b[39m \u001b[38;5;241m+\u001b[39m \u001b[38;5;241m1\u001b[39m)\n\u001b[0;32m----> 4\u001b[0m     loss_val, grads \u001b[38;5;241m=\u001b[39m \u001b[43mloss_grad_1\u001b[49m(params, theta)\n\u001b[1;32m      5\u001b[0m     updates, opt_state \u001b[38;5;241m=\u001b[39m tx\u001b[38;5;241m.\u001b[39mupdate(grads, opt_state)\n\u001b[1;32m      6\u001b[0m     params \u001b[38;5;241m=\u001b[39m optax\u001b[38;5;241m.\u001b[39mapply_updates(params, updates)\n",
      "\u001b[0;31mNameError\u001b[0m: name 'loss_grad_1' is not defined"
     ]
    }
   ],
   "source": [
    "T = 0\n",
    "for i in range(10_000):\n",
    "    theta = 1./jnp.sqrt(T/1 + 1)\n",
    "    loss_val, grads = loss_grad_1(params, theta)\n",
    "    updates, opt_state = tx.update(grads, opt_state)\n",
    "    params = optax.apply_updates(params, updates)\n",
    "    T +=1 \n",
    "    if i % 99 == 0:\n",
    "        print(loss_val, theta)\n",
    "\n",
    "for i in range(10_000):\n",
    "    theta = 1./jnp.sqrt(T/1 + 1)\n",
    "    loss_val, grads = loss_grad_2(params, theta)\n",
    "    updates, opt_state = tx.update(grads, opt_state)\n",
    "    params = optax.apply_updates(params, updates)\n",
    "    T +=1\n",
    "    if i % 99 == 0:\n",
    "        print(loss_val, theta)\n",
    "        print(l1_fn(params))"
   ]
  },
  {
   "cell_type": "code",
   "execution_count": 37,
   "id": "cd92eeca",
   "metadata": {
    "ExecuteTime": {
     "end_time": "2022-10-21T12:28:21.561395Z",
     "start_time": "2022-10-21T12:28:21.558177Z"
    }
   },
   "outputs": [],
   "source": [
    "# thr = 1e-3\n",
    "# loss_grad_masked = jax.jit(jax.value_and_grad(get_masked_mse(thr, params)))\n",
    "# mask, spec = get_mask_spec(thr, params)\n",
    "\n",
    "# for i in range(1000):\n",
    "#     theta = 1./jnp.sqrt(T/1 + 1)\n",
    "#     loss_val, grads = loss_grad_masked(params, theta)\n",
    "#     updates, opt_state = tx.update(grads, opt_state)\n",
    "#     params = optax.apply_updates(params, updates)\n",
    "#     T +=1\n",
    "#     if i % 99 == 0:\n",
    "#         print(loss_val)"
   ]
  },
  {
   "cell_type": "code",
   "execution_count": 38,
   "id": "e3be2da2",
   "metadata": {
    "ExecuteTime": {
     "end_time": "2022-10-21T12:28:22.851884Z",
     "start_time": "2022-10-21T12:28:22.849510Z"
    }
   },
   "outputs": [],
   "source": [
    "#symb = get_symbolic_expr_div(apply_mask(mask, spec, params), funs)[0]\n",
    "#symb = get_symbolic_expr_div(params, funs)[0]\n",
    "#symb"
   ]
  },
  {
   "cell_type": "code",
   "execution_count": 129,
   "id": "2d8df02c",
   "metadata": {
    "ExecuteTime": {
     "end_time": "2022-10-21T13:26:46.570113Z",
     "start_time": "2022-10-21T13:26:46.373817Z"
    }
   },
   "outputs": [],
   "source": [
    "spec, fparam = flatten(params)\n",
    "full_shape = fparam.shape\n",
    "mask = jnp.abs(fparam) > 0.01\n",
    "idxs = jnp.arange(fparam.shape[0])[mask]\n",
    "count = sum(mask).item()"
   ]
  },
  {
   "cell_type": "code",
   "execution_count": 130,
   "id": "941aa293",
   "metadata": {
    "ExecuteTime": {
     "end_time": "2022-10-21T13:26:47.899503Z",
     "start_time": "2022-10-21T13:26:47.896272Z"
    }
   },
   "outputs": [],
   "source": [
    "def red_loss_grad_fn(red_param):\n",
    "    full_param = jnp.zeros(full_shape).at[idxs].set(red_param)\n",
    "    full_param = unflatten(spec, full_param)\n",
    "\n",
    "    #return mse_fn(full_param, 1e-4)\n",
    "    loss, grad = loss_grad_1(full_param, 1e-4)\n",
    "    _, grad = flatten(grad)\n",
    "    return loss, np.array(grad)[idxs,]\n",
    "    \n",
    "#red_loss_grad = jax.jit(jax.value_and_grad(red_mse_fn))"
   ]
  },
  {
   "cell_type": "code",
   "execution_count": 131,
   "id": "c9e832fe",
   "metadata": {
    "ExecuteTime": {
     "end_time": "2022-10-21T13:27:12.002804Z",
     "start_time": "2022-10-21T13:26:49.153164Z"
    }
   },
   "outputs": [],
   "source": [
    "x0, f, info = scipy.optimize.fmin_l_bfgs_b(\n",
    "        red_loss_grad_fn,\n",
    "        x0 = np.array(fparam[mask]),\n",
    "        factr=1.,\n",
    "        m=500,\n",
    "        pgtol=1e-13,\n",
    "        maxls=100)\n",
    "#x0[np.abs(x0) < 1e-3] = 0.0"
   ]
  },
  {
   "cell_type": "code",
   "execution_count": 132,
   "id": "95928da4",
   "metadata": {
    "ExecuteTime": {
     "end_time": "2022-10-21T13:27:13.673380Z",
     "start_time": "2022-10-21T13:27:13.667865Z"
    }
   },
   "outputs": [
    {
     "data": {
      "text/plain": [
       "DeviceArray(1.5276278e-08, dtype=float32)"
      ]
     },
     "execution_count": 132,
     "metadata": {},
     "output_type": "execute_result"
    }
   ],
   "source": [
    "f"
   ]
  },
  {
   "cell_type": "code",
   "execution_count": 133,
   "id": "a993b691",
   "metadata": {
    "ExecuteTime": {
     "end_time": "2022-10-21T13:27:15.472057Z",
     "start_time": "2022-10-21T13:27:15.456540Z"
    }
   },
   "outputs": [],
   "source": [
    "final_param = unflatten(spec, jnp.zeros(full_shape).at[idxs].set(x0))"
   ]
  },
  {
   "cell_type": "code",
   "execution_count": 134,
   "id": "fe186476",
   "metadata": {
    "ExecuteTime": {
     "end_time": "2022-10-21T13:27:18.078674Z",
     "start_time": "2022-10-21T13:27:16.874400Z"
    }
   },
   "outputs": [],
   "source": [
    "symb = get_symbolic_expr_div(final_param, funs)[0]\n",
    "#symb"
   ]
  },
  {
   "cell_type": "code",
   "execution_count": 135,
   "id": "ce5f44f8",
   "metadata": {
    "ExecuteTime": {
     "end_time": "2022-10-21T13:27:19.486279Z",
     "start_time": "2022-10-21T13:27:19.482056Z"
    }
   },
   "outputs": [],
   "source": [
    "def clean_expr(expr):\n",
    "    # WARNING: might return 0/NaN/inf if expression only contains small numbers\n",
    "    def prune(expr, thr=1e-5):\n",
    "        return expr.replace(lambda x: x.is_Number and abs(x) < thr, lambda x: 0)\n",
    "    \n",
    "    def rounding(expr, dig=3):\n",
    "        return expr.xreplace(Transform(lambda x: x.round(dig), lambda x: x.is_Number))\n",
    "    \n",
    "    # prune small numbers\n",
    "    expr = prune(expr)\n",
    "    # round number\n",
    "    expr = rounding(expr)\n",
    "    # expand\n",
    "    expr = prune(sy.expand(expr), 1e-3)\n",
    "    return sy.simplify(expr)"
   ]
  },
  {
   "cell_type": "code",
   "execution_count": 136,
   "id": "1e2c3e71",
   "metadata": {
    "ExecuteTime": {
     "end_time": "2022-10-21T13:27:39.178751Z",
     "start_time": "2022-10-21T13:27:20.937023Z"
    }
   },
   "outputs": [
    {
     "data": {
      "text/latex": [
       "$\\displaystyle \\frac{0.03108 x_{0}^{2} - 0.006742 x_{0} x_{1} + 0.387 x_{0} \\sin{\\left(1.554 x_{0} - 0.026 x_{1} \\right)} + 0.01311 x_{0} + 0.249 x_{1} x_{2} x_{3} + 0.007547 x_{1} \\sin{\\left(1.554 x_{0} - 0.026 x_{1} \\right)} + 0.002551 \\sin{\\left(2.083 x_{0} \\right)} + 0.002551 \\sin{\\left(1.025 x_{0} - 0.052 x_{1} \\right)} - 0.03413 \\sin{\\left(1.554 x_{0} - 0.026 x_{1} \\right)} + 0.264 \\sin{\\left(3.036 x_{0} + 0.04 \\sin{\\left(1.554 x_{0} - 0.026 x_{1} \\right)} \\right)} - 0.22 \\sin{\\left(0.168 \\cos{\\left(0.529 x_{0} + 0.026 x_{1} \\right)} - 0.554 \\right)} + 0.812 \\cos{\\left(0.003 x_{1} \\right)} + 0.047 \\cos{\\left(0.529 x_{0} + 0.026 x_{1} \\right)} + 2.502 \\cos{\\left(3.108 x_{0} - 0.052 x_{1} \\right)} - 2.293 \\cos{\\left(3.18 x_{0} + 0.053 x_{1} - 0.013 \\sin{\\left(1.554 x_{0} - 0.026 x_{1} \\right)} \\right)} - 1.15}{- 0.004 x_{0} + 0.003 \\sin{\\left(1.554 x_{0} - 0.026 x_{1} \\right)} - 0.16 \\sin{\\left(0.168 \\cos{\\left(0.529 x_{0} + 0.026 x_{1} \\right)} - 0.554 \\right)} + 0.168 \\cos{\\left(0.003 x_{1} \\right)} - 0.03 \\cos{\\left(0.529 x_{0} + 0.026 x_{1} \\right)} + 0.003 \\cos{\\left(3.18 x_{0} + 0.053 x_{1} - 0.013 \\sin{\\left(1.554 x_{0} - 0.026 x_{1} \\right)} \\right)} + 0.547}$"
      ],
      "text/plain": [
       "(0.03108*x0**2 - 0.006742*x0*x1 + 0.387*x0*sin(1.554*x0 - 0.026*x1) + 0.01311*x0 + 0.249*x1*x2*x3 + 0.007547*x1*sin(1.554*x0 - 0.026*x1) + 0.002551*sin(2.083*x0) + 0.002551*sin(1.025*x0 - 0.052*x1) - 0.03413*sin(1.554*x0 - 0.026*x1) + 0.264*sin(3.036*x0 + 0.04*sin(1.554*x0 - 0.026*x1)) - 0.22*sin(0.168*cos(0.529*x0 + 0.026*x1) - 0.554) + 0.812*cos(0.003*x1) + 0.047*cos(0.529*x0 + 0.026*x1) + 2.502*cos(3.108*x0 - 0.052*x1) - 2.293*cos(3.18*x0 + 0.053*x1 - 0.013*sin(1.554*x0 - 0.026*x1)) - 1.15)/(-0.004*x0 + 0.003*sin(1.554*x0 - 0.026*x1) - 0.16*sin(0.168*cos(0.529*x0 + 0.026*x1) - 0.554) + 0.168*cos(0.003*x1) - 0.03*cos(0.529*x0 + 0.026*x1) + 0.003*cos(3.18*x0 + 0.053*x1 - 0.013*sin(1.554*x0 - 0.026*x1)) + 0.547)"
      ]
     },
     "execution_count": 136,
     "metadata": {},
     "output_type": "execute_result"
    }
   ],
   "source": [
    "clean_expr(symb)"
   ]
  },
  {
   "cell_type": "code",
   "execution_count": 17,
   "id": "6282d3d3",
   "metadata": {
    "ExecuteTime": {
     "end_time": "2022-10-21T11:32:15.942712Z",
     "start_time": "2022-10-21T11:32:15.937116Z"
    }
   },
   "outputs": [
    {
     "data": {
      "text/plain": [
       "DeviceArray(3.995705e-10, dtype=float32)"
      ]
     },
     "execution_count": 17,
     "metadata": {},
     "output_type": "execute_result"
    }
   ],
   "source": [
    "f"
   ]
  },
  {
   "cell_type": "code",
   "execution_count": 18,
   "id": "cb6eb0f5",
   "metadata": {
    "ExecuteTime": {
     "end_time": "2022-10-21T11:32:53.791764Z",
     "start_time": "2022-10-21T11:32:53.779138Z"
    }
   },
   "outputs": [
    {
     "data": {
      "text/latex": [
       "$\\displaystyle 0.333338635331777 x_{1} x_{2} x_{3} + 55.461997142339 \\sin{\\left(3.14159385455771 x_{0} - 0.00273492131132952 x_{1} + 1.56751096248627 \\right)} + 55.4619321409225 \\sin{\\left(3.14159387018332 x_{0} + 0.00327529226449791 x_{1} - 1.56807163357735 \\right)}$"
      ],
      "text/plain": [
       "0.333338635331777*x1*x2*x3 + 55.461997142339*sin(3.14159385455771*x0 - 0.00273492131132952*x1 + 1.56751096248627) + 55.4619321409225*sin(3.14159387018332*x0 + 0.00327529226449791*x1 - 1.56807163357735)"
      ]
     },
     "execution_count": 18,
     "metadata": {},
     "output_type": "execute_result"
    }
   ],
   "source": [
    "symb\n"
   ]
  },
  {
   "cell_type": "code",
   "execution_count": null,
   "id": "84e7ce54",
   "metadata": {},
   "outputs": [],
   "source": []
  }
 ],
 "metadata": {
  "kernelspec": {
   "display_name": "Python 3 (ipykernel)",
   "language": "python",
   "name": "python3"
  },
  "language_info": {
   "codemirror_mode": {
    "name": "ipython",
    "version": 3
   },
   "file_extension": ".py",
   "mimetype": "text/x-python",
   "name": "python",
   "nbconvert_exporter": "python",
   "pygments_lexer": "ipython3",
   "version": "3.10.6"
  },
  "varInspector": {
   "cols": {
    "lenName": 16,
    "lenType": 16,
    "lenVar": 40
   },
   "kernels_config": {
    "python": {
     "delete_cmd_postfix": "",
     "delete_cmd_prefix": "del ",
     "library": "var_list.py",
     "varRefreshCmd": "print(var_dic_list())"
    },
    "r": {
     "delete_cmd_postfix": ") ",
     "delete_cmd_prefix": "rm(",
     "library": "var_list.r",
     "varRefreshCmd": "cat(var_dic_list()) "
    }
   },
   "types_to_exclude": [
    "module",
    "function",
    "builtin_function_or_method",
    "instance",
    "_Feature"
   ],
   "window_display": false
  }
 },
 "nbformat": 4,
 "nbformat_minor": 5
}
